{
 "cells": [
  {
   "cell_type": "markdown",
   "id": "45a0d7d6",
   "metadata": {},
   "source": [
    "# Gujarat earthquake analysis"
   ]
  },
  {
   "cell_type": "code",
   "execution_count": 190,
   "id": "8a8a9c14",
   "metadata": {},
   "outputs": [],
   "source": [
    "#importing libraries\n",
    "import pandas as pd\n",
    "import numpy as np\n",
    "import matplotlib.pyplot as plt\n",
    "import seaborn as sns "
   ]
  },
  {
   "cell_type": "markdown",
   "id": "3929cda5",
   "metadata": {},
   "source": [
    "### About dataset:\n",
    "dataset contain 190 records\n",
    "gujarat earthquake data magnitude more than 2.5\n",
    "dataset duration 1900-2023\n"
   ]
  },
  {
   "cell_type": "code",
   "execution_count": 191,
   "id": "4e5794e1",
   "metadata": {},
   "outputs": [],
   "source": [
    "#importing the dataset\n",
    "db=pd.read_csv('gujrat.csv')\n"
   ]
  },
  {
   "cell_type": "code",
   "execution_count": 192,
   "id": "cf2dfd99",
   "metadata": {},
   "outputs": [
    {
     "data": {
      "text/html": [
       "<div>\n",
       "<style scoped>\n",
       "    .dataframe tbody tr th:only-of-type {\n",
       "        vertical-align: middle;\n",
       "    }\n",
       "\n",
       "    .dataframe tbody tr th {\n",
       "        vertical-align: top;\n",
       "    }\n",
       "\n",
       "    .dataframe thead th {\n",
       "        text-align: right;\n",
       "    }\n",
       "</style>\n",
       "<table border=\"1\" class=\"dataframe\">\n",
       "  <thead>\n",
       "    <tr style=\"text-align: right;\">\n",
       "      <th></th>\n",
       "      <th>time</th>\n",
       "      <th>latitude</th>\n",
       "      <th>longitude</th>\n",
       "      <th>depth</th>\n",
       "      <th>mag</th>\n",
       "      <th>magType</th>\n",
       "      <th>nst</th>\n",
       "      <th>gap</th>\n",
       "      <th>dmin</th>\n",
       "      <th>rms</th>\n",
       "      <th>...</th>\n",
       "      <th>updated</th>\n",
       "      <th>place</th>\n",
       "      <th>type</th>\n",
       "      <th>horizontalError</th>\n",
       "      <th>depthError</th>\n",
       "      <th>magError</th>\n",
       "      <th>magNst</th>\n",
       "      <th>status</th>\n",
       "      <th>locationSource</th>\n",
       "      <th>magSource</th>\n",
       "    </tr>\n",
       "  </thead>\n",
       "  <tbody>\n",
       "    <tr>\n",
       "      <th>0</th>\n",
       "      <td>2021-11-04T09:45:40.485Z</td>\n",
       "      <td>24.2251</td>\n",
       "      <td>68.4329</td>\n",
       "      <td>10.0</td>\n",
       "      <td>4.9</td>\n",
       "      <td>mb</td>\n",
       "      <td>NaN</td>\n",
       "      <td>80.0</td>\n",
       "      <td>10.293</td>\n",
       "      <td>0.74</td>\n",
       "      <td>...</td>\n",
       "      <td>2022-01-14T17:58:59.040Z</td>\n",
       "      <td>22 km SE of Jati, Pakistan</td>\n",
       "      <td>earthquake</td>\n",
       "      <td>7.7</td>\n",
       "      <td>1.7</td>\n",
       "      <td>0.065</td>\n",
       "      <td>74.0</td>\n",
       "      <td>reviewed</td>\n",
       "      <td>us</td>\n",
       "      <td>us</td>\n",
       "    </tr>\n",
       "    <tr>\n",
       "      <th>1</th>\n",
       "      <td>2021-05-16T22:07:22.008Z</td>\n",
       "      <td>20.6607</td>\n",
       "      <td>71.4793</td>\n",
       "      <td>10.0</td>\n",
       "      <td>4.1</td>\n",
       "      <td>mb</td>\n",
       "      <td>NaN</td>\n",
       "      <td>73.0</td>\n",
       "      <td>13.037</td>\n",
       "      <td>0.99</td>\n",
       "      <td>...</td>\n",
       "      <td>2021-07-24T21:07:26.040Z</td>\n",
       "      <td>41 km S of R?jula, India</td>\n",
       "      <td>earthquake</td>\n",
       "      <td>6.9</td>\n",
       "      <td>1.9</td>\n",
       "      <td>0.114</td>\n",
       "      <td>21.0</td>\n",
       "      <td>reviewed</td>\n",
       "      <td>us</td>\n",
       "      <td>us</td>\n",
       "    </tr>\n",
       "    <tr>\n",
       "      <th>2</th>\n",
       "      <td>2020-11-07T10:09:22.561Z</td>\n",
       "      <td>21.5017</td>\n",
       "      <td>73.2190</td>\n",
       "      <td>10.0</td>\n",
       "      <td>3.9</td>\n",
       "      <td>mb</td>\n",
       "      <td>NaN</td>\n",
       "      <td>262.0</td>\n",
       "      <td>12.103</td>\n",
       "      <td>0.55</td>\n",
       "      <td>...</td>\n",
       "      <td>2021-01-23T22:25:38.040Z</td>\n",
       "      <td>27 km E of Kosamba, India</td>\n",
       "      <td>earthquake</td>\n",
       "      <td>10.3</td>\n",
       "      <td>2.0</td>\n",
       "      <td>0.170</td>\n",
       "      <td>9.0</td>\n",
       "      <td>reviewed</td>\n",
       "      <td>us</td>\n",
       "      <td>us</td>\n",
       "    </tr>\n",
       "    <tr>\n",
       "      <th>3</th>\n",
       "      <td>2020-07-16T02:10:29.094Z</td>\n",
       "      <td>22.2558</td>\n",
       "      <td>70.9928</td>\n",
       "      <td>10.0</td>\n",
       "      <td>4.1</td>\n",
       "      <td>mb</td>\n",
       "      <td>NaN</td>\n",
       "      <td>112.0</td>\n",
       "      <td>11.529</td>\n",
       "      <td>0.54</td>\n",
       "      <td>...</td>\n",
       "      <td>2020-09-26T16:58:31.040Z</td>\n",
       "      <td>20 km E of R?jkot, India</td>\n",
       "      <td>earthquake</td>\n",
       "      <td>13.7</td>\n",
       "      <td>2.0</td>\n",
       "      <td>0.151</td>\n",
       "      <td>12.0</td>\n",
       "      <td>reviewed</td>\n",
       "      <td>us</td>\n",
       "      <td>us</td>\n",
       "    </tr>\n",
       "    <tr>\n",
       "      <th>4</th>\n",
       "      <td>2020-06-15T07:27:35.084Z</td>\n",
       "      <td>22.9861</td>\n",
       "      <td>70.2272</td>\n",
       "      <td>10.0</td>\n",
       "      <td>3.8</td>\n",
       "      <td>mb</td>\n",
       "      <td>NaN</td>\n",
       "      <td>193.0</td>\n",
       "      <td>11.560</td>\n",
       "      <td>0.96</td>\n",
       "      <td>...</td>\n",
       "      <td>2020-08-22T19:14:54.040Z</td>\n",
       "      <td>5 km SSE of K?ndla, India</td>\n",
       "      <td>earthquake</td>\n",
       "      <td>15.7</td>\n",
       "      <td>2.0</td>\n",
       "      <td>0.136</td>\n",
       "      <td>14.0</td>\n",
       "      <td>reviewed</td>\n",
       "      <td>us</td>\n",
       "      <td>us</td>\n",
       "    </tr>\n",
       "  </tbody>\n",
       "</table>\n",
       "<p>5 rows × 22 columns</p>\n",
       "</div>"
      ],
      "text/plain": [
       "                       time  latitude  longitude  depth  mag magType  nst  \\\n",
       "0  2021-11-04T09:45:40.485Z   24.2251    68.4329   10.0  4.9      mb  NaN   \n",
       "1  2021-05-16T22:07:22.008Z   20.6607    71.4793   10.0  4.1      mb  NaN   \n",
       "2  2020-11-07T10:09:22.561Z   21.5017    73.2190   10.0  3.9      mb  NaN   \n",
       "3  2020-07-16T02:10:29.094Z   22.2558    70.9928   10.0  4.1      mb  NaN   \n",
       "4  2020-06-15T07:27:35.084Z   22.9861    70.2272   10.0  3.8      mb  NaN   \n",
       "\n",
       "     gap    dmin   rms  ...                   updated  \\\n",
       "0   80.0  10.293  0.74  ...  2022-01-14T17:58:59.040Z   \n",
       "1   73.0  13.037  0.99  ...  2021-07-24T21:07:26.040Z   \n",
       "2  262.0  12.103  0.55  ...  2021-01-23T22:25:38.040Z   \n",
       "3  112.0  11.529  0.54  ...  2020-09-26T16:58:31.040Z   \n",
       "4  193.0  11.560  0.96  ...  2020-08-22T19:14:54.040Z   \n",
       "\n",
       "                        place        type horizontalError depthError  \\\n",
       "0  22 km SE of Jati, Pakistan  earthquake             7.7        1.7   \n",
       "1    41 km S of R?jula, India  earthquake             6.9        1.9   \n",
       "2   27 km E of Kosamba, India  earthquake            10.3        2.0   \n",
       "3    20 km E of R?jkot, India  earthquake            13.7        2.0   \n",
       "4   5 km SSE of K?ndla, India  earthquake            15.7        2.0   \n",
       "\n",
       "   magError  magNst    status  locationSource magSource  \n",
       "0     0.065    74.0  reviewed              us        us  \n",
       "1     0.114    21.0  reviewed              us        us  \n",
       "2     0.170     9.0  reviewed              us        us  \n",
       "3     0.151    12.0  reviewed              us        us  \n",
       "4     0.136    14.0  reviewed              us        us  \n",
       "\n",
       "[5 rows x 22 columns]"
      ]
     },
     "execution_count": 192,
     "metadata": {},
     "output_type": "execute_result"
    }
   ],
   "source": [
    "db.head()"
   ]
  },
  {
   "cell_type": "code",
   "execution_count": 193,
   "id": "4521ad0e",
   "metadata": {},
   "outputs": [
    {
     "data": {
      "text/plain": [
       "(199, 22)"
      ]
     },
     "execution_count": 193,
     "metadata": {},
     "output_type": "execute_result"
    }
   ],
   "source": [
    "db.shape"
   ]
  },
  {
   "cell_type": "code",
   "execution_count": 194,
   "id": "a5cd860b",
   "metadata": {},
   "outputs": [
    {
     "data": {
      "text/plain": [
       "Index(['time', 'latitude', 'longitude', 'depth', 'mag', 'magType', 'nst',\n",
       "       'gap', 'dmin', 'rms', 'net', 'id', 'updated', 'place', 'type',\n",
       "       'horizontalError', 'depthError', 'magError', 'magNst', 'status',\n",
       "       'locationSource', 'magSource'],\n",
       "      dtype='object')"
      ]
     },
     "execution_count": 194,
     "metadata": {},
     "output_type": "execute_result"
    }
   ],
   "source": [
    "db.columns"
   ]
  },
  {
   "cell_type": "code",
   "execution_count": 195,
   "id": "a02a088d",
   "metadata": {},
   "outputs": [
    {
     "name": "stdout",
     "output_type": "stream",
     "text": [
      "<class 'pandas.core.frame.DataFrame'>\n",
      "RangeIndex: 199 entries, 0 to 198\n",
      "Data columns (total 22 columns):\n",
      " #   Column           Non-Null Count  Dtype  \n",
      "---  ------           --------------  -----  \n",
      " 0   time             199 non-null    object \n",
      " 1   latitude         199 non-null    float64\n",
      " 2   longitude        199 non-null    float64\n",
      " 3   depth            199 non-null    float64\n",
      " 4   mag              199 non-null    float64\n",
      " 5   magType          199 non-null    object \n",
      " 6   nst              162 non-null    float64\n",
      " 7   gap              47 non-null     float64\n",
      " 8   dmin             15 non-null     float64\n",
      " 9   rms              193 non-null    float64\n",
      " 10  net              199 non-null    object \n",
      " 11  id               199 non-null    object \n",
      " 12  updated          199 non-null    object \n",
      " 13  place            199 non-null    object \n",
      " 14  type             199 non-null    object \n",
      " 15  horizontalError  15 non-null     float64\n",
      " 16  depthError       23 non-null     float64\n",
      " 17  magError         19 non-null     float64\n",
      " 18  magNst           181 non-null    float64\n",
      " 19  status           199 non-null    object \n",
      " 20  locationSource   199 non-null    object \n",
      " 21  magSource        199 non-null    object \n",
      "dtypes: float64(12), object(10)\n",
      "memory usage: 34.3+ KB\n"
     ]
    }
   ],
   "source": [
    "db.info()"
   ]
  },
  {
   "cell_type": "code",
   "execution_count": 196,
   "id": "9f9e859f",
   "metadata": {},
   "outputs": [
    {
     "data": {
      "text/html": [
       "<div>\n",
       "<style scoped>\n",
       "    .dataframe tbody tr th:only-of-type {\n",
       "        vertical-align: middle;\n",
       "    }\n",
       "\n",
       "    .dataframe tbody tr th {\n",
       "        vertical-align: top;\n",
       "    }\n",
       "\n",
       "    .dataframe thead th {\n",
       "        text-align: right;\n",
       "    }\n",
       "</style>\n",
       "<table border=\"1\" class=\"dataframe\">\n",
       "  <thead>\n",
       "    <tr style=\"text-align: right;\">\n",
       "      <th></th>\n",
       "      <th>latitude</th>\n",
       "      <th>longitude</th>\n",
       "      <th>depth</th>\n",
       "      <th>mag</th>\n",
       "      <th>nst</th>\n",
       "      <th>gap</th>\n",
       "      <th>dmin</th>\n",
       "      <th>rms</th>\n",
       "      <th>horizontalError</th>\n",
       "      <th>depthError</th>\n",
       "      <th>magError</th>\n",
       "      <th>magNst</th>\n",
       "    </tr>\n",
       "  </thead>\n",
       "  <tbody>\n",
       "    <tr>\n",
       "      <th>count</th>\n",
       "      <td>199.000000</td>\n",
       "      <td>199.000000</td>\n",
       "      <td>199.000000</td>\n",
       "      <td>199.000000</td>\n",
       "      <td>162.000000</td>\n",
       "      <td>47.000000</td>\n",
       "      <td>15.000000</td>\n",
       "      <td>193.000000</td>\n",
       "      <td>15.000000</td>\n",
       "      <td>23.000000</td>\n",
       "      <td>19.000000</td>\n",
       "      <td>181.000000</td>\n",
       "    </tr>\n",
       "    <tr>\n",
       "      <th>mean</th>\n",
       "      <td>23.284866</td>\n",
       "      <td>70.325458</td>\n",
       "      <td>12.424121</td>\n",
       "      <td>4.466382</td>\n",
       "      <td>40.290123</td>\n",
       "      <td>129.208511</td>\n",
       "      <td>11.586800</td>\n",
       "      <td>1.081244</td>\n",
       "      <td>10.133333</td>\n",
       "      <td>3.643478</td>\n",
       "      <td>0.146789</td>\n",
       "      <td>14.408840</td>\n",
       "    </tr>\n",
       "    <tr>\n",
       "      <th>std</th>\n",
       "      <td>0.749982</td>\n",
       "      <td>0.757120</td>\n",
       "      <td>6.433052</td>\n",
       "      <td>0.518866</td>\n",
       "      <td>61.352022</td>\n",
       "      <td>55.840257</td>\n",
       "      <td>1.221375</td>\n",
       "      <td>0.247143</td>\n",
       "      <td>3.014884</td>\n",
       "      <td>5.270659</td>\n",
       "      <td>0.064843</td>\n",
       "      <td>25.254235</td>\n",
       "    </tr>\n",
       "    <tr>\n",
       "      <th>min</th>\n",
       "      <td>20.082900</td>\n",
       "      <td>68.410000</td>\n",
       "      <td>10.000000</td>\n",
       "      <td>3.700000</td>\n",
       "      <td>5.000000</td>\n",
       "      <td>27.700000</td>\n",
       "      <td>9.093000</td>\n",
       "      <td>0.400000</td>\n",
       "      <td>5.400000</td>\n",
       "      <td>0.000000</td>\n",
       "      <td>0.036000</td>\n",
       "      <td>1.000000</td>\n",
       "    </tr>\n",
       "    <tr>\n",
       "      <th>25%</th>\n",
       "      <td>23.237000</td>\n",
       "      <td>70.064000</td>\n",
       "      <td>10.000000</td>\n",
       "      <td>4.100000</td>\n",
       "      <td>13.000000</td>\n",
       "      <td>86.550000</td>\n",
       "      <td>10.679500</td>\n",
       "      <td>0.930000</td>\n",
       "      <td>8.200000</td>\n",
       "      <td>1.800000</td>\n",
       "      <td>0.112500</td>\n",
       "      <td>3.000000</td>\n",
       "    </tr>\n",
       "    <tr>\n",
       "      <th>50%</th>\n",
       "      <td>23.383000</td>\n",
       "      <td>70.245000</td>\n",
       "      <td>10.000000</td>\n",
       "      <td>4.400000</td>\n",
       "      <td>19.500000</td>\n",
       "      <td>126.400000</td>\n",
       "      <td>11.560000</td>\n",
       "      <td>1.080000</td>\n",
       "      <td>9.500000</td>\n",
       "      <td>1.900000</td>\n",
       "      <td>0.136000</td>\n",
       "      <td>6.000000</td>\n",
       "    </tr>\n",
       "    <tr>\n",
       "      <th>75%</th>\n",
       "      <td>23.576000</td>\n",
       "      <td>70.458750</td>\n",
       "      <td>10.000000</td>\n",
       "      <td>4.750000</td>\n",
       "      <td>41.000000</td>\n",
       "      <td>154.200000</td>\n",
       "      <td>12.340000</td>\n",
       "      <td>1.240000</td>\n",
       "      <td>12.200000</td>\n",
       "      <td>2.900000</td>\n",
       "      <td>0.179500</td>\n",
       "      <td>19.000000</td>\n",
       "    </tr>\n",
       "    <tr>\n",
       "      <th>max</th>\n",
       "      <td>24.690000</td>\n",
       "      <td>73.723000</td>\n",
       "      <td>33.000000</td>\n",
       "      <td>7.700000</td>\n",
       "      <td>472.000000</td>\n",
       "      <td>262.000000</td>\n",
       "      <td>13.368000</td>\n",
       "      <td>1.810000</td>\n",
       "      <td>15.700000</td>\n",
       "      <td>25.000000</td>\n",
       "      <td>0.300000</td>\n",
       "      <td>255.000000</td>\n",
       "    </tr>\n",
       "  </tbody>\n",
       "</table>\n",
       "</div>"
      ],
      "text/plain": [
       "         latitude   longitude       depth         mag         nst         gap  \\\n",
       "count  199.000000  199.000000  199.000000  199.000000  162.000000   47.000000   \n",
       "mean    23.284866   70.325458   12.424121    4.466382   40.290123  129.208511   \n",
       "std      0.749982    0.757120    6.433052    0.518866   61.352022   55.840257   \n",
       "min     20.082900   68.410000   10.000000    3.700000    5.000000   27.700000   \n",
       "25%     23.237000   70.064000   10.000000    4.100000   13.000000   86.550000   \n",
       "50%     23.383000   70.245000   10.000000    4.400000   19.500000  126.400000   \n",
       "75%     23.576000   70.458750   10.000000    4.750000   41.000000  154.200000   \n",
       "max     24.690000   73.723000   33.000000    7.700000  472.000000  262.000000   \n",
       "\n",
       "            dmin         rms  horizontalError  depthError   magError  \\\n",
       "count  15.000000  193.000000        15.000000   23.000000  19.000000   \n",
       "mean   11.586800    1.081244        10.133333    3.643478   0.146789   \n",
       "std     1.221375    0.247143         3.014884    5.270659   0.064843   \n",
       "min     9.093000    0.400000         5.400000    0.000000   0.036000   \n",
       "25%    10.679500    0.930000         8.200000    1.800000   0.112500   \n",
       "50%    11.560000    1.080000         9.500000    1.900000   0.136000   \n",
       "75%    12.340000    1.240000        12.200000    2.900000   0.179500   \n",
       "max    13.368000    1.810000        15.700000   25.000000   0.300000   \n",
       "\n",
       "           magNst  \n",
       "count  181.000000  \n",
       "mean    14.408840  \n",
       "std     25.254235  \n",
       "min      1.000000  \n",
       "25%      3.000000  \n",
       "50%      6.000000  \n",
       "75%     19.000000  \n",
       "max    255.000000  "
      ]
     },
     "execution_count": 196,
     "metadata": {},
     "output_type": "execute_result"
    }
   ],
   "source": [
    "db.describe()"
   ]
  },
  {
   "cell_type": "markdown",
   "id": "d94f6961",
   "metadata": {},
   "source": [
    "### Datacleaning"
   ]
  },
  {
   "cell_type": "code",
   "execution_count": 197,
   "id": "5d495f6a",
   "metadata": {},
   "outputs": [
    {
     "data": {
      "text/plain": [
       "time                0.000000\n",
       "latitude            0.000000\n",
       "longitude           0.000000\n",
       "depth               0.000000\n",
       "mag                 0.000000\n",
       "magType             0.000000\n",
       "nst                18.592965\n",
       "gap                76.381910\n",
       "dmin               92.462312\n",
       "rms                 3.015075\n",
       "net                 0.000000\n",
       "id                  0.000000\n",
       "updated             0.000000\n",
       "place               0.000000\n",
       "type                0.000000\n",
       "horizontalError    92.462312\n",
       "depthError         88.442211\n",
       "magError           90.452261\n",
       "magNst              9.045226\n",
       "status              0.000000\n",
       "locationSource      0.000000\n",
       "magSource           0.000000\n",
       "dtype: float64"
      ]
     },
     "execution_count": 197,
     "metadata": {},
     "output_type": "execute_result"
    }
   ],
   "source": [
    "db.isnull().mean()*100"
   ]
  },
  {
   "cell_type": "code",
   "execution_count": 198,
   "id": "56747abf",
   "metadata": {},
   "outputs": [
    {
     "data": {
      "text/html": [
       "<div>\n",
       "<style scoped>\n",
       "    .dataframe tbody tr th:only-of-type {\n",
       "        vertical-align: middle;\n",
       "    }\n",
       "\n",
       "    .dataframe tbody tr th {\n",
       "        vertical-align: top;\n",
       "    }\n",
       "\n",
       "    .dataframe thead th {\n",
       "        text-align: right;\n",
       "    }\n",
       "</style>\n",
       "<table border=\"1\" class=\"dataframe\">\n",
       "  <thead>\n",
       "    <tr style=\"text-align: right;\">\n",
       "      <th></th>\n",
       "      <th>time</th>\n",
       "      <th>latitude</th>\n",
       "      <th>longitude</th>\n",
       "      <th>depth</th>\n",
       "      <th>mag</th>\n",
       "      <th>magType</th>\n",
       "      <th>nst</th>\n",
       "      <th>gap</th>\n",
       "      <th>dmin</th>\n",
       "      <th>rms</th>\n",
       "      <th>...</th>\n",
       "      <th>updated</th>\n",
       "      <th>place</th>\n",
       "      <th>type</th>\n",
       "      <th>horizontalError</th>\n",
       "      <th>depthError</th>\n",
       "      <th>magError</th>\n",
       "      <th>magNst</th>\n",
       "      <th>status</th>\n",
       "      <th>locationSource</th>\n",
       "      <th>magSource</th>\n",
       "    </tr>\n",
       "  </thead>\n",
       "  <tbody>\n",
       "    <tr>\n",
       "      <th>0</th>\n",
       "      <td>2021-11-04T09:45:40.485Z</td>\n",
       "      <td>24.2251</td>\n",
       "      <td>68.4329</td>\n",
       "      <td>10.0</td>\n",
       "      <td>4.9</td>\n",
       "      <td>mb</td>\n",
       "      <td>NaN</td>\n",
       "      <td>80.0</td>\n",
       "      <td>10.293</td>\n",
       "      <td>0.74</td>\n",
       "      <td>...</td>\n",
       "      <td>2022-01-14T17:58:59.040Z</td>\n",
       "      <td>22 km SE of Jati, Pakistan</td>\n",
       "      <td>earthquake</td>\n",
       "      <td>7.7</td>\n",
       "      <td>1.7</td>\n",
       "      <td>0.065</td>\n",
       "      <td>74.0</td>\n",
       "      <td>reviewed</td>\n",
       "      <td>us</td>\n",
       "      <td>us</td>\n",
       "    </tr>\n",
       "    <tr>\n",
       "      <th>1</th>\n",
       "      <td>2021-05-16T22:07:22.008Z</td>\n",
       "      <td>20.6607</td>\n",
       "      <td>71.4793</td>\n",
       "      <td>10.0</td>\n",
       "      <td>4.1</td>\n",
       "      <td>mb</td>\n",
       "      <td>NaN</td>\n",
       "      <td>73.0</td>\n",
       "      <td>13.037</td>\n",
       "      <td>0.99</td>\n",
       "      <td>...</td>\n",
       "      <td>2021-07-24T21:07:26.040Z</td>\n",
       "      <td>41 km S of R?jula, India</td>\n",
       "      <td>earthquake</td>\n",
       "      <td>6.9</td>\n",
       "      <td>1.9</td>\n",
       "      <td>0.114</td>\n",
       "      <td>21.0</td>\n",
       "      <td>reviewed</td>\n",
       "      <td>us</td>\n",
       "      <td>us</td>\n",
       "    </tr>\n",
       "    <tr>\n",
       "      <th>2</th>\n",
       "      <td>2020-11-07T10:09:22.561Z</td>\n",
       "      <td>21.5017</td>\n",
       "      <td>73.2190</td>\n",
       "      <td>10.0</td>\n",
       "      <td>3.9</td>\n",
       "      <td>mb</td>\n",
       "      <td>NaN</td>\n",
       "      <td>262.0</td>\n",
       "      <td>12.103</td>\n",
       "      <td>0.55</td>\n",
       "      <td>...</td>\n",
       "      <td>2021-01-23T22:25:38.040Z</td>\n",
       "      <td>27 km E of Kosamba, India</td>\n",
       "      <td>earthquake</td>\n",
       "      <td>10.3</td>\n",
       "      <td>2.0</td>\n",
       "      <td>0.170</td>\n",
       "      <td>9.0</td>\n",
       "      <td>reviewed</td>\n",
       "      <td>us</td>\n",
       "      <td>us</td>\n",
       "    </tr>\n",
       "    <tr>\n",
       "      <th>3</th>\n",
       "      <td>2020-07-16T02:10:29.094Z</td>\n",
       "      <td>22.2558</td>\n",
       "      <td>70.9928</td>\n",
       "      <td>10.0</td>\n",
       "      <td>4.1</td>\n",
       "      <td>mb</td>\n",
       "      <td>NaN</td>\n",
       "      <td>112.0</td>\n",
       "      <td>11.529</td>\n",
       "      <td>0.54</td>\n",
       "      <td>...</td>\n",
       "      <td>2020-09-26T16:58:31.040Z</td>\n",
       "      <td>20 km E of R?jkot, India</td>\n",
       "      <td>earthquake</td>\n",
       "      <td>13.7</td>\n",
       "      <td>2.0</td>\n",
       "      <td>0.151</td>\n",
       "      <td>12.0</td>\n",
       "      <td>reviewed</td>\n",
       "      <td>us</td>\n",
       "      <td>us</td>\n",
       "    </tr>\n",
       "    <tr>\n",
       "      <th>4</th>\n",
       "      <td>2020-06-15T07:27:35.084Z</td>\n",
       "      <td>22.9861</td>\n",
       "      <td>70.2272</td>\n",
       "      <td>10.0</td>\n",
       "      <td>3.8</td>\n",
       "      <td>mb</td>\n",
       "      <td>NaN</td>\n",
       "      <td>193.0</td>\n",
       "      <td>11.560</td>\n",
       "      <td>0.96</td>\n",
       "      <td>...</td>\n",
       "      <td>2020-08-22T19:14:54.040Z</td>\n",
       "      <td>5 km SSE of K?ndla, India</td>\n",
       "      <td>earthquake</td>\n",
       "      <td>15.7</td>\n",
       "      <td>2.0</td>\n",
       "      <td>0.136</td>\n",
       "      <td>14.0</td>\n",
       "      <td>reviewed</td>\n",
       "      <td>us</td>\n",
       "      <td>us</td>\n",
       "    </tr>\n",
       "  </tbody>\n",
       "</table>\n",
       "<p>5 rows × 22 columns</p>\n",
       "</div>"
      ],
      "text/plain": [
       "                       time  latitude  longitude  depth  mag magType  nst  \\\n",
       "0  2021-11-04T09:45:40.485Z   24.2251    68.4329   10.0  4.9      mb  NaN   \n",
       "1  2021-05-16T22:07:22.008Z   20.6607    71.4793   10.0  4.1      mb  NaN   \n",
       "2  2020-11-07T10:09:22.561Z   21.5017    73.2190   10.0  3.9      mb  NaN   \n",
       "3  2020-07-16T02:10:29.094Z   22.2558    70.9928   10.0  4.1      mb  NaN   \n",
       "4  2020-06-15T07:27:35.084Z   22.9861    70.2272   10.0  3.8      mb  NaN   \n",
       "\n",
       "     gap    dmin   rms  ...                   updated  \\\n",
       "0   80.0  10.293  0.74  ...  2022-01-14T17:58:59.040Z   \n",
       "1   73.0  13.037  0.99  ...  2021-07-24T21:07:26.040Z   \n",
       "2  262.0  12.103  0.55  ...  2021-01-23T22:25:38.040Z   \n",
       "3  112.0  11.529  0.54  ...  2020-09-26T16:58:31.040Z   \n",
       "4  193.0  11.560  0.96  ...  2020-08-22T19:14:54.040Z   \n",
       "\n",
       "                        place        type horizontalError depthError  \\\n",
       "0  22 km SE of Jati, Pakistan  earthquake             7.7        1.7   \n",
       "1    41 km S of R?jula, India  earthquake             6.9        1.9   \n",
       "2   27 km E of Kosamba, India  earthquake            10.3        2.0   \n",
       "3    20 km E of R?jkot, India  earthquake            13.7        2.0   \n",
       "4   5 km SSE of K?ndla, India  earthquake            15.7        2.0   \n",
       "\n",
       "   magError  magNst    status  locationSource magSource  \n",
       "0     0.065    74.0  reviewed              us        us  \n",
       "1     0.114    21.0  reviewed              us        us  \n",
       "2     0.170     9.0  reviewed              us        us  \n",
       "3     0.151    12.0  reviewed              us        us  \n",
       "4     0.136    14.0  reviewed              us        us  \n",
       "\n",
       "[5 rows x 22 columns]"
      ]
     },
     "execution_count": 198,
     "metadata": {},
     "output_type": "execute_result"
    }
   ],
   "source": [
    "db.head()"
   ]
  },
  {
   "cell_type": "markdown",
   "id": "a5a07aab",
   "metadata": {},
   "source": [
    "we can see in places we have some data of pakistan also but as we want data of only india we will remove rest"
   ]
  },
  {
   "cell_type": "code",
   "execution_count": 199,
   "id": "d0f590aa",
   "metadata": {},
   "outputs": [],
   "source": [
    "db['place']=db['place'].str.split(',').str[1]"
   ]
  },
  {
   "cell_type": "code",
   "execution_count": 200,
   "id": "b74193bd",
   "metadata": {},
   "outputs": [],
   "source": [
    "db['place']=db['place'].str.strip()"
   ]
  },
  {
   "cell_type": "code",
   "execution_count": 201,
   "id": "d4e6b77e",
   "metadata": {},
   "outputs": [
    {
     "data": {
      "text/plain": [
       "array(['Pakistan', 'India'], dtype=object)"
      ]
     },
     "execution_count": 201,
     "metadata": {},
     "output_type": "execute_result"
    }
   ],
   "source": [
    "db['place'].unique()"
   ]
  },
  {
   "cell_type": "code",
   "execution_count": 202,
   "id": "5fd441ec",
   "metadata": {},
   "outputs": [],
   "source": [
    "db=db[db['place']=='India']"
   ]
  },
  {
   "cell_type": "code",
   "execution_count": 203,
   "id": "2a9a172a",
   "metadata": {},
   "outputs": [
    {
     "data": {
      "text/plain": [
       "array(['us', 'gcmt', 'hrv', 'iscgem'], dtype=object)"
      ]
     },
     "execution_count": 203,
     "metadata": {},
     "output_type": "execute_result"
    }
   ],
   "source": [
    "db['magSource'].unique()"
   ]
  },
  {
   "cell_type": "markdown",
   "id": "e068fcba",
   "metadata": {},
   "source": [
    " We will be trying to remove columns which wont be useful to us"
   ]
  },
  {
   "cell_type": "code",
   "execution_count": 204,
   "id": "bde10408",
   "metadata": {},
   "outputs": [
    {
     "data": {
      "text/plain": [
       "us        172\n",
       "hrv         7\n",
       "iscgem      3\n",
       "gcmt        2\n",
       "Name: magSource, dtype: int64"
      ]
     },
     "execution_count": 204,
     "metadata": {},
     "output_type": "execute_result"
    }
   ],
   "source": [
    "db['magSource'].value_counts()"
   ]
  },
  {
   "cell_type": "code",
   "execution_count": 205,
   "id": "92b95d92",
   "metadata": {},
   "outputs": [
    {
     "data": {
      "text/plain": [
       "array(['us', 'iscgem'], dtype=object)"
      ]
     },
     "execution_count": 205,
     "metadata": {},
     "output_type": "execute_result"
    }
   ],
   "source": [
    "db['locationSource'].unique()"
   ]
  },
  {
   "cell_type": "code",
   "execution_count": 206,
   "id": "7c9ec5ea",
   "metadata": {},
   "outputs": [
    {
     "data": {
      "text/plain": [
       "us        172\n",
       "hrv         7\n",
       "iscgem      3\n",
       "gcmt        2\n",
       "Name: magSource, dtype: int64"
      ]
     },
     "execution_count": 206,
     "metadata": {},
     "output_type": "execute_result"
    }
   ],
   "source": [
    "db['magSource'].value_counts()"
   ]
  },
  {
   "cell_type": "code",
   "execution_count": 207,
   "id": "224ecefb",
   "metadata": {},
   "outputs": [
    {
     "data": {
      "text/plain": [
       "array(['reviewed'], dtype=object)"
      ]
     },
     "execution_count": 207,
     "metadata": {},
     "output_type": "execute_result"
    }
   ],
   "source": [
    "db['status'].unique()"
   ]
  },
  {
   "cell_type": "code",
   "execution_count": 208,
   "id": "01380848",
   "metadata": {},
   "outputs": [
    {
     "data": {
      "text/plain": [
       "array(['earthquake'], dtype=object)"
      ]
     },
     "execution_count": 208,
     "metadata": {},
     "output_type": "execute_result"
    }
   ],
   "source": [
    "db['type'].unique()"
   ]
  },
  {
   "cell_type": "code",
   "execution_count": 209,
   "id": "40481d21",
   "metadata": {},
   "outputs": [
    {
     "data": {
      "text/plain": [
       "1      2021-07-24T21:07:26.040Z\n",
       "2      2021-01-23T22:25:38.040Z\n",
       "3      2020-09-26T16:58:31.040Z\n",
       "4      2020-08-22T19:14:54.040Z\n",
       "5      2022-03-10T05:23:19.141Z\n",
       "                 ...           \n",
       "190    2022-04-28T00:32:48.652Z\n",
       "194    2014-11-06T23:21:32.071Z\n",
       "195    2022-04-26T21:46:30.919Z\n",
       "197    2022-04-26T17:25:23.429Z\n",
       "198    2022-04-26T19:39:19.718Z\n",
       "Name: updated, Length: 184, dtype: object"
      ]
     },
     "execution_count": 209,
     "metadata": {},
     "output_type": "execute_result"
    }
   ],
   "source": [
    "db['updated']"
   ]
  },
  {
   "cell_type": "markdown",
   "id": "2ac94285",
   "metadata": {},
   "source": [
    "we are dropping few columns which contain reductant info and which wont have much effect on our data\n",
    "\n",
    "1. dropping type,status,place as they contain same value in all the columns\n",
    "2. dropping columns updated ,magsource,locationSource as they contain information regarding the meta data like place where these data were collected location when was the data last updated and much more "
   ]
  },
  {
   "cell_type": "code",
   "execution_count": 210,
   "id": "f47f44a0",
   "metadata": {},
   "outputs": [],
   "source": [
    "db.drop(columns=['updated','type','status','magSource','locationSource','place'],inplace=True)"
   ]
  },
  {
   "cell_type": "code",
   "execution_count": 211,
   "id": "3589a29e",
   "metadata": {},
   "outputs": [
    {
     "data": {
      "text/html": [
       "<div>\n",
       "<style scoped>\n",
       "    .dataframe tbody tr th:only-of-type {\n",
       "        vertical-align: middle;\n",
       "    }\n",
       "\n",
       "    .dataframe tbody tr th {\n",
       "        vertical-align: top;\n",
       "    }\n",
       "\n",
       "    .dataframe thead th {\n",
       "        text-align: right;\n",
       "    }\n",
       "</style>\n",
       "<table border=\"1\" class=\"dataframe\">\n",
       "  <thead>\n",
       "    <tr style=\"text-align: right;\">\n",
       "      <th></th>\n",
       "      <th>time</th>\n",
       "      <th>latitude</th>\n",
       "      <th>longitude</th>\n",
       "      <th>depth</th>\n",
       "      <th>mag</th>\n",
       "      <th>magType</th>\n",
       "      <th>nst</th>\n",
       "      <th>gap</th>\n",
       "      <th>dmin</th>\n",
       "      <th>rms</th>\n",
       "      <th>net</th>\n",
       "      <th>id</th>\n",
       "      <th>horizontalError</th>\n",
       "      <th>depthError</th>\n",
       "      <th>magError</th>\n",
       "      <th>magNst</th>\n",
       "    </tr>\n",
       "  </thead>\n",
       "  <tbody>\n",
       "    <tr>\n",
       "      <th>1</th>\n",
       "      <td>2021-05-16T22:07:22.008Z</td>\n",
       "      <td>20.6607</td>\n",
       "      <td>71.4793</td>\n",
       "      <td>10.0</td>\n",
       "      <td>4.1</td>\n",
       "      <td>mb</td>\n",
       "      <td>NaN</td>\n",
       "      <td>73.0</td>\n",
       "      <td>13.037</td>\n",
       "      <td>0.99</td>\n",
       "      <td>us</td>\n",
       "      <td>us7000e51v</td>\n",
       "      <td>6.9</td>\n",
       "      <td>1.9</td>\n",
       "      <td>0.114</td>\n",
       "      <td>21.0</td>\n",
       "    </tr>\n",
       "    <tr>\n",
       "      <th>2</th>\n",
       "      <td>2020-11-07T10:09:22.561Z</td>\n",
       "      <td>21.5017</td>\n",
       "      <td>73.2190</td>\n",
       "      <td>10.0</td>\n",
       "      <td>3.9</td>\n",
       "      <td>mb</td>\n",
       "      <td>NaN</td>\n",
       "      <td>262.0</td>\n",
       "      <td>12.103</td>\n",
       "      <td>0.55</td>\n",
       "      <td>us</td>\n",
       "      <td>us7000cc8r</td>\n",
       "      <td>10.3</td>\n",
       "      <td>2.0</td>\n",
       "      <td>0.170</td>\n",
       "      <td>9.0</td>\n",
       "    </tr>\n",
       "    <tr>\n",
       "      <th>3</th>\n",
       "      <td>2020-07-16T02:10:29.094Z</td>\n",
       "      <td>22.2558</td>\n",
       "      <td>70.9928</td>\n",
       "      <td>10.0</td>\n",
       "      <td>4.1</td>\n",
       "      <td>mb</td>\n",
       "      <td>NaN</td>\n",
       "      <td>112.0</td>\n",
       "      <td>11.529</td>\n",
       "      <td>0.54</td>\n",
       "      <td>us</td>\n",
       "      <td>us7000apfs</td>\n",
       "      <td>13.7</td>\n",
       "      <td>2.0</td>\n",
       "      <td>0.151</td>\n",
       "      <td>12.0</td>\n",
       "    </tr>\n",
       "    <tr>\n",
       "      <th>4</th>\n",
       "      <td>2020-06-15T07:27:35.084Z</td>\n",
       "      <td>22.9861</td>\n",
       "      <td>70.2272</td>\n",
       "      <td>10.0</td>\n",
       "      <td>3.8</td>\n",
       "      <td>mb</td>\n",
       "      <td>NaN</td>\n",
       "      <td>193.0</td>\n",
       "      <td>11.560</td>\n",
       "      <td>0.96</td>\n",
       "      <td>us</td>\n",
       "      <td>us6000acfz</td>\n",
       "      <td>15.7</td>\n",
       "      <td>2.0</td>\n",
       "      <td>0.136</td>\n",
       "      <td>14.0</td>\n",
       "    </tr>\n",
       "    <tr>\n",
       "      <th>5</th>\n",
       "      <td>2020-06-14T14:43:08.390Z</td>\n",
       "      <td>23.3821</td>\n",
       "      <td>70.3548</td>\n",
       "      <td>10.0</td>\n",
       "      <td>5.1</td>\n",
       "      <td>mb</td>\n",
       "      <td>NaN</td>\n",
       "      <td>40.0</td>\n",
       "      <td>11.178</td>\n",
       "      <td>0.74</td>\n",
       "      <td>us</td>\n",
       "      <td>us6000abp7</td>\n",
       "      <td>8.9</td>\n",
       "      <td>1.8</td>\n",
       "      <td>0.036</td>\n",
       "      <td>255.0</td>\n",
       "    </tr>\n",
       "  </tbody>\n",
       "</table>\n",
       "</div>"
      ],
      "text/plain": [
       "                       time  latitude  longitude  depth  mag magType  nst  \\\n",
       "1  2021-05-16T22:07:22.008Z   20.6607    71.4793   10.0  4.1      mb  NaN   \n",
       "2  2020-11-07T10:09:22.561Z   21.5017    73.2190   10.0  3.9      mb  NaN   \n",
       "3  2020-07-16T02:10:29.094Z   22.2558    70.9928   10.0  4.1      mb  NaN   \n",
       "4  2020-06-15T07:27:35.084Z   22.9861    70.2272   10.0  3.8      mb  NaN   \n",
       "5  2020-06-14T14:43:08.390Z   23.3821    70.3548   10.0  5.1      mb  NaN   \n",
       "\n",
       "     gap    dmin   rms net          id  horizontalError  depthError  magError  \\\n",
       "1   73.0  13.037  0.99  us  us7000e51v              6.9         1.9     0.114   \n",
       "2  262.0  12.103  0.55  us  us7000cc8r             10.3         2.0     0.170   \n",
       "3  112.0  11.529  0.54  us  us7000apfs             13.7         2.0     0.151   \n",
       "4  193.0  11.560  0.96  us  us6000acfz             15.7         2.0     0.136   \n",
       "5   40.0  11.178  0.74  us  us6000abp7              8.9         1.8     0.036   \n",
       "\n",
       "   magNst  \n",
       "1    21.0  \n",
       "2     9.0  \n",
       "3    12.0  \n",
       "4    14.0  \n",
       "5   255.0  "
      ]
     },
     "execution_count": 211,
     "metadata": {},
     "output_type": "execute_result"
    }
   ],
   "source": [
    "db.head()"
   ]
  },
  {
   "cell_type": "code",
   "execution_count": 212,
   "id": "98b844ef",
   "metadata": {},
   "outputs": [
    {
     "data": {
      "text/plain": [
       "array(['us', 'iscgem'], dtype=object)"
      ]
     },
     "execution_count": 212,
     "metadata": {},
     "output_type": "execute_result"
    }
   ],
   "source": [
    "db['net'].unique()"
   ]
  },
  {
   "cell_type": "code",
   "execution_count": 213,
   "id": "dd696890",
   "metadata": {},
   "outputs": [
    {
     "data": {
      "text/plain": [
       "array(['us7000e51v', 'us7000cc8r', 'us7000apfs', 'us6000acfz',\n",
       "       'us6000abp7', 'us70009d7u', 'us60006rxd', 'us70006d8k',\n",
       "       'us70003vv0', 'us1000j959', 'us1000dagp', 'us20006far',\n",
       "       'usb000iztl', 'usp000jwp1', 'usp000jmzk', 'usp000jhx2',\n",
       "       'usp000j9m2', 'usp000j6d7', 'usp000hk1r', 'usp000h3gw',\n",
       "       'usp000h18d', 'usp000gjcs', 'usp000g39n', 'usp000g11k',\n",
       "       'usp000g0ed', 'usp000fs1z', 'usp000fs18', 'usp000fq37',\n",
       "       'usp000fg2t', 'usp000f93d', 'usp000erbv', 'usp000em1v',\n",
       "       'usp000eggr', 'usp000ee4h', 'usp000eduw', 'usp000edu5',\n",
       "       'usp000ebma', 'usp000e9bt', 'usp000d39x', 'usp000d0bs',\n",
       "       'usp000csbb', 'usp000ca4v', 'usp000c467', 'usp000bqg0',\n",
       "       'usp000bnv1', 'usp000bawa', 'usp000ba52', 'usp000b9kq',\n",
       "       'usp000b32x', 'usp000b1bn', 'usp000b177', 'usp000awq7',\n",
       "       'usp000aw4u', 'usp000av10', 'usp000atur', 'usp000atcx',\n",
       "       'usp000arz6', 'usp000aq5c', 'usp000aphw', 'usp000apgz',\n",
       "       'usp000amyy', 'usp000am2k', 'usp000aktx', 'usp000aks8',\n",
       "       'usp000aknk', 'usp000ak78', 'usp000ajj7', 'usp000ajd8',\n",
       "       'usp000ahyb', 'usp000ahry', 'usp000ah0y', 'usp000agur',\n",
       "       'usp000aeve', 'usp000aejz', 'usp000aehq', 'usp000aegr',\n",
       "       'usp000adzg', 'usp000advu', 'usp000adeg', 'usp000adcc',\n",
       "       'usp000ad3s', 'usp000acc3', 'usp000abrb', 'usp000abdv',\n",
       "       'usp000abcv', 'usp000abay', 'usp000ab7r', 'usp000ab57',\n",
       "       'usp000ab35', 'usp000aaw7', 'usp000aasp', 'usp000aapw',\n",
       "       'usp000aan5', 'usp000aaks', 'usp000aa3c', 'usp000a9xz',\n",
       "       'usp000a9xe', 'usp000a9xc', 'usp000a9wv', 'usp000a9sm',\n",
       "       'usp000a9pb', 'usp000a9p5', 'usp000a9p2', 'usp000a9gq',\n",
       "       'usp000a9g5', 'usp000a9fw', 'usp000a9ev', 'usp000a9d0',\n",
       "       'usp000a9bc', 'usp000a9b5', 'usp000a99q', 'usp000a993',\n",
       "       'usp000a98g', 'usp000a93c', 'usp000a92m', 'usp000a92e',\n",
       "       'usp000a916', 'usp000a914', 'usp000a8z5', 'usp000a8z3',\n",
       "       'usp000a8yc', 'usp000a8vm', 'usp000a8vj', 'usp000a8vc',\n",
       "       'usp000a8t6', 'usp000a8rr', 'usp000a8rh', 'usp000a8r8',\n",
       "       'usp000a8r2', 'usp000a8qz', 'usp000a8qk', 'usp000a8pf',\n",
       "       'usp000a8nx', 'usp000a8nd', 'usp000a8nc', 'usp000a8mq',\n",
       "       'usp000a8m5', 'usp000a8ky', 'usp000a8ka', 'usp000a8k8',\n",
       "       'usp000a8k5', 'usp000a8k3', 'usp000a8je', 'usp000a8jb',\n",
       "       'usp000a8hv', 'usp000a8hu', 'usp000a8hm', 'usp000a8gr',\n",
       "       'usp000a8g7', 'usp000a8g3', 'usp000a8g2', 'usp000a8fj',\n",
       "       'usp000a8fh', 'usp000a8f5', 'usp000a8ez', 'usp000a8ex',\n",
       "       'usp000a8ep', 'usp000a8em', 'usp000a8eh', 'usp000a8ed',\n",
       "       'usp000a8ec', 'usp000a8eb', 'usp000a8e8', 'usp000a8e7',\n",
       "       'usp000a8e3', 'usp000a8e2', 'usp000a8dz', 'usp000a8dy',\n",
       "       'usp000a8du', 'usp000a8ds', 'usp0009ycx', 'usp0007t5c',\n",
       "       'usp0007n5j', 'usp00065vm', 'usp0005z4v', 'usp0004kyn',\n",
       "       'usp00042xp', 'usp0003t4r', 'usp0002rb3', 'usp0001ng5',\n",
       "       'usp0000cvh', 'iscgem798304', 'iscgem888505', 'iscgem901683'],\n",
       "      dtype=object)"
      ]
     },
     "execution_count": 213,
     "metadata": {},
     "output_type": "execute_result"
    }
   ],
   "source": [
    "db['id'].unique()"
   ]
  },
  {
   "cell_type": "code",
   "execution_count": 214,
   "id": "389c30c4",
   "metadata": {},
   "outputs": [],
   "source": [
    "db.drop(columns=['id','net'],inplace=True)"
   ]
  },
  {
   "cell_type": "markdown",
   "id": "384de971",
   "metadata": {},
   "source": [
    "dropping id and net beacuse they are the information about how,when and what recorded this data"
   ]
  },
  {
   "cell_type": "code",
   "execution_count": 215,
   "id": "3f28dd53",
   "metadata": {},
   "outputs": [
    {
     "data": {
      "text/html": [
       "<div>\n",
       "<style scoped>\n",
       "    .dataframe tbody tr th:only-of-type {\n",
       "        vertical-align: middle;\n",
       "    }\n",
       "\n",
       "    .dataframe tbody tr th {\n",
       "        vertical-align: top;\n",
       "    }\n",
       "\n",
       "    .dataframe thead th {\n",
       "        text-align: right;\n",
       "    }\n",
       "</style>\n",
       "<table border=\"1\" class=\"dataframe\">\n",
       "  <thead>\n",
       "    <tr style=\"text-align: right;\">\n",
       "      <th></th>\n",
       "      <th>time</th>\n",
       "      <th>latitude</th>\n",
       "      <th>longitude</th>\n",
       "      <th>depth</th>\n",
       "      <th>mag</th>\n",
       "      <th>magType</th>\n",
       "      <th>nst</th>\n",
       "      <th>gap</th>\n",
       "      <th>dmin</th>\n",
       "      <th>rms</th>\n",
       "      <th>horizontalError</th>\n",
       "      <th>depthError</th>\n",
       "      <th>magError</th>\n",
       "      <th>magNst</th>\n",
       "    </tr>\n",
       "  </thead>\n",
       "  <tbody>\n",
       "    <tr>\n",
       "      <th>1</th>\n",
       "      <td>2021-05-16T22:07:22.008Z</td>\n",
       "      <td>20.6607</td>\n",
       "      <td>71.4793</td>\n",
       "      <td>10.0</td>\n",
       "      <td>4.1</td>\n",
       "      <td>mb</td>\n",
       "      <td>NaN</td>\n",
       "      <td>73.0</td>\n",
       "      <td>13.037</td>\n",
       "      <td>0.99</td>\n",
       "      <td>6.9</td>\n",
       "      <td>1.9</td>\n",
       "      <td>0.114</td>\n",
       "      <td>21.0</td>\n",
       "    </tr>\n",
       "    <tr>\n",
       "      <th>2</th>\n",
       "      <td>2020-11-07T10:09:22.561Z</td>\n",
       "      <td>21.5017</td>\n",
       "      <td>73.2190</td>\n",
       "      <td>10.0</td>\n",
       "      <td>3.9</td>\n",
       "      <td>mb</td>\n",
       "      <td>NaN</td>\n",
       "      <td>262.0</td>\n",
       "      <td>12.103</td>\n",
       "      <td>0.55</td>\n",
       "      <td>10.3</td>\n",
       "      <td>2.0</td>\n",
       "      <td>0.170</td>\n",
       "      <td>9.0</td>\n",
       "    </tr>\n",
       "    <tr>\n",
       "      <th>3</th>\n",
       "      <td>2020-07-16T02:10:29.094Z</td>\n",
       "      <td>22.2558</td>\n",
       "      <td>70.9928</td>\n",
       "      <td>10.0</td>\n",
       "      <td>4.1</td>\n",
       "      <td>mb</td>\n",
       "      <td>NaN</td>\n",
       "      <td>112.0</td>\n",
       "      <td>11.529</td>\n",
       "      <td>0.54</td>\n",
       "      <td>13.7</td>\n",
       "      <td>2.0</td>\n",
       "      <td>0.151</td>\n",
       "      <td>12.0</td>\n",
       "    </tr>\n",
       "    <tr>\n",
       "      <th>4</th>\n",
       "      <td>2020-06-15T07:27:35.084Z</td>\n",
       "      <td>22.9861</td>\n",
       "      <td>70.2272</td>\n",
       "      <td>10.0</td>\n",
       "      <td>3.8</td>\n",
       "      <td>mb</td>\n",
       "      <td>NaN</td>\n",
       "      <td>193.0</td>\n",
       "      <td>11.560</td>\n",
       "      <td>0.96</td>\n",
       "      <td>15.7</td>\n",
       "      <td>2.0</td>\n",
       "      <td>0.136</td>\n",
       "      <td>14.0</td>\n",
       "    </tr>\n",
       "    <tr>\n",
       "      <th>5</th>\n",
       "      <td>2020-06-14T14:43:08.390Z</td>\n",
       "      <td>23.3821</td>\n",
       "      <td>70.3548</td>\n",
       "      <td>10.0</td>\n",
       "      <td>5.1</td>\n",
       "      <td>mb</td>\n",
       "      <td>NaN</td>\n",
       "      <td>40.0</td>\n",
       "      <td>11.178</td>\n",
       "      <td>0.74</td>\n",
       "      <td>8.9</td>\n",
       "      <td>1.8</td>\n",
       "      <td>0.036</td>\n",
       "      <td>255.0</td>\n",
       "    </tr>\n",
       "  </tbody>\n",
       "</table>\n",
       "</div>"
      ],
      "text/plain": [
       "                       time  latitude  longitude  depth  mag magType  nst  \\\n",
       "1  2021-05-16T22:07:22.008Z   20.6607    71.4793   10.0  4.1      mb  NaN   \n",
       "2  2020-11-07T10:09:22.561Z   21.5017    73.2190   10.0  3.9      mb  NaN   \n",
       "3  2020-07-16T02:10:29.094Z   22.2558    70.9928   10.0  4.1      mb  NaN   \n",
       "4  2020-06-15T07:27:35.084Z   22.9861    70.2272   10.0  3.8      mb  NaN   \n",
       "5  2020-06-14T14:43:08.390Z   23.3821    70.3548   10.0  5.1      mb  NaN   \n",
       "\n",
       "     gap    dmin   rms  horizontalError  depthError  magError  magNst  \n",
       "1   73.0  13.037  0.99              6.9         1.9     0.114    21.0  \n",
       "2  262.0  12.103  0.55             10.3         2.0     0.170     9.0  \n",
       "3  112.0  11.529  0.54             13.7         2.0     0.151    12.0  \n",
       "4  193.0  11.560  0.96             15.7         2.0     0.136    14.0  \n",
       "5   40.0  11.178  0.74              8.9         1.8     0.036   255.0  "
      ]
     },
     "execution_count": 215,
     "metadata": {},
     "output_type": "execute_result"
    }
   ],
   "source": [
    "db.head()"
   ]
  },
  {
   "cell_type": "code",
   "execution_count": 216,
   "id": "53453de0",
   "metadata": {},
   "outputs": [
    {
     "data": {
      "text/plain": [
       "time                0.000000\n",
       "latitude            0.000000\n",
       "longitude           0.000000\n",
       "depth               0.000000\n",
       "mag                 0.000000\n",
       "magType             0.000000\n",
       "nst                14.130435\n",
       "gap                76.630435\n",
       "dmin               92.934783\n",
       "rms                 2.173913\n",
       "horizontalError    92.934783\n",
       "depthError         89.673913\n",
       "magError           91.304348\n",
       "magNst              8.695652\n",
       "dtype: float64"
      ]
     },
     "execution_count": 216,
     "metadata": {},
     "output_type": "execute_result"
    }
   ],
   "source": [
    "db.isnull().mean()*100"
   ]
  },
  {
   "cell_type": "code",
   "execution_count": 217,
   "id": "0300732d",
   "metadata": {},
   "outputs": [
    {
     "name": "stdout",
     "output_type": "stream",
     "text": [
      "<class 'pandas.core.frame.DataFrame'>\n",
      "Int64Index: 184 entries, 1 to 198\n",
      "Data columns (total 14 columns):\n",
      " #   Column           Non-Null Count  Dtype  \n",
      "---  ------           --------------  -----  \n",
      " 0   time             184 non-null    object \n",
      " 1   latitude         184 non-null    float64\n",
      " 2   longitude        184 non-null    float64\n",
      " 3   depth            184 non-null    float64\n",
      " 4   mag              184 non-null    float64\n",
      " 5   magType          184 non-null    object \n",
      " 6   nst              158 non-null    float64\n",
      " 7   gap              43 non-null     float64\n",
      " 8   dmin             13 non-null     float64\n",
      " 9   rms              180 non-null    float64\n",
      " 10  horizontalError  13 non-null     float64\n",
      " 11  depthError       19 non-null     float64\n",
      " 12  magError         16 non-null     float64\n",
      " 13  magNst           168 non-null    float64\n",
      "dtypes: float64(12), object(2)\n",
      "memory usage: 21.6+ KB\n"
     ]
    }
   ],
   "source": [
    "db.info()"
   ]
  },
  {
   "cell_type": "markdown",
   "id": "dd09f24c",
   "metadata": {},
   "source": [
    "Lets fill the null values now"
   ]
  },
  {
   "cell_type": "code",
   "execution_count": 218,
   "id": "1303ed4f",
   "metadata": {},
   "outputs": [],
   "source": [
    "db['nst'].fillna(db['nst'].mean(),inplace=True)"
   ]
  },
  {
   "cell_type": "code",
   "execution_count": 219,
   "id": "ae0b3708",
   "metadata": {},
   "outputs": [],
   "source": [
    "db['gap'].fillna(db['gap'].mean(),inplace=True)"
   ]
  },
  {
   "cell_type": "code",
   "execution_count": 220,
   "id": "4aabe923",
   "metadata": {},
   "outputs": [],
   "source": [
    "\n",
    "db['dmin'].fillna(db['dmin'].mean(),inplace=True)\n",
    "db['rms'].fillna(db['rms'].mean(),inplace=True)\n",
    "db['depthError'].fillna(db['depthError'].mean(),inplace=True)\n",
    "db['horizontalError'].fillna(db['horizontalError'].mean(),inplace=True)\n",
    "db['magError'].fillna(db['magError'].mean(),inplace=True)\n",
    "db['magNst'].fillna(db['magNst'].mean(),inplace=True)\n"
   ]
  },
  {
   "cell_type": "code",
   "execution_count": 221,
   "id": "459ff727",
   "metadata": {},
   "outputs": [
    {
     "data": {
      "text/plain": [
       "time               0.0\n",
       "latitude           0.0\n",
       "longitude          0.0\n",
       "depth              0.0\n",
       "mag                0.0\n",
       "magType            0.0\n",
       "nst                0.0\n",
       "gap                0.0\n",
       "dmin               0.0\n",
       "rms                0.0\n",
       "horizontalError    0.0\n",
       "depthError         0.0\n",
       "magError           0.0\n",
       "magNst             0.0\n",
       "dtype: float64"
      ]
     },
     "execution_count": 221,
     "metadata": {},
     "output_type": "execute_result"
    }
   ],
   "source": [
    "db.isnull().mean()*100"
   ]
  },
  {
   "cell_type": "markdown",
   "id": "3254b704",
   "metadata": {},
   "source": [
    "so for now we have replaced all the null values with mean\n",
    "\n"
   ]
  },
  {
   "cell_type": "code",
   "execution_count": 222,
   "id": "3fc8f3cf",
   "metadata": {},
   "outputs": [
    {
     "name": "stdout",
     "output_type": "stream",
     "text": [
      "<class 'pandas.core.frame.DataFrame'>\n",
      "Int64Index: 184 entries, 1 to 198\n",
      "Data columns (total 14 columns):\n",
      " #   Column           Non-Null Count  Dtype  \n",
      "---  ------           --------------  -----  \n",
      " 0   time             184 non-null    object \n",
      " 1   latitude         184 non-null    float64\n",
      " 2   longitude        184 non-null    float64\n",
      " 3   depth            184 non-null    float64\n",
      " 4   mag              184 non-null    float64\n",
      " 5   magType          184 non-null    object \n",
      " 6   nst              184 non-null    float64\n",
      " 7   gap              184 non-null    float64\n",
      " 8   dmin             184 non-null    float64\n",
      " 9   rms              184 non-null    float64\n",
      " 10  horizontalError  184 non-null    float64\n",
      " 11  depthError       184 non-null    float64\n",
      " 12  magError         184 non-null    float64\n",
      " 13  magNst           184 non-null    float64\n",
      "dtypes: float64(12), object(2)\n",
      "memory usage: 21.6+ KB\n"
     ]
    }
   ],
   "source": [
    "db.info()"
   ]
  },
  {
   "cell_type": "code",
   "execution_count": 223,
   "id": "d5bdf745",
   "metadata": {},
   "outputs": [
    {
     "data": {
      "text/plain": [
       "array(['mb', 'mwc', 'mwb', 'ms', 'mw'], dtype=object)"
      ]
     },
     "execution_count": 223,
     "metadata": {},
     "output_type": "execute_result"
    }
   ],
   "source": [
    "db['magType'].unique()"
   ]
  },
  {
   "cell_type": "code",
   "execution_count": 224,
   "id": "9b5569b4",
   "metadata": {},
   "outputs": [
    {
     "data": {
      "text/plain": [
       "magType  mag \n",
       "mb       3.70     7\n",
       "         3.80    10\n",
       "         3.90     5\n",
       "         4.00    17\n",
       "         4.10    17\n",
       "         4.20    18\n",
       "         4.30    10\n",
       "         4.40    18\n",
       "         4.50    12\n",
       "         4.60    11\n",
       "         4.70    15\n",
       "         4.80    14\n",
       "         4.90     6\n",
       "         5.00     2\n",
       "         5.10     2\n",
       "         5.20     1\n",
       "         5.30     2\n",
       "ms       4.90     1\n",
       "         5.10     1\n",
       "         5.50     1\n",
       "mw       5.36     1\n",
       "         6.00     1\n",
       "         6.27     1\n",
       "mwb      5.50     2\n",
       "mwc      4.80     1\n",
       "         5.00     2\n",
       "         5.10     2\n",
       "         5.40     2\n",
       "         5.80     1\n",
       "         7.70     1\n",
       "dtype: int64"
      ]
     },
     "execution_count": 224,
     "metadata": {},
     "output_type": "execute_result"
    }
   ],
   "source": [
    "db.groupby(['magType','mag']).size()"
   ]
  },
  {
   "cell_type": "markdown",
   "id": "61b4161f",
   "metadata": {},
   "source": [
    "'mb' stands for body wave magnitude and is calculated using the amplitude of the earthquake's P-waves and S-waves.\n",
    "\n",
    "'mwc' stands for moment magnitude (Mw) from complete waveform modeling, which is a type of magnitude scale that takes into account the total energy released by an earthquake.\n",
    "\n",
    "'mwb' stands for surface wave magnitude and is calculated using the amplitude of the earthquake's surface waves.\n",
    "\n",
    "'ms' stands for surface wave magnitude and is calculated using the amplitude of the earthquake's surface waves at a period of approximately 20 seconds.\n",
    "\n",
    "'mw' stands for moment magnitude, which is a type of magnitude scale that takes into account the seismic moment (i.e., the total energy released by an earthquake) and is considered to be a more accurate measure of an earthquake's size than other magnitude types."
   ]
  },
  {
   "cell_type": "code",
   "execution_count": 225,
   "id": "ea1b98b2",
   "metadata": {},
   "outputs": [
    {
     "data": {
      "text/plain": [
       "1      2021-05-16T22:07:22.008Z\n",
       "2      2020-11-07T10:09:22.561Z\n",
       "3      2020-07-16T02:10:29.094Z\n",
       "4      2020-06-15T07:27:35.084Z\n",
       "5      2020-06-14T14:43:08.390Z\n",
       "                 ...           \n",
       "190    1982-07-18T15:46:17.240Z\n",
       "194    1975-09-19T16:49:52.200Z\n",
       "195    1970-03-23T01:53:04.200Z\n",
       "197    1956-07-21T15:32:30.090Z\n",
       "198    1940-10-31T10:43:53.190Z\n",
       "Name: time, Length: 184, dtype: object"
      ]
     },
     "execution_count": 225,
     "metadata": {},
     "output_type": "execute_result"
    }
   ],
   "source": [
    "db['time']"
   ]
  },
  {
   "cell_type": "code",
   "execution_count": 226,
   "id": "4b8c806f",
   "metadata": {},
   "outputs": [],
   "source": [
    "db['time']=pd.to_datetime(db['time'])"
   ]
  },
  {
   "cell_type": "markdown",
   "id": "eff296e2",
   "metadata": {},
   "source": [
    "we have converted our time data in datetime format"
   ]
  },
  {
   "cell_type": "code",
   "execution_count": 227,
   "id": "97056a1f",
   "metadata": {},
   "outputs": [
    {
     "data": {
      "text/html": [
       "<div>\n",
       "<style scoped>\n",
       "    .dataframe tbody tr th:only-of-type {\n",
       "        vertical-align: middle;\n",
       "    }\n",
       "\n",
       "    .dataframe tbody tr th {\n",
       "        vertical-align: top;\n",
       "    }\n",
       "\n",
       "    .dataframe thead th {\n",
       "        text-align: right;\n",
       "    }\n",
       "</style>\n",
       "<table border=\"1\" class=\"dataframe\">\n",
       "  <thead>\n",
       "    <tr style=\"text-align: right;\">\n",
       "      <th></th>\n",
       "      <th>time</th>\n",
       "      <th>latitude</th>\n",
       "      <th>longitude</th>\n",
       "      <th>depth</th>\n",
       "      <th>mag</th>\n",
       "      <th>magType</th>\n",
       "      <th>nst</th>\n",
       "      <th>gap</th>\n",
       "      <th>dmin</th>\n",
       "      <th>rms</th>\n",
       "      <th>horizontalError</th>\n",
       "      <th>depthError</th>\n",
       "      <th>magError</th>\n",
       "      <th>magNst</th>\n",
       "    </tr>\n",
       "  </thead>\n",
       "  <tbody>\n",
       "    <tr>\n",
       "      <th>1</th>\n",
       "      <td>2021-05-16 22:07:22.008000+00:00</td>\n",
       "      <td>20.6607</td>\n",
       "      <td>71.4793</td>\n",
       "      <td>10.0</td>\n",
       "      <td>4.1</td>\n",
       "      <td>mb</td>\n",
       "      <td>40.56962</td>\n",
       "      <td>73.0</td>\n",
       "      <td>13.037</td>\n",
       "      <td>0.99</td>\n",
       "      <td>6.9</td>\n",
       "      <td>1.9</td>\n",
       "      <td>0.114</td>\n",
       "      <td>21.0</td>\n",
       "    </tr>\n",
       "    <tr>\n",
       "      <th>2</th>\n",
       "      <td>2020-11-07 10:09:22.561000+00:00</td>\n",
       "      <td>21.5017</td>\n",
       "      <td>73.2190</td>\n",
       "      <td>10.0</td>\n",
       "      <td>3.9</td>\n",
       "      <td>mb</td>\n",
       "      <td>40.56962</td>\n",
       "      <td>262.0</td>\n",
       "      <td>12.103</td>\n",
       "      <td>0.55</td>\n",
       "      <td>10.3</td>\n",
       "      <td>2.0</td>\n",
       "      <td>0.170</td>\n",
       "      <td>9.0</td>\n",
       "    </tr>\n",
       "    <tr>\n",
       "      <th>3</th>\n",
       "      <td>2020-07-16 02:10:29.094000+00:00</td>\n",
       "      <td>22.2558</td>\n",
       "      <td>70.9928</td>\n",
       "      <td>10.0</td>\n",
       "      <td>4.1</td>\n",
       "      <td>mb</td>\n",
       "      <td>40.56962</td>\n",
       "      <td>112.0</td>\n",
       "      <td>11.529</td>\n",
       "      <td>0.54</td>\n",
       "      <td>13.7</td>\n",
       "      <td>2.0</td>\n",
       "      <td>0.151</td>\n",
       "      <td>12.0</td>\n",
       "    </tr>\n",
       "    <tr>\n",
       "      <th>4</th>\n",
       "      <td>2020-06-15 07:27:35.084000+00:00</td>\n",
       "      <td>22.9861</td>\n",
       "      <td>70.2272</td>\n",
       "      <td>10.0</td>\n",
       "      <td>3.8</td>\n",
       "      <td>mb</td>\n",
       "      <td>40.56962</td>\n",
       "      <td>193.0</td>\n",
       "      <td>11.560</td>\n",
       "      <td>0.96</td>\n",
       "      <td>15.7</td>\n",
       "      <td>2.0</td>\n",
       "      <td>0.136</td>\n",
       "      <td>14.0</td>\n",
       "    </tr>\n",
       "    <tr>\n",
       "      <th>5</th>\n",
       "      <td>2020-06-14 14:43:08.390000+00:00</td>\n",
       "      <td>23.3821</td>\n",
       "      <td>70.3548</td>\n",
       "      <td>10.0</td>\n",
       "      <td>5.1</td>\n",
       "      <td>mb</td>\n",
       "      <td>40.56962</td>\n",
       "      <td>40.0</td>\n",
       "      <td>11.178</td>\n",
       "      <td>0.74</td>\n",
       "      <td>8.9</td>\n",
       "      <td>1.8</td>\n",
       "      <td>0.036</td>\n",
       "      <td>255.0</td>\n",
       "    </tr>\n",
       "  </tbody>\n",
       "</table>\n",
       "</div>"
      ],
      "text/plain": [
       "                              time  latitude  longitude  depth  mag magType  \\\n",
       "1 2021-05-16 22:07:22.008000+00:00   20.6607    71.4793   10.0  4.1      mb   \n",
       "2 2020-11-07 10:09:22.561000+00:00   21.5017    73.2190   10.0  3.9      mb   \n",
       "3 2020-07-16 02:10:29.094000+00:00   22.2558    70.9928   10.0  4.1      mb   \n",
       "4 2020-06-15 07:27:35.084000+00:00   22.9861    70.2272   10.0  3.8      mb   \n",
       "5 2020-06-14 14:43:08.390000+00:00   23.3821    70.3548   10.0  5.1      mb   \n",
       "\n",
       "        nst    gap    dmin   rms  horizontalError  depthError  magError  \\\n",
       "1  40.56962   73.0  13.037  0.99              6.9         1.9     0.114   \n",
       "2  40.56962  262.0  12.103  0.55             10.3         2.0     0.170   \n",
       "3  40.56962  112.0  11.529  0.54             13.7         2.0     0.151   \n",
       "4  40.56962  193.0  11.560  0.96             15.7         2.0     0.136   \n",
       "5  40.56962   40.0  11.178  0.74              8.9         1.8     0.036   \n",
       "\n",
       "   magNst  \n",
       "1    21.0  \n",
       "2     9.0  \n",
       "3    12.0  \n",
       "4    14.0  \n",
       "5   255.0  "
      ]
     },
     "execution_count": 227,
     "metadata": {},
     "output_type": "execute_result"
    }
   ],
   "source": [
    "db.head()"
   ]
  },
  {
   "cell_type": "markdown",
   "id": "86cdfe2f",
   "metadata": {},
   "source": [
    "Now lets extract date,year,month,day and hour from our data"
   ]
  },
  {
   "cell_type": "code",
   "execution_count": 228,
   "id": "41178ff1",
   "metadata": {},
   "outputs": [],
   "source": [
    "db['year']=db['time'].dt.year\n",
    "db['month']=db['time'].dt.month\n",
    "db['day']=db['time'].dt.day\n",
    "db['hour']=db['time'].dt.hour\n",
    "db['min']=db['time'].dt.minute"
   ]
  },
  {
   "cell_type": "code",
   "execution_count": 229,
   "id": "6701c83c",
   "metadata": {},
   "outputs": [],
   "source": [
    "db.drop(columns='time',inplace=True)"
   ]
  },
  {
   "cell_type": "code",
   "execution_count": 230,
   "id": "c2e51a50",
   "metadata": {},
   "outputs": [
    {
     "data": {
      "text/html": [
       "<div>\n",
       "<style scoped>\n",
       "    .dataframe tbody tr th:only-of-type {\n",
       "        vertical-align: middle;\n",
       "    }\n",
       "\n",
       "    .dataframe tbody tr th {\n",
       "        vertical-align: top;\n",
       "    }\n",
       "\n",
       "    .dataframe thead th {\n",
       "        text-align: right;\n",
       "    }\n",
       "</style>\n",
       "<table border=\"1\" class=\"dataframe\">\n",
       "  <thead>\n",
       "    <tr style=\"text-align: right;\">\n",
       "      <th></th>\n",
       "      <th>latitude</th>\n",
       "      <th>longitude</th>\n",
       "      <th>depth</th>\n",
       "      <th>mag</th>\n",
       "      <th>magType</th>\n",
       "      <th>nst</th>\n",
       "      <th>gap</th>\n",
       "      <th>dmin</th>\n",
       "      <th>rms</th>\n",
       "      <th>horizontalError</th>\n",
       "      <th>depthError</th>\n",
       "      <th>magError</th>\n",
       "      <th>magNst</th>\n",
       "      <th>year</th>\n",
       "      <th>month</th>\n",
       "      <th>day</th>\n",
       "      <th>hour</th>\n",
       "      <th>min</th>\n",
       "    </tr>\n",
       "  </thead>\n",
       "  <tbody>\n",
       "    <tr>\n",
       "      <th>1</th>\n",
       "      <td>20.6607</td>\n",
       "      <td>71.4793</td>\n",
       "      <td>10.0</td>\n",
       "      <td>4.1</td>\n",
       "      <td>mb</td>\n",
       "      <td>40.56962</td>\n",
       "      <td>73.0</td>\n",
       "      <td>13.037</td>\n",
       "      <td>0.99</td>\n",
       "      <td>6.9</td>\n",
       "      <td>1.9</td>\n",
       "      <td>0.114</td>\n",
       "      <td>21.0</td>\n",
       "      <td>2021</td>\n",
       "      <td>5</td>\n",
       "      <td>16</td>\n",
       "      <td>22</td>\n",
       "      <td>7</td>\n",
       "    </tr>\n",
       "    <tr>\n",
       "      <th>2</th>\n",
       "      <td>21.5017</td>\n",
       "      <td>73.2190</td>\n",
       "      <td>10.0</td>\n",
       "      <td>3.9</td>\n",
       "      <td>mb</td>\n",
       "      <td>40.56962</td>\n",
       "      <td>262.0</td>\n",
       "      <td>12.103</td>\n",
       "      <td>0.55</td>\n",
       "      <td>10.3</td>\n",
       "      <td>2.0</td>\n",
       "      <td>0.170</td>\n",
       "      <td>9.0</td>\n",
       "      <td>2020</td>\n",
       "      <td>11</td>\n",
       "      <td>7</td>\n",
       "      <td>10</td>\n",
       "      <td>9</td>\n",
       "    </tr>\n",
       "    <tr>\n",
       "      <th>3</th>\n",
       "      <td>22.2558</td>\n",
       "      <td>70.9928</td>\n",
       "      <td>10.0</td>\n",
       "      <td>4.1</td>\n",
       "      <td>mb</td>\n",
       "      <td>40.56962</td>\n",
       "      <td>112.0</td>\n",
       "      <td>11.529</td>\n",
       "      <td>0.54</td>\n",
       "      <td>13.7</td>\n",
       "      <td>2.0</td>\n",
       "      <td>0.151</td>\n",
       "      <td>12.0</td>\n",
       "      <td>2020</td>\n",
       "      <td>7</td>\n",
       "      <td>16</td>\n",
       "      <td>2</td>\n",
       "      <td>10</td>\n",
       "    </tr>\n",
       "    <tr>\n",
       "      <th>4</th>\n",
       "      <td>22.9861</td>\n",
       "      <td>70.2272</td>\n",
       "      <td>10.0</td>\n",
       "      <td>3.8</td>\n",
       "      <td>mb</td>\n",
       "      <td>40.56962</td>\n",
       "      <td>193.0</td>\n",
       "      <td>11.560</td>\n",
       "      <td>0.96</td>\n",
       "      <td>15.7</td>\n",
       "      <td>2.0</td>\n",
       "      <td>0.136</td>\n",
       "      <td>14.0</td>\n",
       "      <td>2020</td>\n",
       "      <td>6</td>\n",
       "      <td>15</td>\n",
       "      <td>7</td>\n",
       "      <td>27</td>\n",
       "    </tr>\n",
       "    <tr>\n",
       "      <th>5</th>\n",
       "      <td>23.3821</td>\n",
       "      <td>70.3548</td>\n",
       "      <td>10.0</td>\n",
       "      <td>5.1</td>\n",
       "      <td>mb</td>\n",
       "      <td>40.56962</td>\n",
       "      <td>40.0</td>\n",
       "      <td>11.178</td>\n",
       "      <td>0.74</td>\n",
       "      <td>8.9</td>\n",
       "      <td>1.8</td>\n",
       "      <td>0.036</td>\n",
       "      <td>255.0</td>\n",
       "      <td>2020</td>\n",
       "      <td>6</td>\n",
       "      <td>14</td>\n",
       "      <td>14</td>\n",
       "      <td>43</td>\n",
       "    </tr>\n",
       "  </tbody>\n",
       "</table>\n",
       "</div>"
      ],
      "text/plain": [
       "   latitude  longitude  depth  mag magType       nst    gap    dmin   rms  \\\n",
       "1   20.6607    71.4793   10.0  4.1      mb  40.56962   73.0  13.037  0.99   \n",
       "2   21.5017    73.2190   10.0  3.9      mb  40.56962  262.0  12.103  0.55   \n",
       "3   22.2558    70.9928   10.0  4.1      mb  40.56962  112.0  11.529  0.54   \n",
       "4   22.9861    70.2272   10.0  3.8      mb  40.56962  193.0  11.560  0.96   \n",
       "5   23.3821    70.3548   10.0  5.1      mb  40.56962   40.0  11.178  0.74   \n",
       "\n",
       "   horizontalError  depthError  magError  magNst  year  month  day  hour  min  \n",
       "1              6.9         1.9     0.114    21.0  2021      5   16    22    7  \n",
       "2             10.3         2.0     0.170     9.0  2020     11    7    10    9  \n",
       "3             13.7         2.0     0.151    12.0  2020      7   16     2   10  \n",
       "4             15.7         2.0     0.136    14.0  2020      6   15     7   27  \n",
       "5              8.9         1.8     0.036   255.0  2020      6   14    14   43  "
      ]
     },
     "execution_count": 230,
     "metadata": {},
     "output_type": "execute_result"
    }
   ],
   "source": [
    "db.head()"
   ]
  },
  {
   "cell_type": "markdown",
   "id": "6c92cc9b",
   "metadata": {},
   "source": [
    "Now we have replaced null values extracted value from time columns \n",
    "now lets move to data visualization"
   ]
  },
  {
   "cell_type": "markdown",
   "id": "3dcb76bf",
   "metadata": {},
   "source": [
    "### Data Visualization"
   ]
  },
  {
   "cell_type": "code",
   "execution_count": 231,
   "id": "d901519b",
   "metadata": {},
   "outputs": [],
   "source": [
    "import matplotlib\n",
    "matplotlib.rcParams['figure.figsize']=(12,6)"
   ]
  },
  {
   "cell_type": "code",
   "execution_count": 232,
   "id": "37b06a44",
   "metadata": {},
   "outputs": [],
   "source": [
    "import folium"
   ]
  },
  {
   "cell_type": "code",
   "execution_count": 233,
   "id": "d4cafb5e",
   "metadata": {},
   "outputs": [],
   "source": [
    "#map=folium.Map(location=[db[latitude[0],db[longitude[]]])\n"
   ]
  },
  {
   "cell_type": "code",
   "execution_count": 234,
   "id": "aba8c12a",
   "metadata": {},
   "outputs": [
    {
     "name": "stdout",
     "output_type": "stream",
     "text": [
      "<class 'pandas.core.frame.DataFrame'>\n",
      "Int64Index: 184 entries, 1 to 198\n",
      "Data columns (total 18 columns):\n",
      " #   Column           Non-Null Count  Dtype  \n",
      "---  ------           --------------  -----  \n",
      " 0   latitude         184 non-null    float64\n",
      " 1   longitude        184 non-null    float64\n",
      " 2   depth            184 non-null    float64\n",
      " 3   mag              184 non-null    float64\n",
      " 4   magType          184 non-null    object \n",
      " 5   nst              184 non-null    float64\n",
      " 6   gap              184 non-null    float64\n",
      " 7   dmin             184 non-null    float64\n",
      " 8   rms              184 non-null    float64\n",
      " 9   horizontalError  184 non-null    float64\n",
      " 10  depthError       184 non-null    float64\n",
      " 11  magError         184 non-null    float64\n",
      " 12  magNst           184 non-null    float64\n",
      " 13  year             184 non-null    int64  \n",
      " 14  month            184 non-null    int64  \n",
      " 15  day              184 non-null    int64  \n",
      " 16  hour             184 non-null    int64  \n",
      " 17  min              184 non-null    int64  \n",
      "dtypes: float64(12), int64(5), object(1)\n",
      "memory usage: 27.3+ KB\n"
     ]
    }
   ],
   "source": [
    "db.info()"
   ]
  },
  {
   "cell_type": "code",
   "execution_count": 235,
   "id": "04433f57",
   "metadata": {},
   "outputs": [
    {
     "name": "stdout",
     "output_type": "stream",
     "text": [
      "mb     167\n",
      "mwc      9\n",
      "ms       3\n",
      "mw       3\n",
      "mwb      2\n",
      "Name: magType, dtype: int64\n"
     ]
    },
    {
     "data": {
      "image/png": "[encoded data removed]",
      "text/plain": [
       "<Figure size 864x432 with 1 Axes>"
      ]
     },
     "metadata": {},
     "output_type": "display_data"
    }
   ],
   "source": [
    "magType=db['magType'].value_counts().index\n",
    "freq=db['magType'].value_counts().values\n",
    "\n",
    "plt.pie(x=freq[0:4],labels=magType[0:4],autopct='%1.2f%%')\n",
    "print(db['magType'].value_counts())"
   ]
  },
  {
   "cell_type": "code",
   "execution_count": 236,
   "id": "3694e3b2",
   "metadata": {},
   "outputs": [],
   "source": [
    "year=db['year'].value_counts().index\n",
    "freq=db['year'].value_counts().values"
   ]
  },
  {
   "cell_type": "code",
   "execution_count": 237,
   "id": "f5a9ea84",
   "metadata": {},
   "outputs": [
    {
     "data": {
      "text/plain": [
       "([<matplotlib.patches.Wedge at 0x1d99fb3fd60>,\n",
       "  <matplotlib.patches.Wedge at 0x1d99fb4d460>,\n",
       "  <matplotlib.patches.Wedge at 0x1d99fb4dbb0>,\n",
       "  <matplotlib.patches.Wedge at 0x1d99fb59310>],\n",
       " [Text(-0.9766737031611723, 0.5060716130681927, '2001'),\n",
       "  Text(0.7866203414173456, -0.7689138043164907, '2002'),\n",
       "  Text(1.0089323718932965, -0.4382413364183789, '2006'),\n",
       "  Text(1.0928816988513927, -0.12493835406188866, '2007')],\n",
       " [Text(-0.5327311108151849, 0.2760390616735596, '84.78%'),\n",
       "  Text(0.42906564077309756, -0.4194075296271767, '5.80%'),\n",
       "  Text(0.5503267483054345, -0.2390407289554794, '5.80%'),\n",
       "  Text(0.5961172902825779, -0.06814819312466654, '3.62%')])"
      ]
     },
     "execution_count": 237,
     "metadata": {},
     "output_type": "execute_result"
    },
    {
     "data": {
      "image/png": "[encoded data removed]",
      "text/plain": [
       "<Figure size 864x432 with 1 Axes>"
      ]
     },
     "metadata": {},
     "output_type": "display_data"
    }
   ],
   "source": [
    "plt.pie(x=freq[0:4],labels=year[0:4],autopct='%1.2f%%')"
   ]
  },
  {
   "cell_type": "markdown",
   "id": "4c81040c",
   "metadata": {},
   "source": [
    "Most of the earthquakes happened in year 2001"
   ]
  },
  {
   "cell_type": "code",
   "execution_count": 238,
   "id": "01a932e1",
   "metadata": {},
   "outputs": [
    {
     "data": {
      "text/plain": [
       "([<matplotlib.patches.Wedge at 0x1d99f9dc250>,\n",
       "  <matplotlib.patches.Wedge at 0x1d99f9dc9a0>,\n",
       "  <matplotlib.patches.Wedge at 0x1d99f9eb100>,\n",
       "  <matplotlib.patches.Wedge at 0x1d99f9eb820>],\n",
       " [Text(0.33991867422268784, 1.0461621742897658, '26'),\n",
       "  Text(-1.0928299049345258, -0.1253905852956893, '28'),\n",
       "  Text(-0.15654627576372762, -1.0888035927312636, '1'),\n",
       "  Text(0.9253789316708984, -0.5947048283136996, '31')],\n",
       " [Text(0.1854101859396479, 0.5706339132489631, '40.00%'),\n",
       "  Text(-0.5960890390551958, -0.06839486470673961, '23.64%'),\n",
       "  Text(-0.08538887768930598, -0.5938928687625074, '18.18%'),\n",
       "  Text(0.5047521445477626, -0.3243844518074725, '18.18%')])"
      ]
     },
     "execution_count": 238,
     "metadata": {},
     "output_type": "execute_result"
    },
    {
     "data": {
      "image/png": "[encoded data removed]",
      "text/plain": [
       "<Figure size 864x432 with 1 Axes>"
      ]
     },
     "metadata": {},
     "output_type": "display_data"
    }
   ],
   "source": [
    "day=db['day'].value_counts().index\n",
    "freq=db['day'].value_counts().values\n",
    "\n",
    "plt.pie(x=freq[0:4],labels=day[0:4],autopct='%1.2f%%')"
   ]
  },
  {
   "cell_type": "code",
   "execution_count": 239,
   "id": "b96a7cbb",
   "metadata": {},
   "outputs": [
    {
     "data": {
      "text/plain": [
       "26    22\n",
       "28    13\n",
       "1     10\n",
       "31    10\n",
       "19     8\n",
       "11     8\n",
       "8      8\n",
       "9      7\n",
       "4      7\n",
       "29     7\n",
       "6      6\n",
       "13     6\n",
       "5      6\n",
       "17     6\n",
       "3      6\n",
       "24     5\n",
       "27     5\n",
       "7      5\n",
       "21     5\n",
       "15     5\n",
       "20     4\n",
       "18     4\n",
       "14     4\n",
       "30     4\n",
       "10     3\n",
       "16     3\n",
       "2      2\n",
       "12     2\n",
       "23     2\n",
       "22     1\n",
       "Name: day, dtype: int64"
      ]
     },
     "execution_count": 239,
     "metadata": {},
     "output_type": "execute_result"
    }
   ],
   "source": [
    "db['day'].value_counts()"
   ]
  },
  {
   "cell_type": "code",
   "execution_count": 240,
   "id": "16f495a7",
   "metadata": {},
   "outputs": [
    {
     "name": "stdout",
     "output_type": "stream",
     "text": [
      "1     50\n",
      "2     34\n",
      "3     20\n",
      "8     15\n",
      "4     14\n",
      "7     11\n",
      "6      8\n",
      "10     8\n",
      "5      7\n",
      "11     6\n",
      "12     6\n",
      "9      5\n",
      "Name: month, dtype: int64\n"
     ]
    },
    {
     "data": {
      "image/png": "[encoded data removed]",
      "text/plain": [
       "<Figure size 864x432 with 1 Axes>"
      ]
     },
     "metadata": {},
     "output_type": "display_data"
    }
   ],
   "source": [
    "month=db['month'].value_counts().index\n",
    "freq=db['month'].value_counts().values\n",
    "\n",
    "plt.pie(x=freq[0:4],labels=month[0:4],autopct='%1.2f%%')\n",
    "print(db['month'].value_counts())"
   ]
  },
  {
   "cell_type": "code",
   "execution_count": 241,
   "id": "0bdadb8a",
   "metadata": {},
   "outputs": [
    {
     "name": "stderr",
     "output_type": "stream",
     "text": [
      "C:\\Users\\Manshi\\anaconda3\\lib\\site-packages\\seaborn\\_decorators.py:36: FutureWarning: Pass the following variable as a keyword arg: x. From version 0.12, the only valid positional argument will be `data`, and passing other arguments without an explicit keyword will result in an error or misinterpretation.\n",
      "  warnings.warn(\n"
     ]
    },
    {
     "data": {
      "text/plain": [
       "<AxesSubplot:xlabel='mag', ylabel='count'>"
      ]
     },
     "execution_count": 241,
     "metadata": {},
     "output_type": "execute_result"
    },
    {
     "data": {
      "image/png": "[encoded data removed]",
      "text/plain": [
       "<Figure size 864x432 with 1 Axes>"
      ]
     },
     "metadata": {
      "needs_background": "light"
     },
     "output_type": "display_data"
    }
   ],
   "source": [
    "sns.countplot(db['mag'])"
   ]
  },
  {
   "cell_type": "code",
   "execution_count": 242,
   "id": "b17a75b3",
   "metadata": {},
   "outputs": [
    {
     "name": "stderr",
     "output_type": "stream",
     "text": [
      "C:\\Users\\Manshi\\anaconda3\\lib\\site-packages\\seaborn\\_decorators.py:36: FutureWarning: Pass the following variable as a keyword arg: x. From version 0.12, the only valid positional argument will be `data`, and passing other arguments without an explicit keyword will result in an error or misinterpretation.\n",
      "  warnings.warn(\n"
     ]
    },
    {
     "data": {
      "text/plain": [
       "<AxesSubplot:xlabel='latitude', ylabel='count'>"
      ]
     },
     "execution_count": 242,
     "metadata": {},
     "output_type": "execute_result"
    },
    {
     "data": {
      "image/png": "[encoded data removed]",
      "text/plain": [
       "<Figure size 864x432 with 1 Axes>"
      ]
     },
     "metadata": {
      "needs_background": "light"
     },
     "output_type": "display_data"
    }
   ],
   "source": [
    "sns.countplot(db['latitude'])"
   ]
  },
  {
   "cell_type": "markdown",
   "id": "95253fed",
   "metadata": {},
   "source": [
    "it can be seen almost all values of latitude occur single time except few which occur 2 or 3 times.\n",
    "\n",
    "repeating latittude represents earthquake reoccuring same place"
   ]
  },
  {
   "cell_type": "code",
   "execution_count": 243,
   "id": "487da7cd",
   "metadata": {},
   "outputs": [
    {
     "name": "stderr",
     "output_type": "stream",
     "text": [
      "C:\\Users\\Manshi\\anaconda3\\lib\\site-packages\\seaborn\\_decorators.py:36: FutureWarning: Pass the following variable as a keyword arg: x. From version 0.12, the only valid positional argument will be `data`, and passing other arguments without an explicit keyword will result in an error or misinterpretation.\n",
      "  warnings.warn(\n"
     ]
    },
    {
     "data": {
      "text/plain": [
       "<AxesSubplot:xlabel='longitude', ylabel='count'>"
      ]
     },
     "execution_count": 243,
     "metadata": {},
     "output_type": "execute_result"
    },
    {
     "data": {
      "image/png": "[encoded data removed]",
      "text/plain": [
       "<Figure size 864x432 with 1 Axes>"
      ]
     },
     "metadata": {
      "needs_background": "light"
     },
     "output_type": "display_data"
    }
   ],
   "source": [
    "sns.countplot(db['longitude'])"
   ]
  },
  {
   "cell_type": "code",
   "execution_count": 244,
   "id": "6fc6533e",
   "metadata": {},
   "outputs": [
    {
     "name": "stderr",
     "output_type": "stream",
     "text": [
      "C:\\Users\\Manshi\\anaconda3\\lib\\site-packages\\seaborn\\_decorators.py:36: FutureWarning: Pass the following variable as a keyword arg: x. From version 0.12, the only valid positional argument will be `data`, and passing other arguments without an explicit keyword will result in an error or misinterpretation.\n",
      "  warnings.warn(\n"
     ]
    },
    {
     "data": {
      "text/plain": [
       "<AxesSubplot:xlabel='depth', ylabel='count'>"
      ]
     },
     "execution_count": 244,
     "metadata": {},
     "output_type": "execute_result"
    },
    {
     "data": {
      "image/png": "[encoded data removed]",
      "text/plain": [
       "<Figure size 864x432 with 1 Axes>"
      ]
     },
     "metadata": {
      "needs_background": "light"
     },
     "output_type": "display_data"
    }
   ],
   "source": [
    "sns.countplot(db['depth'])"
   ]
  },
  {
   "cell_type": "code",
   "execution_count": 245,
   "id": "1308266a",
   "metadata": {},
   "outputs": [
    {
     "name": "stderr",
     "output_type": "stream",
     "text": [
      "C:\\Users\\Manshi\\anaconda3\\lib\\site-packages\\seaborn\\_decorators.py:36: FutureWarning: Pass the following variable as a keyword arg: x. From version 0.12, the only valid positional argument will be `data`, and passing other arguments without an explicit keyword will result in an error or misinterpretation.\n",
      "  warnings.warn(\n"
     ]
    },
    {
     "data": {
      "text/plain": [
       "<AxesSubplot:xlabel='magType', ylabel='count'>"
      ]
     },
     "execution_count": 245,
     "metadata": {},
     "output_type": "execute_result"
    },
    {
     "data": {
      "image/png": "[encoded data removed]",
      "text/plain": [
       "<Figure size 864x432 with 1 Axes>"
      ]
     },
     "metadata": {
      "needs_background": "light"
     },
     "output_type": "display_data"
    }
   ],
   "source": [
    "sns.countplot(db['magType'])"
   ]
  },
  {
   "cell_type": "code",
   "execution_count": 246,
   "id": "94b0b47a",
   "metadata": {},
   "outputs": [
    {
     "name": "stderr",
     "output_type": "stream",
     "text": [
      "C:\\Users\\Manshi\\anaconda3\\lib\\site-packages\\seaborn\\_decorators.py:36: FutureWarning: Pass the following variable as a keyword arg: x. From version 0.12, the only valid positional argument will be `data`, and passing other arguments without an explicit keyword will result in an error or misinterpretation.\n",
      "  warnings.warn(\n"
     ]
    },
    {
     "data": {
      "text/plain": [
       "<AxesSubplot:xlabel='nst', ylabel='count'>"
      ]
     },
     "execution_count": 246,
     "metadata": {},
     "output_type": "execute_result"
    },
    {
     "data": {
      "image/png": "[encoded data removed]",
      "text/plain": [
       "<Figure size 864x432 with 1 Axes>"
      ]
     },
     "metadata": {
      "needs_background": "light"
     },
     "output_type": "display_data"
    }
   ],
   "source": [
    "sns.countplot(db['nst'])"
   ]
  },
  {
   "cell_type": "code",
   "execution_count": 247,
   "id": "49984f15",
   "metadata": {},
   "outputs": [
    {
     "name": "stderr",
     "output_type": "stream",
     "text": [
      "C:\\Users\\Manshi\\anaconda3\\lib\\site-packages\\seaborn\\_decorators.py:36: FutureWarning: Pass the following variable as a keyword arg: x. From version 0.12, the only valid positional argument will be `data`, and passing other arguments without an explicit keyword will result in an error or misinterpretation.\n",
      "  warnings.warn(\n"
     ]
    },
    {
     "data": {
      "text/plain": [
       "<AxesSubplot:xlabel='gap', ylabel='count'>"
      ]
     },
     "execution_count": 247,
     "metadata": {},
     "output_type": "execute_result"
    },
    {
     "data": {
      "image/png": "[encoded data removed]",
      "text/plain": [
       "<Figure size 864x432 with 1 Axes>"
      ]
     },
     "metadata": {
      "needs_background": "light"
     },
     "output_type": "display_data"
    }
   ],
   "source": [
    "sns.countplot(db['gap'])"
   ]
  },
  {
   "cell_type": "code",
   "execution_count": 248,
   "id": "26e0f8a5",
   "metadata": {},
   "outputs": [
    {
     "name": "stderr",
     "output_type": "stream",
     "text": [
      "C:\\Users\\Manshi\\anaconda3\\lib\\site-packages\\seaborn\\_decorators.py:36: FutureWarning: Pass the following variable as a keyword arg: x. From version 0.12, the only valid positional argument will be `data`, and passing other arguments without an explicit keyword will result in an error or misinterpretation.\n",
      "  warnings.warn(\n"
     ]
    },
    {
     "data": {
      "text/plain": [
       "<AxesSubplot:xlabel='year', ylabel='count'>"
      ]
     },
     "execution_count": 248,
     "metadata": {},
     "output_type": "execute_result"
    },
    {
     "data": {
      "image/png": "[encoded data removed]",
      "text/plain": [
       "<Figure size 864x432 with 1 Axes>"
      ]
     },
     "metadata": {
      "needs_background": "light"
     },
     "output_type": "display_data"
    }
   ],
   "source": [
    "sns.countplot(db['year'])"
   ]
  },
  {
   "cell_type": "code",
   "execution_count": 249,
   "id": "f7c2778b",
   "metadata": {},
   "outputs": [
    {
     "data": {
      "text/plain": [
       "Index(['latitude', 'longitude', 'depth', 'mag', 'magType', 'nst', 'gap',\n",
       "       'dmin', 'rms', 'horizontalError', 'depthError', 'magError', 'magNst',\n",
       "       'year', 'month', 'day', 'hour', 'min'],\n",
       "      dtype='object')"
      ]
     },
     "execution_count": 249,
     "metadata": {},
     "output_type": "execute_result"
    }
   ],
   "source": [
    "db.columns"
   ]
  },
  {
   "cell_type": "code",
   "execution_count": 250,
   "id": "505f6e68",
   "metadata": {},
   "outputs": [
    {
     "name": "stderr",
     "output_type": "stream",
     "text": [
      "C:\\Users\\Manshi\\anaconda3\\lib\\site-packages\\seaborn\\_decorators.py:36: FutureWarning: Pass the following variable as a keyword arg: x. From version 0.12, the only valid positional argument will be `data`, and passing other arguments without an explicit keyword will result in an error or misinterpretation.\n",
      "  warnings.warn(\n"
     ]
    },
    {
     "data": {
      "text/plain": [
       "<AxesSubplot:xlabel='rms', ylabel='count'>"
      ]
     },
     "execution_count": 250,
     "metadata": {},
     "output_type": "execute_result"
    },
    {
     "data": {
      "image/png": "[encoded data removed]",
      "text/plain": [
       "<Figure size 864x432 with 1 Axes>"
      ]
     },
     "metadata": {
      "needs_background": "light"
     },
     "output_type": "display_data"
    }
   ],
   "source": [
    "sns.countplot(db['rms'])"
   ]
  },
  {
   "cell_type": "code",
   "execution_count": 251,
   "id": "ef90ec98",
   "metadata": {},
   "outputs": [
    {
     "name": "stderr",
     "output_type": "stream",
     "text": [
      "C:\\Users\\Manshi\\anaconda3\\lib\\site-packages\\seaborn\\_decorators.py:36: FutureWarning: Pass the following variable as a keyword arg: x. From version 0.12, the only valid positional argument will be `data`, and passing other arguments without an explicit keyword will result in an error or misinterpretation.\n",
      "  warnings.warn(\n"
     ]
    },
    {
     "data": {
      "text/plain": [
       "<AxesSubplot:xlabel='magNst', ylabel='count'>"
      ]
     },
     "execution_count": 251,
     "metadata": {},
     "output_type": "execute_result"
    },
    {
     "data": {
      "image/png": "[encoded data removed]",
      "text/plain": [
       "<Figure size 864x432 with 1 Axes>"
      ]
     },
     "metadata": {
      "needs_background": "light"
     },
     "output_type": "display_data"
    }
   ],
   "source": [
    "sns.countplot(db['magNst'])"
   ]
  },
  {
   "cell_type": "code",
   "execution_count": 252,
   "id": "b640d740",
   "metadata": {},
   "outputs": [
    {
     "name": "stderr",
     "output_type": "stream",
     "text": [
      "C:\\Users\\Manshi\\anaconda3\\lib\\site-packages\\seaborn\\distributions.py:2619: FutureWarning: `distplot` is a deprecated function and will be removed in a future version. Please adapt your code to use either `displot` (a figure-level function with similar flexibility) or `histplot` (an axes-level function for histograms).\n",
      "  warnings.warn(msg, FutureWarning)\n",
      "C:\\Users\\Manshi\\anaconda3\\lib\\site-packages\\seaborn\\_decorators.py:36: FutureWarning: Pass the following variable as a keyword arg: x. From version 0.12, the only valid positional argument will be `data`, and passing other arguments without an explicit keyword will result in an error or misinterpretation.\n",
      "  warnings.warn(\n"
     ]
    },
    {
     "data": {
      "image/png": "[encoded data removed]",
      "text/plain": [
       "<Figure size 864x432 with 3 Axes>"
      ]
     },
     "metadata": {
      "needs_background": "light"
     },
     "output_type": "display_data"
    }
   ],
   "source": [
    "fig, axs = plt.subplots(nrows=3)\n",
    "sns.histplot(db['latitude'], ax=axs[0]);\n",
    "sns.distplot(db['latitude'], ax=axs[1])\n",
    "sns.boxplot(db['latitude'], ax=axs[2]);"
   ]
  },
  {
   "cell_type": "code",
   "execution_count": 253,
   "id": "ade9d311",
   "metadata": {},
   "outputs": [
    {
     "name": "stderr",
     "output_type": "stream",
     "text": [
      "C:\\Users\\Manshi\\anaconda3\\lib\\site-packages\\seaborn\\distributions.py:2619: FutureWarning: `distplot` is a deprecated function and will be removed in a future version. Please adapt your code to use either `displot` (a figure-level function with similar flexibility) or `histplot` (an axes-level function for histograms).\n",
      "  warnings.warn(msg, FutureWarning)\n",
      "C:\\Users\\Manshi\\anaconda3\\lib\\site-packages\\seaborn\\_decorators.py:36: FutureWarning: Pass the following variable as a keyword arg: x. From version 0.12, the only valid positional argument will be `data`, and passing other arguments without an explicit keyword will result in an error or misinterpretation.\n",
      "  warnings.warn(\n"
     ]
    },
    {
     "data": {
      "image/png": "[encoded data removed]",
      "text/plain": [
       "<Figure size 864x432 with 3 Axes>"
      ]
     },
     "metadata": {
      "needs_background": "light"
     },
     "output_type": "display_data"
    }
   ],
   "source": [
    "fig, axs = plt.subplots(nrows=3)\n",
    "sns.histplot(db['longitude'], ax=axs[0]);\n",
    "sns.distplot(db['longitude'], ax=axs[1])\n",
    "sns.boxplot(db['longitude'], ax=axs[2]);"
   ]
  },
  {
   "cell_type": "code",
   "execution_count": 254,
   "id": "55002eed",
   "metadata": {},
   "outputs": [
    {
     "data": {
      "text/plain": [
       "Index(['latitude', 'longitude', 'depth', 'mag', 'magType', 'nst', 'gap',\n",
       "       'dmin', 'rms', 'horizontalError', 'depthError', 'magError', 'magNst',\n",
       "       'year', 'month', 'day', 'hour', 'min'],\n",
       "      dtype='object')"
      ]
     },
     "execution_count": 254,
     "metadata": {},
     "output_type": "execute_result"
    }
   ],
   "source": [
    "db.columns"
   ]
  },
  {
   "cell_type": "code",
   "execution_count": 255,
   "id": "9d109234",
   "metadata": {},
   "outputs": [
    {
     "name": "stderr",
     "output_type": "stream",
     "text": [
      "C:\\Users\\Manshi\\anaconda3\\lib\\site-packages\\seaborn\\distributions.py:2619: FutureWarning: `distplot` is a deprecated function and will be removed in a future version. Please adapt your code to use either `displot` (a figure-level function with similar flexibility) or `histplot` (an axes-level function for histograms).\n",
      "  warnings.warn(msg, FutureWarning)\n",
      "C:\\Users\\Manshi\\anaconda3\\lib\\site-packages\\seaborn\\_decorators.py:36: FutureWarning: Pass the following variable as a keyword arg: x. From version 0.12, the only valid positional argument will be `data`, and passing other arguments without an explicit keyword will result in an error or misinterpretation.\n",
      "  warnings.warn(\n"
     ]
    },
    {
     "data": {
      "image/png": "[encoded data removed]",
      "text/plain": [
       "<Figure size 864x432 with 3 Axes>"
      ]
     },
     "metadata": {
      "needs_background": "light"
     },
     "output_type": "display_data"
    }
   ],
   "source": [
    "fig, axs = plt.subplots(nrows=3)\n",
    "sns.histplot(db['depth'], ax=axs[0]);\n",
    "sns.distplot(db['depth'], ax=axs[1])\n",
    "sns.boxplot(db['depth'], ax=axs[2]);"
   ]
  },
  {
   "cell_type": "code",
   "execution_count": 256,
   "id": "c0d94078",
   "metadata": {},
   "outputs": [
    {
     "name": "stderr",
     "output_type": "stream",
     "text": [
      "C:\\Users\\Manshi\\anaconda3\\lib\\site-packages\\seaborn\\distributions.py:2619: FutureWarning: `distplot` is a deprecated function and will be removed in a future version. Please adapt your code to use either `displot` (a figure-level function with similar flexibility) or `histplot` (an axes-level function for histograms).\n",
      "  warnings.warn(msg, FutureWarning)\n",
      "C:\\Users\\Manshi\\anaconda3\\lib\\site-packages\\seaborn\\_decorators.py:36: FutureWarning: Pass the following variable as a keyword arg: x. From version 0.12, the only valid positional argument will be `data`, and passing other arguments without an explicit keyword will result in an error or misinterpretation.\n",
      "  warnings.warn(\n"
     ]
    },
    {
     "data": {
      "image/png": "[encoded data removed]",
      "text/plain": [
       "<Figure size 864x432 with 3 Axes>"
      ]
     },
     "metadata": {
      "needs_background": "light"
     },
     "output_type": "display_data"
    }
   ],
   "source": [
    "fig, axs = plt.subplots(nrows=3)\n",
    "sns.histplot(db['mag'], ax=axs[0]);\n",
    "sns.distplot(db['mag'], ax=axs[1])\n",
    "sns.boxplot(db['mag'], ax=axs[2]);"
   ]
  },
  {
   "cell_type": "code",
   "execution_count": 257,
   "id": "a2158023",
   "metadata": {},
   "outputs": [
    {
     "name": "stderr",
     "output_type": "stream",
     "text": [
      "C:\\Users\\Manshi\\anaconda3\\lib\\site-packages\\seaborn\\distributions.py:2619: FutureWarning: `distplot` is a deprecated function and will be removed in a future version. Please adapt your code to use either `displot` (a figure-level function with similar flexibility) or `histplot` (an axes-level function for histograms).\n",
      "  warnings.warn(msg, FutureWarning)\n",
      "C:\\Users\\Manshi\\anaconda3\\lib\\site-packages\\seaborn\\_decorators.py:36: FutureWarning: Pass the following variable as a keyword arg: x. From version 0.12, the only valid positional argument will be `data`, and passing other arguments without an explicit keyword will result in an error or misinterpretation.\n",
      "  warnings.warn(\n"
     ]
    },
    {
     "data": {
      "image/png": "[encoded data removed]",
      "text/plain": [
       "<Figure size 864x432 with 3 Axes>"
      ]
     },
     "metadata": {
      "needs_background": "light"
     },
     "output_type": "display_data"
    }
   ],
   "source": [
    "fig, axs = plt.subplots(nrows=3)\n",
    "sns.histplot(db['nst'], ax=axs[0]);\n",
    "sns.distplot(db['nst'], ax=axs[1])\n",
    "sns.boxplot(db['nst'], ax=axs[2]);"
   ]
  },
  {
   "cell_type": "code",
   "execution_count": 258,
   "id": "6de16b19",
   "metadata": {},
   "outputs": [
    {
     "name": "stderr",
     "output_type": "stream",
     "text": [
      "C:\\Users\\Manshi\\anaconda3\\lib\\site-packages\\seaborn\\distributions.py:2619: FutureWarning: `distplot` is a deprecated function and will be removed in a future version. Please adapt your code to use either `displot` (a figure-level function with similar flexibility) or `histplot` (an axes-level function for histograms).\n",
      "  warnings.warn(msg, FutureWarning)\n",
      "C:\\Users\\Manshi\\anaconda3\\lib\\site-packages\\seaborn\\_decorators.py:36: FutureWarning: Pass the following variable as a keyword arg: x. From version 0.12, the only valid positional argument will be `data`, and passing other arguments without an explicit keyword will result in an error or misinterpretation.\n",
      "  warnings.warn(\n"
     ]
    },
    {
     "data": {
      "image/png": "[encoded data removed]",
      "text/plain": [
       "<Figure size 864x432 with 3 Axes>"
      ]
     },
     "metadata": {
      "needs_background": "light"
     },
     "output_type": "display_data"
    }
   ],
   "source": [
    "fig, axs = plt.subplots(nrows=3)\n",
    "sns.histplot(db['gap'], ax=axs[0]);\n",
    "sns.distplot(db['gap'], ax=axs[1])\n",
    "sns.boxplot(db['gap'], ax=axs[2]);"
   ]
  },
  {
   "cell_type": "code",
   "execution_count": 259,
   "id": "4451f0c0",
   "metadata": {},
   "outputs": [
    {
     "name": "stderr",
     "output_type": "stream",
     "text": [
      "C:\\Users\\Manshi\\anaconda3\\lib\\site-packages\\seaborn\\distributions.py:2619: FutureWarning: `distplot` is a deprecated function and will be removed in a future version. Please adapt your code to use either `displot` (a figure-level function with similar flexibility) or `histplot` (an axes-level function for histograms).\n",
      "  warnings.warn(msg, FutureWarning)\n",
      "C:\\Users\\Manshi\\anaconda3\\lib\\site-packages\\seaborn\\_decorators.py:36: FutureWarning: Pass the following variable as a keyword arg: x. From version 0.12, the only valid positional argument will be `data`, and passing other arguments without an explicit keyword will result in an error or misinterpretation.\n",
      "  warnings.warn(\n"
     ]
    },
    {
     "data": {
      "image/png": "[encoded data removed]",
      "text/plain": [
       "<Figure size 864x432 with 3 Axes>"
      ]
     },
     "metadata": {
      "needs_background": "light"
     },
     "output_type": "display_data"
    }
   ],
   "source": [
    "\n",
    "fig, axs = plt.subplots(nrows=3)\n",
    "sns.histplot(db['dmin'], ax=axs[0]);\n",
    "sns.distplot(db['dmin'], ax=axs[1])\n",
    "sns.boxplot(db['dmin'], ax=axs[2]);"
   ]
  },
  {
   "cell_type": "markdown",
   "id": "8b463b0f",
   "metadata": {},
   "source": [
    "### Now lets do bivariate analysis\n",
    "\n",
    "using scatterplot"
   ]
  },
  {
   "cell_type": "code",
   "execution_count": 260,
   "id": "b64ad723",
   "metadata": {},
   "outputs": [
    {
     "data": {
      "text/plain": [
       "<matplotlib.collections.PathCollection at 0x1d9a3108f40>"
      ]
     },
     "execution_count": 260,
     "metadata": {},
     "output_type": "execute_result"
    },
    {
     "data": {
      "image/png": "[encoded data removed]",
      "text/plain": [
       "<Figure size 864x432 with 1 Axes>"
      ]
     },
     "metadata": {
      "needs_background": "light"
     },
     "output_type": "display_data"
    }
   ],
   "source": [
    "plt.scatter(x='year',y='mag',data=db)"
   ]
  },
  {
   "cell_type": "markdown",
   "id": "c2069130",
   "metadata": {},
   "source": [
    "observation:\n",
    "it can be seen their are more data points after 1990 possible reason for which may be:\n",
    "\n",
    "1. Data collection technique,instrument for earthquake got serious and efficient\n",
    "\n",
    "2. In year 2001 their are more no of earthquake that occured\n"
   ]
  },
  {
   "cell_type": "code",
   "execution_count": 261,
   "id": "0d5e945b",
   "metadata": {},
   "outputs": [
    {
     "data": {
      "text/plain": [
       "<matplotlib.collections.PathCollection at 0x1d9a322a880>"
      ]
     },
     "execution_count": 261,
     "metadata": {},
     "output_type": "execute_result"
    },
    {
     "data": {
      "image/png": "[encoded data removed]",
      "text/plain": [
       "<Figure size 864x432 with 1 Axes>"
      ]
     },
     "metadata": {
      "needs_background": "light"
     },
     "output_type": "display_data"
    }
   ],
   "source": [
    "plt.scatter(x='month',y='mag',data=db)"
   ]
  },
  {
   "cell_type": "markdown",
   "id": "5dbd73fb",
   "metadata": {},
   "source": [
    "month and magnitude distribution is almost same representing not much impact of month "
   ]
  },
  {
   "cell_type": "code",
   "execution_count": 262,
   "id": "be083b0f",
   "metadata": {},
   "outputs": [
    {
     "data": {
      "text/plain": [
       "<matplotlib.collections.PathCollection at 0x1d9a33d1c10>"
      ]
     },
     "execution_count": 262,
     "metadata": {},
     "output_type": "execute_result"
    },
    {
     "data": {
      "image/png": "[encoded data removed]",
      "text/plain": [
       "<Figure size 864x432 with 1 Axes>"
      ]
     },
     "metadata": {
      "needs_background": "light"
     },
     "output_type": "display_data"
    }
   ],
   "source": [
    "plt.scatter(x='hour',y='mag',data=db)"
   ]
  },
  {
   "cell_type": "code",
   "execution_count": 263,
   "id": "2dad717a",
   "metadata": {},
   "outputs": [
    {
     "data": {
      "text/plain": [
       "<matplotlib.collections.PathCollection at 0x1d9a343d3d0>"
      ]
     },
     "execution_count": 263,
     "metadata": {},
     "output_type": "execute_result"
    },
    {
     "data": {
      "image/png": "[encoded data removed]",
      "text/plain": [
       "<Figure size 864x432 with 1 Axes>"
      ]
     },
     "metadata": {
      "needs_background": "light"
     },
     "output_type": "display_data"
    }
   ],
   "source": [
    "plt.scatter(x='latitude',y='mag',data=db)"
   ]
  },
  {
   "cell_type": "code",
   "execution_count": 264,
   "id": "758d52af",
   "metadata": {},
   "outputs": [
    {
     "data": {
      "text/plain": [
       "<matplotlib.collections.PathCollection at 0x1d9a349aeb0>"
      ]
     },
     "execution_count": 264,
     "metadata": {},
     "output_type": "execute_result"
    },
    {
     "data": {
      "image/png": "[encoded data removed]",
      "text/plain": [
       "<Figure size 864x432 with 1 Axes>"
      ]
     },
     "metadata": {
      "needs_background": "light"
     },
     "output_type": "display_data"
    }
   ],
   "source": [
    "plt.scatter(x='longitude',y='mag',data=db)"
   ]
  },
  {
   "cell_type": "code",
   "execution_count": 265,
   "id": "8cf45d3b",
   "metadata": {},
   "outputs": [
    {
     "data": {
      "text/plain": [
       "<matplotlib.collections.PathCollection at 0x1d9a36265e0>"
      ]
     },
     "execution_count": 265,
     "metadata": {},
     "output_type": "execute_result"
    },
    {
     "data": {
      "image/png": "[encoded data removed]",
      "text/plain": [
       "<Figure size 864x432 with 1 Axes>"
      ]
     },
     "metadata": {
      "needs_background": "light"
     },
     "output_type": "display_data"
    }
   ],
   "source": [
    "plt.scatter(x='depth',y='mag',data=db)"
   ]
  },
  {
   "cell_type": "code",
   "execution_count": 266,
   "id": "65d5659a",
   "metadata": {},
   "outputs": [
    {
     "data": {
      "text/plain": [
       "<matplotlib.collections.PathCollection at 0x1d9a3682fa0>"
      ]
     },
     "execution_count": 266,
     "metadata": {},
     "output_type": "execute_result"
    },
    {
     "data": {
      "image/png": "[encoded data removed]",
      "text/plain": [
       "<Figure size 864x432 with 1 Axes>"
      ]
     },
     "metadata": {
      "needs_background": "light"
     },
     "output_type": "display_data"
    }
   ],
   "source": [
    "plt.scatter(x='magNst',y='mag',data=db)"
   ]
  },
  {
   "cell_type": "code",
   "execution_count": 267,
   "id": "07823a2c",
   "metadata": {},
   "outputs": [
    {
     "data": {
      "text/plain": [
       "Index(['latitude', 'longitude', 'depth', 'mag', 'magType', 'nst', 'gap',\n",
       "       'dmin', 'rms', 'horizontalError', 'depthError', 'magError', 'magNst',\n",
       "       'year', 'month', 'day', 'hour', 'min'],\n",
       "      dtype='object')"
      ]
     },
     "execution_count": 267,
     "metadata": {},
     "output_type": "execute_result"
    }
   ],
   "source": [
    "db.columns"
   ]
  },
  {
   "cell_type": "code",
   "execution_count": 268,
   "id": "6cf914fa",
   "metadata": {},
   "outputs": [
    {
     "data": {
      "text/plain": [
       "<matplotlib.collections.PathCollection at 0x1d9a36f9160>"
      ]
     },
     "execution_count": 268,
     "metadata": {},
     "output_type": "execute_result"
    },
    {
     "data": {
      "image/png": "[encoded data removed]",
      "text/plain": [
       "<Figure size 864x432 with 1 Axes>"
      ]
     },
     "metadata": {
      "needs_background": "light"
     },
     "output_type": "display_data"
    }
   ],
   "source": [
    "plt.scatter(x='gap',y='mag',data=db)"
   ]
  },
  {
   "cell_type": "markdown",
   "id": "90c0fc4c",
   "metadata": {},
   "source": [
    "it can be seen that as gap is increasing the magnitude of earthquake also decreases. the points where we see more number of points in same line is beacuse we replaced the null values with mean"
   ]
  },
  {
   "cell_type": "code",
   "execution_count": 269,
   "id": "b7922bf8",
   "metadata": {},
   "outputs": [
    {
     "data": {
      "text/plain": [
       "<matplotlib.collections.PathCollection at 0x1d9a3752cd0>"
      ]
     },
     "execution_count": 269,
     "metadata": {},
     "output_type": "execute_result"
    },
    {
     "data": {
      "image/png": "[encoded data removed]",
      "text/plain": [
       "<Figure size 864x432 with 1 Axes>"
      ]
     },
     "metadata": {
      "needs_background": "light"
     },
     "output_type": "display_data"
    }
   ],
   "source": [
    "plt.scatter(x='dmin',y='mag',data=db)"
   ]
  },
  {
   "cell_type": "code",
   "execution_count": 270,
   "id": "c1cbad75",
   "metadata": {},
   "outputs": [
    {
     "data": {
      "text/plain": [
       "<matplotlib.collections.PathCollection at 0x1d9a48fc790>"
      ]
     },
     "execution_count": 270,
     "metadata": {},
     "output_type": "execute_result"
    },
    {
     "data": {
      "image/png": "[encoded data removed]",
      "text/plain": [
       "<Figure size 864x432 with 1 Axes>"
      ]
     },
     "metadata": {
      "needs_background": "light"
     },
     "output_type": "display_data"
    }
   ],
   "source": [
    "plt.scatter(x='rms',y='mag',data=db)"
   ]
  },
  {
   "cell_type": "code",
   "execution_count": 271,
   "id": "d1180d79",
   "metadata": {},
   "outputs": [
    {
     "data": {
      "text/plain": [
       "Index(['latitude', 'longitude', 'depth', 'mag', 'magType', 'nst', 'gap',\n",
       "       'dmin', 'rms', 'horizontalError', 'depthError', 'magError', 'magNst',\n",
       "       'year', 'month', 'day', 'hour', 'min'],\n",
       "      dtype='object')"
      ]
     },
     "execution_count": 271,
     "metadata": {},
     "output_type": "execute_result"
    }
   ],
   "source": [
    "db.columns"
   ]
  },
  {
   "cell_type": "code",
   "execution_count": 272,
   "id": "53da1caa",
   "metadata": {},
   "outputs": [
    {
     "data": {
      "text/plain": [
       "<matplotlib.collections.PathCollection at 0x1d9a47b13a0>"
      ]
     },
     "execution_count": 272,
     "metadata": {},
     "output_type": "execute_result"
    },
    {
     "data": {
      "image/png": "[encoded data removed]",
      "text/plain": [
       "<Figure size 864x432 with 1 Axes>"
      ]
     },
     "metadata": {
      "needs_background": "light"
     },
     "output_type": "display_data"
    }
   ],
   "source": [
    "plt.scatter(x='horizontalError',y='mag',data=db)"
   ]
  },
  {
   "cell_type": "code",
   "execution_count": 273,
   "id": "64af760e",
   "metadata": {},
   "outputs": [
    {
     "data": {
      "text/plain": [
       "<matplotlib.collections.PathCollection at 0x1d9a4815490>"
      ]
     },
     "execution_count": 273,
     "metadata": {},
     "output_type": "execute_result"
    },
    {
     "data": {
      "image/png": "[encoded data removed]",
      "text/plain": [
       "<Figure size 864x432 with 1 Axes>"
      ]
     },
     "metadata": {
      "needs_background": "light"
     },
     "output_type": "display_data"
    }
   ],
   "source": [
    "plt.scatter(x='depthError',y='mag',data=db)"
   ]
  },
  {
   "cell_type": "code",
   "execution_count": 274,
   "id": "d9cb4680",
   "metadata": {},
   "outputs": [
    {
     "data": {
      "text/plain": [
       "<matplotlib.collections.PathCollection at 0x1d9a487a700>"
      ]
     },
     "execution_count": 274,
     "metadata": {},
     "output_type": "execute_result"
    },
    {
     "data": {
      "image/png": "[encoded data removed]",
      "text/plain": [
       "<Figure size 864x432 with 1 Axes>"
      ]
     },
     "metadata": {
      "needs_background": "light"
     },
     "output_type": "display_data"
    }
   ],
   "source": [
    "plt.scatter(x='magError',y='mag',data=db)"
   ]
  },
  {
   "cell_type": "code",
   "execution_count": 275,
   "id": "d8dcb4db",
   "metadata": {},
   "outputs": [
    {
     "data": {
      "text/plain": [
       "<matplotlib.collections.PathCollection at 0x1d9a494ea90>"
      ]
     },
     "execution_count": 275,
     "metadata": {},
     "output_type": "execute_result"
    },
    {
     "data": {
      "image/png": "[encoded data removed]",
      "text/plain": [
       "<Figure size 864x432 with 1 Axes>"
      ]
     },
     "metadata": {
      "needs_background": "light"
     },
     "output_type": "display_data"
    }
   ],
   "source": [
    "plt.scatter(x='depthError',y='mag',data=db)"
   ]
  },
  {
   "cell_type": "code",
   "execution_count": null,
   "id": "2368e92c",
   "metadata": {},
   "outputs": [],
   "source": []
  },
  {
   "cell_type": "code",
   "execution_count": 276,
   "id": "86c37572",
   "metadata": {},
   "outputs": [
    {
     "data": {
      "text/plain": [
       "<AxesSubplot:>"
      ]
     },
     "execution_count": 276,
     "metadata": {},
     "output_type": "execute_result"
    },
    {
     "data": {
      "image/png": "[encoded data removed]",
      "text/plain": [
       "<Figure size 864x432 with 2 Axes>"
      ]
     },
     "metadata": {
      "needs_background": "light"
     },
     "output_type": "display_data"
    }
   ],
   "source": [
    "#drawing heatmap\n",
    "sns.heatmap(db.corr(),annot=True,cbar='coolwarm')"
   ]
  },
  {
   "cell_type": "markdown",
   "id": "90130db6",
   "metadata": {},
   "source": [
    "observation:\n",
    "1. variables which have positive correlation with magnitude:\n",
    "\n",
    "    . nst ->0.69\n",
    "    . magnst -> 0.37\n",
    "    . depth error and magerror\n",
    "2. negative corr:\n",
    "     . gap -0.34\n",
    "     . year -0.31\n",
    "    "
   ]
  },
  {
   "cell_type": "markdown",
   "id": "f68bc935",
   "metadata": {},
   "source": [
    "def correlation(data):\n",
    "    pos=dict()\n",
    "    neg=dict()\n",
    "    corr_matrix=data.corr()\n",
    "    for i in range(len(corr_matrix.columns)):\n",
    "        for j in range(i):\n",
    "            if corr_matrix.iloc[i,j]>0:\n",
    "                pos[corr_matrix.columns[i]]=corr_matrix.iloc[i,j]\n",
    "            else:\n",
    "                neg[corr_matrix.columns[i]]=corr_matrix.iloc[i,j]\n",
    "    print(pos)  \n",
    "    print(\"\") \n",
    "    print(neg)"
   ]
  },
  {
   "cell_type": "code",
   "execution_count": 277,
   "id": "2753da59",
   "metadata": {},
   "outputs": [],
   "source": [
    "db.drop(columns=['magType'],inplace=True)"
   ]
  },
  {
   "cell_type": "code",
   "execution_count": 278,
   "id": "8418dfe8",
   "metadata": {},
   "outputs": [],
   "source": [
    "db.drop(columns=['dmin'],inplace=True)"
   ]
  },
  {
   "cell_type": "code",
   "execution_count": 279,
   "id": "58fe493d",
   "metadata": {},
   "outputs": [
    {
     "data": {
      "text/plain": [
       "Index(['latitude', 'longitude', 'depth', 'mag', 'nst', 'gap', 'rms',\n",
       "       'horizontalError', 'depthError', 'magError', 'magNst', 'year', 'month',\n",
       "       'day', 'hour', 'min'],\n",
       "      dtype='object')"
      ]
     },
     "execution_count": 279,
     "metadata": {},
     "output_type": "execute_result"
    }
   ],
   "source": [
    "db.columns"
   ]
  },
  {
   "cell_type": "markdown",
   "id": "3b92faff",
   "metadata": {},
   "source": [
    "### feature scaling"
   ]
  },
  {
   "cell_type": "markdown",
   "id": "5359322e",
   "metadata": {},
   "source": [
    "There are two major types of feature scaling :\n",
    "\n",
    "1. Standardization.\n",
    "2. Normalization.\n",
    "\n",
    "We can use StandardScalar to scale our data:\n",
    "\n",
    "\n",
    "StandardScaler is used to resize the distribution of values ​​so that the mean of the observed values ​​is 0 and the standard deviation is 1.\n",
    "The values will lie be between -1 and 1."
   ]
  },
  {
   "cell_type": "code",
   "execution_count": 280,
   "id": "2307145b",
   "metadata": {},
   "outputs": [],
   "source": [
    "#spliting the data in target and input variable\n",
    "x=db.drop(columns='mag')\n",
    "y=db['mag']"
   ]
  },
  {
   "cell_type": "code",
   "execution_count": 281,
   "id": "6abb5ad4",
   "metadata": {},
   "outputs": [
    {
     "data": {
      "text/html": [
       "<div>\n",
       "<style scoped>\n",
       "    .dataframe tbody tr th:only-of-type {\n",
       "        vertical-align: middle;\n",
       "    }\n",
       "\n",
       "    .dataframe tbody tr th {\n",
       "        vertical-align: top;\n",
       "    }\n",
       "\n",
       "    .dataframe thead th {\n",
       "        text-align: right;\n",
       "    }\n",
       "</style>\n",
       "<table border=\"1\" class=\"dataframe\">\n",
       "  <thead>\n",
       "    <tr style=\"text-align: right;\">\n",
       "      <th></th>\n",
       "      <th>latitude</th>\n",
       "      <th>longitude</th>\n",
       "      <th>depth</th>\n",
       "      <th>nst</th>\n",
       "      <th>gap</th>\n",
       "      <th>rms</th>\n",
       "      <th>horizontalError</th>\n",
       "      <th>depthError</th>\n",
       "      <th>magError</th>\n",
       "      <th>magNst</th>\n",
       "      <th>year</th>\n",
       "      <th>month</th>\n",
       "      <th>day</th>\n",
       "      <th>hour</th>\n",
       "      <th>min</th>\n",
       "    </tr>\n",
       "  </thead>\n",
       "  <tbody>\n",
       "    <tr>\n",
       "      <th>1</th>\n",
       "      <td>20.6607</td>\n",
       "      <td>71.4793</td>\n",
       "      <td>10.0</td>\n",
       "      <td>40.56962</td>\n",
       "      <td>73.000000</td>\n",
       "      <td>0.990000</td>\n",
       "      <td>6.900000</td>\n",
       "      <td>1.900000</td>\n",
       "      <td>0.114000</td>\n",
       "      <td>21.000000</td>\n",
       "      <td>2021</td>\n",
       "      <td>5</td>\n",
       "      <td>16</td>\n",
       "      <td>22</td>\n",
       "      <td>7</td>\n",
       "    </tr>\n",
       "    <tr>\n",
       "      <th>2</th>\n",
       "      <td>21.5017</td>\n",
       "      <td>73.2190</td>\n",
       "      <td>10.0</td>\n",
       "      <td>40.56962</td>\n",
       "      <td>262.000000</td>\n",
       "      <td>0.550000</td>\n",
       "      <td>10.300000</td>\n",
       "      <td>2.000000</td>\n",
       "      <td>0.170000</td>\n",
       "      <td>9.000000</td>\n",
       "      <td>2020</td>\n",
       "      <td>11</td>\n",
       "      <td>7</td>\n",
       "      <td>10</td>\n",
       "      <td>9</td>\n",
       "    </tr>\n",
       "    <tr>\n",
       "      <th>3</th>\n",
       "      <td>22.2558</td>\n",
       "      <td>70.9928</td>\n",
       "      <td>10.0</td>\n",
       "      <td>40.56962</td>\n",
       "      <td>112.000000</td>\n",
       "      <td>0.540000</td>\n",
       "      <td>13.700000</td>\n",
       "      <td>2.000000</td>\n",
       "      <td>0.151000</td>\n",
       "      <td>12.000000</td>\n",
       "      <td>2020</td>\n",
       "      <td>7</td>\n",
       "      <td>16</td>\n",
       "      <td>2</td>\n",
       "      <td>10</td>\n",
       "    </tr>\n",
       "    <tr>\n",
       "      <th>4</th>\n",
       "      <td>22.9861</td>\n",
       "      <td>70.2272</td>\n",
       "      <td>10.0</td>\n",
       "      <td>40.56962</td>\n",
       "      <td>193.000000</td>\n",
       "      <td>0.960000</td>\n",
       "      <td>15.700000</td>\n",
       "      <td>2.000000</td>\n",
       "      <td>0.136000</td>\n",
       "      <td>14.000000</td>\n",
       "      <td>2020</td>\n",
       "      <td>6</td>\n",
       "      <td>15</td>\n",
       "      <td>7</td>\n",
       "      <td>27</td>\n",
       "    </tr>\n",
       "    <tr>\n",
       "      <th>5</th>\n",
       "      <td>23.3821</td>\n",
       "      <td>70.3548</td>\n",
       "      <td>10.0</td>\n",
       "      <td>40.56962</td>\n",
       "      <td>40.000000</td>\n",
       "      <td>0.740000</td>\n",
       "      <td>8.900000</td>\n",
       "      <td>1.800000</td>\n",
       "      <td>0.036000</td>\n",
       "      <td>255.000000</td>\n",
       "      <td>2020</td>\n",
       "      <td>6</td>\n",
       "      <td>14</td>\n",
       "      <td>14</td>\n",
       "      <td>43</td>\n",
       "    </tr>\n",
       "    <tr>\n",
       "      <th>...</th>\n",
       "      <td>...</td>\n",
       "      <td>...</td>\n",
       "      <td>...</td>\n",
       "      <td>...</td>\n",
       "      <td>...</td>\n",
       "      <td>...</td>\n",
       "      <td>...</td>\n",
       "      <td>...</td>\n",
       "      <td>...</td>\n",
       "      <td>...</td>\n",
       "      <td>...</td>\n",
       "      <td>...</td>\n",
       "      <td>...</td>\n",
       "      <td>...</td>\n",
       "      <td>...</td>\n",
       "    </tr>\n",
       "    <tr>\n",
       "      <th>190</th>\n",
       "      <td>23.3390</td>\n",
       "      <td>70.6110</td>\n",
       "      <td>33.0</td>\n",
       "      <td>40.56962</td>\n",
       "      <td>128.876744</td>\n",
       "      <td>1.100000</td>\n",
       "      <td>10.276923</td>\n",
       "      <td>2.905263</td>\n",
       "      <td>0.145937</td>\n",
       "      <td>22.000000</td>\n",
       "      <td>1982</td>\n",
       "      <td>7</td>\n",
       "      <td>18</td>\n",
       "      <td>15</td>\n",
       "      <td>46</td>\n",
       "    </tr>\n",
       "    <tr>\n",
       "      <th>194</th>\n",
       "      <td>24.6900</td>\n",
       "      <td>71.0300</td>\n",
       "      <td>33.0</td>\n",
       "      <td>40.56962</td>\n",
       "      <td>128.876744</td>\n",
       "      <td>1.073667</td>\n",
       "      <td>10.276923</td>\n",
       "      <td>2.905263</td>\n",
       "      <td>0.145937</td>\n",
       "      <td>14.160714</td>\n",
       "      <td>1975</td>\n",
       "      <td>9</td>\n",
       "      <td>19</td>\n",
       "      <td>16</td>\n",
       "      <td>49</td>\n",
       "    </tr>\n",
       "    <tr>\n",
       "      <th>195</th>\n",
       "      <td>21.6300</td>\n",
       "      <td>73.0530</td>\n",
       "      <td>20.1</td>\n",
       "      <td>40.56962</td>\n",
       "      <td>128.876744</td>\n",
       "      <td>1.073667</td>\n",
       "      <td>10.276923</td>\n",
       "      <td>3.800000</td>\n",
       "      <td>0.200000</td>\n",
       "      <td>14.160714</td>\n",
       "      <td>1970</td>\n",
       "      <td>3</td>\n",
       "      <td>23</td>\n",
       "      <td>1</td>\n",
       "      <td>53</td>\n",
       "    </tr>\n",
       "    <tr>\n",
       "      <th>197</th>\n",
       "      <td>23.2780</td>\n",
       "      <td>70.1070</td>\n",
       "      <td>15.0</td>\n",
       "      <td>40.56962</td>\n",
       "      <td>128.876744</td>\n",
       "      <td>1.073667</td>\n",
       "      <td>10.276923</td>\n",
       "      <td>10.900000</td>\n",
       "      <td>0.300000</td>\n",
       "      <td>14.160714</td>\n",
       "      <td>1956</td>\n",
       "      <td>7</td>\n",
       "      <td>21</td>\n",
       "      <td>15</td>\n",
       "      <td>32</td>\n",
       "    </tr>\n",
       "    <tr>\n",
       "      <th>198</th>\n",
       "      <td>23.7170</td>\n",
       "      <td>70.3660</td>\n",
       "      <td>15.0</td>\n",
       "      <td>40.56962</td>\n",
       "      <td>128.876744</td>\n",
       "      <td>1.073667</td>\n",
       "      <td>10.276923</td>\n",
       "      <td>7.200000</td>\n",
       "      <td>0.270000</td>\n",
       "      <td>14.160714</td>\n",
       "      <td>1940</td>\n",
       "      <td>10</td>\n",
       "      <td>31</td>\n",
       "      <td>10</td>\n",
       "      <td>43</td>\n",
       "    </tr>\n",
       "  </tbody>\n",
       "</table>\n",
       "<p>184 rows × 15 columns</p>\n",
       "</div>"
      ],
      "text/plain": [
       "     latitude  longitude  depth       nst         gap       rms  \\\n",
       "1     20.6607    71.4793   10.0  40.56962   73.000000  0.990000   \n",
       "2     21.5017    73.2190   10.0  40.56962  262.000000  0.550000   \n",
       "3     22.2558    70.9928   10.0  40.56962  112.000000  0.540000   \n",
       "4     22.9861    70.2272   10.0  40.56962  193.000000  0.960000   \n",
       "5     23.3821    70.3548   10.0  40.56962   40.000000  0.740000   \n",
       "..        ...        ...    ...       ...         ...       ...   \n",
       "190   23.3390    70.6110   33.0  40.56962  128.876744  1.100000   \n",
       "194   24.6900    71.0300   33.0  40.56962  128.876744  1.073667   \n",
       "195   21.6300    73.0530   20.1  40.56962  128.876744  1.073667   \n",
       "197   23.2780    70.1070   15.0  40.56962  128.876744  1.073667   \n",
       "198   23.7170    70.3660   15.0  40.56962  128.876744  1.073667   \n",
       "\n",
       "     horizontalError  depthError  magError      magNst  year  month  day  \\\n",
       "1           6.900000    1.900000  0.114000   21.000000  2021      5   16   \n",
       "2          10.300000    2.000000  0.170000    9.000000  2020     11    7   \n",
       "3          13.700000    2.000000  0.151000   12.000000  2020      7   16   \n",
       "4          15.700000    2.000000  0.136000   14.000000  2020      6   15   \n",
       "5           8.900000    1.800000  0.036000  255.000000  2020      6   14   \n",
       "..               ...         ...       ...         ...   ...    ...  ...   \n",
       "190        10.276923    2.905263  0.145937   22.000000  1982      7   18   \n",
       "194        10.276923    2.905263  0.145937   14.160714  1975      9   19   \n",
       "195        10.276923    3.800000  0.200000   14.160714  1970      3   23   \n",
       "197        10.276923   10.900000  0.300000   14.160714  1956      7   21   \n",
       "198        10.276923    7.200000  0.270000   14.160714  1940     10   31   \n",
       "\n",
       "     hour  min  \n",
       "1      22    7  \n",
       "2      10    9  \n",
       "3       2   10  \n",
       "4       7   27  \n",
       "5      14   43  \n",
       "..    ...  ...  \n",
       "190    15   46  \n",
       "194    16   49  \n",
       "195     1   53  \n",
       "197    15   32  \n",
       "198    10   43  \n",
       "\n",
       "[184 rows x 15 columns]"
      ]
     },
     "execution_count": 281,
     "metadata": {},
     "output_type": "execute_result"
    }
   ],
   "source": [
    "x"
   ]
  },
  {
   "cell_type": "code",
   "execution_count": 282,
   "id": "fba8a705",
   "metadata": {},
   "outputs": [
    {
     "data": {
      "text/plain": [
       "1      4.10\n",
       "2      3.90\n",
       "3      4.10\n",
       "4      3.80\n",
       "5      5.10\n",
       "       ... \n",
       "190    4.80\n",
       "194    3.70\n",
       "195    5.36\n",
       "197    6.00\n",
       "198    6.27\n",
       "Name: mag, Length: 184, dtype: float64"
      ]
     },
     "execution_count": 282,
     "metadata": {},
     "output_type": "execute_result"
    }
   ],
   "source": [
    "y"
   ]
  },
  {
   "cell_type": "code",
   "execution_count": 283,
   "id": "2d53bcd1",
   "metadata": {},
   "outputs": [],
   "source": [
    "from sklearn.preprocessing import StandardScaler"
   ]
  },
  {
   "cell_type": "code",
   "execution_count": 284,
   "id": "fcc38b2a",
   "metadata": {},
   "outputs": [],
   "source": [
    "standarscaler=StandardScaler()"
   ]
  },
  {
   "cell_type": "code",
   "execution_count": 285,
   "id": "5c807934",
   "metadata": {},
   "outputs": [],
   "source": [
    "standarscaler=standarscaler.fit(x)\n",
    "scaled_x=standarscaler.transform(x)"
   ]
  },
  {
   "cell_type": "markdown",
   "id": "a4a31914",
   "metadata": {},
   "source": [
    "## Data Modelling"
   ]
  },
  {
   "cell_type": "code",
   "execution_count": null,
   "id": "8f3c6366",
   "metadata": {},
   "outputs": [],
   "source": []
  },
  {
   "cell_type": "code",
   "execution_count": 287,
   "id": "6cd8ce02",
   "metadata": {},
   "outputs": [
    {
     "data": {
      "text/plain": [
       "array([[-3.52127406,  1.52978366, -0.3229469 , ..., -0.0821165 ,\n",
       "         1.58083497, -1.29618579],\n",
       "       [-2.35890333,  4.02043447, -0.3229469 , ..., -1.01352011,\n",
       "        -0.16092332, -1.1809971 ],\n",
       "       [-1.31663964,  0.83328333, -0.3229469 , ..., -0.0821165 ,\n",
       "        -1.32209552, -1.12340276],\n",
       "       ...,\n",
       "       [-2.18157615,  3.78277968,  1.55903654, ...,  0.64230853,\n",
       "        -1.46724204,  1.35315411],\n",
       "       [ 0.09617291, -0.43487698,  0.60872807, ...,  0.43532995,\n",
       "         0.5648093 ,  0.14367285],\n",
       "       [ 0.70292767, -0.06407825,  0.60872807, ...,  1.47022285,\n",
       "        -0.16092332,  0.77721066]])"
      ]
     },
     "execution_count": 287,
     "metadata": {},
     "output_type": "execute_result"
    }
   ],
   "source": [
    "scaled_x"
   ]
  },
  {
   "cell_type": "code",
   "execution_count": 288,
   "id": "b9949486",
   "metadata": {},
   "outputs": [],
   "source": [
    "from sklearn.model_selection import train_test_split\n",
    "x_train,x_test,y_train,y_test=train_test_split(scaled_x,y,train_size=0.8, random_state=2)"
   ]
  },
  {
   "cell_type": "markdown",
   "id": "f49c7df2",
   "metadata": {},
   "source": [
    "### LinearRegression"
   ]
  },
  {
   "cell_type": "code",
   "execution_count": 289,
   "id": "566efff6",
   "metadata": {},
   "outputs": [],
   "source": [
    "from sklearn.linear_model import LinearRegression"
   ]
  },
  {
   "cell_type": "code",
   "execution_count": 290,
   "id": "db858f4e",
   "metadata": {},
   "outputs": [],
   "source": [
    "lr=LinearRegression()"
   ]
  },
  {
   "cell_type": "code",
   "execution_count": 291,
   "id": "912af0bd",
   "metadata": {},
   "outputs": [
    {
     "data": {
      "text/plain": [
       "LinearRegression()"
      ]
     },
     "execution_count": 291,
     "metadata": {},
     "output_type": "execute_result"
    }
   ],
   "source": [
    "lr.fit(x_train,y_train)"
   ]
  },
  {
   "cell_type": "code",
   "execution_count": 292,
   "id": "d4a4dfda",
   "metadata": {},
   "outputs": [],
   "source": [
    "lrprediction=lr.predict(x_test)"
   ]
  },
  {
   "cell_type": "code",
   "execution_count": 293,
   "id": "8c32adcf",
   "metadata": {},
   "outputs": [],
   "source": [
    "from sklearn.metrics import accuracy_score,mean_squared_error,mean_absolute_error, r2_score "
   ]
  },
  {
   "cell_type": "code",
   "execution_count": 294,
   "id": "8c6b389c",
   "metadata": {},
   "outputs": [
    {
     "name": "stdout",
     "output_type": "stream",
     "text": [
      "Mean squared error: 0.0671561211706972\n",
      "Root mean squared error: 0.25914498098689315\n",
      "Mean absolute error: 0.19913500485857177\n",
      "R-squared: 0.6212855088042328\n"
     ]
    }
   ],
   "source": [
    "mse = mean_squared_error(y_test, lrprediction)\n",
    "rmse = mean_squared_error(y_test, lrprediction, squared=False)\n",
    "mae = mean_absolute_error(y_test, lrprediction)\n",
    "r2 = r2_score(y_test, lrprediction)\n",
    "\n",
    "print(\"Mean squared error:\", mse)\n",
    "print(\"Root mean squared error:\", rmse)\n",
    "print(\"Mean absolute error:\", mae)\n",
    "print(\"R-squared:\", r2)"
   ]
  },
  {
   "cell_type": "markdown",
   "id": "7188a655",
   "metadata": {},
   "source": [
    "our predictions are not perfect, but they are reasonable. We are off by an average of 0.067 units from the actual values, which is relatively small compared to the range of the target variable. Additionally, our R2 value of 0.621 indicates that our model is able to explain about 62.1% of the variance in the target variable."
   ]
  },
  {
   "cell_type": "markdown",
   "id": "02d242cf",
   "metadata": {},
   "source": [
    "### Random Forest"
   ]
  },
  {
   "cell_type": "code",
   "execution_count": 295,
   "id": "09dff89c",
   "metadata": {},
   "outputs": [],
   "source": [
    "from sklearn.ensemble import RandomForestRegressor"
   ]
  },
  {
   "cell_type": "code",
   "execution_count": 296,
   "id": "e8513d9d",
   "metadata": {},
   "outputs": [],
   "source": [
    "rf=RandomForestRegressor()"
   ]
  },
  {
   "cell_type": "code",
   "execution_count": 297,
   "id": "fdc98104",
   "metadata": {},
   "outputs": [
    {
     "data": {
      "text/plain": [
       "RandomForestRegressor()"
      ]
     },
     "execution_count": 297,
     "metadata": {},
     "output_type": "execute_result"
    }
   ],
   "source": [
    "rf.fit(x_train,y_train)"
   ]
  },
  {
   "cell_type": "code",
   "execution_count": 298,
   "id": "e4352d05",
   "metadata": {},
   "outputs": [],
   "source": [
    "rf_prediciton=rf.predict(x_test)"
   ]
  },
  {
   "cell_type": "code",
   "execution_count": 299,
   "id": "3bfd139e",
   "metadata": {},
   "outputs": [
    {
     "name": "stdout",
     "output_type": "stream",
     "text": [
      "Mean squared error: 0.09365414108108125\n",
      "Root mean squared error: 0.3060296408537599\n",
      "Mean absolute error: 0.2365567567567569\n",
      "R-squared: 0.47185483959466057\n"
     ]
    }
   ],
   "source": [
    "mse = mean_squared_error(y_test, rf_prediciton)\n",
    "rmse = mean_squared_error(y_test, rf_prediciton, squared=False)\n",
    "mae = mean_absolute_error(y_test, rf_prediciton)\n",
    "r2 = r2_score(y_test, rf_prediciton)\n",
    "\n",
    "print(\"Mean squared error:\", mse)\n",
    "print(\"Root mean squared error:\", rmse)\n",
    "print(\"Mean absolute error:\", mae)\n",
    "print(\"R-squared:\", r2)"
   ]
  },
  {
   "cell_type": "markdown",
   "id": "f0d03191",
   "metadata": {},
   "source": [
    "In summary, our predictions are not very accurate, and we are off by an average of 0.112 units from the actual values. Our R2 value of 0.367 indicates that our model is only able to explain about 36.7% of the variance in the target variable. There is significant room for improvement in our prediction, and we need to consider modifying our model or exploring different features to improve the performance.\n"
   ]
  },
  {
   "cell_type": "markdown",
   "id": "ed6d813e",
   "metadata": {},
   "source": [
    "### Decision Tree"
   ]
  },
  {
   "cell_type": "code",
   "execution_count": 300,
   "id": "56ee7092",
   "metadata": {},
   "outputs": [],
   "source": [
    "from sklearn.tree import DecisionTreeRegressor"
   ]
  },
  {
   "cell_type": "code",
   "execution_count": 301,
   "id": "739ec5e9",
   "metadata": {},
   "outputs": [],
   "source": [
    "dt=DecisionTreeRegressor(max_depth=1)"
   ]
  },
  {
   "cell_type": "code",
   "execution_count": 302,
   "id": "c5f78d92",
   "metadata": {},
   "outputs": [
    {
     "data": {
      "text/plain": [
       "DecisionTreeRegressor(max_depth=1)"
      ]
     },
     "execution_count": 302,
     "metadata": {},
     "output_type": "execute_result"
    }
   ],
   "source": [
    "dt.fit(x_train,y_train)\n"
   ]
  },
  {
   "cell_type": "code",
   "execution_count": 303,
   "id": "955aba25",
   "metadata": {},
   "outputs": [],
   "source": [
    "dtpredicition=dt.predict(x_test)"
   ]
  },
  {
   "cell_type": "code",
   "execution_count": 304,
   "id": "aeb74a77",
   "metadata": {},
   "outputs": [
    {
     "name": "stdout",
     "output_type": "stream",
     "text": [
      "Mean squared error: 0.13658177644813607\n",
      "Root mean squared error: 0.36956971798043203\n",
      "Mean absolute error: 0.29226994200678436\n",
      "R-squared: 0.22977240090007311\n"
     ]
    }
   ],
   "source": [
    "mse = mean_squared_error(y_test, dtpredicition)\n",
    "rmse = mean_squared_error(y_test, dtpredicition, squared=False)\n",
    "mae = mean_absolute_error(y_test, dtpredicition)\n",
    "r2 = r2_score(y_test, dtpredicition)\n",
    "\n",
    "print(\"Mean squared error:\", mse)\n",
    "print(\"Root mean squared error:\", rmse)\n",
    "print(\"Mean absolute error:\", mae)\n",
    "print(\"R-squared:\", r2)"
   ]
  },
  {
   "cell_type": "markdown",
   "id": "3a374248",
   "metadata": {},
   "source": [
    "he R-squared value of 0.2298 indicates that the model only explains 23% of the total variation in the target variable. This means that a large portion of the variation in the target variable is not explained by the model, "
   ]
  },
  {
   "cell_type": "markdown",
   "id": "48664ed6",
   "metadata": {},
   "source": [
    "### Support Vector Machine"
   ]
  },
  {
   "cell_type": "code",
   "execution_count": 305,
   "id": "21f49740",
   "metadata": {},
   "outputs": [],
   "source": [
    "from sklearn.svm import SVR"
   ]
  },
  {
   "cell_type": "code",
   "execution_count": 322,
   "id": "942f2c49",
   "metadata": {},
   "outputs": [],
   "source": [
    "svr=SVR(kernel='linear', C=1e3, gamma=0.1, epsilon=0.1)"
   ]
  },
  {
   "cell_type": "code",
   "execution_count": 323,
   "id": "4a8cc3ec",
   "metadata": {},
   "outputs": [
    {
     "data": {
      "text/plain": [
       "SVR(C=1000.0, gamma=0.1, kernel='linear')"
      ]
     },
     "execution_count": 323,
     "metadata": {},
     "output_type": "execute_result"
    }
   ],
   "source": [
    "svr.fit(x_train,y_train)"
   ]
  },
  {
   "cell_type": "code",
   "execution_count": 324,
   "id": "46f4d61e",
   "metadata": {},
   "outputs": [],
   "source": [
    "svrpredict=svr.predict(x_test)"
   ]
  },
  {
   "cell_type": "code",
   "execution_count": 325,
   "id": "9e8fbd71",
   "metadata": {},
   "outputs": [
    {
     "name": "stdout",
     "output_type": "stream",
     "text": [
      "Mean squared error: 0.06491511857384366\n",
      "Root mean squared error: 0.25478445512598225\n",
      "Mean absolute error: 0.1986093262547487\n",
      "R-squared: 0.6339232273537982\n"
     ]
    }
   ],
   "source": [
    "mse = mean_squared_error(y_test, svrpredict)\n",
    "rmse = mean_squared_error(y_test, svrpredict, squared=False)\n",
    "mae = mean_absolute_error(y_test, svrpredict)\n",
    "r2 = r2_score(y_test, svrpredict)\n",
    "\n",
    "print(\"Mean squared error:\", mse)\n",
    "print(\"Root mean squared error:\", rmse)\n",
    "print(\"Mean absolute error:\", mae)\n",
    "print(\"R-squared:\", r2)"
   ]
  },
  {
   "cell_type": "markdown",
   "id": "52322108",
   "metadata": {},
   "source": [
    "The R-squared value indicates the proportion of variance in the target variable that can be explained by the model. A higher R-squared value indicates better performance. In this case, the R-squared value is 0.6339, which indicates that the model can explain about 63.4% of the variance in the target variable. "
   ]
  },
  {
   "cell_type": "markdown",
   "id": "493f5a60",
   "metadata": {},
   "source": [
    "### Gradient Boosting"
   ]
  },
  {
   "cell_type": "code",
   "execution_count": 326,
   "id": "33fd4528",
   "metadata": {},
   "outputs": [],
   "source": [
    "from sklearn.ensemble import GradientBoostingRegressor"
   ]
  },
  {
   "cell_type": "code",
   "execution_count": 351,
   "id": "1b40fe25",
   "metadata": {},
   "outputs": [],
   "source": [
    "gbr=GradientBoostingRegressor(n_estimators=1000, learning_rate=0.05, max_depth=1, random_state=42)"
   ]
  },
  {
   "cell_type": "code",
   "execution_count": 352,
   "id": "2e32207e",
   "metadata": {},
   "outputs": [
    {
     "data": {
      "text/plain": [
       "GradientBoostingRegressor(learning_rate=0.05, max_depth=1, n_estimators=1000,\n",
       "                          random_state=42)"
      ]
     },
     "execution_count": 352,
     "metadata": {},
     "output_type": "execute_result"
    }
   ],
   "source": [
    "gbr.fit(x_train,y_train)"
   ]
  },
  {
   "cell_type": "code",
   "execution_count": 353,
   "id": "ee16a48d",
   "metadata": {},
   "outputs": [],
   "source": [
    "gbrprediction=gbr.predict(x_test)"
   ]
  },
  {
   "cell_type": "code",
   "execution_count": 354,
   "id": "b7ee1f9d",
   "metadata": {},
   "outputs": [
    {
     "name": "stdout",
     "output_type": "stream",
     "text": [
      "Mean squared error: 0.058844445460254594\n",
      "Root mean squared error: 0.24257874074257743\n",
      "Mean absolute error: 0.1935432069544653\n",
      "R-squared: 0.6339232273537982\n"
     ]
    }
   ],
   "source": [
    "mse = mean_squared_error(y_test, gbrprediction)\n",
    "rmse = mean_squared_error(y_test, gbrprediction, squared=False)\n",
    "mae = mean_absolute_error(y_test, gbrprediction)\n",
    "r2 = r2_score(y_test, svrpredict)\n",
    "\n",
    "print(\"Mean squared error:\", mse)\n",
    "print(\"Root mean squared error:\", rmse)\n",
    "print(\"Mean absolute error:\", mae)\n",
    "print(\"R-squared:\", r2)"
   ]
  },
  {
   "cell_type": "code",
   "execution_count": null,
   "id": "370576cc",
   "metadata": {},
   "outputs": [],
   "source": []
  }
 ],
 "metadata": {
  "kernelspec": {
   "display_name": "Python 3 (ipykernel)",
   "language": "python",
   "name": "python3"
  },
  "language_info": {
   "codemirror_mode": {
    "name": "ipython",
    "version": 3
   },
   "file_extension": ".py",
   "mimetype": "text/x-python",
   "name": "python",
   "nbconvert_exporter": "python",
   "pygments_lexer": "ipython3",
   "version": "3.9.12"
  }
 },
 "nbformat": 4,
 "nbformat_minor": 5
}

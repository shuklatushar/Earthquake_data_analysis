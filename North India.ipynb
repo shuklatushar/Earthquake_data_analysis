{
 "cells": [
  {
   "cell_type": "markdown",
   "id": "45a0d7d6",
   "metadata": {},
   "source": [
    "# North India earthquake analysis"
   ]
  },
  {
   "cell_type": "code",
   "execution_count": 130,
   "id": "8a8a9c14",
   "metadata": {},
   "outputs": [],
   "source": [
    "#importing libraries\n",
    "import pandas as pd\n",
    "import numpy as np\n",
    "import matplotlib.pyplot as plt\n",
    "import seaborn as sns "
   ]
  },
  {
   "cell_type": "markdown",
   "id": "3929cda5",
   "metadata": {},
   "source": [
    "### About dataset:\n",
    "dataset contain 2744 records\n",
    "North India earthquake data magnitude more than 2.5\n",
    "dataset duration 1900-2023\n"
   ]
  },
  {
   "cell_type": "code",
   "execution_count": 132,
   "id": "4e5794e1",
   "metadata": {},
   "outputs": [],
   "source": [
    "#importing the dataset\n",
    "db=pd.read_csv('North_india.csv')\n"
   ]
  },
  {
   "cell_type": "code",
   "execution_count": 133,
   "id": "cf2dfd99",
   "metadata": {},
   "outputs": [
    {
     "data": {
      "text/html": [
       "<div>\n",
       "<style scoped>\n",
       "    .dataframe tbody tr th:only-of-type {\n",
       "        vertical-align: middle;\n",
       "    }\n",
       "\n",
       "    .dataframe tbody tr th {\n",
       "        vertical-align: top;\n",
       "    }\n",
       "\n",
       "    .dataframe thead th {\n",
       "        text-align: right;\n",
       "    }\n",
       "</style>\n",
       "<table border=\"1\" class=\"dataframe\">\n",
       "  <thead>\n",
       "    <tr style=\"text-align: right;\">\n",
       "      <th></th>\n",
       "      <th>time</th>\n",
       "      <th>latitude</th>\n",
       "      <th>longitude</th>\n",
       "      <th>depth</th>\n",
       "      <th>mag</th>\n",
       "      <th>magType</th>\n",
       "      <th>nst</th>\n",
       "      <th>gap</th>\n",
       "      <th>dmin</th>\n",
       "      <th>rms</th>\n",
       "      <th>...</th>\n",
       "      <th>updated</th>\n",
       "      <th>place</th>\n",
       "      <th>type</th>\n",
       "      <th>horizontalError</th>\n",
       "      <th>depthError</th>\n",
       "      <th>magError</th>\n",
       "      <th>magNst</th>\n",
       "      <th>status</th>\n",
       "      <th>locationSource</th>\n",
       "      <th>magSource</th>\n",
       "    </tr>\n",
       "  </thead>\n",
       "  <tbody>\n",
       "    <tr>\n",
       "      <th>0</th>\n",
       "      <td>2023-04-12T04:40:49.948Z</td>\n",
       "      <td>34.3100</td>\n",
       "      <td>73.5795</td>\n",
       "      <td>10.000</td>\n",
       "      <td>4.3</td>\n",
       "      <td>mb</td>\n",
       "      <td>24.0</td>\n",
       "      <td>176.0</td>\n",
       "      <td>0.707</td>\n",
       "      <td>0.72</td>\n",
       "      <td>...</td>\n",
       "      <td>2023-04-14T03:51:02.309Z</td>\n",
       "      <td>12 km ESE of Muzaffar?b?d, Pakistan</td>\n",
       "      <td>earthquake</td>\n",
       "      <td>6.36</td>\n",
       "      <td>1.970</td>\n",
       "      <td>0.168</td>\n",
       "      <td>10.0</td>\n",
       "      <td>reviewed</td>\n",
       "      <td>us</td>\n",
       "      <td>us</td>\n",
       "    </tr>\n",
       "    <tr>\n",
       "      <th>1</th>\n",
       "      <td>2023-04-08T09:07:36.806Z</td>\n",
       "      <td>34.6540</td>\n",
       "      <td>70.6313</td>\n",
       "      <td>51.614</td>\n",
       "      <td>4.4</td>\n",
       "      <td>mb</td>\n",
       "      <td>35.0</td>\n",
       "      <td>135.0</td>\n",
       "      <td>1.315</td>\n",
       "      <td>0.47</td>\n",
       "      <td>...</td>\n",
       "      <td>2023-04-09T05:16:57.681Z</td>\n",
       "      <td>30 km NNE of Jal?l?b?d, Afghanistan</td>\n",
       "      <td>earthquake</td>\n",
       "      <td>7.59</td>\n",
       "      <td>10.210</td>\n",
       "      <td>0.076</td>\n",
       "      <td>53.0</td>\n",
       "      <td>reviewed</td>\n",
       "      <td>us</td>\n",
       "      <td>us</td>\n",
       "    </tr>\n",
       "    <tr>\n",
       "      <th>2</th>\n",
       "      <td>2023-03-30T19:18:55.205Z</td>\n",
       "      <td>35.6280</td>\n",
       "      <td>70.8486</td>\n",
       "      <td>93.182</td>\n",
       "      <td>4.2</td>\n",
       "      <td>mb</td>\n",
       "      <td>50.0</td>\n",
       "      <td>100.0</td>\n",
       "      <td>1.835</td>\n",
       "      <td>0.55</td>\n",
       "      <td>...</td>\n",
       "      <td>2023-04-12T16:50:36.040Z</td>\n",
       "      <td>23 km NNW of P?r?n, Afghanistan</td>\n",
       "      <td>earthquake</td>\n",
       "      <td>6.98</td>\n",
       "      <td>7.800</td>\n",
       "      <td>0.112</td>\n",
       "      <td>22.0</td>\n",
       "      <td>reviewed</td>\n",
       "      <td>us</td>\n",
       "      <td>us</td>\n",
       "    </tr>\n",
       "    <tr>\n",
       "      <th>3</th>\n",
       "      <td>2023-03-29T00:19:14.335Z</td>\n",
       "      <td>34.6026</td>\n",
       "      <td>70.6043</td>\n",
       "      <td>52.985</td>\n",
       "      <td>4.3</td>\n",
       "      <td>mb</td>\n",
       "      <td>48.0</td>\n",
       "      <td>78.0</td>\n",
       "      <td>1.290</td>\n",
       "      <td>0.93</td>\n",
       "      <td>...</td>\n",
       "      <td>2023-03-30T09:45:23.422Z</td>\n",
       "      <td>Hindu Kush region, Afghanistan</td>\n",
       "      <td>earthquake</td>\n",
       "      <td>5.68</td>\n",
       "      <td>5.690</td>\n",
       "      <td>0.081</td>\n",
       "      <td>43.0</td>\n",
       "      <td>reviewed</td>\n",
       "      <td>us</td>\n",
       "      <td>us</td>\n",
       "    </tr>\n",
       "    <tr>\n",
       "      <th>4</th>\n",
       "      <td>2023-02-24T01:06:31.718Z</td>\n",
       "      <td>33.7601</td>\n",
       "      <td>72.7349</td>\n",
       "      <td>10.000</td>\n",
       "      <td>4.1</td>\n",
       "      <td>mb</td>\n",
       "      <td>26.0</td>\n",
       "      <td>165.0</td>\n",
       "      <td>0.458</td>\n",
       "      <td>0.62</td>\n",
       "      <td>...</td>\n",
       "      <td>2023-03-17T01:15:37.410Z</td>\n",
       "      <td>27 km E of Sanjwal, Pakistan</td>\n",
       "      <td>earthquake</td>\n",
       "      <td>4.79</td>\n",
       "      <td>1.859</td>\n",
       "      <td>0.140</td>\n",
       "      <td>14.0</td>\n",
       "      <td>reviewed</td>\n",
       "      <td>us</td>\n",
       "      <td>us</td>\n",
       "    </tr>\n",
       "  </tbody>\n",
       "</table>\n",
       "<p>5 rows × 22 columns</p>\n",
       "</div>"
      ],
      "text/plain": [
       "                       time  latitude  longitude   depth  mag magType   nst  \\\n",
       "0  2023-04-12T04:40:49.948Z   34.3100    73.5795  10.000  4.3      mb  24.0   \n",
       "1  2023-04-08T09:07:36.806Z   34.6540    70.6313  51.614  4.4      mb  35.0   \n",
       "2  2023-03-30T19:18:55.205Z   35.6280    70.8486  93.182  4.2      mb  50.0   \n",
       "3  2023-03-29T00:19:14.335Z   34.6026    70.6043  52.985  4.3      mb  48.0   \n",
       "4  2023-02-24T01:06:31.718Z   33.7601    72.7349  10.000  4.1      mb  26.0   \n",
       "\n",
       "     gap   dmin   rms  ...                   updated  \\\n",
       "0  176.0  0.707  0.72  ...  2023-04-14T03:51:02.309Z   \n",
       "1  135.0  1.315  0.47  ...  2023-04-09T05:16:57.681Z   \n",
       "2  100.0  1.835  0.55  ...  2023-04-12T16:50:36.040Z   \n",
       "3   78.0  1.290  0.93  ...  2023-03-30T09:45:23.422Z   \n",
       "4  165.0  0.458  0.62  ...  2023-03-17T01:15:37.410Z   \n",
       "\n",
       "                                 place        type horizontalError depthError  \\\n",
       "0  12 km ESE of Muzaffar?b?d, Pakistan  earthquake            6.36      1.970   \n",
       "1  30 km NNE of Jal?l?b?d, Afghanistan  earthquake            7.59     10.210   \n",
       "2      23 km NNW of P?r?n, Afghanistan  earthquake            6.98      7.800   \n",
       "3       Hindu Kush region, Afghanistan  earthquake            5.68      5.690   \n",
       "4         27 km E of Sanjwal, Pakistan  earthquake            4.79      1.859   \n",
       "\n",
       "   magError  magNst    status  locationSource magSource  \n",
       "0     0.168    10.0  reviewed              us        us  \n",
       "1     0.076    53.0  reviewed              us        us  \n",
       "2     0.112    22.0  reviewed              us        us  \n",
       "3     0.081    43.0  reviewed              us        us  \n",
       "4     0.140    14.0  reviewed              us        us  \n",
       "\n",
       "[5 rows x 22 columns]"
      ]
     },
     "execution_count": 133,
     "metadata": {},
     "output_type": "execute_result"
    }
   ],
   "source": [
    "db.head()"
   ]
  },
  {
   "cell_type": "code",
   "execution_count": 134,
   "id": "4521ad0e",
   "metadata": {},
   "outputs": [
    {
     "data": {
      "text/plain": [
       "(2744, 22)"
      ]
     },
     "execution_count": 134,
     "metadata": {},
     "output_type": "execute_result"
    }
   ],
   "source": [
    "db.shape"
   ]
  },
  {
   "cell_type": "code",
   "execution_count": 135,
   "id": "a5cd860b",
   "metadata": {},
   "outputs": [
    {
     "data": {
      "text/plain": [
       "Index(['time', 'latitude', 'longitude', 'depth', 'mag', 'magType', 'nst',\n",
       "       'gap', 'dmin', 'rms', 'net', 'id', 'updated', 'place', 'type',\n",
       "       'horizontalError', 'depthError', 'magError', 'magNst', 'status',\n",
       "       'locationSource', 'magSource'],\n",
       "      dtype='object')"
      ]
     },
     "execution_count": 135,
     "metadata": {},
     "output_type": "execute_result"
    }
   ],
   "source": [
    "db.columns"
   ]
  },
  {
   "cell_type": "code",
   "execution_count": 136,
   "id": "a02a088d",
   "metadata": {},
   "outputs": [
    {
     "name": "stdout",
     "output_type": "stream",
     "text": [
      "<class 'pandas.core.frame.DataFrame'>\n",
      "RangeIndex: 2744 entries, 0 to 2743\n",
      "Data columns (total 22 columns):\n",
      " #   Column           Non-Null Count  Dtype  \n",
      "---  ------           --------------  -----  \n",
      " 0   time             2744 non-null   object \n",
      " 1   latitude         2744 non-null   float64\n",
      " 2   longitude        2744 non-null   float64\n",
      " 3   depth            2744 non-null   float64\n",
      " 4   mag              2744 non-null   float64\n",
      " 5   magType          2744 non-null   object \n",
      " 6   nst              1482 non-null   float64\n",
      " 7   gap              1672 non-null   float64\n",
      " 8   dmin             433 non-null    float64\n",
      " 9   rms              2446 non-null   float64\n",
      " 10  net              2744 non-null   object \n",
      " 11  id               2744 non-null   object \n",
      " 12  updated          2744 non-null   object \n",
      " 13  place            2742 non-null   object \n",
      " 14  type             2744 non-null   object \n",
      " 15  horizontalError  381 non-null    float64\n",
      " 16  depthError       986 non-null    float64\n",
      " 17  magError         531 non-null    float64\n",
      " 18  magNst           2307 non-null   float64\n",
      " 19  status           2744 non-null   object \n",
      " 20  locationSource   2744 non-null   object \n",
      " 21  magSource        2744 non-null   object \n",
      "dtypes: float64(12), object(10)\n",
      "memory usage: 471.8+ KB\n"
     ]
    }
   ],
   "source": [
    "db.info()"
   ]
  },
  {
   "cell_type": "code",
   "execution_count": 137,
   "id": "9f9e859f",
   "metadata": {},
   "outputs": [
    {
     "data": {
      "text/html": [
       "<div>\n",
       "<style scoped>\n",
       "    .dataframe tbody tr th:only-of-type {\n",
       "        vertical-align: middle;\n",
       "    }\n",
       "\n",
       "    .dataframe tbody tr th {\n",
       "        vertical-align: top;\n",
       "    }\n",
       "\n",
       "    .dataframe thead th {\n",
       "        text-align: right;\n",
       "    }\n",
       "</style>\n",
       "<table border=\"1\" class=\"dataframe\">\n",
       "  <thead>\n",
       "    <tr style=\"text-align: right;\">\n",
       "      <th></th>\n",
       "      <th>latitude</th>\n",
       "      <th>longitude</th>\n",
       "      <th>depth</th>\n",
       "      <th>mag</th>\n",
       "      <th>nst</th>\n",
       "      <th>gap</th>\n",
       "      <th>dmin</th>\n",
       "      <th>rms</th>\n",
       "      <th>horizontalError</th>\n",
       "      <th>depthError</th>\n",
       "      <th>magError</th>\n",
       "      <th>magNst</th>\n",
       "    </tr>\n",
       "  </thead>\n",
       "  <tbody>\n",
       "    <tr>\n",
       "      <th>count</th>\n",
       "      <td>2744.000000</td>\n",
       "      <td>2744.000000</td>\n",
       "      <td>2744.000000</td>\n",
       "      <td>2744.000000</td>\n",
       "      <td>1482.000000</td>\n",
       "      <td>1672.000000</td>\n",
       "      <td>433.000000</td>\n",
       "      <td>2446.000000</td>\n",
       "      <td>381.000000</td>\n",
       "      <td>986.000000</td>\n",
       "      <td>531.000000</td>\n",
       "      <td>2307.000000</td>\n",
       "    </tr>\n",
       "    <tr>\n",
       "      <th>mean</th>\n",
       "      <td>33.584369</td>\n",
       "      <td>73.787585</td>\n",
       "      <td>30.386138</td>\n",
       "      <td>4.331294</td>\n",
       "      <td>43.678138</td>\n",
       "      <td>135.989055</td>\n",
       "      <td>2.929450</td>\n",
       "      <td>0.950965</td>\n",
       "      <td>7.608399</td>\n",
       "      <td>10.465020</td>\n",
       "      <td>0.161073</td>\n",
       "      <td>14.555267</td>\n",
       "    </tr>\n",
       "    <tr>\n",
       "      <th>std</th>\n",
       "      <td>1.969750</td>\n",
       "      <td>2.750284</td>\n",
       "      <td>28.323659</td>\n",
       "      <td>0.604033</td>\n",
       "      <td>68.311444</td>\n",
       "      <td>63.078383</td>\n",
       "      <td>1.865476</td>\n",
       "      <td>0.262195</td>\n",
       "      <td>2.115992</td>\n",
       "      <td>9.597789</td>\n",
       "      <td>0.099757</td>\n",
       "      <td>25.780914</td>\n",
       "    </tr>\n",
       "    <tr>\n",
       "      <th>min</th>\n",
       "      <td>24.061500</td>\n",
       "      <td>69.438000</td>\n",
       "      <td>0.000000</td>\n",
       "      <td>2.900000</td>\n",
       "      <td>5.000000</td>\n",
       "      <td>15.000000</td>\n",
       "      <td>0.214000</td>\n",
       "      <td>0.090000</td>\n",
       "      <td>2.760000</td>\n",
       "      <td>0.000000</td>\n",
       "      <td>0.032000</td>\n",
       "      <td>1.000000</td>\n",
       "    </tr>\n",
       "    <tr>\n",
       "      <th>25%</th>\n",
       "      <td>32.612500</td>\n",
       "      <td>71.751500</td>\n",
       "      <td>10.000000</td>\n",
       "      <td>3.900000</td>\n",
       "      <td>12.000000</td>\n",
       "      <td>89.575000</td>\n",
       "      <td>1.358000</td>\n",
       "      <td>0.780000</td>\n",
       "      <td>6.200000</td>\n",
       "      <td>2.825000</td>\n",
       "      <td>0.090000</td>\n",
       "      <td>2.000000</td>\n",
       "    </tr>\n",
       "    <tr>\n",
       "      <th>50%</th>\n",
       "      <td>34.420000</td>\n",
       "      <td>73.339500</td>\n",
       "      <td>31.205000</td>\n",
       "      <td>4.300000</td>\n",
       "      <td>20.000000</td>\n",
       "      <td>135.750000</td>\n",
       "      <td>2.441000</td>\n",
       "      <td>0.940000</td>\n",
       "      <td>7.400000</td>\n",
       "      <td>7.800000</td>\n",
       "      <td>0.140000</td>\n",
       "      <td>5.000000</td>\n",
       "    </tr>\n",
       "    <tr>\n",
       "      <th>75%</th>\n",
       "      <td>34.817500</td>\n",
       "      <td>75.923000</td>\n",
       "      <td>34.000000</td>\n",
       "      <td>4.700000</td>\n",
       "      <td>40.000000</td>\n",
       "      <td>192.925000</td>\n",
       "      <td>4.302000</td>\n",
       "      <td>1.120000</td>\n",
       "      <td>8.900000</td>\n",
       "      <td>14.300000</td>\n",
       "      <td>0.200000</td>\n",
       "      <td>15.000000</td>\n",
       "    </tr>\n",
       "    <tr>\n",
       "      <th>max</th>\n",
       "      <td>35.818000</td>\n",
       "      <td>79.453000</td>\n",
       "      <td>364.900000</td>\n",
       "      <td>7.900000</td>\n",
       "      <td>724.000000</td>\n",
       "      <td>332.900000</td>\n",
       "      <td>12.409000</td>\n",
       "      <td>1.710000</td>\n",
       "      <td>15.000000</td>\n",
       "      <td>71.900000</td>\n",
       "      <td>0.790000</td>\n",
       "      <td>342.000000</td>\n",
       "    </tr>\n",
       "  </tbody>\n",
       "</table>\n",
       "</div>"
      ],
      "text/plain": [
       "          latitude    longitude        depth          mag          nst  \\\n",
       "count  2744.000000  2744.000000  2744.000000  2744.000000  1482.000000   \n",
       "mean     33.584369    73.787585    30.386138     4.331294    43.678138   \n",
       "std       1.969750     2.750284    28.323659     0.604033    68.311444   \n",
       "min      24.061500    69.438000     0.000000     2.900000     5.000000   \n",
       "25%      32.612500    71.751500    10.000000     3.900000    12.000000   \n",
       "50%      34.420000    73.339500    31.205000     4.300000    20.000000   \n",
       "75%      34.817500    75.923000    34.000000     4.700000    40.000000   \n",
       "max      35.818000    79.453000   364.900000     7.900000   724.000000   \n",
       "\n",
       "               gap        dmin          rms  horizontalError  depthError  \\\n",
       "count  1672.000000  433.000000  2446.000000       381.000000  986.000000   \n",
       "mean    135.989055    2.929450     0.950965         7.608399   10.465020   \n",
       "std      63.078383    1.865476     0.262195         2.115992    9.597789   \n",
       "min      15.000000    0.214000     0.090000         2.760000    0.000000   \n",
       "25%      89.575000    1.358000     0.780000         6.200000    2.825000   \n",
       "50%     135.750000    2.441000     0.940000         7.400000    7.800000   \n",
       "75%     192.925000    4.302000     1.120000         8.900000   14.300000   \n",
       "max     332.900000   12.409000     1.710000        15.000000   71.900000   \n",
       "\n",
       "         magError       magNst  \n",
       "count  531.000000  2307.000000  \n",
       "mean     0.161073    14.555267  \n",
       "std      0.099757    25.780914  \n",
       "min      0.032000     1.000000  \n",
       "25%      0.090000     2.000000  \n",
       "50%      0.140000     5.000000  \n",
       "75%      0.200000    15.000000  \n",
       "max      0.790000   342.000000  "
      ]
     },
     "execution_count": 137,
     "metadata": {},
     "output_type": "execute_result"
    }
   ],
   "source": [
    "db.describe()"
   ]
  },
  {
   "cell_type": "markdown",
   "id": "d94f6961",
   "metadata": {},
   "source": [
    "### Datacleaning"
   ]
  },
  {
   "cell_type": "code",
   "execution_count": 138,
   "id": "5d495f6a",
   "metadata": {},
   "outputs": [
    {
     "data": {
      "text/plain": [
       "time                0.000000\n",
       "latitude            0.000000\n",
       "longitude           0.000000\n",
       "depth               0.000000\n",
       "mag                 0.000000\n",
       "magType             0.000000\n",
       "nst                45.991254\n",
       "gap                39.067055\n",
       "dmin               84.220117\n",
       "rms                10.860058\n",
       "net                 0.000000\n",
       "id                  0.000000\n",
       "updated             0.000000\n",
       "place               0.072886\n",
       "type                0.000000\n",
       "horizontalError    86.115160\n",
       "depthError         64.067055\n",
       "magError           80.648688\n",
       "magNst             15.925656\n",
       "status              0.000000\n",
       "locationSource      0.000000\n",
       "magSource           0.000000\n",
       "dtype: float64"
      ]
     },
     "execution_count": 138,
     "metadata": {},
     "output_type": "execute_result"
    }
   ],
   "source": [
    "db.isnull().mean()*100"
   ]
  },
  {
   "cell_type": "code",
   "execution_count": 139,
   "id": "56747abf",
   "metadata": {},
   "outputs": [
    {
     "data": {
      "text/html": [
       "<div>\n",
       "<style scoped>\n",
       "    .dataframe tbody tr th:only-of-type {\n",
       "        vertical-align: middle;\n",
       "    }\n",
       "\n",
       "    .dataframe tbody tr th {\n",
       "        vertical-align: top;\n",
       "    }\n",
       "\n",
       "    .dataframe thead th {\n",
       "        text-align: right;\n",
       "    }\n",
       "</style>\n",
       "<table border=\"1\" class=\"dataframe\">\n",
       "  <thead>\n",
       "    <tr style=\"text-align: right;\">\n",
       "      <th></th>\n",
       "      <th>time</th>\n",
       "      <th>latitude</th>\n",
       "      <th>longitude</th>\n",
       "      <th>depth</th>\n",
       "      <th>mag</th>\n",
       "      <th>magType</th>\n",
       "      <th>nst</th>\n",
       "      <th>gap</th>\n",
       "      <th>dmin</th>\n",
       "      <th>rms</th>\n",
       "      <th>...</th>\n",
       "      <th>updated</th>\n",
       "      <th>place</th>\n",
       "      <th>type</th>\n",
       "      <th>horizontalError</th>\n",
       "      <th>depthError</th>\n",
       "      <th>magError</th>\n",
       "      <th>magNst</th>\n",
       "      <th>status</th>\n",
       "      <th>locationSource</th>\n",
       "      <th>magSource</th>\n",
       "    </tr>\n",
       "  </thead>\n",
       "  <tbody>\n",
       "    <tr>\n",
       "      <th>0</th>\n",
       "      <td>2023-04-12T04:40:49.948Z</td>\n",
       "      <td>34.3100</td>\n",
       "      <td>73.5795</td>\n",
       "      <td>10.000</td>\n",
       "      <td>4.3</td>\n",
       "      <td>mb</td>\n",
       "      <td>24.0</td>\n",
       "      <td>176.0</td>\n",
       "      <td>0.707</td>\n",
       "      <td>0.72</td>\n",
       "      <td>...</td>\n",
       "      <td>2023-04-14T03:51:02.309Z</td>\n",
       "      <td>12 km ESE of Muzaffar?b?d, Pakistan</td>\n",
       "      <td>earthquake</td>\n",
       "      <td>6.36</td>\n",
       "      <td>1.970</td>\n",
       "      <td>0.168</td>\n",
       "      <td>10.0</td>\n",
       "      <td>reviewed</td>\n",
       "      <td>us</td>\n",
       "      <td>us</td>\n",
       "    </tr>\n",
       "    <tr>\n",
       "      <th>1</th>\n",
       "      <td>2023-04-08T09:07:36.806Z</td>\n",
       "      <td>34.6540</td>\n",
       "      <td>70.6313</td>\n",
       "      <td>51.614</td>\n",
       "      <td>4.4</td>\n",
       "      <td>mb</td>\n",
       "      <td>35.0</td>\n",
       "      <td>135.0</td>\n",
       "      <td>1.315</td>\n",
       "      <td>0.47</td>\n",
       "      <td>...</td>\n",
       "      <td>2023-04-09T05:16:57.681Z</td>\n",
       "      <td>30 km NNE of Jal?l?b?d, Afghanistan</td>\n",
       "      <td>earthquake</td>\n",
       "      <td>7.59</td>\n",
       "      <td>10.210</td>\n",
       "      <td>0.076</td>\n",
       "      <td>53.0</td>\n",
       "      <td>reviewed</td>\n",
       "      <td>us</td>\n",
       "      <td>us</td>\n",
       "    </tr>\n",
       "    <tr>\n",
       "      <th>2</th>\n",
       "      <td>2023-03-30T19:18:55.205Z</td>\n",
       "      <td>35.6280</td>\n",
       "      <td>70.8486</td>\n",
       "      <td>93.182</td>\n",
       "      <td>4.2</td>\n",
       "      <td>mb</td>\n",
       "      <td>50.0</td>\n",
       "      <td>100.0</td>\n",
       "      <td>1.835</td>\n",
       "      <td>0.55</td>\n",
       "      <td>...</td>\n",
       "      <td>2023-04-12T16:50:36.040Z</td>\n",
       "      <td>23 km NNW of P?r?n, Afghanistan</td>\n",
       "      <td>earthquake</td>\n",
       "      <td>6.98</td>\n",
       "      <td>7.800</td>\n",
       "      <td>0.112</td>\n",
       "      <td>22.0</td>\n",
       "      <td>reviewed</td>\n",
       "      <td>us</td>\n",
       "      <td>us</td>\n",
       "    </tr>\n",
       "    <tr>\n",
       "      <th>3</th>\n",
       "      <td>2023-03-29T00:19:14.335Z</td>\n",
       "      <td>34.6026</td>\n",
       "      <td>70.6043</td>\n",
       "      <td>52.985</td>\n",
       "      <td>4.3</td>\n",
       "      <td>mb</td>\n",
       "      <td>48.0</td>\n",
       "      <td>78.0</td>\n",
       "      <td>1.290</td>\n",
       "      <td>0.93</td>\n",
       "      <td>...</td>\n",
       "      <td>2023-03-30T09:45:23.422Z</td>\n",
       "      <td>Hindu Kush region, Afghanistan</td>\n",
       "      <td>earthquake</td>\n",
       "      <td>5.68</td>\n",
       "      <td>5.690</td>\n",
       "      <td>0.081</td>\n",
       "      <td>43.0</td>\n",
       "      <td>reviewed</td>\n",
       "      <td>us</td>\n",
       "      <td>us</td>\n",
       "    </tr>\n",
       "    <tr>\n",
       "      <th>4</th>\n",
       "      <td>2023-02-24T01:06:31.718Z</td>\n",
       "      <td>33.7601</td>\n",
       "      <td>72.7349</td>\n",
       "      <td>10.000</td>\n",
       "      <td>4.1</td>\n",
       "      <td>mb</td>\n",
       "      <td>26.0</td>\n",
       "      <td>165.0</td>\n",
       "      <td>0.458</td>\n",
       "      <td>0.62</td>\n",
       "      <td>...</td>\n",
       "      <td>2023-03-17T01:15:37.410Z</td>\n",
       "      <td>27 km E of Sanjwal, Pakistan</td>\n",
       "      <td>earthquake</td>\n",
       "      <td>4.79</td>\n",
       "      <td>1.859</td>\n",
       "      <td>0.140</td>\n",
       "      <td>14.0</td>\n",
       "      <td>reviewed</td>\n",
       "      <td>us</td>\n",
       "      <td>us</td>\n",
       "    </tr>\n",
       "  </tbody>\n",
       "</table>\n",
       "<p>5 rows × 22 columns</p>\n",
       "</div>"
      ],
      "text/plain": [
       "                       time  latitude  longitude   depth  mag magType   nst  \\\n",
       "0  2023-04-12T04:40:49.948Z   34.3100    73.5795  10.000  4.3      mb  24.0   \n",
       "1  2023-04-08T09:07:36.806Z   34.6540    70.6313  51.614  4.4      mb  35.0   \n",
       "2  2023-03-30T19:18:55.205Z   35.6280    70.8486  93.182  4.2      mb  50.0   \n",
       "3  2023-03-29T00:19:14.335Z   34.6026    70.6043  52.985  4.3      mb  48.0   \n",
       "4  2023-02-24T01:06:31.718Z   33.7601    72.7349  10.000  4.1      mb  26.0   \n",
       "\n",
       "     gap   dmin   rms  ...                   updated  \\\n",
       "0  176.0  0.707  0.72  ...  2023-04-14T03:51:02.309Z   \n",
       "1  135.0  1.315  0.47  ...  2023-04-09T05:16:57.681Z   \n",
       "2  100.0  1.835  0.55  ...  2023-04-12T16:50:36.040Z   \n",
       "3   78.0  1.290  0.93  ...  2023-03-30T09:45:23.422Z   \n",
       "4  165.0  0.458  0.62  ...  2023-03-17T01:15:37.410Z   \n",
       "\n",
       "                                 place        type horizontalError depthError  \\\n",
       "0  12 km ESE of Muzaffar?b?d, Pakistan  earthquake            6.36      1.970   \n",
       "1  30 km NNE of Jal?l?b?d, Afghanistan  earthquake            7.59     10.210   \n",
       "2      23 km NNW of P?r?n, Afghanistan  earthquake            6.98      7.800   \n",
       "3       Hindu Kush region, Afghanistan  earthquake            5.68      5.690   \n",
       "4         27 km E of Sanjwal, Pakistan  earthquake            4.79      1.859   \n",
       "\n",
       "   magError  magNst    status  locationSource magSource  \n",
       "0     0.168    10.0  reviewed              us        us  \n",
       "1     0.076    53.0  reviewed              us        us  \n",
       "2     0.112    22.0  reviewed              us        us  \n",
       "3     0.081    43.0  reviewed              us        us  \n",
       "4     0.140    14.0  reviewed              us        us  \n",
       "\n",
       "[5 rows x 22 columns]"
      ]
     },
     "execution_count": 139,
     "metadata": {},
     "output_type": "execute_result"
    }
   ],
   "source": [
    "db.head()"
   ]
  },
  {
   "cell_type": "markdown",
   "id": "a5a07aab",
   "metadata": {},
   "source": [
    "we can see in places we have some data of other countries also but as we want data of only india,nepal we will remove rest"
   ]
  },
  {
   "cell_type": "code",
   "execution_count": 140,
   "id": "d0f590aa",
   "metadata": {},
   "outputs": [],
   "source": [
    "db['place']=db['place'].str.split(',').str[1]"
   ]
  },
  {
   "cell_type": "code",
   "execution_count": 141,
   "id": "b74193bd",
   "metadata": {},
   "outputs": [],
   "source": [
    "db['place']=db['place'].str.strip()"
   ]
  },
  {
   "cell_type": "code",
   "execution_count": 143,
   "id": "d4e6b77e",
   "metadata": {},
   "outputs": [
    {
     "data": {
      "text/plain": [
       "array(['Pakistan', 'Afghanistan', 'India', nan, 'China'], dtype=object)"
      ]
     },
     "execution_count": 143,
     "metadata": {},
     "output_type": "execute_result"
    }
   ],
   "source": [
    "db['place'].unique()"
   ]
  },
  {
   "cell_type": "code",
   "execution_count": 145,
   "id": "87b53d17",
   "metadata": {},
   "outputs": [],
   "source": [
    "db=db[db['place']=='India']"
   ]
  },
  {
   "cell_type": "code",
   "execution_count": 146,
   "id": "4e16fb95",
   "metadata": {},
   "outputs": [],
   "source": [
    "db['place'].fillna('India',inplace=True)"
   ]
  },
  {
   "cell_type": "code",
   "execution_count": 259,
   "id": "588580a2",
   "metadata": {},
   "outputs": [
    {
     "data": {
      "text/plain": [
       "(867, 14)"
      ]
     },
     "execution_count": 259,
     "metadata": {},
     "output_type": "execute_result"
    }
   ],
   "source": [
    "db.shape"
   ]
  },
  {
   "cell_type": "code",
   "execution_count": 147,
   "id": "2a9a172a",
   "metadata": {},
   "outputs": [
    {
     "data": {
      "text/plain": [
       "array(['us', 'gcmt', 'dmn', 'hrv', 'ndi', 'iscgem', 'iscgemsup'],\n",
       "      dtype=object)"
      ]
     },
     "execution_count": 147,
     "metadata": {},
     "output_type": "execute_result"
    }
   ],
   "source": [
    "db['magSource'].unique()"
   ]
  },
  {
   "cell_type": "markdown",
   "id": "e068fcba",
   "metadata": {},
   "source": [
    " We will be trying to remove columns which wont be useful to us"
   ]
  },
  {
   "cell_type": "code",
   "execution_count": 148,
   "id": "bde10408",
   "metadata": {},
   "outputs": [
    {
     "data": {
      "text/plain": [
       "us           812\n",
       "iscgem        34\n",
       "hrv           10\n",
       "gcmt           6\n",
       "ndi            2\n",
       "iscgemsup      2\n",
       "dmn            1\n",
       "Name: magSource, dtype: int64"
      ]
     },
     "execution_count": 148,
     "metadata": {},
     "output_type": "execute_result"
    }
   ],
   "source": [
    "db['magSource'].value_counts()"
   ]
  },
  {
   "cell_type": "code",
   "execution_count": 149,
   "id": "92b95d92",
   "metadata": {},
   "outputs": [
    {
     "data": {
      "text/plain": [
       "array(['us', 'dmn', 'iscgem', 'iscgemsup'], dtype=object)"
      ]
     },
     "execution_count": 149,
     "metadata": {},
     "output_type": "execute_result"
    }
   ],
   "source": [
    "db['locationSource'].unique()"
   ]
  },
  {
   "cell_type": "code",
   "execution_count": 150,
   "id": "7c9ec5ea",
   "metadata": {},
   "outputs": [
    {
     "data": {
      "text/plain": [
       "us           812\n",
       "iscgem        34\n",
       "hrv           10\n",
       "gcmt           6\n",
       "ndi            2\n",
       "iscgemsup      2\n",
       "dmn            1\n",
       "Name: magSource, dtype: int64"
      ]
     },
     "execution_count": 150,
     "metadata": {},
     "output_type": "execute_result"
    }
   ],
   "source": [
    "db['magSource'].value_counts()"
   ]
  },
  {
   "cell_type": "code",
   "execution_count": 151,
   "id": "224ecefb",
   "metadata": {},
   "outputs": [
    {
     "data": {
      "text/plain": [
       "array(['reviewed'], dtype=object)"
      ]
     },
     "execution_count": 151,
     "metadata": {},
     "output_type": "execute_result"
    }
   ],
   "source": [
    "db['status'].unique()"
   ]
  },
  {
   "cell_type": "code",
   "execution_count": 152,
   "id": "01380848",
   "metadata": {},
   "outputs": [
    {
     "data": {
      "text/plain": [
       "array(['earthquake', 'nuclear explosion'], dtype=object)"
      ]
     },
     "execution_count": 152,
     "metadata": {},
     "output_type": "execute_result"
    }
   ],
   "source": [
    "db['type'].unique()"
   ]
  },
  {
   "cell_type": "code",
   "execution_count": 153,
   "id": "40481d21",
   "metadata": {},
   "outputs": [
    {
     "data": {
      "text/plain": [
       "10      2023-03-07T19:00:02.040Z\n",
       "14      2023-01-28T19:58:19.040Z\n",
       "16      2023-01-21T19:27:09.040Z\n",
       "17      2022-12-31T23:03:38.040Z\n",
       "24      2022-11-01T15:14:03.040Z\n",
       "                  ...           \n",
       "2737    2022-04-25T23:58:38.489Z\n",
       "2738    2022-04-26T00:02:32.237Z\n",
       "2740    2022-04-26T00:07:37.405Z\n",
       "2742    2022-05-09T15:23:43.858Z\n",
       "2743    2022-04-25T20:23:47.590Z\n",
       "Name: updated, Length: 867, dtype: object"
      ]
     },
     "execution_count": 153,
     "metadata": {},
     "output_type": "execute_result"
    }
   ],
   "source": [
    "db['updated']"
   ]
  },
  {
   "cell_type": "markdown",
   "id": "2ac94285",
   "metadata": {},
   "source": [
    "we are dropping few columns which contain reductant info and which wont have much effect on our data\n",
    "\n",
    "1. dropping type,status,place as they contain same value in all the columns\n",
    "2. dropping columns updated ,magsource,locationSource as they contain information regarding the meta data like place where these data were collected location when was the data last updated and much more "
   ]
  },
  {
   "cell_type": "code",
   "execution_count": 154,
   "id": "f47f44a0",
   "metadata": {},
   "outputs": [],
   "source": [
    "db.drop(columns=['updated','type','status','magSource','locationSource','place'],inplace=True)"
   ]
  },
  {
   "cell_type": "code",
   "execution_count": 155,
   "id": "3589a29e",
   "metadata": {},
   "outputs": [
    {
     "data": {
      "text/html": [
       "<div>\n",
       "<style scoped>\n",
       "    .dataframe tbody tr th:only-of-type {\n",
       "        vertical-align: middle;\n",
       "    }\n",
       "\n",
       "    .dataframe tbody tr th {\n",
       "        vertical-align: top;\n",
       "    }\n",
       "\n",
       "    .dataframe thead th {\n",
       "        text-align: right;\n",
       "    }\n",
       "</style>\n",
       "<table border=\"1\" class=\"dataframe\">\n",
       "  <thead>\n",
       "    <tr style=\"text-align: right;\">\n",
       "      <th></th>\n",
       "      <th>time</th>\n",
       "      <th>latitude</th>\n",
       "      <th>longitude</th>\n",
       "      <th>depth</th>\n",
       "      <th>mag</th>\n",
       "      <th>magType</th>\n",
       "      <th>nst</th>\n",
       "      <th>gap</th>\n",
       "      <th>dmin</th>\n",
       "      <th>rms</th>\n",
       "      <th>net</th>\n",
       "      <th>id</th>\n",
       "      <th>horizontalError</th>\n",
       "      <th>depthError</th>\n",
       "      <th>magError</th>\n",
       "      <th>magNst</th>\n",
       "    </tr>\n",
       "  </thead>\n",
       "  <tbody>\n",
       "    <tr>\n",
       "      <th>10</th>\n",
       "      <td>2022-12-31T19:49:41.613Z</td>\n",
       "      <td>28.7191</td>\n",
       "      <td>76.6286</td>\n",
       "      <td>10.000</td>\n",
       "      <td>4.1</td>\n",
       "      <td>mb</td>\n",
       "      <td>21.0</td>\n",
       "      <td>179.0</td>\n",
       "      <td>5.696</td>\n",
       "      <td>0.57</td>\n",
       "      <td>us</td>\n",
       "      <td>us7000j1aj</td>\n",
       "      <td>9.35</td>\n",
       "      <td>1.929</td>\n",
       "      <td>0.158</td>\n",
       "      <td>13.0</td>\n",
       "    </tr>\n",
       "    <tr>\n",
       "      <th>14</th>\n",
       "      <td>2022-11-16T16:02:53.870Z</td>\n",
       "      <td>31.8986</td>\n",
       "      <td>76.9792</td>\n",
       "      <td>10.000</td>\n",
       "      <td>4.4</td>\n",
       "      <td>mb</td>\n",
       "      <td>46.0</td>\n",
       "      <td>87.0</td>\n",
       "      <td>3.581</td>\n",
       "      <td>0.56</td>\n",
       "      <td>us</td>\n",
       "      <td>us7000iq4z</td>\n",
       "      <td>3.67</td>\n",
       "      <td>1.816</td>\n",
       "      <td>0.102</td>\n",
       "      <td>28.0</td>\n",
       "    </tr>\n",
       "    <tr>\n",
       "      <th>16</th>\n",
       "      <td>2022-11-06T03:03:03.944Z</td>\n",
       "      <td>30.7102</td>\n",
       "      <td>78.5669</td>\n",
       "      <td>22.322</td>\n",
       "      <td>4.6</td>\n",
       "      <td>mb</td>\n",
       "      <td>53.0</td>\n",
       "      <td>100.0</td>\n",
       "      <td>5.364</td>\n",
       "      <td>0.75</td>\n",
       "      <td>us</td>\n",
       "      <td>us7000imtm</td>\n",
       "      <td>8.67</td>\n",
       "      <td>1.881</td>\n",
       "      <td>0.098</td>\n",
       "      <td>31.0</td>\n",
       "    </tr>\n",
       "    <tr>\n",
       "      <th>17</th>\n",
       "      <td>2022-10-18T12:09:45.297Z</td>\n",
       "      <td>32.3641</td>\n",
       "      <td>78.6637</td>\n",
       "      <td>10.000</td>\n",
       "      <td>4.5</td>\n",
       "      <td>mb</td>\n",
       "      <td>77.0</td>\n",
       "      <td>88.0</td>\n",
       "      <td>4.711</td>\n",
       "      <td>0.61</td>\n",
       "      <td>us</td>\n",
       "      <td>us6000iuid</td>\n",
       "      <td>7.79</td>\n",
       "      <td>1.842</td>\n",
       "      <td>0.077</td>\n",
       "      <td>50.0</td>\n",
       "    </tr>\n",
       "    <tr>\n",
       "      <th>24</th>\n",
       "      <td>2022-08-24T17:34:21.884Z</td>\n",
       "      <td>33.1509</td>\n",
       "      <td>75.7219</td>\n",
       "      <td>10.000</td>\n",
       "      <td>4.2</td>\n",
       "      <td>mb</td>\n",
       "      <td>42.0</td>\n",
       "      <td>156.0</td>\n",
       "      <td>2.112</td>\n",
       "      <td>0.68</td>\n",
       "      <td>us</td>\n",
       "      <td>us7000i23w</td>\n",
       "      <td>8.01</td>\n",
       "      <td>1.838</td>\n",
       "      <td>0.121</td>\n",
       "      <td>19.0</td>\n",
       "    </tr>\n",
       "  </tbody>\n",
       "</table>\n",
       "</div>"
      ],
      "text/plain": [
       "                        time  latitude  longitude   depth  mag magType   nst  \\\n",
       "10  2022-12-31T19:49:41.613Z   28.7191    76.6286  10.000  4.1      mb  21.0   \n",
       "14  2022-11-16T16:02:53.870Z   31.8986    76.9792  10.000  4.4      mb  46.0   \n",
       "16  2022-11-06T03:03:03.944Z   30.7102    78.5669  22.322  4.6      mb  53.0   \n",
       "17  2022-10-18T12:09:45.297Z   32.3641    78.6637  10.000  4.5      mb  77.0   \n",
       "24  2022-08-24T17:34:21.884Z   33.1509    75.7219  10.000  4.2      mb  42.0   \n",
       "\n",
       "      gap   dmin   rms net          id  horizontalError  depthError  magError  \\\n",
       "10  179.0  5.696  0.57  us  us7000j1aj             9.35       1.929     0.158   \n",
       "14   87.0  3.581  0.56  us  us7000iq4z             3.67       1.816     0.102   \n",
       "16  100.0  5.364  0.75  us  us7000imtm             8.67       1.881     0.098   \n",
       "17   88.0  4.711  0.61  us  us6000iuid             7.79       1.842     0.077   \n",
       "24  156.0  2.112  0.68  us  us7000i23w             8.01       1.838     0.121   \n",
       "\n",
       "    magNst  \n",
       "10    13.0  \n",
       "14    28.0  \n",
       "16    31.0  \n",
       "17    50.0  \n",
       "24    19.0  "
      ]
     },
     "execution_count": 155,
     "metadata": {},
     "output_type": "execute_result"
    }
   ],
   "source": [
    "db.head()"
   ]
  },
  {
   "cell_type": "code",
   "execution_count": 156,
   "id": "98b844ef",
   "metadata": {},
   "outputs": [
    {
     "data": {
      "text/plain": [
       "array(['us', 'iscgem', 'iscgemsup'], dtype=object)"
      ]
     },
     "execution_count": 156,
     "metadata": {},
     "output_type": "execute_result"
    }
   ],
   "source": [
    "db['net'].unique()"
   ]
  },
  {
   "cell_type": "code",
   "execution_count": 157,
   "id": "dd696890",
   "metadata": {},
   "outputs": [
    {
     "data": {
      "text/plain": [
       "array(['us7000j1aj', 'us7000iq4z', 'us7000imtm', 'us6000iuid',\n",
       "       'us7000i23w', 'us6000icvq', 'us6000i7rv', 'us7000hkq7',\n",
       "       'us6000hmcp', 'us7000h0w1', 'us6000h0l1', 'us7000gn46',\n",
       "       'us7000gidp', 'us7000ge0w', 'us7000fwgt', 'us7000fvkc',\n",
       "       'us7000fsnw', 'us7000fq4k', 'us6000fxih', 'us7000fanp',\n",
       "       'us7000fa6y', 'us7000f3a5', 'us6000f3yt', 'us6000ezhw',\n",
       "       'us7000eiwa', 'us6000eqyg', 'us6000eqdp', 'us7000e5kt',\n",
       "       'us6000e1yd', 'us6000de6k', 'us6000d7f5', 'us6000d7f2',\n",
       "       'us6000d71u', 'us7000cryp', 'us7000cr0b', 'us7000cbmi',\n",
       "       'us7000c8na', 'us6000c5zr', 'us6000c5y3', 'us6000c222',\n",
       "       'us6000c1yn', 'us6000c1ja', 'us6000c1i2', 'us6000c13w',\n",
       "       'us6000bzub', 'us6000bzjp', 'us7000ahde', 'us7000ak4u',\n",
       "       'us7000afay', 'us7000aeua', 'us6000a1wn', 'us70009ebf',\n",
       "       'us70008utq', 'us70008idc', 'us70008h7l', 'us60008dp6',\n",
       "       'us60008612', 'us600084lt', 'us70006ymh', 'us70006sb0',\n",
       "       'us70005ttj', 'us70005dl7', 'us70005dbm', 'us60004wwv',\n",
       "       'us60004v0j', 'us70003vv0', 'us1000jh8z', 'us2000jkem',\n",
       "       'us2000jjcb', 'us2000jdur', 'us2000jdp4', 'us2000j2bz',\n",
       "       'us2000j0y0', 'us2000i61q', 'us2000i61m', 'us1000hij3',\n",
       "       'us1000hie4', 'us2000hckv', 'us2000hbnn', 'us2000hgq4',\n",
       "       'us2000gaw5', 'us2000gakd', 'us2000g00w', 'us2000fsyl',\n",
       "       'us1000euye', 'us1000erd6', 'us1000ewlh', 'us1000ek9l',\n",
       "       'us1000ejt1', 'us1000e99b', 'us1000dz8g', 'us1000d4p8',\n",
       "       'us1000bw6p', 'us2000c2q3', 'us2000c2cc', 'us2000c1ea',\n",
       "       'us1000bmru', 'us1000axdn', 'us1000atxi', 'us2000atf6',\n",
       "       'us2000a8n7', 'us20009j48', 'us10008w1v', 'us10008tqh',\n",
       "       'us10008tgd', 'us20008hyg', 'us10007s65', 'us1000793m',\n",
       "       'us20007dpw', 'us10006nsd', 'us10006j3q', 'us20006ufn',\n",
       "       'us20006ufk', 'us10006acy', 'us10005jjq', 'us20005ai2',\n",
       "       'us20004z10', 'us20004x0r', 'us100041zf', 'us10003l2c',\n",
       "       'us20003jxe', 'us20003juf', 'us20003g1d', 'us20002ygc',\n",
       "       'us20002w84', 'us10002a88', 'us10001m44', 'usc000tuf6',\n",
       "       'usb000tpit', 'usc000t6sv', 'usb000syre', 'usc000syhy',\n",
       "       'usc000sy2n', 'usb000sl0g', 'usb000sps1', 'usb000sf2b',\n",
       "       'usb000s4v3', 'usb000rx2e', 'usc000rgty', 'usc000rf2p',\n",
       "       'usb000pr2b', 'usb000n1g8', 'usb000ldz0', 'usb000lcjj',\n",
       "       'usb000l5la', 'usb000l033', 'usb000kzjv', 'usb000kvrg',\n",
       "       'usb000ktgz', 'usc000knei', 'usc000km5a', 'usb000khr2',\n",
       "       'usb000khr1', 'usb000khnw', 'usb000jirl', 'usb000jfkv',\n",
       "       'usb000jd2p', 'usb000j66f', 'usb000j2v5', 'usb000ivha',\n",
       "       'usb000iug2', 'usb000itvz', 'usb000idsv', 'usp000k1v5',\n",
       "       'usb000i9y4', 'usc000hgjk', 'usb000hd78', 'us2013qec4',\n",
       "       'usc000gwrb', 'usc000gwr4', 'usp000k0ht', 'usp000k0hs',\n",
       "       'usb000gjjv', 'usp000k0h5', 'usb000gjhz', 'usb000gikz',\n",
       "       'usp000k08v', 'usc000fcdj', 'usc000f5fv', 'usp000jx6n',\n",
       "       'usp000jw4z', 'usp000jvdc', 'usp000jtrg', 'usp000jtfr',\n",
       "       'usp000jtfn', 'usp000jtd8', 'usp000jtcv', 'usp000jq2d',\n",
       "       'usp000jpyw', 'usp000jpsx', 'usp000jpfg', 'usp000jnvz',\n",
       "       'usp000jnvx', 'usp000jmz6', 'usp000jjvu', 'usp000jfwp',\n",
       "       'usp000jfth', 'usp000jerg', 'usp000jd1d', 'usp000jd02',\n",
       "       'usp000j9qr', 'usp000j8gq', 'usp000j7rt', 'usp000j6w9',\n",
       "       'usp000j5mm', 'usp000j3fb', 'usp000j0qe', 'usp000hpbm',\n",
       "       'usp000hp7v', 'usp000hkjd', 'usp000hj3a', 'usp000hdk2',\n",
       "       'usp000hd9n', 'usp000hc9a', 'usp000h9w9', 'usp000h9c9',\n",
       "       'usp000h9aw', 'usp000h4sz', 'usp000h1r8', 'usp000gzck',\n",
       "       'usp000gxv3', 'usp000gxap', 'usp000gvy3', 'usp000gu73',\n",
       "       'usp000gt9r', 'usp000gsdg', 'usp000gp49', 'usp000gnd6',\n",
       "       'usp000gmz9', 'usp000gkrq', 'usp000gka2', 'usp000gh26',\n",
       "       'usp000geua', 'usp000geu4', 'usp000gbcv', 'usp000g9qn',\n",
       "       'usp000g82u', 'usp000g7kp', 'usp000g7c3', 'usp000g5zr',\n",
       "       'usp000g5hm', 'usp000g40v', 'usp000g3dn', 'usp000g35y',\n",
       "       'usp000g27n', 'usp000g1ka', 'usp000g187', 'usp000g17a',\n",
       "       'usp000g0yb', 'usp000g0tf', 'usp000g0af', 'usp000fzx0',\n",
       "       'usp000fza1', 'usp000fyeu', 'usp000fyd4', 'usp000fxb1',\n",
       "       'usp000fw5e', 'usp000fvx3', 'usp000fva0', 'usp000fu91',\n",
       "       'usp000fu90', 'usp000ftab', 'usp000fs5v', 'usp000fr9g',\n",
       "       'usp000fr70', 'usp000fr1k', 'usp000fqtm', 'usp000fpz7',\n",
       "       'usp000fpup', 'usp000fj3d', 'usp000fhk7', 'usp000fhc1',\n",
       "       'usp000fgwd', 'usp000fek9', 'usp000fe0s', 'usp000fdz3',\n",
       "       'usp000fd9c', 'usp000fa2s', 'usp000f85e', 'usp000f7mg',\n",
       "       'usp000f59e', 'usp000f45y', 'usp000f124', 'usp000f0xp',\n",
       "       'usp000f0es', 'usp000ezya', 'usp000ezy7', 'usp000ez42',\n",
       "       'usp000eysv', 'usp000ewsn', 'usp000eu0x', 'usp000et0f',\n",
       "       'usp000esxc', 'usp000ep60', 'usp000ep53', 'usp000ep50',\n",
       "       'usp000enzn', 'usp000ema2', 'usp000ek3x', 'usp000ehyz',\n",
       "       'usp000egp1', 'usp000eggx', 'usp000ef7r', 'usp000edp2',\n",
       "       'usp000edb8', 'usp000ed70', 'usp000eaeg', 'usp000e98w',\n",
       "       'usp000e8sk', 'usp000e8cd', 'usp000e814', 'usp000e696',\n",
       "       'usp000e65g', 'usp000e647', 'usp000e49j', 'usp000e3rz',\n",
       "       'usp000e3kg', 'usp000e3gw', 'usp000e374', 'usp000e2yv',\n",
       "       'usp000e2vh', 'usp000e2vg', 'usp000e2ep', 'usp000e1w1',\n",
       "       'usp000e1vt', 'usp000e1vs', 'usp000e1vp', 'usp000e1mw',\n",
       "       'usp000e1mp', 'usp000e1kp', 'usp000e1kb', 'usp000e1jg',\n",
       "       'usp000e1g6', 'usp000e1g2', 'usp000e1f4', 'usp000e1eb',\n",
       "       'usp000e1bz', 'usp000e1a9', 'usp000e17p', 'usp000e15q',\n",
       "       'usp000e15n', 'usp000e14a', 'usp000e13f', 'usp000dyu3',\n",
       "       'usp000dysq', 'usp000dy8f', 'usp000dxjf', 'usp000dxe6',\n",
       "       'usp000dvjs', 'usp000duhq', 'usp000dtn5', 'usp000drda',\n",
       "       'usp000dr4z', 'usp000dnq5', 'usp000dnae', 'usp000dheg',\n",
       "       'usp000dh75', 'usp000dh6x', 'usp000dgk0', 'usp000dg7z',\n",
       "       'usp000d9hf', 'usp000d9bk', 'usp000d84d', 'usp000d849',\n",
       "       'usp000d6jh', 'usp000d3tp', 'usp000d0xu', 'usp000d0ns',\n",
       "       'usp000d038', 'usp000cz5s', 'usp000cty0', 'usp000ctwt',\n",
       "       'usp000crww', 'usp000cmvu', 'usp000ckdm', 'usp000cfq2',\n",
       "       'usp000cfbu', 'usp000cfbq', 'usp000c4je', 'usp000c06e',\n",
       "       'usp000by9k', 'usp000by91', 'usp000bx1p', 'usp000bweq',\n",
       "       'usp000bw3f', 'usp000bvan', 'usp000brzn', 'usp000brte',\n",
       "       'usp000bqe2', 'usp000bq3r', 'usp000be16', 'usp000bb8c',\n",
       "       'usp000b5hj', 'usp000b4ur', 'usp000b4tv', 'usp000b3ku',\n",
       "       'usp000b276', 'usp000b1u8', 'usp000b0jb', 'usp000b0a6',\n",
       "       'usp000b0a4', 'usp000axa6', 'usp000axa5', 'usp000aw0f',\n",
       "       'usp000avjk', 'usp000avj7', 'usp000avj6', 'usp000avcp',\n",
       "       'usp000av84', 'usp000at50', 'usp000ara6', 'usp000aqy1',\n",
       "       'usp000aq6r', 'usp000apx9', 'usp000ap3n', 'usp000am34',\n",
       "       'usp000agtg', 'usp000aefh', 'usp000aedj', 'usp000ae2k',\n",
       "       'usp000adyj', 'usp000abz1', 'usp000ab9e', 'usp000aaj0',\n",
       "       'usp000aa7m', 'usp000a9zu', 'usp000a9z2', 'usp000a91w',\n",
       "       'usp000a8q6', 'usp000a8bw', 'usp000a7aq', 'usp000a6rd',\n",
       "       'usp000a4n5', 'usp000a2yn', 'usp000a1r7', 'usp000a1ps',\n",
       "       'usp000a1n1', 'usp000a0vc', 'usp000a0u8', 'usp0009zef',\n",
       "       'usp0009y73', 'usp0009xha', 'usp0009vrf', 'usp0009v2z',\n",
       "       'usp0009v2d', 'usp0009v1q', 'usp0009v01', 'usp0009uxx',\n",
       "       'usp0009uwh', 'usp0009uw1', 'usp0009usj', 'usp0009urn',\n",
       "       'usp0009uqv', 'usp0009tk8', 'usp0009t5y', 'usp0009rz9',\n",
       "       'usp0009r5k', 'usp0009nuh', 'usp0009nud', 'usp0009mjx',\n",
       "       'usp0009m7p', 'usp0009kvw', 'usp0009ja5', 'usp0009h9p',\n",
       "       'usp0009ekv', 'usp0009ec3', 'usp0009e0v', 'usp00098yg',\n",
       "       'usp000982p', 'usp00097xn', 'usp00097ha', 'usp00096qn',\n",
       "       'usp00096hk', 'usp00096a1', 'usp00095xz', 'usp00095xy',\n",
       "       'usp00095wv', 'usp00095ws', 'usp00095k5', 'usp00095gs',\n",
       "       'usp00095gb', 'usp00095e7', 'usp00095dy', 'usp00095cj',\n",
       "       'usp00095cg', 'usp00095cb', 'usp000950t', 'usp00094z2',\n",
       "       'usp00094mv', 'usp00093dd', 'usp0009395', 'usp000937d',\n",
       "       'usp00092ya', 'usp00090yp', 'usp00090y4', 'usp00090y0',\n",
       "       'usp0008yf7', 'usp0008yer', 'usp0008wn2', 'usp0008udz',\n",
       "       'usp0008te4', 'usp0008swx', 'usp0008rvp', 'usp0008rvk',\n",
       "       'usp0008rvh', 'usp0008rsg', 'usp0008r1r', 'usp0008qj4',\n",
       "       'usp0008nnu', 'usp0008mw6', 'usp0008kt8', 'usp0008j9w',\n",
       "       'usp0008hvd', 'usp0008hqn', 'usp0008hqg', 'usp0008hq0',\n",
       "       'usp0008hpy', 'usp0008fm5', 'usp0008f59', 'usp0008e8r',\n",
       "       'usp0008e8p', 'usp0008e8n', 'usp0008e8k', 'usp0008d2c',\n",
       "       'usp0008b4f', 'usp000866m', 'usp00085hs', 'usp00083kr',\n",
       "       'usp00081jg', 'usp00080m1', 'usp0007zpa', 'usp0007zjq',\n",
       "       'usp0007yh2', 'usp0007wm2', 'usp0007wbz', 'usp0007wb4',\n",
       "       'usp0007w70', 'usp0007w53', 'usp0007w4p', 'usp0007w4e',\n",
       "       'usp0007w2x', 'usp0007w2w', 'usp0007vt7', 'usp0007vb2',\n",
       "       'usp0007uzu', 'usp0007uyd', 'usp0007uwe', 'usp0007uv7',\n",
       "       'usp0007uj8', 'usp0007uf7', 'usp0007u4g', 'usp0007u2g',\n",
       "       'usp0007u28', 'usp0007tza', 'usp0007ty5', 'usp0007tpc',\n",
       "       'usp0007tfd', 'usp0007tcn', 'usp0007tbm', 'usp0007t8w',\n",
       "       'usp0007t8r', 'usp0007t8h', 'usp0007t87', 'usp0007t85',\n",
       "       'usp0007t7w', 'usp0007t7v', 'usp0007t7m', 'usp0007svu',\n",
       "       'usp0007r8q', 'usp0007qep', 'usp0007pxa', 'usp0007px7',\n",
       "       'usp0007nq5', 'usp0007n2k', 'usp0007m5d', 'usp0007m15',\n",
       "       'usp0007jxd', 'usp0007hqt', 'usp0007hfu', 'usp0007hew',\n",
       "       'usp0007h54', 'usp0007fab', 'usp0007ec8', 'usp0007e84',\n",
       "       'usp0007e5b', 'usp0007e3b', 'usp0007e0z', 'usp0007c0e',\n",
       "       'usp0007bkj', 'usp0007b7f', 'usp00077nd', 'usp00077k7',\n",
       "       'usp00076xc', 'usp00075hk', 'usp00074gn', 'usp00072xw',\n",
       "       'usp00071zr', 'usp0006z8y', 'usp0006wte', 'usp0006unn',\n",
       "       'usp0006kan', 'usp0006hru', 'usp0006h8f', 'usp0006f33',\n",
       "       'usp0006cg4', 'usp0006b4h', 'usp00060ds', 'usp0005ymr',\n",
       "       'usp0005un6', 'usp0005uj6', 'usp0005sdm', 'usp0005quv',\n",
       "       'usp0005quq', 'usp0005e30', 'usp0005dnf', 'usp0005c7b',\n",
       "       'usp0005b77', 'usp00059ax', 'usp00058zs', 'usp000564r',\n",
       "       'usp000548q', 'usp00053s1', 'usp000531d', 'usp00052mr',\n",
       "       'usp000529u', 'usp00051fn', 'usp0004zmz', 'usp0004zcq',\n",
       "       'usp0004yxu', 'usp0004yxs', 'usp0004yft', 'usp0004yey',\n",
       "       'usp0004y4f', 'usp0004y2p', 'usp0004y2g', 'usp0004y2a',\n",
       "       'usp0004y27', 'usp0004y1t', 'usp0004y1r', 'usp0004xvj',\n",
       "       'usp0004ve1', 'usp0004t9x', 'usp0004npb', 'usp0004ndb',\n",
       "       'usp0004mvf', 'usp0004ky1', 'usp0004kf8', 'usp0004jrn',\n",
       "       'usp0004jmp', 'usp0004jcr', 'usp0004j9c', 'usp0004j2e',\n",
       "       'usp0004gu9', 'usp0004fb7', 'usp00049b7', 'usp00047d8',\n",
       "       'usp0004564', 'usp00042xp', 'usp0003v4e', 'usp0003v4d',\n",
       "       'usp0003r9c', 'usp0003q6x', 'usp0003j9a', 'usp0003gua',\n",
       "       'usp0003c7n', 'usp0003bjg', 'usp0003917', 'usp00038kr',\n",
       "       'usp00036rp', 'usp00035jt', 'usp00035jf', 'usp0002xzn',\n",
       "       'usp0002wpp', 'usp0002w2z', 'usp0002twh', 'usp0002t74',\n",
       "       'usp0002t3u', 'usp0002scj', 'usp0002pjy', 'usp0002mef',\n",
       "       'usp0002hjv', 'usp0002fuw', 'usp0002cra', 'usp0002c7z',\n",
       "       'usp0002a2a', 'usp00029fv', 'usp00026eh', 'usp00024jz',\n",
       "       'usp000243m', 'usp00022wk', 'usp0001yxq', 'usp0001xhm',\n",
       "       'usp0001tc7', 'usp0001taj', 'usp0001rfj', 'usp0001q98',\n",
       "       'usp0001pdc', 'usp0001nf6', 'usp0001m54', 'usp0001he2',\n",
       "       'usp0001gw4', 'usp0001g4c', 'usp0001g2y', 'usp0001fw4',\n",
       "       'usp0001fkm', 'usp0001fba', 'usp0001f70', 'usp0001en8',\n",
       "       'usp0001eae', 'usp0001e81', 'usp0001e4b', 'usp0001bwk',\n",
       "       'usp0001a4k', 'usp0001a4j', 'usp0001a39', 'usp00019xk',\n",
       "       'usp00019h9', 'usp00019h8', 'usp00019bn', 'usp00017th',\n",
       "       'usp00016zt', 'usp00016zs', 'usp00016x5', 'usp00014ww',\n",
       "       'usp00014ra', 'usp00014nh', 'usp00011p7', 'usp00011p6',\n",
       "       'usp000117j', 'usp00010xk', 'usp00010k1', 'usp0000zps',\n",
       "       'usp0000ws2', 'usp0000v1w', 'usp0000u0y', 'usp0000tuw',\n",
       "       'usp0000t3p', 'usp0000t1q', 'usp0000shb', 'usp0000sd0',\n",
       "       'usp0000s5y', 'usp0000s5s', 'usp0000r41', 'usp0000qmz',\n",
       "       'usp0000pe0', 'usp0000nfy', 'usp0000nds', 'usp0000n4z',\n",
       "       'usp0000mmg', 'usp0000mmf', 'usp0000mcn', 'usp0000m9t',\n",
       "       'usp0000jr6', 'usp0000jp5', 'usp0000j9x', 'usp0000hnz',\n",
       "       'usp0000h6z', 'usp0000gg0', 'usp0000g5k', 'usp0000fx2',\n",
       "       'usp0000fv1', 'usp0000fu3', 'usp0000fam', 'usp0000ey1',\n",
       "       'usp0000esq', 'usp0000ece', 'usp0000ec2', 'usp0000eaw',\n",
       "       'usp0000dvz', 'usp0000dvk', 'usp0000dvj', 'usp0000dvh',\n",
       "       'usp0000du4', 'usp0000df1', 'usp0000deh', 'usp0000dbk',\n",
       "       'usp0000dbj', 'usp0000d5s', 'usp0000cvm', 'usp0000cvj',\n",
       "       'usp0000cvh', 'usp0000ctw', 'usp0000cjt', 'usp0000cfn',\n",
       "       'usp0000c7f', 'usp0000c3u', 'usp0000c1k', 'usp0000c1j',\n",
       "       'usp0000bvn', 'usp0000bdh', 'usp0000azf', 'usp0000ayr',\n",
       "       'usp0000aj9', 'usp0000aex', 'usp0000a69', 'usp00009s4',\n",
       "       'usp00009r8', 'usp00009qq', 'usp00009q0', 'usp00009px',\n",
       "       'usp00009pu', 'usp00009ps', 'usp00009ks', 'usp00009jy',\n",
       "       'usp00009jp', 'usp00009jm', 'usp00009jk', 'usp00009jh',\n",
       "       'usp00009jg', 'usp00009jf', 'usp00009jd', 'usp00009jc',\n",
       "       'usp00008tj', 'usp00008m4', 'usp000071b', 'usp00006en',\n",
       "       'usp00006dz', 'usp00005d8', 'usp00004jm', 'usp00004jj',\n",
       "       'usp0000403', 'usp00003xf', 'usp00003x7', 'usp00003x3',\n",
       "       'usp00003ky', 'usp00002rt', 'usp00002q2', 'usp00002q1',\n",
       "       'usp00001b4', 'usp000005y', 'usp000004y', 'iscgem769118',\n",
       "       'iscgem797561', 'iscgem803720', 'iscgem808239', 'iscgem814813',\n",
       "       'iscgem826069', 'iscgem826024', 'iscgem826993', 'iscgem832884',\n",
       "       'iscgem839007', 'iscgem838981', 'iscgem838644', 'iscgem842655',\n",
       "       'iscgem844491', 'iscgem857290', 'iscgem872138', 'iscgem889685',\n",
       "       'iscgem894694', 'iscgem895898', 'iscgem896313', 'iscgem897313',\n",
       "       'iscgem897932', 'iscgem898970', 'iscgem900616', 'iscgem903342',\n",
       "       'iscgem903305', 'iscgem907463', 'iscgem907855', 'iscgemsup909356',\n",
       "       'iscgem910016', 'iscgem910012', 'iscgem913500', 'iscgem913817',\n",
       "       'iscgem914010', 'iscgemsup610548628', 'iscgem16957848'],\n",
       "      dtype=object)"
      ]
     },
     "execution_count": 157,
     "metadata": {},
     "output_type": "execute_result"
    }
   ],
   "source": [
    "db['id'].unique()"
   ]
  },
  {
   "cell_type": "code",
   "execution_count": 158,
   "id": "389c30c4",
   "metadata": {},
   "outputs": [],
   "source": [
    "db.drop(columns=['id','net'],inplace=True)"
   ]
  },
  {
   "cell_type": "markdown",
   "id": "384de971",
   "metadata": {},
   "source": [
    "dropping id and net beacuse they are the information about how,when and what recorded this data"
   ]
  },
  {
   "cell_type": "code",
   "execution_count": 159,
   "id": "3f28dd53",
   "metadata": {},
   "outputs": [
    {
     "data": {
      "text/html": [
       "<div>\n",
       "<style scoped>\n",
       "    .dataframe tbody tr th:only-of-type {\n",
       "        vertical-align: middle;\n",
       "    }\n",
       "\n",
       "    .dataframe tbody tr th {\n",
       "        vertical-align: top;\n",
       "    }\n",
       "\n",
       "    .dataframe thead th {\n",
       "        text-align: right;\n",
       "    }\n",
       "</style>\n",
       "<table border=\"1\" class=\"dataframe\">\n",
       "  <thead>\n",
       "    <tr style=\"text-align: right;\">\n",
       "      <th></th>\n",
       "      <th>time</th>\n",
       "      <th>latitude</th>\n",
       "      <th>longitude</th>\n",
       "      <th>depth</th>\n",
       "      <th>mag</th>\n",
       "      <th>magType</th>\n",
       "      <th>nst</th>\n",
       "      <th>gap</th>\n",
       "      <th>dmin</th>\n",
       "      <th>rms</th>\n",
       "      <th>horizontalError</th>\n",
       "      <th>depthError</th>\n",
       "      <th>magError</th>\n",
       "      <th>magNst</th>\n",
       "    </tr>\n",
       "  </thead>\n",
       "  <tbody>\n",
       "    <tr>\n",
       "      <th>10</th>\n",
       "      <td>2022-12-31T19:49:41.613Z</td>\n",
       "      <td>28.7191</td>\n",
       "      <td>76.6286</td>\n",
       "      <td>10.000</td>\n",
       "      <td>4.1</td>\n",
       "      <td>mb</td>\n",
       "      <td>21.0</td>\n",
       "      <td>179.0</td>\n",
       "      <td>5.696</td>\n",
       "      <td>0.57</td>\n",
       "      <td>9.35</td>\n",
       "      <td>1.929</td>\n",
       "      <td>0.158</td>\n",
       "      <td>13.0</td>\n",
       "    </tr>\n",
       "    <tr>\n",
       "      <th>14</th>\n",
       "      <td>2022-11-16T16:02:53.870Z</td>\n",
       "      <td>31.8986</td>\n",
       "      <td>76.9792</td>\n",
       "      <td>10.000</td>\n",
       "      <td>4.4</td>\n",
       "      <td>mb</td>\n",
       "      <td>46.0</td>\n",
       "      <td>87.0</td>\n",
       "      <td>3.581</td>\n",
       "      <td>0.56</td>\n",
       "      <td>3.67</td>\n",
       "      <td>1.816</td>\n",
       "      <td>0.102</td>\n",
       "      <td>28.0</td>\n",
       "    </tr>\n",
       "    <tr>\n",
       "      <th>16</th>\n",
       "      <td>2022-11-06T03:03:03.944Z</td>\n",
       "      <td>30.7102</td>\n",
       "      <td>78.5669</td>\n",
       "      <td>22.322</td>\n",
       "      <td>4.6</td>\n",
       "      <td>mb</td>\n",
       "      <td>53.0</td>\n",
       "      <td>100.0</td>\n",
       "      <td>5.364</td>\n",
       "      <td>0.75</td>\n",
       "      <td>8.67</td>\n",
       "      <td>1.881</td>\n",
       "      <td>0.098</td>\n",
       "      <td>31.0</td>\n",
       "    </tr>\n",
       "    <tr>\n",
       "      <th>17</th>\n",
       "      <td>2022-10-18T12:09:45.297Z</td>\n",
       "      <td>32.3641</td>\n",
       "      <td>78.6637</td>\n",
       "      <td>10.000</td>\n",
       "      <td>4.5</td>\n",
       "      <td>mb</td>\n",
       "      <td>77.0</td>\n",
       "      <td>88.0</td>\n",
       "      <td>4.711</td>\n",
       "      <td>0.61</td>\n",
       "      <td>7.79</td>\n",
       "      <td>1.842</td>\n",
       "      <td>0.077</td>\n",
       "      <td>50.0</td>\n",
       "    </tr>\n",
       "    <tr>\n",
       "      <th>24</th>\n",
       "      <td>2022-08-24T17:34:21.884Z</td>\n",
       "      <td>33.1509</td>\n",
       "      <td>75.7219</td>\n",
       "      <td>10.000</td>\n",
       "      <td>4.2</td>\n",
       "      <td>mb</td>\n",
       "      <td>42.0</td>\n",
       "      <td>156.0</td>\n",
       "      <td>2.112</td>\n",
       "      <td>0.68</td>\n",
       "      <td>8.01</td>\n",
       "      <td>1.838</td>\n",
       "      <td>0.121</td>\n",
       "      <td>19.0</td>\n",
       "    </tr>\n",
       "  </tbody>\n",
       "</table>\n",
       "</div>"
      ],
      "text/plain": [
       "                        time  latitude  longitude   depth  mag magType   nst  \\\n",
       "10  2022-12-31T19:49:41.613Z   28.7191    76.6286  10.000  4.1      mb  21.0   \n",
       "14  2022-11-16T16:02:53.870Z   31.8986    76.9792  10.000  4.4      mb  46.0   \n",
       "16  2022-11-06T03:03:03.944Z   30.7102    78.5669  22.322  4.6      mb  53.0   \n",
       "17  2022-10-18T12:09:45.297Z   32.3641    78.6637  10.000  4.5      mb  77.0   \n",
       "24  2022-08-24T17:34:21.884Z   33.1509    75.7219  10.000  4.2      mb  42.0   \n",
       "\n",
       "      gap   dmin   rms  horizontalError  depthError  magError  magNst  \n",
       "10  179.0  5.696  0.57             9.35       1.929     0.158    13.0  \n",
       "14   87.0  3.581  0.56             3.67       1.816     0.102    28.0  \n",
       "16  100.0  5.364  0.75             8.67       1.881     0.098    31.0  \n",
       "17   88.0  4.711  0.61             7.79       1.842     0.077    50.0  \n",
       "24  156.0  2.112  0.68             8.01       1.838     0.121    19.0  "
      ]
     },
     "execution_count": 159,
     "metadata": {},
     "output_type": "execute_result"
    }
   ],
   "source": [
    "db.head()"
   ]
  },
  {
   "cell_type": "code",
   "execution_count": 160,
   "id": "53453de0",
   "metadata": {},
   "outputs": [
    {
     "data": {
      "text/plain": [
       "time                0.000000\n",
       "latitude            0.000000\n",
       "longitude           0.000000\n",
       "depth               0.000000\n",
       "mag                 0.000000\n",
       "magType             0.000000\n",
       "nst                65.397924\n",
       "gap                55.247982\n",
       "dmin               81.314879\n",
       "rms                18.108420\n",
       "horizontalError    84.198385\n",
       "depthError         57.785467\n",
       "magError           77.162630\n",
       "magNst             22.837370\n",
       "dtype: float64"
      ]
     },
     "execution_count": 160,
     "metadata": {},
     "output_type": "execute_result"
    }
   ],
   "source": [
    "db.isnull().mean()*100"
   ]
  },
  {
   "cell_type": "code",
   "execution_count": 161,
   "id": "0300732d",
   "metadata": {},
   "outputs": [
    {
     "name": "stdout",
     "output_type": "stream",
     "text": [
      "<class 'pandas.core.frame.DataFrame'>\n",
      "Int64Index: 867 entries, 10 to 2743\n",
      "Data columns (total 14 columns):\n",
      " #   Column           Non-Null Count  Dtype  \n",
      "---  ------           --------------  -----  \n",
      " 0   time             867 non-null    object \n",
      " 1   latitude         867 non-null    float64\n",
      " 2   longitude        867 non-null    float64\n",
      " 3   depth            867 non-null    float64\n",
      " 4   mag              867 non-null    float64\n",
      " 5   magType          867 non-null    object \n",
      " 6   nst              300 non-null    float64\n",
      " 7   gap              388 non-null    float64\n",
      " 8   dmin             162 non-null    float64\n",
      " 9   rms              710 non-null    float64\n",
      " 10  horizontalError  137 non-null    float64\n",
      " 11  depthError       366 non-null    float64\n",
      " 12  magError         198 non-null    float64\n",
      " 13  magNst           669 non-null    float64\n",
      "dtypes: float64(12), object(2)\n",
      "memory usage: 101.6+ KB\n"
     ]
    }
   ],
   "source": [
    "db.info()"
   ]
  },
  {
   "cell_type": "markdown",
   "id": "dd09f24c",
   "metadata": {},
   "source": [
    "Lets fill the null values now"
   ]
  },
  {
   "cell_type": "code",
   "execution_count": 162,
   "id": "1303ed4f",
   "metadata": {},
   "outputs": [],
   "source": [
    "db['nst'].fillna(db['nst'].mean(),inplace=True)"
   ]
  },
  {
   "cell_type": "code",
   "execution_count": 163,
   "id": "ae0b3708",
   "metadata": {},
   "outputs": [],
   "source": [
    "db['gap'].fillna(db['gap'].mean(),inplace=True)"
   ]
  },
  {
   "cell_type": "code",
   "execution_count": 164,
   "id": "4aabe923",
   "metadata": {},
   "outputs": [],
   "source": [
    "\n",
    "db['dmin'].fillna(db['dmin'].mean(),inplace=True)\n",
    "db['rms'].fillna(db['rms'].mean(),inplace=True)\n",
    "db['depthError'].fillna(db['depthError'].mean(),inplace=True)\n",
    "db['horizontalError'].fillna(db['horizontalError'].mean(),inplace=True)\n",
    "db['magError'].fillna(db['magError'].mean(),inplace=True)\n",
    "db['magNst'].fillna(db['magNst'].mean(),inplace=True)\n"
   ]
  },
  {
   "cell_type": "code",
   "execution_count": 165,
   "id": "459ff727",
   "metadata": {},
   "outputs": [
    {
     "data": {
      "text/plain": [
       "time               0.0\n",
       "latitude           0.0\n",
       "longitude          0.0\n",
       "depth              0.0\n",
       "mag                0.0\n",
       "magType            0.0\n",
       "nst                0.0\n",
       "gap                0.0\n",
       "dmin               0.0\n",
       "rms                0.0\n",
       "horizontalError    0.0\n",
       "depthError         0.0\n",
       "magError           0.0\n",
       "magNst             0.0\n",
       "dtype: float64"
      ]
     },
     "execution_count": 165,
     "metadata": {},
     "output_type": "execute_result"
    }
   ],
   "source": [
    "db.isnull().mean()*100"
   ]
  },
  {
   "cell_type": "markdown",
   "id": "3254b704",
   "metadata": {},
   "source": [
    "so for now we have replaced all the null values with mean\n",
    "\n"
   ]
  },
  {
   "cell_type": "code",
   "execution_count": 166,
   "id": "3fc8f3cf",
   "metadata": {},
   "outputs": [
    {
     "name": "stdout",
     "output_type": "stream",
     "text": [
      "<class 'pandas.core.frame.DataFrame'>\n",
      "Int64Index: 867 entries, 10 to 2743\n",
      "Data columns (total 14 columns):\n",
      " #   Column           Non-Null Count  Dtype  \n",
      "---  ------           --------------  -----  \n",
      " 0   time             867 non-null    object \n",
      " 1   latitude         867 non-null    float64\n",
      " 2   longitude        867 non-null    float64\n",
      " 3   depth            867 non-null    float64\n",
      " 4   mag              867 non-null    float64\n",
      " 5   magType          867 non-null    object \n",
      " 6   nst              867 non-null    float64\n",
      " 7   gap              867 non-null    float64\n",
      " 8   dmin             867 non-null    float64\n",
      " 9   rms              867 non-null    float64\n",
      " 10  horizontalError  867 non-null    float64\n",
      " 11  depthError       867 non-null    float64\n",
      " 12  magError         867 non-null    float64\n",
      " 13  magNst           867 non-null    float64\n",
      "dtypes: float64(12), object(2)\n",
      "memory usage: 101.6+ KB\n"
     ]
    }
   ],
   "source": [
    "db.info()"
   ]
  },
  {
   "cell_type": "code",
   "execution_count": 167,
   "id": "d5bdf745",
   "metadata": {},
   "outputs": [
    {
     "data": {
      "text/plain": [
       "array(['mb', 'mww', 'mwb', 'mwc', 'ml', 'md', 'mw', 'ms'], dtype=object)"
      ]
     },
     "execution_count": 167,
     "metadata": {},
     "output_type": "execute_result"
    }
   ],
   "source": [
    "db['magType'].unique()"
   ]
  },
  {
   "cell_type": "code",
   "execution_count": 168,
   "id": "9b5569b4",
   "metadata": {},
   "outputs": [
    {
     "data": {
      "text/plain": [
       "magType  mag\n",
       "mb       3.1     2\n",
       "         3.2     3\n",
       "         3.3     7\n",
       "         3.4    15\n",
       "         3.5    30\n",
       "                ..\n",
       "mww      4.9     1\n",
       "         5.0     2\n",
       "         5.2     2\n",
       "         5.3     1\n",
       "         5.7     1\n",
       "Length: 83, dtype: int64"
      ]
     },
     "execution_count": 168,
     "metadata": {},
     "output_type": "execute_result"
    }
   ],
   "source": [
    "db.groupby(['magType','mag']).size()"
   ]
  },
  {
   "cell_type": "markdown",
   "id": "61b4161f",
   "metadata": {},
   "source": [
    "'mb' stands for body wave magnitude and is calculated using the amplitude of the earthquake's P-waves and S-waves.\n",
    "\n",
    "'mwc' stands for moment magnitude (Mw) from complete waveform modeling, which is a type of magnitude scale that takes into account the total energy released by an earthquake.\n",
    "\n",
    "'mwb' stands for surface wave magnitude and is calculated using the amplitude of the earthquake's surface waves.\n",
    "\n",
    "'ms' stands for surface wave magnitude and is calculated using the amplitude of the earthquake's surface waves at a period of approximately 20 seconds.\n",
    "\n",
    "'mw' stands for moment magnitude, which is a type of magnitude scale that takes into account the seismic moment (i.e., the total energy released by an earthquake) and is considered to be a more accurate measure of an earthquake's size than other magnitude types."
   ]
  },
  {
   "cell_type": "code",
   "execution_count": 169,
   "id": "ea1b98b2",
   "metadata": {},
   "outputs": [
    {
     "data": {
      "text/plain": [
       "10      2022-12-31T19:49:41.613Z\n",
       "14      2022-11-16T16:02:53.870Z\n",
       "16      2022-11-06T03:03:03.944Z\n",
       "17      2022-10-18T12:09:45.297Z\n",
       "24      2022-08-24T17:34:21.884Z\n",
       "                  ...           \n",
       "2737    1917-05-09T21:46:02.540Z\n",
       "2738    1916-06-21T19:56:24.430Z\n",
       "2740    1914-10-09T02:39:13.480Z\n",
       "2742    1906-02-27T19:41:19.560Z\n",
       "2743    1905-04-04T00:49:59.230Z\n",
       "Name: time, Length: 867, dtype: object"
      ]
     },
     "execution_count": 169,
     "metadata": {},
     "output_type": "execute_result"
    }
   ],
   "source": [
    "db['time']"
   ]
  },
  {
   "cell_type": "code",
   "execution_count": 170,
   "id": "4b8c806f",
   "metadata": {},
   "outputs": [],
   "source": [
    "db['time']=pd.to_datetime(db['time'])"
   ]
  },
  {
   "cell_type": "markdown",
   "id": "eff296e2",
   "metadata": {},
   "source": [
    "we have converted our time data in datetime format"
   ]
  },
  {
   "cell_type": "code",
   "execution_count": 171,
   "id": "97056a1f",
   "metadata": {},
   "outputs": [
    {
     "data": {
      "text/html": [
       "<div>\n",
       "<style scoped>\n",
       "    .dataframe tbody tr th:only-of-type {\n",
       "        vertical-align: middle;\n",
       "    }\n",
       "\n",
       "    .dataframe tbody tr th {\n",
       "        vertical-align: top;\n",
       "    }\n",
       "\n",
       "    .dataframe thead th {\n",
       "        text-align: right;\n",
       "    }\n",
       "</style>\n",
       "<table border=\"1\" class=\"dataframe\">\n",
       "  <thead>\n",
       "    <tr style=\"text-align: right;\">\n",
       "      <th></th>\n",
       "      <th>time</th>\n",
       "      <th>latitude</th>\n",
       "      <th>longitude</th>\n",
       "      <th>depth</th>\n",
       "      <th>mag</th>\n",
       "      <th>magType</th>\n",
       "      <th>nst</th>\n",
       "      <th>gap</th>\n",
       "      <th>dmin</th>\n",
       "      <th>rms</th>\n",
       "      <th>horizontalError</th>\n",
       "      <th>depthError</th>\n",
       "      <th>magError</th>\n",
       "      <th>magNst</th>\n",
       "    </tr>\n",
       "  </thead>\n",
       "  <tbody>\n",
       "    <tr>\n",
       "      <th>10</th>\n",
       "      <td>2022-12-31 19:49:41.613000+00:00</td>\n",
       "      <td>28.7191</td>\n",
       "      <td>76.6286</td>\n",
       "      <td>10.000</td>\n",
       "      <td>4.1</td>\n",
       "      <td>mb</td>\n",
       "      <td>21.0</td>\n",
       "      <td>179.0</td>\n",
       "      <td>5.696</td>\n",
       "      <td>0.57</td>\n",
       "      <td>9.35</td>\n",
       "      <td>1.929</td>\n",
       "      <td>0.158</td>\n",
       "      <td>13.0</td>\n",
       "    </tr>\n",
       "    <tr>\n",
       "      <th>14</th>\n",
       "      <td>2022-11-16 16:02:53.870000+00:00</td>\n",
       "      <td>31.8986</td>\n",
       "      <td>76.9792</td>\n",
       "      <td>10.000</td>\n",
       "      <td>4.4</td>\n",
       "      <td>mb</td>\n",
       "      <td>46.0</td>\n",
       "      <td>87.0</td>\n",
       "      <td>3.581</td>\n",
       "      <td>0.56</td>\n",
       "      <td>3.67</td>\n",
       "      <td>1.816</td>\n",
       "      <td>0.102</td>\n",
       "      <td>28.0</td>\n",
       "    </tr>\n",
       "    <tr>\n",
       "      <th>16</th>\n",
       "      <td>2022-11-06 03:03:03.944000+00:00</td>\n",
       "      <td>30.7102</td>\n",
       "      <td>78.5669</td>\n",
       "      <td>22.322</td>\n",
       "      <td>4.6</td>\n",
       "      <td>mb</td>\n",
       "      <td>53.0</td>\n",
       "      <td>100.0</td>\n",
       "      <td>5.364</td>\n",
       "      <td>0.75</td>\n",
       "      <td>8.67</td>\n",
       "      <td>1.881</td>\n",
       "      <td>0.098</td>\n",
       "      <td>31.0</td>\n",
       "    </tr>\n",
       "    <tr>\n",
       "      <th>17</th>\n",
       "      <td>2022-10-18 12:09:45.297000+00:00</td>\n",
       "      <td>32.3641</td>\n",
       "      <td>78.6637</td>\n",
       "      <td>10.000</td>\n",
       "      <td>4.5</td>\n",
       "      <td>mb</td>\n",
       "      <td>77.0</td>\n",
       "      <td>88.0</td>\n",
       "      <td>4.711</td>\n",
       "      <td>0.61</td>\n",
       "      <td>7.79</td>\n",
       "      <td>1.842</td>\n",
       "      <td>0.077</td>\n",
       "      <td>50.0</td>\n",
       "    </tr>\n",
       "    <tr>\n",
       "      <th>24</th>\n",
       "      <td>2022-08-24 17:34:21.884000+00:00</td>\n",
       "      <td>33.1509</td>\n",
       "      <td>75.7219</td>\n",
       "      <td>10.000</td>\n",
       "      <td>4.2</td>\n",
       "      <td>mb</td>\n",
       "      <td>42.0</td>\n",
       "      <td>156.0</td>\n",
       "      <td>2.112</td>\n",
       "      <td>0.68</td>\n",
       "      <td>8.01</td>\n",
       "      <td>1.838</td>\n",
       "      <td>0.121</td>\n",
       "      <td>19.0</td>\n",
       "    </tr>\n",
       "  </tbody>\n",
       "</table>\n",
       "</div>"
      ],
      "text/plain": [
       "                               time  latitude  longitude   depth  mag magType  \\\n",
       "10 2022-12-31 19:49:41.613000+00:00   28.7191    76.6286  10.000  4.1      mb   \n",
       "14 2022-11-16 16:02:53.870000+00:00   31.8986    76.9792  10.000  4.4      mb   \n",
       "16 2022-11-06 03:03:03.944000+00:00   30.7102    78.5669  22.322  4.6      mb   \n",
       "17 2022-10-18 12:09:45.297000+00:00   32.3641    78.6637  10.000  4.5      mb   \n",
       "24 2022-08-24 17:34:21.884000+00:00   33.1509    75.7219  10.000  4.2      mb   \n",
       "\n",
       "     nst    gap   dmin   rms  horizontalError  depthError  magError  magNst  \n",
       "10  21.0  179.0  5.696  0.57             9.35       1.929     0.158    13.0  \n",
       "14  46.0   87.0  3.581  0.56             3.67       1.816     0.102    28.0  \n",
       "16  53.0  100.0  5.364  0.75             8.67       1.881     0.098    31.0  \n",
       "17  77.0   88.0  4.711  0.61             7.79       1.842     0.077    50.0  \n",
       "24  42.0  156.0  2.112  0.68             8.01       1.838     0.121    19.0  "
      ]
     },
     "execution_count": 171,
     "metadata": {},
     "output_type": "execute_result"
    }
   ],
   "source": [
    "db.head()"
   ]
  },
  {
   "cell_type": "markdown",
   "id": "86cdfe2f",
   "metadata": {},
   "source": [
    "Now lets extract date,year,month,day and hour from our data"
   ]
  },
  {
   "cell_type": "code",
   "execution_count": 172,
   "id": "41178ff1",
   "metadata": {},
   "outputs": [],
   "source": [
    "db['year']=db['time'].dt.year\n",
    "db['month']=db['time'].dt.month\n",
    "db['day']=db['time'].dt.day\n",
    "db['hour']=db['time'].dt.hour\n",
    "db['min']=db['time'].dt.minute"
   ]
  },
  {
   "cell_type": "code",
   "execution_count": 173,
   "id": "6701c83c",
   "metadata": {},
   "outputs": [],
   "source": [
    "db.drop(columns='time',inplace=True)"
   ]
  },
  {
   "cell_type": "code",
   "execution_count": 174,
   "id": "c2e51a50",
   "metadata": {},
   "outputs": [
    {
     "data": {
      "text/html": [
       "<div>\n",
       "<style scoped>\n",
       "    .dataframe tbody tr th:only-of-type {\n",
       "        vertical-align: middle;\n",
       "    }\n",
       "\n",
       "    .dataframe tbody tr th {\n",
       "        vertical-align: top;\n",
       "    }\n",
       "\n",
       "    .dataframe thead th {\n",
       "        text-align: right;\n",
       "    }\n",
       "</style>\n",
       "<table border=\"1\" class=\"dataframe\">\n",
       "  <thead>\n",
       "    <tr style=\"text-align: right;\">\n",
       "      <th></th>\n",
       "      <th>latitude</th>\n",
       "      <th>longitude</th>\n",
       "      <th>depth</th>\n",
       "      <th>mag</th>\n",
       "      <th>magType</th>\n",
       "      <th>nst</th>\n",
       "      <th>gap</th>\n",
       "      <th>dmin</th>\n",
       "      <th>rms</th>\n",
       "      <th>horizontalError</th>\n",
       "      <th>depthError</th>\n",
       "      <th>magError</th>\n",
       "      <th>magNst</th>\n",
       "      <th>year</th>\n",
       "      <th>month</th>\n",
       "      <th>day</th>\n",
       "      <th>hour</th>\n",
       "      <th>min</th>\n",
       "    </tr>\n",
       "  </thead>\n",
       "  <tbody>\n",
       "    <tr>\n",
       "      <th>10</th>\n",
       "      <td>28.7191</td>\n",
       "      <td>76.6286</td>\n",
       "      <td>10.000</td>\n",
       "      <td>4.1</td>\n",
       "      <td>mb</td>\n",
       "      <td>21.0</td>\n",
       "      <td>179.0</td>\n",
       "      <td>5.696</td>\n",
       "      <td>0.57</td>\n",
       "      <td>9.35</td>\n",
       "      <td>1.929</td>\n",
       "      <td>0.158</td>\n",
       "      <td>13.0</td>\n",
       "      <td>2022</td>\n",
       "      <td>12</td>\n",
       "      <td>31</td>\n",
       "      <td>19</td>\n",
       "      <td>49</td>\n",
       "    </tr>\n",
       "    <tr>\n",
       "      <th>14</th>\n",
       "      <td>31.8986</td>\n",
       "      <td>76.9792</td>\n",
       "      <td>10.000</td>\n",
       "      <td>4.4</td>\n",
       "      <td>mb</td>\n",
       "      <td>46.0</td>\n",
       "      <td>87.0</td>\n",
       "      <td>3.581</td>\n",
       "      <td>0.56</td>\n",
       "      <td>3.67</td>\n",
       "      <td>1.816</td>\n",
       "      <td>0.102</td>\n",
       "      <td>28.0</td>\n",
       "      <td>2022</td>\n",
       "      <td>11</td>\n",
       "      <td>16</td>\n",
       "      <td>16</td>\n",
       "      <td>2</td>\n",
       "    </tr>\n",
       "    <tr>\n",
       "      <th>16</th>\n",
       "      <td>30.7102</td>\n",
       "      <td>78.5669</td>\n",
       "      <td>22.322</td>\n",
       "      <td>4.6</td>\n",
       "      <td>mb</td>\n",
       "      <td>53.0</td>\n",
       "      <td>100.0</td>\n",
       "      <td>5.364</td>\n",
       "      <td>0.75</td>\n",
       "      <td>8.67</td>\n",
       "      <td>1.881</td>\n",
       "      <td>0.098</td>\n",
       "      <td>31.0</td>\n",
       "      <td>2022</td>\n",
       "      <td>11</td>\n",
       "      <td>6</td>\n",
       "      <td>3</td>\n",
       "      <td>3</td>\n",
       "    </tr>\n",
       "    <tr>\n",
       "      <th>17</th>\n",
       "      <td>32.3641</td>\n",
       "      <td>78.6637</td>\n",
       "      <td>10.000</td>\n",
       "      <td>4.5</td>\n",
       "      <td>mb</td>\n",
       "      <td>77.0</td>\n",
       "      <td>88.0</td>\n",
       "      <td>4.711</td>\n",
       "      <td>0.61</td>\n",
       "      <td>7.79</td>\n",
       "      <td>1.842</td>\n",
       "      <td>0.077</td>\n",
       "      <td>50.0</td>\n",
       "      <td>2022</td>\n",
       "      <td>10</td>\n",
       "      <td>18</td>\n",
       "      <td>12</td>\n",
       "      <td>9</td>\n",
       "    </tr>\n",
       "    <tr>\n",
       "      <th>24</th>\n",
       "      <td>33.1509</td>\n",
       "      <td>75.7219</td>\n",
       "      <td>10.000</td>\n",
       "      <td>4.2</td>\n",
       "      <td>mb</td>\n",
       "      <td>42.0</td>\n",
       "      <td>156.0</td>\n",
       "      <td>2.112</td>\n",
       "      <td>0.68</td>\n",
       "      <td>8.01</td>\n",
       "      <td>1.838</td>\n",
       "      <td>0.121</td>\n",
       "      <td>19.0</td>\n",
       "      <td>2022</td>\n",
       "      <td>8</td>\n",
       "      <td>24</td>\n",
       "      <td>17</td>\n",
       "      <td>34</td>\n",
       "    </tr>\n",
       "  </tbody>\n",
       "</table>\n",
       "</div>"
      ],
      "text/plain": [
       "    latitude  longitude   depth  mag magType   nst    gap   dmin   rms  \\\n",
       "10   28.7191    76.6286  10.000  4.1      mb  21.0  179.0  5.696  0.57   \n",
       "14   31.8986    76.9792  10.000  4.4      mb  46.0   87.0  3.581  0.56   \n",
       "16   30.7102    78.5669  22.322  4.6      mb  53.0  100.0  5.364  0.75   \n",
       "17   32.3641    78.6637  10.000  4.5      mb  77.0   88.0  4.711  0.61   \n",
       "24   33.1509    75.7219  10.000  4.2      mb  42.0  156.0  2.112  0.68   \n",
       "\n",
       "    horizontalError  depthError  magError  magNst  year  month  day  hour  min  \n",
       "10             9.35       1.929     0.158    13.0  2022     12   31    19   49  \n",
       "14             3.67       1.816     0.102    28.0  2022     11   16    16    2  \n",
       "16             8.67       1.881     0.098    31.0  2022     11    6     3    3  \n",
       "17             7.79       1.842     0.077    50.0  2022     10   18    12    9  \n",
       "24             8.01       1.838     0.121    19.0  2022      8   24    17   34  "
      ]
     },
     "execution_count": 174,
     "metadata": {},
     "output_type": "execute_result"
    }
   ],
   "source": [
    "db.head()"
   ]
  },
  {
   "cell_type": "markdown",
   "id": "6c92cc9b",
   "metadata": {},
   "source": [
    "Now we have replaced null values extracted value from time columns \n",
    "now lets move to data visualization"
   ]
  },
  {
   "cell_type": "markdown",
   "id": "3dcb76bf",
   "metadata": {},
   "source": [
    "### Data Visualization"
   ]
  },
  {
   "cell_type": "code",
   "execution_count": 175,
   "id": "d901519b",
   "metadata": {},
   "outputs": [],
   "source": [
    "import matplotlib\n",
    "matplotlib.rcParams['figure.figsize']=(12,6)"
   ]
  },
  {
   "cell_type": "code",
   "execution_count": 176,
   "id": "37b06a44",
   "metadata": {},
   "outputs": [],
   "source": [
    "#import folium"
   ]
  },
  {
   "cell_type": "code",
   "execution_count": 177,
   "id": "d4cafb5e",
   "metadata": {},
   "outputs": [],
   "source": [
    "#map=folium.Map(location=[db[latitude[0],db[longitude[]]])\n"
   ]
  },
  {
   "cell_type": "code",
   "execution_count": 178,
   "id": "aba8c12a",
   "metadata": {},
   "outputs": [
    {
     "name": "stdout",
     "output_type": "stream",
     "text": [
      "<class 'pandas.core.frame.DataFrame'>\n",
      "Int64Index: 867 entries, 10 to 2743\n",
      "Data columns (total 18 columns):\n",
      " #   Column           Non-Null Count  Dtype  \n",
      "---  ------           --------------  -----  \n",
      " 0   latitude         867 non-null    float64\n",
      " 1   longitude        867 non-null    float64\n",
      " 2   depth            867 non-null    float64\n",
      " 3   mag              867 non-null    float64\n",
      " 4   magType          867 non-null    object \n",
      " 5   nst              867 non-null    float64\n",
      " 6   gap              867 non-null    float64\n",
      " 7   dmin             867 non-null    float64\n",
      " 8   rms              867 non-null    float64\n",
      " 9   horizontalError  867 non-null    float64\n",
      " 10  depthError       867 non-null    float64\n",
      " 11  magError         867 non-null    float64\n",
      " 12  magNst           867 non-null    float64\n",
      " 13  year             867 non-null    int64  \n",
      " 14  month            867 non-null    int64  \n",
      " 15  day              867 non-null    int64  \n",
      " 16  hour             867 non-null    int64  \n",
      " 17  min              867 non-null    int64  \n",
      "dtypes: float64(12), int64(5), object(1)\n",
      "memory usage: 128.7+ KB\n"
     ]
    }
   ],
   "source": [
    "db.info()"
   ]
  },
  {
   "cell_type": "code",
   "execution_count": 179,
   "id": "04433f57",
   "metadata": {},
   "outputs": [
    {
     "name": "stdout",
     "output_type": "stream",
     "text": [
      "mb     799\n",
      "mw      41\n",
      "mwc     11\n",
      "mww      7\n",
      "mwb      5\n",
      "ml       2\n",
      "md       1\n",
      "ms       1\n",
      "Name: magType, dtype: int64\n"
     ]
    },
    {
     "data": {
      "image/png": "[encoded data removed]",
      "text/plain": [
       "<Figure size 864x432 with 1 Axes>"
      ]
     },
     "metadata": {},
     "output_type": "display_data"
    }
   ],
   "source": [
    "magType=db['magType'].value_counts().index\n",
    "freq=db['magType'].value_counts().values\n",
    "\n",
    "plt.pie(x=freq[0:4],labels=magType[0:4],autopct='%1.2f%%')\n",
    "print(db['magType'].value_counts())"
   ]
  },
  {
   "cell_type": "code",
   "execution_count": 180,
   "id": "3694e3b2",
   "metadata": {},
   "outputs": [],
   "source": [
    "year=db['year'].value_counts().index\n",
    "freq=db['year'].value_counts().values"
   ]
  },
  {
   "cell_type": "code",
   "execution_count": 181,
   "id": "f5a9ea84",
   "metadata": {},
   "outputs": [
    {
     "data": {
      "text/plain": [
       "([<matplotlib.patches.Wedge at 0x1c6da071580>,\n",
       "  <matplotlib.patches.Wedge at 0x1c6d9cd2c10>,\n",
       "  <matplotlib.patches.Wedge at 0x1c6d9cd2df0>,\n",
       "  <matplotlib.patches.Wedge at 0x1c6d9e01b20>],\n",
       " [Text(0.7053937241929795, 0.8440495802197635, '2005'),\n",
       "  Text(-0.9253788759906099, 0.5947049149539254, '1996'),\n",
       "  Text(-0.5612970846791958, -0.9460156355635121, '1975'),\n",
       "  Text(0.8686888672093948, -0.6748182362580747, '2013')],\n",
       " [Text(0.38476021319617065, 0.46039068011987094, '27.84%'),\n",
       "  Text(-0.5047521141766963, 0.32438449906577743, '26.14%'),\n",
       "  Text(-0.3061620461886522, -0.5160085284891883, '25.00%'),\n",
       "  Text(0.4738302912051244, -0.3680826743225861, '21.02%')])"
      ]
     },
     "execution_count": 181,
     "metadata": {},
     "output_type": "execute_result"
    },
    {
     "data": {
      "image/png": "[encoded data removed]",
      "text/plain": [
       "<Figure size 864x432 with 1 Axes>"
      ]
     },
     "metadata": {},
     "output_type": "display_data"
    }
   ],
   "source": [
    "plt.pie(x=freq[0:4],labels=year[0:4],autopct='%1.2f%%')"
   ]
  },
  {
   "cell_type": "markdown",
   "id": "4c81040c",
   "metadata": {},
   "source": [
    "Most of the earthquakes happened in year 2001"
   ]
  },
  {
   "cell_type": "code",
   "execution_count": 182,
   "id": "01a932e1",
   "metadata": {},
   "outputs": [
    {
     "data": {
      "text/plain": [
       "([<matplotlib.patches.Wedge at 0x1c6de7aae80>,\n",
       "  <matplotlib.patches.Wedge at 0x1c6de7ad5e0>,\n",
       "  <matplotlib.patches.Wedge at 0x1c6de7c1280>,\n",
       "  <matplotlib.patches.Wedge at 0x1c6de7d9d60>],\n",
       " [Text(0.7105208335868263, 0.8397381407552487, '19'),\n",
       "  Text(-0.9132025129278741, 0.6132382655886829, '11'),\n",
       "  Text(-0.5962585307358071, -0.9243785829003054, '20'),\n",
       "  Text(0.852724499631609, -0.6948819523689057, '27')],\n",
       " [Text(0.387556818320087, 0.45803898586649916, '27.65%'),\n",
       "  Text(-0.4981104615970222, 0.33449359941200885, '25.88%'),\n",
       "  Text(-0.3252319258558948, -0.5042064997638028, '24.71%'),\n",
       "  Text(0.46512245434451394, -0.3790265194739485, '21.76%')])"
      ]
     },
     "execution_count": 182,
     "metadata": {},
     "output_type": "execute_result"
    },
    {
     "data": {
      "image/png": "[encoded data removed]",
      "text/plain": [
       "<Figure size 864x432 with 1 Axes>"
      ]
     },
     "metadata": {},
     "output_type": "display_data"
    }
   ],
   "source": [
    "day=db['day'].value_counts().index\n",
    "freq=db['day'].value_counts().values\n",
    "\n",
    "plt.pie(x=freq[0:4],labels=day[0:4],autopct='%1.2f%%')"
   ]
  },
  {
   "cell_type": "code",
   "execution_count": 183,
   "id": "b96a7cbb",
   "metadata": {},
   "outputs": [
    {
     "data": {
      "text/plain": [
       "19    47\n",
       "11    44\n",
       "20    42\n",
       "27    37\n",
       "9     34\n",
       "29    33\n",
       "5     33\n",
       "10    33\n",
       "16    32\n",
       "6     32\n",
       "23    32\n",
       "14    31\n",
       "22    30\n",
       "8     30\n",
       "15    30\n",
       "4     26\n",
       "26    26\n",
       "21    26\n",
       "7     25\n",
       "28    24\n",
       "25    24\n",
       "24    24\n",
       "17    23\n",
       "2     23\n",
       "13    23\n",
       "30    20\n",
       "18    20\n",
       "3     19\n",
       "1     18\n",
       "12    15\n",
       "31    11\n",
       "Name: day, dtype: int64"
      ]
     },
     "execution_count": 183,
     "metadata": {},
     "output_type": "execute_result"
    }
   ],
   "source": [
    "db['day'].value_counts()"
   ]
  },
  {
   "cell_type": "code",
   "execution_count": 184,
   "id": "16f495a7",
   "metadata": {},
   "outputs": [
    {
     "name": "stdout",
     "output_type": "stream",
     "text": [
      "10    106\n",
      "1      85\n",
      "5      81\n",
      "11     74\n",
      "2      74\n",
      "12     68\n",
      "6      68\n",
      "9      67\n",
      "7      66\n",
      "3      65\n",
      "8      58\n",
      "4      55\n",
      "Name: month, dtype: int64\n"
     ]
    },
    {
     "data": {
      "image/png": "[encoded data removed]",
      "text/plain": [
       "<Figure size 864x432 with 1 Axes>"
      ]
     },
     "metadata": {},
     "output_type": "display_data"
    }
   ],
   "source": [
    "month=db['month'].value_counts().index\n",
    "freq=db['month'].value_counts().values\n",
    "\n",
    "plt.pie(x=freq[0:4],labels=month[0:4],autopct='%1.2f%%')\n",
    "print(db['month'].value_counts())"
   ]
  },
  {
   "cell_type": "code",
   "execution_count": 185,
   "id": "0bdadb8a",
   "metadata": {},
   "outputs": [
    {
     "name": "stderr",
     "output_type": "stream",
     "text": [
      "C:\\Users\\Manshi\\anaconda3\\lib\\site-packages\\seaborn\\_decorators.py:36: FutureWarning: Pass the following variable as a keyword arg: x. From version 0.12, the only valid positional argument will be `data`, and passing other arguments without an explicit keyword will result in an error or misinterpretation.\n",
      "  warnings.warn(\n"
     ]
    },
    {
     "data": {
      "text/plain": [
       "<AxesSubplot:xlabel='mag', ylabel='count'>"
      ]
     },
     "execution_count": 185,
     "metadata": {},
     "output_type": "execute_result"
    },
    {
     "data": {
      "image/png": "[encoded data removed]",
      "text/plain": [
       "<Figure size 864x432 with 1 Axes>"
      ]
     },
     "metadata": {
      "needs_background": "light"
     },
     "output_type": "display_data"
    }
   ],
   "source": [
    "sns.countplot(db['mag'])"
   ]
  },
  {
   "cell_type": "code",
   "execution_count": 186,
   "id": "b17a75b3",
   "metadata": {},
   "outputs": [
    {
     "name": "stderr",
     "output_type": "stream",
     "text": [
      "C:\\Users\\Manshi\\anaconda3\\lib\\site-packages\\seaborn\\_decorators.py:36: FutureWarning: Pass the following variable as a keyword arg: x. From version 0.12, the only valid positional argument will be `data`, and passing other arguments without an explicit keyword will result in an error or misinterpretation.\n",
      "  warnings.warn(\n"
     ]
    },
    {
     "data": {
      "text/plain": [
       "<AxesSubplot:xlabel='latitude', ylabel='count'>"
      ]
     },
     "execution_count": 186,
     "metadata": {},
     "output_type": "execute_result"
    },
    {
     "data": {
      "image/png": "[encoded data removed]",
      "text/plain": [
       "<Figure size 864x432 with 1 Axes>"
      ]
     },
     "metadata": {
      "needs_background": "light"
     },
     "output_type": "display_data"
    }
   ],
   "source": [
    "sns.countplot(db['latitude'])"
   ]
  },
  {
   "cell_type": "markdown",
   "id": "95253fed",
   "metadata": {},
   "source": [
    "it can be seen almost all values of latitude occur single time except few which occur 2 or 3 times.\n",
    "\n",
    "repeating latittude represents earthquake reoccuring same place"
   ]
  },
  {
   "cell_type": "code",
   "execution_count": 187,
   "id": "487da7cd",
   "metadata": {},
   "outputs": [
    {
     "name": "stderr",
     "output_type": "stream",
     "text": [
      "C:\\Users\\Manshi\\anaconda3\\lib\\site-packages\\seaborn\\_decorators.py:36: FutureWarning: Pass the following variable as a keyword arg: x. From version 0.12, the only valid positional argument will be `data`, and passing other arguments without an explicit keyword will result in an error or misinterpretation.\n",
      "  warnings.warn(\n"
     ]
    },
    {
     "data": {
      "text/plain": [
       "<AxesSubplot:xlabel='longitude', ylabel='count'>"
      ]
     },
     "execution_count": 187,
     "metadata": {},
     "output_type": "execute_result"
    },
    {
     "data": {
      "image/png": "[encoded data removed]",
      "text/plain": [
       "<Figure size 864x432 with 1 Axes>"
      ]
     },
     "metadata": {
      "needs_background": "light"
     },
     "output_type": "display_data"
    }
   ],
   "source": [
    "sns.countplot(db['longitude'])"
   ]
  },
  {
   "cell_type": "code",
   "execution_count": 188,
   "id": "6fc6533e",
   "metadata": {},
   "outputs": [
    {
     "name": "stderr",
     "output_type": "stream",
     "text": [
      "C:\\Users\\Manshi\\anaconda3\\lib\\site-packages\\seaborn\\_decorators.py:36: FutureWarning: Pass the following variable as a keyword arg: x. From version 0.12, the only valid positional argument will be `data`, and passing other arguments without an explicit keyword will result in an error or misinterpretation.\n",
      "  warnings.warn(\n"
     ]
    },
    {
     "data": {
      "text/plain": [
       "<AxesSubplot:xlabel='depth', ylabel='count'>"
      ]
     },
     "execution_count": 188,
     "metadata": {},
     "output_type": "execute_result"
    },
    {
     "data": {
      "image/png": "[encoded data removed]",
      "text/plain": [
       "<Figure size 864x432 with 1 Axes>"
      ]
     },
     "metadata": {
      "needs_background": "light"
     },
     "output_type": "display_data"
    }
   ],
   "source": [
    "sns.countplot(db['depth'])"
   ]
  },
  {
   "cell_type": "code",
   "execution_count": 189,
   "id": "1308266a",
   "metadata": {},
   "outputs": [
    {
     "name": "stderr",
     "output_type": "stream",
     "text": [
      "C:\\Users\\Manshi\\anaconda3\\lib\\site-packages\\seaborn\\_decorators.py:36: FutureWarning: Pass the following variable as a keyword arg: x. From version 0.12, the only valid positional argument will be `data`, and passing other arguments without an explicit keyword will result in an error or misinterpretation.\n",
      "  warnings.warn(\n"
     ]
    },
    {
     "data": {
      "text/plain": [
       "<AxesSubplot:xlabel='magType', ylabel='count'>"
      ]
     },
     "execution_count": 189,
     "metadata": {},
     "output_type": "execute_result"
    },
    {
     "data": {
      "image/png": "[encoded data removed]",
      "text/plain": [
       "<Figure size 864x432 with 1 Axes>"
      ]
     },
     "metadata": {
      "needs_background": "light"
     },
     "output_type": "display_data"
    }
   ],
   "source": [
    "sns.countplot(db['magType'])"
   ]
  },
  {
   "cell_type": "code",
   "execution_count": 190,
   "id": "94b0b47a",
   "metadata": {},
   "outputs": [
    {
     "name": "stderr",
     "output_type": "stream",
     "text": [
      "C:\\Users\\Manshi\\anaconda3\\lib\\site-packages\\seaborn\\_decorators.py:36: FutureWarning: Pass the following variable as a keyword arg: x. From version 0.12, the only valid positional argument will be `data`, and passing other arguments without an explicit keyword will result in an error or misinterpretation.\n",
      "  warnings.warn(\n"
     ]
    },
    {
     "data": {
      "text/plain": [
       "<AxesSubplot:xlabel='nst', ylabel='count'>"
      ]
     },
     "execution_count": 190,
     "metadata": {},
     "output_type": "execute_result"
    },
    {
     "data": {
      "image/png": "[encoded data removed]",
      "text/plain": [
       "<Figure size 864x432 with 1 Axes>"
      ]
     },
     "metadata": {
      "needs_background": "light"
     },
     "output_type": "display_data"
    }
   ],
   "source": [
    "sns.countplot(db['nst'])"
   ]
  },
  {
   "cell_type": "code",
   "execution_count": 191,
   "id": "49984f15",
   "metadata": {},
   "outputs": [
    {
     "name": "stderr",
     "output_type": "stream",
     "text": [
      "C:\\Users\\Manshi\\anaconda3\\lib\\site-packages\\seaborn\\_decorators.py:36: FutureWarning: Pass the following variable as a keyword arg: x. From version 0.12, the only valid positional argument will be `data`, and passing other arguments without an explicit keyword will result in an error or misinterpretation.\n",
      "  warnings.warn(\n"
     ]
    },
    {
     "data": {
      "text/plain": [
       "<AxesSubplot:xlabel='gap', ylabel='count'>"
      ]
     },
     "execution_count": 191,
     "metadata": {},
     "output_type": "execute_result"
    },
    {
     "data": {
      "image/png": "[encoded data removed]",
      "text/plain": [
       "<Figure size 864x432 with 1 Axes>"
      ]
     },
     "metadata": {
      "needs_background": "light"
     },
     "output_type": "display_data"
    }
   ],
   "source": [
    "sns.countplot(db['gap'])"
   ]
  },
  {
   "cell_type": "code",
   "execution_count": 192,
   "id": "26e0f8a5",
   "metadata": {},
   "outputs": [
    {
     "name": "stderr",
     "output_type": "stream",
     "text": [
      "C:\\Users\\Manshi\\anaconda3\\lib\\site-packages\\seaborn\\_decorators.py:36: FutureWarning: Pass the following variable as a keyword arg: x. From version 0.12, the only valid positional argument will be `data`, and passing other arguments without an explicit keyword will result in an error or misinterpretation.\n",
      "  warnings.warn(\n"
     ]
    },
    {
     "data": {
      "text/plain": [
       "<AxesSubplot:xlabel='year', ylabel='count'>"
      ]
     },
     "execution_count": 192,
     "metadata": {},
     "output_type": "execute_result"
    },
    {
     "data": {
      "image/png": "[encoded data removed]",
      "text/plain": [
       "<Figure size 864x432 with 1 Axes>"
      ]
     },
     "metadata": {
      "needs_background": "light"
     },
     "output_type": "display_data"
    }
   ],
   "source": [
    "sns.countplot(db['year'])"
   ]
  },
  {
   "cell_type": "code",
   "execution_count": 193,
   "id": "f7c2778b",
   "metadata": {},
   "outputs": [
    {
     "data": {
      "text/plain": [
       "Index(['latitude', 'longitude', 'depth', 'mag', 'magType', 'nst', 'gap',\n",
       "       'dmin', 'rms', 'horizontalError', 'depthError', 'magError', 'magNst',\n",
       "       'year', 'month', 'day', 'hour', 'min'],\n",
       "      dtype='object')"
      ]
     },
     "execution_count": 193,
     "metadata": {},
     "output_type": "execute_result"
    }
   ],
   "source": [
    "db.columns"
   ]
  },
  {
   "cell_type": "code",
   "execution_count": 194,
   "id": "505f6e68",
   "metadata": {},
   "outputs": [
    {
     "name": "stderr",
     "output_type": "stream",
     "text": [
      "C:\\Users\\Manshi\\anaconda3\\lib\\site-packages\\seaborn\\_decorators.py:36: FutureWarning: Pass the following variable as a keyword arg: x. From version 0.12, the only valid positional argument will be `data`, and passing other arguments without an explicit keyword will result in an error or misinterpretation.\n",
      "  warnings.warn(\n"
     ]
    },
    {
     "data": {
      "text/plain": [
       "<AxesSubplot:xlabel='rms', ylabel='count'>"
      ]
     },
     "execution_count": 194,
     "metadata": {},
     "output_type": "execute_result"
    },
    {
     "data": {
      "image/png": "[encoded data removed]",
      "text/plain": [
       "<Figure size 864x432 with 1 Axes>"
      ]
     },
     "metadata": {
      "needs_background": "light"
     },
     "output_type": "display_data"
    }
   ],
   "source": [
    "sns.countplot(db['rms'])"
   ]
  },
  {
   "cell_type": "code",
   "execution_count": 195,
   "id": "ef90ec98",
   "metadata": {},
   "outputs": [
    {
     "name": "stderr",
     "output_type": "stream",
     "text": [
      "C:\\Users\\Manshi\\anaconda3\\lib\\site-packages\\seaborn\\_decorators.py:36: FutureWarning: Pass the following variable as a keyword arg: x. From version 0.12, the only valid positional argument will be `data`, and passing other arguments without an explicit keyword will result in an error or misinterpretation.\n",
      "  warnings.warn(\n"
     ]
    },
    {
     "data": {
      "text/plain": [
       "<AxesSubplot:xlabel='magNst', ylabel='count'>"
      ]
     },
     "execution_count": 195,
     "metadata": {},
     "output_type": "execute_result"
    },
    {
     "data": {
      "image/png": "[encoded data removed]",
      "text/plain": [
       "<Figure size 864x432 with 1 Axes>"
      ]
     },
     "metadata": {
      "needs_background": "light"
     },
     "output_type": "display_data"
    }
   ],
   "source": [
    "sns.countplot(db['magNst'])"
   ]
  },
  {
   "cell_type": "code",
   "execution_count": 196,
   "id": "b640d740",
   "metadata": {},
   "outputs": [
    {
     "name": "stderr",
     "output_type": "stream",
     "text": [
      "C:\\Users\\Manshi\\anaconda3\\lib\\site-packages\\seaborn\\distributions.py:2619: FutureWarning: `distplot` is a deprecated function and will be removed in a future version. Please adapt your code to use either `displot` (a figure-level function with similar flexibility) or `histplot` (an axes-level function for histograms).\n",
      "  warnings.warn(msg, FutureWarning)\n",
      "C:\\Users\\Manshi\\anaconda3\\lib\\site-packages\\seaborn\\_decorators.py:36: FutureWarning: Pass the following variable as a keyword arg: x. From version 0.12, the only valid positional argument will be `data`, and passing other arguments without an explicit keyword will result in an error or misinterpretation.\n",
      "  warnings.warn(\n"
     ]
    },
    {
     "data": {
      "image/png": "[encoded data removed]",
      "text/plain": [
       "<Figure size 864x432 with 3 Axes>"
      ]
     },
     "metadata": {
      "needs_background": "light"
     },
     "output_type": "display_data"
    }
   ],
   "source": [
    "fig, axs = plt.subplots(nrows=3)\n",
    "sns.histplot(db['latitude'], ax=axs[0]);\n",
    "sns.distplot(db['latitude'], ax=axs[1])\n",
    "sns.boxplot(db['latitude'], ax=axs[2]);"
   ]
  },
  {
   "cell_type": "code",
   "execution_count": 197,
   "id": "ade9d311",
   "metadata": {},
   "outputs": [
    {
     "name": "stderr",
     "output_type": "stream",
     "text": [
      "C:\\Users\\Manshi\\anaconda3\\lib\\site-packages\\seaborn\\distributions.py:2619: FutureWarning: `distplot` is a deprecated function and will be removed in a future version. Please adapt your code to use either `displot` (a figure-level function with similar flexibility) or `histplot` (an axes-level function for histograms).\n",
      "  warnings.warn(msg, FutureWarning)\n",
      "C:\\Users\\Manshi\\anaconda3\\lib\\site-packages\\seaborn\\_decorators.py:36: FutureWarning: Pass the following variable as a keyword arg: x. From version 0.12, the only valid positional argument will be `data`, and passing other arguments without an explicit keyword will result in an error or misinterpretation.\n",
      "  warnings.warn(\n"
     ]
    },
    {
     "data": {
      "image/png": "[encoded data removed]",
      "text/plain": [
       "<Figure size 864x432 with 3 Axes>"
      ]
     },
     "metadata": {
      "needs_background": "light"
     },
     "output_type": "display_data"
    }
   ],
   "source": [
    "fig, axs = plt.subplots(nrows=3)\n",
    "sns.histplot(db['longitude'], ax=axs[0]);\n",
    "sns.distplot(db['longitude'], ax=axs[1])\n",
    "sns.boxplot(db['longitude'], ax=axs[2]);"
   ]
  },
  {
   "cell_type": "code",
   "execution_count": 198,
   "id": "55002eed",
   "metadata": {},
   "outputs": [
    {
     "data": {
      "text/plain": [
       "Index(['latitude', 'longitude', 'depth', 'mag', 'magType', 'nst', 'gap',\n",
       "       'dmin', 'rms', 'horizontalError', 'depthError', 'magError', 'magNst',\n",
       "       'year', 'month', 'day', 'hour', 'min'],\n",
       "      dtype='object')"
      ]
     },
     "execution_count": 198,
     "metadata": {},
     "output_type": "execute_result"
    }
   ],
   "source": [
    "db.columns"
   ]
  },
  {
   "cell_type": "code",
   "execution_count": 199,
   "id": "9d109234",
   "metadata": {},
   "outputs": [
    {
     "name": "stderr",
     "output_type": "stream",
     "text": [
      "C:\\Users\\Manshi\\anaconda3\\lib\\site-packages\\seaborn\\distributions.py:2619: FutureWarning: `distplot` is a deprecated function and will be removed in a future version. Please adapt your code to use either `displot` (a figure-level function with similar flexibility) or `histplot` (an axes-level function for histograms).\n",
      "  warnings.warn(msg, FutureWarning)\n",
      "C:\\Users\\Manshi\\anaconda3\\lib\\site-packages\\seaborn\\_decorators.py:36: FutureWarning: Pass the following variable as a keyword arg: x. From version 0.12, the only valid positional argument will be `data`, and passing other arguments without an explicit keyword will result in an error or misinterpretation.\n",
      "  warnings.warn(\n"
     ]
    },
    {
     "data": {
      "image/png": "[encoded data removed]",
      "text/plain": [
       "<Figure size 864x432 with 3 Axes>"
      ]
     },
     "metadata": {
      "needs_background": "light"
     },
     "output_type": "display_data"
    }
   ],
   "source": [
    "fig, axs = plt.subplots(nrows=3)\n",
    "sns.histplot(db['depth'], ax=axs[0]);\n",
    "sns.distplot(db['depth'], ax=axs[1])\n",
    "sns.boxplot(db['depth'], ax=axs[2]);"
   ]
  },
  {
   "cell_type": "code",
   "execution_count": 200,
   "id": "c0d94078",
   "metadata": {},
   "outputs": [
    {
     "name": "stderr",
     "output_type": "stream",
     "text": [
      "C:\\Users\\Manshi\\anaconda3\\lib\\site-packages\\seaborn\\distributions.py:2619: FutureWarning: `distplot` is a deprecated function and will be removed in a future version. Please adapt your code to use either `displot` (a figure-level function with similar flexibility) or `histplot` (an axes-level function for histograms).\n",
      "  warnings.warn(msg, FutureWarning)\n",
      "C:\\Users\\Manshi\\anaconda3\\lib\\site-packages\\seaborn\\_decorators.py:36: FutureWarning: Pass the following variable as a keyword arg: x. From version 0.12, the only valid positional argument will be `data`, and passing other arguments without an explicit keyword will result in an error or misinterpretation.\n",
      "  warnings.warn(\n"
     ]
    },
    {
     "data": {
      "image/png": "[encoded data removed]",
      "text/plain": [
       "<Figure size 864x432 with 3 Axes>"
      ]
     },
     "metadata": {
      "needs_background": "light"
     },
     "output_type": "display_data"
    }
   ],
   "source": [
    "fig, axs = plt.subplots(nrows=3)\n",
    "sns.histplot(db['mag'], ax=axs[0]);\n",
    "sns.distplot(db['mag'], ax=axs[1])\n",
    "sns.boxplot(db['mag'], ax=axs[2]);"
   ]
  },
  {
   "cell_type": "code",
   "execution_count": 201,
   "id": "a2158023",
   "metadata": {},
   "outputs": [
    {
     "name": "stderr",
     "output_type": "stream",
     "text": [
      "C:\\Users\\Manshi\\anaconda3\\lib\\site-packages\\seaborn\\distributions.py:2619: FutureWarning: `distplot` is a deprecated function and will be removed in a future version. Please adapt your code to use either `displot` (a figure-level function with similar flexibility) or `histplot` (an axes-level function for histograms).\n",
      "  warnings.warn(msg, FutureWarning)\n",
      "C:\\Users\\Manshi\\anaconda3\\lib\\site-packages\\seaborn\\_decorators.py:36: FutureWarning: Pass the following variable as a keyword arg: x. From version 0.12, the only valid positional argument will be `data`, and passing other arguments without an explicit keyword will result in an error or misinterpretation.\n",
      "  warnings.warn(\n"
     ]
    },
    {
     "data": {
      "image/png": "[encoded data removed]",
      "text/plain": [
       "<Figure size 864x432 with 3 Axes>"
      ]
     },
     "metadata": {
      "needs_background": "light"
     },
     "output_type": "display_data"
    }
   ],
   "source": [
    "fig, axs = plt.subplots(nrows=3)\n",
    "sns.histplot(db['nst'], ax=axs[0]);\n",
    "sns.distplot(db['nst'], ax=axs[1])\n",
    "sns.boxplot(db['nst'], ax=axs[2]);"
   ]
  },
  {
   "cell_type": "code",
   "execution_count": 202,
   "id": "6de16b19",
   "metadata": {},
   "outputs": [
    {
     "name": "stderr",
     "output_type": "stream",
     "text": [
      "C:\\Users\\Manshi\\anaconda3\\lib\\site-packages\\seaborn\\distributions.py:2619: FutureWarning: `distplot` is a deprecated function and will be removed in a future version. Please adapt your code to use either `displot` (a figure-level function with similar flexibility) or `histplot` (an axes-level function for histograms).\n",
      "  warnings.warn(msg, FutureWarning)\n",
      "C:\\Users\\Manshi\\anaconda3\\lib\\site-packages\\seaborn\\_decorators.py:36: FutureWarning: Pass the following variable as a keyword arg: x. From version 0.12, the only valid positional argument will be `data`, and passing other arguments without an explicit keyword will result in an error or misinterpretation.\n",
      "  warnings.warn(\n"
     ]
    },
    {
     "data": {
      "image/png": "[encoded data removed]",
      "text/plain": [
       "<Figure size 864x432 with 3 Axes>"
      ]
     },
     "metadata": {
      "needs_background": "light"
     },
     "output_type": "display_data"
    }
   ],
   "source": [
    "fig, axs = plt.subplots(nrows=3)\n",
    "sns.histplot(db['gap'], ax=axs[0]);\n",
    "sns.distplot(db['gap'], ax=axs[1])\n",
    "sns.boxplot(db['gap'], ax=axs[2]);"
   ]
  },
  {
   "cell_type": "code",
   "execution_count": 203,
   "id": "4451f0c0",
   "metadata": {},
   "outputs": [
    {
     "name": "stderr",
     "output_type": "stream",
     "text": [
      "C:\\Users\\Manshi\\anaconda3\\lib\\site-packages\\seaborn\\distributions.py:2619: FutureWarning: `distplot` is a deprecated function and will be removed in a future version. Please adapt your code to use either `displot` (a figure-level function with similar flexibility) or `histplot` (an axes-level function for histograms).\n",
      "  warnings.warn(msg, FutureWarning)\n",
      "C:\\Users\\Manshi\\anaconda3\\lib\\site-packages\\seaborn\\_decorators.py:36: FutureWarning: Pass the following variable as a keyword arg: x. From version 0.12, the only valid positional argument will be `data`, and passing other arguments without an explicit keyword will result in an error or misinterpretation.\n",
      "  warnings.warn(\n"
     ]
    },
    {
     "data": {
      "image/png": "[encoded data removed]",
      "text/plain": [
       "<Figure size 864x432 with 3 Axes>"
      ]
     },
     "metadata": {
      "needs_background": "light"
     },
     "output_type": "display_data"
    }
   ],
   "source": [
    "\n",
    "fig, axs = plt.subplots(nrows=3)\n",
    "sns.histplot(db['dmin'], ax=axs[0]);\n",
    "sns.distplot(db['dmin'], ax=axs[1])\n",
    "sns.boxplot(db['dmin'], ax=axs[2]);"
   ]
  },
  {
   "cell_type": "markdown",
   "id": "8b463b0f",
   "metadata": {},
   "source": [
    "### Now lets do bivariate analysis\n",
    "\n",
    "using scatterplot"
   ]
  },
  {
   "cell_type": "code",
   "execution_count": 204,
   "id": "b64ad723",
   "metadata": {},
   "outputs": [
    {
     "data": {
      "text/plain": [
       "<matplotlib.collections.PathCollection at 0x1c6e6269430>"
      ]
     },
     "execution_count": 204,
     "metadata": {},
     "output_type": "execute_result"
    },
    {
     "data": {
      "image/png": "[encoded data removed]",
      "text/plain": [
       "<Figure size 864x432 with 1 Axes>"
      ]
     },
     "metadata": {
      "needs_background": "light"
     },
     "output_type": "display_data"
    }
   ],
   "source": [
    "plt.scatter(x='year',y='mag',data=db)"
   ]
  },
  {
   "cell_type": "markdown",
   "id": "c2069130",
   "metadata": {},
   "source": [
    "observation:\n",
    "it can be seen their are more data points after 1980 possible reason for which may be:\n",
    "\n",
    "1. Data collection technique,instrument for earthquake got serious and efficient\n",
    "\n",
    "2. In year 2001 their are more no of earthquake that occured\n"
   ]
  },
  {
   "cell_type": "code",
   "execution_count": 205,
   "id": "0d5e945b",
   "metadata": {},
   "outputs": [
    {
     "data": {
      "text/plain": [
       "<matplotlib.collections.PathCollection at 0x1c6e62c5cd0>"
      ]
     },
     "execution_count": 205,
     "metadata": {},
     "output_type": "execute_result"
    },
    {
     "data": {
      "image/png": "[encoded data removed]",
      "text/plain": [
       "<Figure size 864x432 with 1 Axes>"
      ]
     },
     "metadata": {
      "needs_background": "light"
     },
     "output_type": "display_data"
    }
   ],
   "source": [
    "plt.scatter(x='month',y='mag',data=db)"
   ]
  },
  {
   "cell_type": "markdown",
   "id": "5dbd73fb",
   "metadata": {},
   "source": [
    "month and magnitude distribution is almost same representing not much impact of month "
   ]
  },
  {
   "cell_type": "code",
   "execution_count": 206,
   "id": "be083b0f",
   "metadata": {},
   "outputs": [
    {
     "data": {
      "text/plain": [
       "<matplotlib.collections.PathCollection at 0x1c6e66d2f70>"
      ]
     },
     "execution_count": 206,
     "metadata": {},
     "output_type": "execute_result"
    },
    {
     "data": {
      "image/png": "[encoded data removed]",
      "text/plain": [
       "<Figure size 864x432 with 1 Axes>"
      ]
     },
     "metadata": {
      "needs_background": "light"
     },
     "output_type": "display_data"
    }
   ],
   "source": [
    "plt.scatter(x='hour',y='mag',data=db)"
   ]
  },
  {
   "cell_type": "code",
   "execution_count": 207,
   "id": "2dad717a",
   "metadata": {},
   "outputs": [
    {
     "data": {
      "text/plain": [
       "<matplotlib.collections.PathCollection at 0x1c6e6466c10>"
      ]
     },
     "execution_count": 207,
     "metadata": {},
     "output_type": "execute_result"
    },
    {
     "data": {
      "image/png": "[encoded data removed]",
      "text/plain": [
       "<Figure size 864x432 with 1 Axes>"
      ]
     },
     "metadata": {
      "needs_background": "light"
     },
     "output_type": "display_data"
    }
   ],
   "source": [
    "plt.scatter(x='latitude',y='mag',data=db)"
   ]
  },
  {
   "cell_type": "code",
   "execution_count": 208,
   "id": "758d52af",
   "metadata": {},
   "outputs": [
    {
     "data": {
      "text/plain": [
       "<matplotlib.collections.PathCollection at 0x1c6e64d2400>"
      ]
     },
     "execution_count": 208,
     "metadata": {},
     "output_type": "execute_result"
    },
    {
     "data": {
      "image/png": "[encoded data removed]",
      "text/plain": [
       "<Figure size 864x432 with 1 Axes>"
      ]
     },
     "metadata": {
      "needs_background": "light"
     },
     "output_type": "display_data"
    }
   ],
   "source": [
    "plt.scatter(x='longitude',y='mag',data=db)"
   ]
  },
  {
   "cell_type": "code",
   "execution_count": 209,
   "id": "8cf45d3b",
   "metadata": {},
   "outputs": [
    {
     "data": {
      "text/plain": [
       "<matplotlib.collections.PathCollection at 0x1c6e652aaf0>"
      ]
     },
     "execution_count": 209,
     "metadata": {},
     "output_type": "execute_result"
    },
    {
     "data": {
      "image/png": "[encoded data removed]",
      "text/plain": [
       "<Figure size 864x432 with 1 Axes>"
      ]
     },
     "metadata": {
      "needs_background": "light"
     },
     "output_type": "display_data"
    }
   ],
   "source": [
    "plt.scatter(x='depth',y='mag',data=db)"
   ]
  },
  {
   "cell_type": "code",
   "execution_count": 210,
   "id": "65d5659a",
   "metadata": {},
   "outputs": [
    {
     "data": {
      "text/plain": [
       "<matplotlib.collections.PathCollection at 0x1c6e654ef10>"
      ]
     },
     "execution_count": 210,
     "metadata": {},
     "output_type": "execute_result"
    },
    {
     "data": {
      "image/png": "[encoded data removed]",
      "text/plain": [
       "<Figure size 864x432 with 1 Axes>"
      ]
     },
     "metadata": {
      "needs_background": "light"
     },
     "output_type": "display_data"
    }
   ],
   "source": [
    "plt.scatter(x='magNst',y='mag',data=db)"
   ]
  },
  {
   "cell_type": "code",
   "execution_count": 211,
   "id": "07823a2c",
   "metadata": {},
   "outputs": [
    {
     "data": {
      "text/plain": [
       "Index(['latitude', 'longitude', 'depth', 'mag', 'magType', 'nst', 'gap',\n",
       "       'dmin', 'rms', 'horizontalError', 'depthError', 'magError', 'magNst',\n",
       "       'year', 'month', 'day', 'hour', 'min'],\n",
       "      dtype='object')"
      ]
     },
     "execution_count": 211,
     "metadata": {},
     "output_type": "execute_result"
    }
   ],
   "source": [
    "db.columns"
   ]
  },
  {
   "cell_type": "code",
   "execution_count": 212,
   "id": "6cf914fa",
   "metadata": {},
   "outputs": [
    {
     "data": {
      "text/plain": [
       "<matplotlib.collections.PathCollection at 0x1c6e64f1dc0>"
      ]
     },
     "execution_count": 212,
     "metadata": {},
     "output_type": "execute_result"
    },
    {
     "data": {
      "image/png": "[encoded data removed]",
      "text/plain": [
       "<Figure size 864x432 with 1 Axes>"
      ]
     },
     "metadata": {
      "needs_background": "light"
     },
     "output_type": "display_data"
    }
   ],
   "source": [
    "plt.scatter(x='gap',y='mag',data=db)"
   ]
  },
  {
   "cell_type": "markdown",
   "id": "90c0fc4c",
   "metadata": {},
   "source": [
    "it can be seen that as gap is increasing the magnitude of earthquake also decreases. the points where we see more number of points in same line is beacuse we replaced the null values with mean"
   ]
  },
  {
   "cell_type": "code",
   "execution_count": 213,
   "id": "b7922bf8",
   "metadata": {},
   "outputs": [
    {
     "data": {
      "text/plain": [
       "<matplotlib.collections.PathCollection at 0x1c6e67b0190>"
      ]
     },
     "execution_count": 213,
     "metadata": {},
     "output_type": "execute_result"
    },
    {
     "data": {
      "image/png": "[encoded data removed]",
      "text/plain": [
       "<Figure size 864x432 with 1 Axes>"
      ]
     },
     "metadata": {
      "needs_background": "light"
     },
     "output_type": "display_data"
    }
   ],
   "source": [
    "plt.scatter(x='dmin',y='mag',data=db)"
   ]
  },
  {
   "cell_type": "code",
   "execution_count": 214,
   "id": "c1cbad75",
   "metadata": {},
   "outputs": [
    {
     "data": {
      "text/plain": [
       "<matplotlib.collections.PathCollection at 0x1c6e6803cd0>"
      ]
     },
     "execution_count": 214,
     "metadata": {},
     "output_type": "execute_result"
    },
    {
     "data": {
      "image/png": "[encoded data removed]",
      "text/plain": [
       "<Figure size 864x432 with 1 Axes>"
      ]
     },
     "metadata": {
      "needs_background": "light"
     },
     "output_type": "display_data"
    }
   ],
   "source": [
    "plt.scatter(x='rms',y='mag',data=db)"
   ]
  },
  {
   "cell_type": "code",
   "execution_count": 215,
   "id": "d1180d79",
   "metadata": {},
   "outputs": [
    {
     "data": {
      "text/plain": [
       "Index(['latitude', 'longitude', 'depth', 'mag', 'magType', 'nst', 'gap',\n",
       "       'dmin', 'rms', 'horizontalError', 'depthError', 'magError', 'magNst',\n",
       "       'year', 'month', 'day', 'hour', 'min'],\n",
       "      dtype='object')"
      ]
     },
     "execution_count": 215,
     "metadata": {},
     "output_type": "execute_result"
    }
   ],
   "source": [
    "db.columns"
   ]
  },
  {
   "cell_type": "code",
   "execution_count": 216,
   "id": "53da1caa",
   "metadata": {},
   "outputs": [
    {
     "data": {
      "text/plain": [
       "<matplotlib.collections.PathCollection at 0x1c6e681ae80>"
      ]
     },
     "execution_count": 216,
     "metadata": {},
     "output_type": "execute_result"
    },
    {
     "data": {
      "image/png": "[encoded data removed]",
      "text/plain": [
       "<Figure size 864x432 with 1 Axes>"
      ]
     },
     "metadata": {
      "needs_background": "light"
     },
     "output_type": "display_data"
    }
   ],
   "source": [
    "plt.scatter(x='horizontalError',y='mag',data=db)"
   ]
  },
  {
   "cell_type": "code",
   "execution_count": 217,
   "id": "64af760e",
   "metadata": {},
   "outputs": [
    {
     "data": {
      "text/plain": [
       "<matplotlib.collections.PathCollection at 0x1c6e7a21d60>"
      ]
     },
     "execution_count": 217,
     "metadata": {},
     "output_type": "execute_result"
    },
    {
     "data": {
      "image/png": "[encoded data removed]",
      "text/plain": [
       "<Figure size 864x432 with 1 Axes>"
      ]
     },
     "metadata": {
      "needs_background": "light"
     },
     "output_type": "display_data"
    }
   ],
   "source": [
    "plt.scatter(x='depthError',y='mag',data=db)"
   ]
  },
  {
   "cell_type": "code",
   "execution_count": 218,
   "id": "d9cb4680",
   "metadata": {},
   "outputs": [
    {
     "data": {
      "text/plain": [
       "<matplotlib.collections.PathCollection at 0x1c6e78caf40>"
      ]
     },
     "execution_count": 218,
     "metadata": {},
     "output_type": "execute_result"
    },
    {
     "data": {
      "image/png": "[encoded data removed]",
      "text/plain": [
       "<Figure size 864x432 with 1 Axes>"
      ]
     },
     "metadata": {
      "needs_background": "light"
     },
     "output_type": "display_data"
    }
   ],
   "source": [
    "plt.scatter(x='magError',y='mag',data=db)"
   ]
  },
  {
   "cell_type": "code",
   "execution_count": 219,
   "id": "d8dcb4db",
   "metadata": {},
   "outputs": [
    {
     "data": {
      "text/plain": [
       "<matplotlib.collections.PathCollection at 0x1c6e7941220>"
      ]
     },
     "execution_count": 219,
     "metadata": {},
     "output_type": "execute_result"
    },
    {
     "data": {
      "image/png": "[encoded data removed]",
      "text/plain": [
       "<Figure size 864x432 with 1 Axes>"
      ]
     },
     "metadata": {
      "needs_background": "light"
     },
     "output_type": "display_data"
    }
   ],
   "source": [
    "plt.scatter(x='depthError',y='mag',data=db)"
   ]
  },
  {
   "cell_type": "code",
   "execution_count": null,
   "id": "2368e92c",
   "metadata": {},
   "outputs": [],
   "source": []
  },
  {
   "cell_type": "code",
   "execution_count": 220,
   "id": "86c37572",
   "metadata": {},
   "outputs": [
    {
     "data": {
      "text/plain": [
       "<AxesSubplot:>"
      ]
     },
     "execution_count": 220,
     "metadata": {},
     "output_type": "execute_result"
    },
    {
     "data": {
      "image/png": "[encoded data removed]",
      "text/plain": [
       "<Figure size 864x432 with 2 Axes>"
      ]
     },
     "metadata": {
      "needs_background": "light"
     },
     "output_type": "display_data"
    }
   ],
   "source": [
    "#drawing heatmap\n",
    "sns.heatmap(db.corr(),annot=True,cbar='coolwarm')"
   ]
  },
  {
   "cell_type": "markdown",
   "id": "90130db6",
   "metadata": {},
   "source": [
    "observation:\n",
    "1. variables which have positive correlation with magnitude:\n",
    "\n",
    "    . nst ->0.4\n",
    "    . magnst -> 0.42\n",
    "    . depth error and magerror\n",
    "2. negative corr:\n",
    "     . gap -0.44\n",
    "     . year -0.41\n",
    "    "
   ]
  },
  {
   "cell_type": "markdown",
   "id": "f68bc935",
   "metadata": {},
   "source": [
    "def correlation(data):\n",
    "    pos=dict()\n",
    "    neg=dict()\n",
    "    corr_matrix=data.corr()\n",
    "    for i in range(len(corr_matrix.columns)):\n",
    "        for j in range(i):\n",
    "            if corr_matrix.iloc[i,j]>0:\n",
    "                pos[corr_matrix.columns[i]]=corr_matrix.iloc[i,j]\n",
    "            else:\n",
    "                neg[corr_matrix.columns[i]]=corr_matrix.iloc[i,j]\n",
    "    print(pos)  \n",
    "    print(\"\") \n",
    "    print(neg)"
   ]
  },
  {
   "cell_type": "code",
   "execution_count": 221,
   "id": "2753da59",
   "metadata": {},
   "outputs": [],
   "source": [
    "db.drop(columns=['magType'],inplace=True)"
   ]
  },
  {
   "cell_type": "code",
   "execution_count": 222,
   "id": "8418dfe8",
   "metadata": {},
   "outputs": [],
   "source": [
    "db.drop(columns=['dmin'],inplace=True)"
   ]
  },
  {
   "cell_type": "code",
   "execution_count": 223,
   "id": "6820176b",
   "metadata": {},
   "outputs": [],
   "source": [
    "db.drop(columns=['depthError','min'],inplace=True)"
   ]
  },
  {
   "cell_type": "code",
   "execution_count": 224,
   "id": "58fe493d",
   "metadata": {},
   "outputs": [
    {
     "data": {
      "text/plain": [
       "Index(['latitude', 'longitude', 'depth', 'mag', 'nst', 'gap', 'rms',\n",
       "       'horizontalError', 'magError', 'magNst', 'year', 'month', 'day',\n",
       "       'hour'],\n",
       "      dtype='object')"
      ]
     },
     "execution_count": 224,
     "metadata": {},
     "output_type": "execute_result"
    }
   ],
   "source": [
    "db.columns"
   ]
  },
  {
   "cell_type": "markdown",
   "id": "3b92faff",
   "metadata": {},
   "source": [
    "### feature scaling"
   ]
  },
  {
   "cell_type": "markdown",
   "id": "5359322e",
   "metadata": {},
   "source": [
    "There are two major types of feature scaling :\n",
    "\n",
    "1. Standardization.\n",
    "2. Normalization.\n",
    "\n",
    "We can use StandardScalar to scale our data:\n",
    "\n",
    "\n",
    "StandardScaler is used to resize the distribution of values ​​so that the mean of the observed values ​​is 0 and the standard deviation is 1.\n",
    "The values will lie be between -1 and 1."
   ]
  },
  {
   "cell_type": "code",
   "execution_count": 225,
   "id": "2307145b",
   "metadata": {},
   "outputs": [],
   "source": [
    "#spliting the data in target and input variable\n",
    "x=db.drop(columns='mag')\n",
    "y=db['mag']"
   ]
  },
  {
   "cell_type": "code",
   "execution_count": 226,
   "id": "6abb5ad4",
   "metadata": {},
   "outputs": [
    {
     "data": {
      "text/html": [
       "<div>\n",
       "<style scoped>\n",
       "    .dataframe tbody tr th:only-of-type {\n",
       "        vertical-align: middle;\n",
       "    }\n",
       "\n",
       "    .dataframe tbody tr th {\n",
       "        vertical-align: top;\n",
       "    }\n",
       "\n",
       "    .dataframe thead th {\n",
       "        text-align: right;\n",
       "    }\n",
       "</style>\n",
       "<table border=\"1\" class=\"dataframe\">\n",
       "  <thead>\n",
       "    <tr style=\"text-align: right;\">\n",
       "      <th></th>\n",
       "      <th>latitude</th>\n",
       "      <th>longitude</th>\n",
       "      <th>depth</th>\n",
       "      <th>nst</th>\n",
       "      <th>gap</th>\n",
       "      <th>rms</th>\n",
       "      <th>horizontalError</th>\n",
       "      <th>magError</th>\n",
       "      <th>magNst</th>\n",
       "      <th>year</th>\n",
       "      <th>month</th>\n",
       "      <th>day</th>\n",
       "      <th>hour</th>\n",
       "    </tr>\n",
       "  </thead>\n",
       "  <tbody>\n",
       "    <tr>\n",
       "      <th>10</th>\n",
       "      <td>28.7191</td>\n",
       "      <td>76.6286</td>\n",
       "      <td>10.000</td>\n",
       "      <td>21.000000</td>\n",
       "      <td>179.000000</td>\n",
       "      <td>0.570000</td>\n",
       "      <td>9.350000</td>\n",
       "      <td>0.158</td>\n",
       "      <td>13.000000</td>\n",
       "      <td>2022</td>\n",
       "      <td>12</td>\n",
       "      <td>31</td>\n",
       "      <td>19</td>\n",
       "    </tr>\n",
       "    <tr>\n",
       "      <th>14</th>\n",
       "      <td>31.8986</td>\n",
       "      <td>76.9792</td>\n",
       "      <td>10.000</td>\n",
       "      <td>46.000000</td>\n",
       "      <td>87.000000</td>\n",
       "      <td>0.560000</td>\n",
       "      <td>3.670000</td>\n",
       "      <td>0.102</td>\n",
       "      <td>28.000000</td>\n",
       "      <td>2022</td>\n",
       "      <td>11</td>\n",
       "      <td>16</td>\n",
       "      <td>16</td>\n",
       "    </tr>\n",
       "    <tr>\n",
       "      <th>16</th>\n",
       "      <td>30.7102</td>\n",
       "      <td>78.5669</td>\n",
       "      <td>22.322</td>\n",
       "      <td>53.000000</td>\n",
       "      <td>100.000000</td>\n",
       "      <td>0.750000</td>\n",
       "      <td>8.670000</td>\n",
       "      <td>0.098</td>\n",
       "      <td>31.000000</td>\n",
       "      <td>2022</td>\n",
       "      <td>11</td>\n",
       "      <td>6</td>\n",
       "      <td>3</td>\n",
       "    </tr>\n",
       "    <tr>\n",
       "      <th>17</th>\n",
       "      <td>32.3641</td>\n",
       "      <td>78.6637</td>\n",
       "      <td>10.000</td>\n",
       "      <td>77.000000</td>\n",
       "      <td>88.000000</td>\n",
       "      <td>0.610000</td>\n",
       "      <td>7.790000</td>\n",
       "      <td>0.077</td>\n",
       "      <td>50.000000</td>\n",
       "      <td>2022</td>\n",
       "      <td>10</td>\n",
       "      <td>18</td>\n",
       "      <td>12</td>\n",
       "    </tr>\n",
       "    <tr>\n",
       "      <th>24</th>\n",
       "      <td>33.1509</td>\n",
       "      <td>75.7219</td>\n",
       "      <td>10.000</td>\n",
       "      <td>42.000000</td>\n",
       "      <td>156.000000</td>\n",
       "      <td>0.680000</td>\n",
       "      <td>8.010000</td>\n",
       "      <td>0.121</td>\n",
       "      <td>19.000000</td>\n",
       "      <td>2022</td>\n",
       "      <td>8</td>\n",
       "      <td>24</td>\n",
       "      <td>17</td>\n",
       "    </tr>\n",
       "    <tr>\n",
       "      <th>...</th>\n",
       "      <td>...</td>\n",
       "      <td>...</td>\n",
       "      <td>...</td>\n",
       "      <td>...</td>\n",
       "      <td>...</td>\n",
       "      <td>...</td>\n",
       "      <td>...</td>\n",
       "      <td>...</td>\n",
       "      <td>...</td>\n",
       "      <td>...</td>\n",
       "      <td>...</td>\n",
       "      <td>...</td>\n",
       "      <td>...</td>\n",
       "    </tr>\n",
       "    <tr>\n",
       "      <th>2737</th>\n",
       "      <td>33.3360</td>\n",
       "      <td>77.9580</td>\n",
       "      <td>15.000</td>\n",
       "      <td>39.466667</td>\n",
       "      <td>130.893299</td>\n",
       "      <td>0.973225</td>\n",
       "      <td>8.045693</td>\n",
       "      <td>0.200</td>\n",
       "      <td>16.587444</td>\n",
       "      <td>1917</td>\n",
       "      <td>5</td>\n",
       "      <td>9</td>\n",
       "      <td>21</td>\n",
       "    </tr>\n",
       "    <tr>\n",
       "      <th>2738</th>\n",
       "      <td>35.5860</td>\n",
       "      <td>78.1710</td>\n",
       "      <td>15.000</td>\n",
       "      <td>39.466667</td>\n",
       "      <td>130.893299</td>\n",
       "      <td>0.973225</td>\n",
       "      <td>8.045693</td>\n",
       "      <td>0.200</td>\n",
       "      <td>16.587444</td>\n",
       "      <td>1916</td>\n",
       "      <td>6</td>\n",
       "      <td>21</td>\n",
       "      <td>19</td>\n",
       "    </tr>\n",
       "    <tr>\n",
       "      <th>2740</th>\n",
       "      <td>32.3130</td>\n",
       "      <td>76.0370</td>\n",
       "      <td>20.000</td>\n",
       "      <td>39.466667</td>\n",
       "      <td>130.893299</td>\n",
       "      <td>0.973225</td>\n",
       "      <td>8.045693</td>\n",
       "      <td>0.410</td>\n",
       "      <td>16.587444</td>\n",
       "      <td>1914</td>\n",
       "      <td>10</td>\n",
       "      <td>9</td>\n",
       "      <td>2</td>\n",
       "    </tr>\n",
       "    <tr>\n",
       "      <th>2742</th>\n",
       "      <td>31.8940</td>\n",
       "      <td>76.1120</td>\n",
       "      <td>15.000</td>\n",
       "      <td>39.466667</td>\n",
       "      <td>130.893299</td>\n",
       "      <td>0.973225</td>\n",
       "      <td>8.045693</td>\n",
       "      <td>0.790</td>\n",
       "      <td>16.587444</td>\n",
       "      <td>1906</td>\n",
       "      <td>2</td>\n",
       "      <td>27</td>\n",
       "      <td>19</td>\n",
       "    </tr>\n",
       "    <tr>\n",
       "      <th>2743</th>\n",
       "      <td>32.5970</td>\n",
       "      <td>76.9160</td>\n",
       "      <td>20.000</td>\n",
       "      <td>39.466667</td>\n",
       "      <td>130.893299</td>\n",
       "      <td>0.973225</td>\n",
       "      <td>8.045693</td>\n",
       "      <td>0.400</td>\n",
       "      <td>16.587444</td>\n",
       "      <td>1905</td>\n",
       "      <td>4</td>\n",
       "      <td>4</td>\n",
       "      <td>0</td>\n",
       "    </tr>\n",
       "  </tbody>\n",
       "</table>\n",
       "<p>867 rows × 13 columns</p>\n",
       "</div>"
      ],
      "text/plain": [
       "      latitude  longitude   depth        nst         gap       rms  \\\n",
       "10     28.7191    76.6286  10.000  21.000000  179.000000  0.570000   \n",
       "14     31.8986    76.9792  10.000  46.000000   87.000000  0.560000   \n",
       "16     30.7102    78.5669  22.322  53.000000  100.000000  0.750000   \n",
       "17     32.3641    78.6637  10.000  77.000000   88.000000  0.610000   \n",
       "24     33.1509    75.7219  10.000  42.000000  156.000000  0.680000   \n",
       "...        ...        ...     ...        ...         ...       ...   \n",
       "2737   33.3360    77.9580  15.000  39.466667  130.893299  0.973225   \n",
       "2738   35.5860    78.1710  15.000  39.466667  130.893299  0.973225   \n",
       "2740   32.3130    76.0370  20.000  39.466667  130.893299  0.973225   \n",
       "2742   31.8940    76.1120  15.000  39.466667  130.893299  0.973225   \n",
       "2743   32.5970    76.9160  20.000  39.466667  130.893299  0.973225   \n",
       "\n",
       "      horizontalError  magError     magNst  year  month  day  hour  \n",
       "10           9.350000     0.158  13.000000  2022     12   31    19  \n",
       "14           3.670000     0.102  28.000000  2022     11   16    16  \n",
       "16           8.670000     0.098  31.000000  2022     11    6     3  \n",
       "17           7.790000     0.077  50.000000  2022     10   18    12  \n",
       "24           8.010000     0.121  19.000000  2022      8   24    17  \n",
       "...               ...       ...        ...   ...    ...  ...   ...  \n",
       "2737         8.045693     0.200  16.587444  1917      5    9    21  \n",
       "2738         8.045693     0.200  16.587444  1916      6   21    19  \n",
       "2740         8.045693     0.410  16.587444  1914     10    9     2  \n",
       "2742         8.045693     0.790  16.587444  1906      2   27    19  \n",
       "2743         8.045693     0.400  16.587444  1905      4    4     0  \n",
       "\n",
       "[867 rows x 13 columns]"
      ]
     },
     "execution_count": 226,
     "metadata": {},
     "output_type": "execute_result"
    }
   ],
   "source": [
    "x"
   ]
  },
  {
   "cell_type": "code",
   "execution_count": 227,
   "id": "fba8a705",
   "metadata": {},
   "outputs": [
    {
     "data": {
      "text/plain": [
       "10      4.10\n",
       "14      4.40\n",
       "16      4.60\n",
       "17      4.50\n",
       "24      4.20\n",
       "        ... \n",
       "2737    5.94\n",
       "2738    5.72\n",
       "2740    6.26\n",
       "2742    6.61\n",
       "2743    7.90\n",
       "Name: mag, Length: 867, dtype: float64"
      ]
     },
     "execution_count": 227,
     "metadata": {},
     "output_type": "execute_result"
    }
   ],
   "source": [
    "y"
   ]
  },
  {
   "cell_type": "code",
   "execution_count": 228,
   "id": "2d53bcd1",
   "metadata": {},
   "outputs": [],
   "source": [
    "from sklearn.preprocessing import StandardScaler"
   ]
  },
  {
   "cell_type": "code",
   "execution_count": 229,
   "id": "fcc38b2a",
   "metadata": {},
   "outputs": [],
   "source": [
    "standarscaler=StandardScaler()"
   ]
  },
  {
   "cell_type": "code",
   "execution_count": 230,
   "id": "5c807934",
   "metadata": {},
   "outputs": [],
   "source": [
    "standarscaler=standarscaler.fit(x)\n",
    "scaled_x=standarscaler.transform(x)"
   ]
  },
  {
   "cell_type": "markdown",
   "id": "a4a31914",
   "metadata": {},
   "source": [
    "## Data Modelling"
   ]
  },
  {
   "cell_type": "code",
   "execution_count": null,
   "id": "8f3c6366",
   "metadata": {},
   "outputs": [],
   "source": []
  },
  {
   "cell_type": "code",
   "execution_count": 231,
   "id": "6cd8ce02",
   "metadata": {},
   "outputs": [
    {
     "data": {
      "text/plain": [
       "array([[-1.91529346e+00, -1.74120944e-01, -1.02891915e+00, ...,\n",
       "         1.54190275e+00,  1.78282627e+00,  1.08531900e+00],\n",
       "       [-4.07291040e-01,  3.74166694e-02, -1.02891915e+00, ...,\n",
       "         1.25891594e+00,  4.51244569e-03,  6.55324376e-01],\n",
       "       [-9.70936292e-01,  9.95369520e-01, -4.65640286e-01, ...,\n",
       "         1.25891594e+00, -1.18103010e+00, -1.20798567e+00],\n",
       "       ...,\n",
       "       [-2.10745607e-01, -5.31068041e-01, -5.71786490e-01, ...,\n",
       "         9.75929132e-01, -8.25367339e-01, -1.35131722e+00],\n",
       "       [-4.09472770e-01, -4.85816127e-01, -8.00352821e-01, ...,\n",
       "        -1.28796534e+00,  1.30860925e+00,  1.08531900e+00],\n",
       "       [-7.60474821e-02, -7.15610044e-04, -5.71786490e-01, ...,\n",
       "        -7.21991719e-01, -1.41813861e+00, -1.63798030e+00]])"
      ]
     },
     "execution_count": 231,
     "metadata": {},
     "output_type": "execute_result"
    }
   ],
   "source": [
    "scaled_x"
   ]
  },
  {
   "cell_type": "code",
   "execution_count": 232,
   "id": "b9949486",
   "metadata": {},
   "outputs": [],
   "source": [
    "from sklearn.model_selection import train_test_split\n",
    "x_train,x_test,y_train,y_test=train_test_split(scaled_x,y,train_size=0.8, random_state=2)"
   ]
  },
  {
   "cell_type": "markdown",
   "id": "f49c7df2",
   "metadata": {},
   "source": [
    "### LinearRegression"
   ]
  },
  {
   "cell_type": "code",
   "execution_count": 233,
   "id": "566efff6",
   "metadata": {},
   "outputs": [],
   "source": [
    "from sklearn.linear_model import LinearRegression"
   ]
  },
  {
   "cell_type": "code",
   "execution_count": 234,
   "id": "db858f4e",
   "metadata": {},
   "outputs": [],
   "source": [
    "lr=LinearRegression()"
   ]
  },
  {
   "cell_type": "code",
   "execution_count": 235,
   "id": "912af0bd",
   "metadata": {},
   "outputs": [
    {
     "data": {
      "text/plain": [
       "LinearRegression()"
      ]
     },
     "execution_count": 235,
     "metadata": {},
     "output_type": "execute_result"
    }
   ],
   "source": [
    "lr.fit(x_train,y_train)"
   ]
  },
  {
   "cell_type": "code",
   "execution_count": 236,
   "id": "d4a4dfda",
   "metadata": {},
   "outputs": [],
   "source": [
    "lrprediction=lr.predict(x_test)"
   ]
  },
  {
   "cell_type": "code",
   "execution_count": 237,
   "id": "8c32adcf",
   "metadata": {},
   "outputs": [],
   "source": [
    "from sklearn.metrics import accuracy_score,mean_squared_error,mean_absolute_error, r2_score "
   ]
  },
  {
   "cell_type": "code",
   "execution_count": 238,
   "id": "8c6b389c",
   "metadata": {},
   "outputs": [
    {
     "name": "stdout",
     "output_type": "stream",
     "text": [
      "Mean squared error: 0.18259767603843996\n",
      "Root mean squared error: 0.42731449312940456\n",
      "Mean absolute error: 0.2936469167400704\n",
      "R-squared: 0.4999824678851087\n"
     ]
    }
   ],
   "source": [
    "mse = mean_squared_error(y_test, lrprediction)\n",
    "rmse = mean_squared_error(y_test, lrprediction, squared=False)\n",
    "mae = mean_absolute_error(y_test, lrprediction)\n",
    "r2 = r2_score(y_test, lrprediction)\n",
    "\n",
    "print(\"Mean squared error:\", mse)\n",
    "print(\"Root mean squared error:\", rmse)\n",
    "print(\"Mean absolute error:\", mae)\n",
    "print(\"R-squared:\", r2)"
   ]
  },
  {
   "cell_type": "markdown",
   "id": "7188a655",
   "metadata": {},
   "source": [
    "our predictions are not perfect, but they are reasonable. We are off by an average of 0.067 units from the actual values, which is relatively small compared to the range of the target variable. Additionally, our R2 value of 0.621 indicates that our model is able to explain about 62.1% of the variance in the target variable."
   ]
  },
  {
   "cell_type": "markdown",
   "id": "02d242cf",
   "metadata": {},
   "source": [
    "### Random Forest"
   ]
  },
  {
   "cell_type": "code",
   "execution_count": 239,
   "id": "09dff89c",
   "metadata": {},
   "outputs": [],
   "source": [
    "from sklearn.ensemble import RandomForestRegressor"
   ]
  },
  {
   "cell_type": "code",
   "execution_count": 240,
   "id": "e8513d9d",
   "metadata": {},
   "outputs": [],
   "source": [
    "rf=RandomForestRegressor()"
   ]
  },
  {
   "cell_type": "code",
   "execution_count": 241,
   "id": "fdc98104",
   "metadata": {},
   "outputs": [
    {
     "data": {
      "text/plain": [
       "RandomForestRegressor()"
      ]
     },
     "execution_count": 241,
     "metadata": {},
     "output_type": "execute_result"
    }
   ],
   "source": [
    "rf.fit(x_train,y_train)"
   ]
  },
  {
   "cell_type": "code",
   "execution_count": 242,
   "id": "e4352d05",
   "metadata": {},
   "outputs": [],
   "source": [
    "rf_prediciton=rf.predict(x_test)"
   ]
  },
  {
   "cell_type": "code",
   "execution_count": 243,
   "id": "3bfd139e",
   "metadata": {},
   "outputs": [
    {
     "name": "stdout",
     "output_type": "stream",
     "text": [
      "Mean squared error: 0.12948287919540225\n",
      "Root mean squared error: 0.35983729544809867\n",
      "Mean absolute error: 0.24594942528735628\n",
      "R-squared: 0.6454297167901195\n"
     ]
    }
   ],
   "source": [
    "mse = mean_squared_error(y_test, rf_prediciton)\n",
    "rmse = mean_squared_error(y_test, rf_prediciton, squared=False)\n",
    "mae = mean_absolute_error(y_test, rf_prediciton)\n",
    "r2 = r2_score(y_test, rf_prediciton)\n",
    "\n",
    "print(\"Mean squared error:\", mse)\n",
    "print(\"Root mean squared error:\", rmse)\n",
    "print(\"Mean absolute error:\", mae)\n",
    "print(\"R-squared:\", r2)"
   ]
  },
  {
   "cell_type": "markdown",
   "id": "f0d03191",
   "metadata": {},
   "source": [
    "In summary, our predictions are not very accurate, and we are off by an average of 0.072 units from the actual values. Our R2 value of 0.761 indicates that our model is only able to explain about 76.1% of the variance in the target variable. There is significant room for improvement in our prediction, and we need to consider modifying our model or exploring different features to improve the performance.\n"
   ]
  },
  {
   "cell_type": "markdown",
   "id": "ed6d813e",
   "metadata": {},
   "source": [
    "### Decision Tree"
   ]
  },
  {
   "cell_type": "code",
   "execution_count": 244,
   "id": "56ee7092",
   "metadata": {},
   "outputs": [],
   "source": [
    "from sklearn.tree import DecisionTreeRegressor"
   ]
  },
  {
   "cell_type": "code",
   "execution_count": 245,
   "id": "739ec5e9",
   "metadata": {},
   "outputs": [],
   "source": [
    "dt=DecisionTreeRegressor(max_depth=1)"
   ]
  },
  {
   "cell_type": "code",
   "execution_count": 246,
   "id": "c5f78d92",
   "metadata": {},
   "outputs": [
    {
     "data": {
      "text/plain": [
       "DecisionTreeRegressor(max_depth=1)"
      ]
     },
     "execution_count": 246,
     "metadata": {},
     "output_type": "execute_result"
    }
   ],
   "source": [
    "dt.fit(x_train,y_train)\n"
   ]
  },
  {
   "cell_type": "code",
   "execution_count": 247,
   "id": "955aba25",
   "metadata": {},
   "outputs": [],
   "source": [
    "dtpredicition=dt.predict(x_test)"
   ]
  },
  {
   "cell_type": "code",
   "execution_count": 248,
   "id": "aeb74a77",
   "metadata": {},
   "outputs": [
    {
     "name": "stdout",
     "output_type": "stream",
     "text": [
      "Mean squared error: 0.2231343317598044\n",
      "Root mean squared error: 0.4723709683710509\n",
      "Mean absolute error: 0.3575609590478656\n",
      "R-squared: 0.388978653413118\n"
     ]
    }
   ],
   "source": [
    "mse = mean_squared_error(y_test, dtpredicition)\n",
    "rmse = mean_squared_error(y_test, dtpredicition, squared=False)\n",
    "mae = mean_absolute_error(y_test, dtpredicition)\n",
    "r2 = r2_score(y_test, dtpredicition)\n",
    "\n",
    "print(\"Mean squared error:\", mse)\n",
    "print(\"Root mean squared error:\", rmse)\n",
    "print(\"Mean absolute error:\", mae)\n",
    "print(\"R-squared:\", r2)"
   ]
  },
  {
   "cell_type": "markdown",
   "id": "3a374248",
   "metadata": {},
   "source": [
    "he R-squared value of 0.3828 indicates that the model only explains 38% of the total variation in the target variable. This means that a large portion of the variation in the target variable is not explained by the model, "
   ]
  },
  {
   "cell_type": "markdown",
   "id": "48664ed6",
   "metadata": {},
   "source": [
    "### Support Vector Machine"
   ]
  },
  {
   "cell_type": "code",
   "execution_count": 249,
   "id": "21f49740",
   "metadata": {},
   "outputs": [],
   "source": [
    "from sklearn.svm import SVR"
   ]
  },
  {
   "cell_type": "code",
   "execution_count": 250,
   "id": "942f2c49",
   "metadata": {},
   "outputs": [],
   "source": [
    "svr=SVR(kernel='linear', C=1e3, gamma=0.1, epsilon=0.1)"
   ]
  },
  {
   "cell_type": "code",
   "execution_count": 251,
   "id": "4a8cc3ec",
   "metadata": {},
   "outputs": [
    {
     "data": {
      "text/plain": [
       "SVR(C=1000.0, gamma=0.1, kernel='linear')"
      ]
     },
     "execution_count": 251,
     "metadata": {},
     "output_type": "execute_result"
    }
   ],
   "source": [
    "svr.fit(x_train,y_train)"
   ]
  },
  {
   "cell_type": "code",
   "execution_count": 252,
   "id": "46f4d61e",
   "metadata": {},
   "outputs": [],
   "source": [
    "svrpredict=svr.predict(x_test)"
   ]
  },
  {
   "cell_type": "code",
   "execution_count": 253,
   "id": "9e8fbd71",
   "metadata": {},
   "outputs": [
    {
     "name": "stdout",
     "output_type": "stream",
     "text": [
      "Mean squared error: 0.18075940568833507\n",
      "Root mean squared error: 0.4251580949345021\n",
      "Mean absolute error: 0.2908733721462385\n",
      "R-squared: 0.505016307437513\n"
     ]
    }
   ],
   "source": [
    "mse = mean_squared_error(y_test, svrpredict)\n",
    "rmse = mean_squared_error(y_test, svrpredict, squared=False)\n",
    "mae = mean_absolute_error(y_test, svrpredict)\n",
    "r2 = r2_score(y_test, svrpredict)\n",
    "\n",
    "print(\"Mean squared error:\", mse)\n",
    "print(\"Root mean squared error:\", rmse)\n",
    "print(\"Mean absolute error:\", mae)\n",
    "print(\"R-squared:\", r2)"
   ]
  },
  {
   "cell_type": "markdown",
   "id": "52322108",
   "metadata": {},
   "source": [
    "The R-squared value indicates the proportion of variance in the target variable that can be explained by the model. A higher R-squared value indicates better performance. In this case, the R-squared value is 0.60772, which indicates that the model can explain about 60.7% of the variance in the target variable. "
   ]
  },
  {
   "cell_type": "markdown",
   "id": "493f5a60",
   "metadata": {},
   "source": [
    "### Gradient Boosting"
   ]
  },
  {
   "cell_type": "code",
   "execution_count": 254,
   "id": "33fd4528",
   "metadata": {},
   "outputs": [],
   "source": [
    "from sklearn.ensemble import GradientBoostingRegressor"
   ]
  },
  {
   "cell_type": "code",
   "execution_count": 255,
   "id": "1b40fe25",
   "metadata": {},
   "outputs": [],
   "source": [
    "gbr=GradientBoostingRegressor(n_estimators=1000, learning_rate=0.05, max_depth=1, random_state=42)"
   ]
  },
  {
   "cell_type": "code",
   "execution_count": 256,
   "id": "2e32207e",
   "metadata": {},
   "outputs": [
    {
     "data": {
      "text/plain": [
       "GradientBoostingRegressor(learning_rate=0.05, max_depth=1, n_estimators=1000,\n",
       "                          random_state=42)"
      ]
     },
     "execution_count": 256,
     "metadata": {},
     "output_type": "execute_result"
    }
   ],
   "source": [
    "gbr.fit(x_train,y_train)"
   ]
  },
  {
   "cell_type": "code",
   "execution_count": 257,
   "id": "ee16a48d",
   "metadata": {},
   "outputs": [],
   "source": [
    "gbrprediction=gbr.predict(x_test)"
   ]
  },
  {
   "cell_type": "code",
   "execution_count": 258,
   "id": "b7ee1f9d",
   "metadata": {},
   "outputs": [
    {
     "name": "stdout",
     "output_type": "stream",
     "text": [
      "Mean squared error: 0.13989128531465211\n",
      "Root mean squared error: 0.3740204343543974\n",
      "Mean absolute error: 0.25483338292061475\n",
      "R-squared: 0.505016307437513\n"
     ]
    }
   ],
   "source": [
    "mse = mean_squared_error(y_test, gbrprediction)\n",
    "rmse = mean_squared_error(y_test, gbrprediction, squared=False)\n",
    "mae = mean_absolute_error(y_test, gbrprediction)\n",
    "r2 = r2_score(y_test, svrpredict)\n",
    "\n",
    "print(\"Mean squared error:\", mse)\n",
    "print(\"Root mean squared error:\", rmse)\n",
    "print(\"Mean absolute error:\", mae)\n",
    "print(\"R-squared:\", r2)"
   ]
  },
  {
   "cell_type": "markdown",
   "id": "3f3376c8",
   "metadata": {},
   "source": [
    "R-squared (R2) is a measure of how well the model fits the data. It takes values between 0 and 1, with higher values indicating a better fit. In this case, the R2 score is 0.6077, which is not too high but still suggests that the model is a good fit for the data.\n",
    "\n",
    "Overall, the model's accuracy seems to be fairly good based on these performance metrics, but it could potentially be improved further."
   ]
  },
  {
   "cell_type": "markdown",
   "id": "04a150da",
   "metadata": {},
   "source": [
    "## Random forest has the heighest accuracy : R-squared: 0.645429"
   ]
  },
  {
   "cell_type": "code",
   "execution_count": null,
   "id": "96cad481",
   "metadata": {},
   "outputs": [],
   "source": []
  }
 ],
 "metadata": {
  "kernelspec": {
   "display_name": "Python 3 (ipykernel)",
   "language": "python",
   "name": "python3"
  },
  "language_info": {
   "codemirror_mode": {
    "name": "ipython",
    "version": 3
   },
   "file_extension": ".py",
   "mimetype": "text/x-python",
   "name": "python",
   "nbconvert_exporter": "python",
   "pygments_lexer": "ipython3",
   "version": "3.9.12"
  }
 },
 "nbformat": 4,
 "nbformat_minor": 5
}

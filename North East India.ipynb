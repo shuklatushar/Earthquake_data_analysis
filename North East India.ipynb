{
 "cells": [
  {
   "cell_type": "markdown",
   "id": "45a0d7d6",
   "metadata": {},
   "source": [
    "# North East India earthquake analysis"
   ]
  },
  {
   "cell_type": "code",
   "execution_count": 18,
   "id": "8a8a9c14",
   "metadata": {},
   "outputs": [],
   "source": [
    "#importing libraries\n",
    "import pandas as pd\n",
    "import numpy as np\n",
    "import matplotlib.pyplot as plt\n",
    "import seaborn as sns "
   ]
  },
  {
   "cell_type": "markdown",
   "id": "3929cda5",
   "metadata": {},
   "source": [
    "### About dataset:\n",
    "dataset contain 2744 records\n",
    "North India earthquake data magnitude more than 2.5\n",
    "dataset duration 1900-2023\n"
   ]
  },
  {
   "cell_type": "code",
   "execution_count": 19,
   "id": "4e5794e1",
   "metadata": {},
   "outputs": [],
   "source": [
    "#importing the dataset\n",
    "db=pd.read_csv('Northeast.csv')\n"
   ]
  },
  {
   "cell_type": "code",
   "execution_count": 20,
   "id": "cf2dfd99",
   "metadata": {},
   "outputs": [
    {
     "data": {
      "text/html": [
       "<div>\n",
       "<style scoped>\n",
       "    .dataframe tbody tr th:only-of-type {\n",
       "        vertical-align: middle;\n",
       "    }\n",
       "\n",
       "    .dataframe tbody tr th {\n",
       "        vertical-align: top;\n",
       "    }\n",
       "\n",
       "    .dataframe thead th {\n",
       "        text-align: right;\n",
       "    }\n",
       "</style>\n",
       "<table border=\"1\" class=\"dataframe\">\n",
       "  <thead>\n",
       "    <tr style=\"text-align: right;\">\n",
       "      <th></th>\n",
       "      <th>time</th>\n",
       "      <th>latitude</th>\n",
       "      <th>longitude</th>\n",
       "      <th>depth</th>\n",
       "      <th>mag</th>\n",
       "      <th>magType</th>\n",
       "      <th>nst</th>\n",
       "      <th>gap</th>\n",
       "      <th>dmin</th>\n",
       "      <th>rms</th>\n",
       "      <th>...</th>\n",
       "      <th>updated</th>\n",
       "      <th>place</th>\n",
       "      <th>type</th>\n",
       "      <th>horizontalError</th>\n",
       "      <th>depthError</th>\n",
       "      <th>magError</th>\n",
       "      <th>magNst</th>\n",
       "      <th>status</th>\n",
       "      <th>locationSource</th>\n",
       "      <th>magSource</th>\n",
       "    </tr>\n",
       "  </thead>\n",
       "  <tbody>\n",
       "    <tr>\n",
       "      <th>0</th>\n",
       "      <td>2023-04-10T00:46:37.031Z</td>\n",
       "      <td>22.9862</td>\n",
       "      <td>94.8602</td>\n",
       "      <td>141.001</td>\n",
       "      <td>4.6</td>\n",
       "      <td>mb</td>\n",
       "      <td>56.0</td>\n",
       "      <td>50.0</td>\n",
       "      <td>2.991</td>\n",
       "      <td>0.43</td>\n",
       "      <td>...</td>\n",
       "      <td>2023-04-11T05:36:07.274Z</td>\n",
       "      <td>86 km SSE of Mawlaik, Myanmar</td>\n",
       "      <td>earthquake</td>\n",
       "      <td>9.04</td>\n",
       "      <td>5.531</td>\n",
       "      <td>0.089</td>\n",
       "      <td>38.0</td>\n",
       "      <td>reviewed</td>\n",
       "      <td>us</td>\n",
       "      <td>us</td>\n",
       "    </tr>\n",
       "    <tr>\n",
       "      <th>1</th>\n",
       "      <td>2023-04-08T11:52:40.719Z</td>\n",
       "      <td>25.2190</td>\n",
       "      <td>96.3038</td>\n",
       "      <td>10.000</td>\n",
       "      <td>4.2</td>\n",
       "      <td>mb</td>\n",
       "      <td>28.0</td>\n",
       "      <td>120.0</td>\n",
       "      <td>4.480</td>\n",
       "      <td>0.64</td>\n",
       "      <td>...</td>\n",
       "      <td>2023-04-08T15:42:11.988Z</td>\n",
       "      <td>111 km W of Myitkyina, Myanmar</td>\n",
       "      <td>earthquake</td>\n",
       "      <td>8.16</td>\n",
       "      <td>1.860</td>\n",
       "      <td>0.131</td>\n",
       "      <td>17.0</td>\n",
       "      <td>reviewed</td>\n",
       "      <td>us</td>\n",
       "      <td>us</td>\n",
       "    </tr>\n",
       "    <tr>\n",
       "      <th>2</th>\n",
       "      <td>2023-03-25T12:03:44.799Z</td>\n",
       "      <td>22.6542</td>\n",
       "      <td>95.3355</td>\n",
       "      <td>11.095</td>\n",
       "      <td>4.2</td>\n",
       "      <td>mb</td>\n",
       "      <td>16.0</td>\n",
       "      <td>136.0</td>\n",
       "      <td>2.453</td>\n",
       "      <td>0.29</td>\n",
       "      <td>...</td>\n",
       "      <td>2023-04-16T08:59:29.040Z</td>\n",
       "      <td>Myanmar</td>\n",
       "      <td>earthquake</td>\n",
       "      <td>8.90</td>\n",
       "      <td>4.668</td>\n",
       "      <td>0.152</td>\n",
       "      <td>12.0</td>\n",
       "      <td>reviewed</td>\n",
       "      <td>us</td>\n",
       "      <td>us</td>\n",
       "    </tr>\n",
       "    <tr>\n",
       "      <th>3</th>\n",
       "      <td>2023-03-24T03:22:42.572Z</td>\n",
       "      <td>24.1675</td>\n",
       "      <td>93.7940</td>\n",
       "      <td>78.995</td>\n",
       "      <td>4.4</td>\n",
       "      <td>mb</td>\n",
       "      <td>32.0</td>\n",
       "      <td>73.0</td>\n",
       "      <td>2.471</td>\n",
       "      <td>0.52</td>\n",
       "      <td>...</td>\n",
       "      <td>2023-03-29T22:13:14.040Z</td>\n",
       "      <td>22 km SE of Chur?ch?ndpur, India</td>\n",
       "      <td>earthquake</td>\n",
       "      <td>9.67</td>\n",
       "      <td>8.197</td>\n",
       "      <td>0.155</td>\n",
       "      <td>12.0</td>\n",
       "      <td>reviewed</td>\n",
       "      <td>us</td>\n",
       "      <td>us</td>\n",
       "    </tr>\n",
       "    <tr>\n",
       "      <th>4</th>\n",
       "      <td>2023-03-12T11:43:43.297Z</td>\n",
       "      <td>24.2760</td>\n",
       "      <td>94.7151</td>\n",
       "      <td>113.110</td>\n",
       "      <td>4.6</td>\n",
       "      <td>mb</td>\n",
       "      <td>77.0</td>\n",
       "      <td>48.0</td>\n",
       "      <td>4.097</td>\n",
       "      <td>0.43</td>\n",
       "      <td>...</td>\n",
       "      <td>2023-03-24T07:27:24.040Z</td>\n",
       "      <td>74 km ESE of W?ngjing, India</td>\n",
       "      <td>earthquake</td>\n",
       "      <td>2.94</td>\n",
       "      <td>6.734</td>\n",
       "      <td>0.060</td>\n",
       "      <td>83.0</td>\n",
       "      <td>reviewed</td>\n",
       "      <td>us</td>\n",
       "      <td>us</td>\n",
       "    </tr>\n",
       "  </tbody>\n",
       "</table>\n",
       "<p>5 rows × 22 columns</p>\n",
       "</div>"
      ],
      "text/plain": [
       "                       time  latitude  longitude    depth  mag magType   nst  \\\n",
       "0  2023-04-10T00:46:37.031Z   22.9862    94.8602  141.001  4.6      mb  56.0   \n",
       "1  2023-04-08T11:52:40.719Z   25.2190    96.3038   10.000  4.2      mb  28.0   \n",
       "2  2023-03-25T12:03:44.799Z   22.6542    95.3355   11.095  4.2      mb  16.0   \n",
       "3  2023-03-24T03:22:42.572Z   24.1675    93.7940   78.995  4.4      mb  32.0   \n",
       "4  2023-03-12T11:43:43.297Z   24.2760    94.7151  113.110  4.6      mb  77.0   \n",
       "\n",
       "     gap   dmin   rms  ...                   updated  \\\n",
       "0   50.0  2.991  0.43  ...  2023-04-11T05:36:07.274Z   \n",
       "1  120.0  4.480  0.64  ...  2023-04-08T15:42:11.988Z   \n",
       "2  136.0  2.453  0.29  ...  2023-04-16T08:59:29.040Z   \n",
       "3   73.0  2.471  0.52  ...  2023-03-29T22:13:14.040Z   \n",
       "4   48.0  4.097  0.43  ...  2023-03-24T07:27:24.040Z   \n",
       "\n",
       "                              place        type horizontalError depthError  \\\n",
       "0     86 km SSE of Mawlaik, Myanmar  earthquake            9.04      5.531   \n",
       "1    111 km W of Myitkyina, Myanmar  earthquake            8.16      1.860   \n",
       "2                           Myanmar  earthquake            8.90      4.668   \n",
       "3  22 km SE of Chur?ch?ndpur, India  earthquake            9.67      8.197   \n",
       "4      74 km ESE of W?ngjing, India  earthquake            2.94      6.734   \n",
       "\n",
       "   magError  magNst    status  locationSource magSource  \n",
       "0     0.089    38.0  reviewed              us        us  \n",
       "1     0.131    17.0  reviewed              us        us  \n",
       "2     0.152    12.0  reviewed              us        us  \n",
       "3     0.155    12.0  reviewed              us        us  \n",
       "4     0.060    83.0  reviewed              us        us  \n",
       "\n",
       "[5 rows x 22 columns]"
      ]
     },
     "execution_count": 20,
     "metadata": {},
     "output_type": "execute_result"
    }
   ],
   "source": [
    "db.head()"
   ]
  },
  {
   "cell_type": "code",
   "execution_count": 21,
   "id": "4521ad0e",
   "metadata": {},
   "outputs": [
    {
     "data": {
      "text/plain": [
       "(2851, 22)"
      ]
     },
     "execution_count": 21,
     "metadata": {},
     "output_type": "execute_result"
    }
   ],
   "source": [
    "db.shape"
   ]
  },
  {
   "cell_type": "code",
   "execution_count": 22,
   "id": "a5cd860b",
   "metadata": {},
   "outputs": [
    {
     "data": {
      "text/plain": [
       "Index(['time', 'latitude', 'longitude', 'depth', 'mag', 'magType', 'nst',\n",
       "       'gap', 'dmin', 'rms', 'net', 'id', 'updated', 'place', 'type',\n",
       "       'horizontalError', 'depthError', 'magError', 'magNst', 'status',\n",
       "       'locationSource', 'magSource'],\n",
       "      dtype='object')"
      ]
     },
     "execution_count": 22,
     "metadata": {},
     "output_type": "execute_result"
    }
   ],
   "source": [
    "db.columns"
   ]
  },
  {
   "cell_type": "code",
   "execution_count": 23,
   "id": "a02a088d",
   "metadata": {},
   "outputs": [
    {
     "name": "stdout",
     "output_type": "stream",
     "text": [
      "<class 'pandas.core.frame.DataFrame'>\n",
      "RangeIndex: 2851 entries, 0 to 2850\n",
      "Data columns (total 22 columns):\n",
      " #   Column           Non-Null Count  Dtype  \n",
      "---  ------           --------------  -----  \n",
      " 0   time             2851 non-null   object \n",
      " 1   latitude         2851 non-null   float64\n",
      " 2   longitude        2851 non-null   float64\n",
      " 3   depth            2851 non-null   float64\n",
      " 4   mag              2851 non-null   float64\n",
      " 5   magType          2851 non-null   object \n",
      " 6   nst              888 non-null    float64\n",
      " 7   gap              1473 non-null   float64\n",
      " 8   dmin             765 non-null    float64\n",
      " 9   rms              2463 non-null   float64\n",
      " 10  net              2851 non-null   object \n",
      " 11  id               2851 non-null   object \n",
      " 12  updated          2851 non-null   object \n",
      " 13  place            2845 non-null   object \n",
      " 14  type             2851 non-null   object \n",
      " 15  horizontalError  674 non-null    float64\n",
      " 16  depthError       1775 non-null   float64\n",
      " 17  magError         976 non-null    float64\n",
      " 18  magNst           2294 non-null   float64\n",
      " 19  status           2851 non-null   object \n",
      " 20  locationSource   2851 non-null   object \n",
      " 21  magSource        2851 non-null   object \n",
      "dtypes: float64(12), object(10)\n",
      "memory usage: 490.1+ KB\n"
     ]
    }
   ],
   "source": [
    "db.info()"
   ]
  },
  {
   "cell_type": "code",
   "execution_count": 24,
   "id": "9f9e859f",
   "metadata": {},
   "outputs": [
    {
     "data": {
      "text/html": [
       "<div>\n",
       "<style scoped>\n",
       "    .dataframe tbody tr th:only-of-type {\n",
       "        vertical-align: middle;\n",
       "    }\n",
       "\n",
       "    .dataframe tbody tr th {\n",
       "        vertical-align: top;\n",
       "    }\n",
       "\n",
       "    .dataframe thead th {\n",
       "        text-align: right;\n",
       "    }\n",
       "</style>\n",
       "<table border=\"1\" class=\"dataframe\">\n",
       "  <thead>\n",
       "    <tr style=\"text-align: right;\">\n",
       "      <th></th>\n",
       "      <th>latitude</th>\n",
       "      <th>longitude</th>\n",
       "      <th>depth</th>\n",
       "      <th>mag</th>\n",
       "      <th>nst</th>\n",
       "      <th>gap</th>\n",
       "      <th>dmin</th>\n",
       "      <th>rms</th>\n",
       "      <th>horizontalError</th>\n",
       "      <th>depthError</th>\n",
       "      <th>magError</th>\n",
       "      <th>magNst</th>\n",
       "    </tr>\n",
       "  </thead>\n",
       "  <tbody>\n",
       "    <tr>\n",
       "      <th>count</th>\n",
       "      <td>2851.000000</td>\n",
       "      <td>2851.000000</td>\n",
       "      <td>2851.000000</td>\n",
       "      <td>2851.000000</td>\n",
       "      <td>888.000000</td>\n",
       "      <td>1473.000000</td>\n",
       "      <td>765.000000</td>\n",
       "      <td>2463.000000</td>\n",
       "      <td>674.000000</td>\n",
       "      <td>1775.000000</td>\n",
       "      <td>976.000000</td>\n",
       "      <td>2294.000000</td>\n",
       "    </tr>\n",
       "    <tr>\n",
       "      <th>mean</th>\n",
       "      <td>25.117037</td>\n",
       "      <td>94.052674</td>\n",
       "      <td>54.581599</td>\n",
       "      <td>4.590898</td>\n",
       "      <td>51.912162</td>\n",
       "      <td>103.041005</td>\n",
       "      <td>2.223638</td>\n",
       "      <td>0.884555</td>\n",
       "      <td>7.429303</td>\n",
       "      <td>9.797068</td>\n",
       "      <td>0.164992</td>\n",
       "      <td>19.382302</td>\n",
       "    </tr>\n",
       "    <tr>\n",
       "      <th>std</th>\n",
       "      <td>1.901748</td>\n",
       "      <td>2.196061</td>\n",
       "      <td>36.484266</td>\n",
       "      <td>0.577081</td>\n",
       "      <td>68.079544</td>\n",
       "      <td>45.491522</td>\n",
       "      <td>1.485837</td>\n",
       "      <td>0.266841</td>\n",
       "      <td>2.446348</td>\n",
       "      <td>7.089605</td>\n",
       "      <td>0.116834</td>\n",
       "      <td>27.462298</td>\n",
       "    </tr>\n",
       "    <tr>\n",
       "      <th>min</th>\n",
       "      <td>21.701400</td>\n",
       "      <td>87.683000</td>\n",
       "      <td>3.300000</td>\n",
       "      <td>3.200000</td>\n",
       "      <td>6.000000</td>\n",
       "      <td>10.000000</td>\n",
       "      <td>0.070000</td>\n",
       "      <td>0.100000</td>\n",
       "      <td>2.500000</td>\n",
       "      <td>0.000000</td>\n",
       "      <td>0.033000</td>\n",
       "      <td>1.000000</td>\n",
       "    </tr>\n",
       "    <tr>\n",
       "      <th>25%</th>\n",
       "      <td>23.578500</td>\n",
       "      <td>92.822500</td>\n",
       "      <td>33.000000</td>\n",
       "      <td>4.200000</td>\n",
       "      <td>16.750000</td>\n",
       "      <td>68.000000</td>\n",
       "      <td>0.991000</td>\n",
       "      <td>0.700000</td>\n",
       "      <td>5.700000</td>\n",
       "      <td>5.300000</td>\n",
       "      <td>0.091000</td>\n",
       "      <td>4.000000</td>\n",
       "    </tr>\n",
       "    <tr>\n",
       "      <th>50%</th>\n",
       "      <td>24.900000</td>\n",
       "      <td>94.497700</td>\n",
       "      <td>41.950000</td>\n",
       "      <td>4.500000</td>\n",
       "      <td>27.000000</td>\n",
       "      <td>102.000000</td>\n",
       "      <td>2.054000</td>\n",
       "      <td>0.880000</td>\n",
       "      <td>7.165000</td>\n",
       "      <td>7.900000</td>\n",
       "      <td>0.134000</td>\n",
       "      <td>10.000000</td>\n",
       "    </tr>\n",
       "    <tr>\n",
       "      <th>75%</th>\n",
       "      <td>26.493000</td>\n",
       "      <td>95.424500</td>\n",
       "      <td>83.655000</td>\n",
       "      <td>4.800000</td>\n",
       "      <td>56.000000</td>\n",
       "      <td>138.400000</td>\n",
       "      <td>3.089000</td>\n",
       "      <td>1.070000</td>\n",
       "      <td>8.900000</td>\n",
       "      <td>12.400000</td>\n",
       "      <td>0.200000</td>\n",
       "      <td>24.000000</td>\n",
       "    </tr>\n",
       "    <tr>\n",
       "      <th>max</th>\n",
       "      <td>29.667000</td>\n",
       "      <td>98.061300</td>\n",
       "      <td>200.000000</td>\n",
       "      <td>8.600000</td>\n",
       "      <td>555.000000</td>\n",
       "      <td>325.000000</td>\n",
       "      <td>13.200000</td>\n",
       "      <td>1.890000</td>\n",
       "      <td>19.900000</td>\n",
       "      <td>61.500000</td>\n",
       "      <td>0.980000</td>\n",
       "      <td>302.000000</td>\n",
       "    </tr>\n",
       "  </tbody>\n",
       "</table>\n",
       "</div>"
      ],
      "text/plain": [
       "          latitude    longitude        depth          mag         nst  \\\n",
       "count  2851.000000  2851.000000  2851.000000  2851.000000  888.000000   \n",
       "mean     25.117037    94.052674    54.581599     4.590898   51.912162   \n",
       "std       1.901748     2.196061    36.484266     0.577081   68.079544   \n",
       "min      21.701400    87.683000     3.300000     3.200000    6.000000   \n",
       "25%      23.578500    92.822500    33.000000     4.200000   16.750000   \n",
       "50%      24.900000    94.497700    41.950000     4.500000   27.000000   \n",
       "75%      26.493000    95.424500    83.655000     4.800000   56.000000   \n",
       "max      29.667000    98.061300   200.000000     8.600000  555.000000   \n",
       "\n",
       "               gap        dmin          rms  horizontalError   depthError  \\\n",
       "count  1473.000000  765.000000  2463.000000       674.000000  1775.000000   \n",
       "mean    103.041005    2.223638     0.884555         7.429303     9.797068   \n",
       "std      45.491522    1.485837     0.266841         2.446348     7.089605   \n",
       "min      10.000000    0.070000     0.100000         2.500000     0.000000   \n",
       "25%      68.000000    0.991000     0.700000         5.700000     5.300000   \n",
       "50%     102.000000    2.054000     0.880000         7.165000     7.900000   \n",
       "75%     138.400000    3.089000     1.070000         8.900000    12.400000   \n",
       "max     325.000000   13.200000     1.890000        19.900000    61.500000   \n",
       "\n",
       "         magError       magNst  \n",
       "count  976.000000  2294.000000  \n",
       "mean     0.164992    19.382302  \n",
       "std      0.116834    27.462298  \n",
       "min      0.033000     1.000000  \n",
       "25%      0.091000     4.000000  \n",
       "50%      0.134000    10.000000  \n",
       "75%      0.200000    24.000000  \n",
       "max      0.980000   302.000000  "
      ]
     },
     "execution_count": 24,
     "metadata": {},
     "output_type": "execute_result"
    }
   ],
   "source": [
    "db.describe()"
   ]
  },
  {
   "cell_type": "markdown",
   "id": "d94f6961",
   "metadata": {},
   "source": [
    "### Datacleaning"
   ]
  },
  {
   "cell_type": "code",
   "execution_count": 25,
   "id": "5d495f6a",
   "metadata": {},
   "outputs": [
    {
     "data": {
      "text/plain": [
       "time                0.000000\n",
       "latitude            0.000000\n",
       "longitude           0.000000\n",
       "depth               0.000000\n",
       "mag                 0.000000\n",
       "magType             0.000000\n",
       "nst                68.853034\n",
       "gap                48.333918\n",
       "dmin               73.167310\n",
       "rms                13.609260\n",
       "net                 0.000000\n",
       "id                  0.000000\n",
       "updated             0.000000\n",
       "place               0.210452\n",
       "type                0.000000\n",
       "horizontalError    76.359172\n",
       "depthError         37.741143\n",
       "magError           65.766398\n",
       "magNst             19.537005\n",
       "status              0.000000\n",
       "locationSource      0.000000\n",
       "magSource           0.000000\n",
       "dtype: float64"
      ]
     },
     "execution_count": 25,
     "metadata": {},
     "output_type": "execute_result"
    }
   ],
   "source": [
    "db.isnull().mean()*100"
   ]
  },
  {
   "cell_type": "code",
   "execution_count": 26,
   "id": "56747abf",
   "metadata": {},
   "outputs": [
    {
     "data": {
      "text/html": [
       "<div>\n",
       "<style scoped>\n",
       "    .dataframe tbody tr th:only-of-type {\n",
       "        vertical-align: middle;\n",
       "    }\n",
       "\n",
       "    .dataframe tbody tr th {\n",
       "        vertical-align: top;\n",
       "    }\n",
       "\n",
       "    .dataframe thead th {\n",
       "        text-align: right;\n",
       "    }\n",
       "</style>\n",
       "<table border=\"1\" class=\"dataframe\">\n",
       "  <thead>\n",
       "    <tr style=\"text-align: right;\">\n",
       "      <th></th>\n",
       "      <th>time</th>\n",
       "      <th>latitude</th>\n",
       "      <th>longitude</th>\n",
       "      <th>depth</th>\n",
       "      <th>mag</th>\n",
       "      <th>magType</th>\n",
       "      <th>nst</th>\n",
       "      <th>gap</th>\n",
       "      <th>dmin</th>\n",
       "      <th>rms</th>\n",
       "      <th>...</th>\n",
       "      <th>updated</th>\n",
       "      <th>place</th>\n",
       "      <th>type</th>\n",
       "      <th>horizontalError</th>\n",
       "      <th>depthError</th>\n",
       "      <th>magError</th>\n",
       "      <th>magNst</th>\n",
       "      <th>status</th>\n",
       "      <th>locationSource</th>\n",
       "      <th>magSource</th>\n",
       "    </tr>\n",
       "  </thead>\n",
       "  <tbody>\n",
       "    <tr>\n",
       "      <th>0</th>\n",
       "      <td>2023-04-10T00:46:37.031Z</td>\n",
       "      <td>22.9862</td>\n",
       "      <td>94.8602</td>\n",
       "      <td>141.001</td>\n",
       "      <td>4.6</td>\n",
       "      <td>mb</td>\n",
       "      <td>56.0</td>\n",
       "      <td>50.0</td>\n",
       "      <td>2.991</td>\n",
       "      <td>0.43</td>\n",
       "      <td>...</td>\n",
       "      <td>2023-04-11T05:36:07.274Z</td>\n",
       "      <td>86 km SSE of Mawlaik, Myanmar</td>\n",
       "      <td>earthquake</td>\n",
       "      <td>9.04</td>\n",
       "      <td>5.531</td>\n",
       "      <td>0.089</td>\n",
       "      <td>38.0</td>\n",
       "      <td>reviewed</td>\n",
       "      <td>us</td>\n",
       "      <td>us</td>\n",
       "    </tr>\n",
       "    <tr>\n",
       "      <th>1</th>\n",
       "      <td>2023-04-08T11:52:40.719Z</td>\n",
       "      <td>25.2190</td>\n",
       "      <td>96.3038</td>\n",
       "      <td>10.000</td>\n",
       "      <td>4.2</td>\n",
       "      <td>mb</td>\n",
       "      <td>28.0</td>\n",
       "      <td>120.0</td>\n",
       "      <td>4.480</td>\n",
       "      <td>0.64</td>\n",
       "      <td>...</td>\n",
       "      <td>2023-04-08T15:42:11.988Z</td>\n",
       "      <td>111 km W of Myitkyina, Myanmar</td>\n",
       "      <td>earthquake</td>\n",
       "      <td>8.16</td>\n",
       "      <td>1.860</td>\n",
       "      <td>0.131</td>\n",
       "      <td>17.0</td>\n",
       "      <td>reviewed</td>\n",
       "      <td>us</td>\n",
       "      <td>us</td>\n",
       "    </tr>\n",
       "    <tr>\n",
       "      <th>2</th>\n",
       "      <td>2023-03-25T12:03:44.799Z</td>\n",
       "      <td>22.6542</td>\n",
       "      <td>95.3355</td>\n",
       "      <td>11.095</td>\n",
       "      <td>4.2</td>\n",
       "      <td>mb</td>\n",
       "      <td>16.0</td>\n",
       "      <td>136.0</td>\n",
       "      <td>2.453</td>\n",
       "      <td>0.29</td>\n",
       "      <td>...</td>\n",
       "      <td>2023-04-16T08:59:29.040Z</td>\n",
       "      <td>Myanmar</td>\n",
       "      <td>earthquake</td>\n",
       "      <td>8.90</td>\n",
       "      <td>4.668</td>\n",
       "      <td>0.152</td>\n",
       "      <td>12.0</td>\n",
       "      <td>reviewed</td>\n",
       "      <td>us</td>\n",
       "      <td>us</td>\n",
       "    </tr>\n",
       "    <tr>\n",
       "      <th>3</th>\n",
       "      <td>2023-03-24T03:22:42.572Z</td>\n",
       "      <td>24.1675</td>\n",
       "      <td>93.7940</td>\n",
       "      <td>78.995</td>\n",
       "      <td>4.4</td>\n",
       "      <td>mb</td>\n",
       "      <td>32.0</td>\n",
       "      <td>73.0</td>\n",
       "      <td>2.471</td>\n",
       "      <td>0.52</td>\n",
       "      <td>...</td>\n",
       "      <td>2023-03-29T22:13:14.040Z</td>\n",
       "      <td>22 km SE of Chur?ch?ndpur, India</td>\n",
       "      <td>earthquake</td>\n",
       "      <td>9.67</td>\n",
       "      <td>8.197</td>\n",
       "      <td>0.155</td>\n",
       "      <td>12.0</td>\n",
       "      <td>reviewed</td>\n",
       "      <td>us</td>\n",
       "      <td>us</td>\n",
       "    </tr>\n",
       "    <tr>\n",
       "      <th>4</th>\n",
       "      <td>2023-03-12T11:43:43.297Z</td>\n",
       "      <td>24.2760</td>\n",
       "      <td>94.7151</td>\n",
       "      <td>113.110</td>\n",
       "      <td>4.6</td>\n",
       "      <td>mb</td>\n",
       "      <td>77.0</td>\n",
       "      <td>48.0</td>\n",
       "      <td>4.097</td>\n",
       "      <td>0.43</td>\n",
       "      <td>...</td>\n",
       "      <td>2023-03-24T07:27:24.040Z</td>\n",
       "      <td>74 km ESE of W?ngjing, India</td>\n",
       "      <td>earthquake</td>\n",
       "      <td>2.94</td>\n",
       "      <td>6.734</td>\n",
       "      <td>0.060</td>\n",
       "      <td>83.0</td>\n",
       "      <td>reviewed</td>\n",
       "      <td>us</td>\n",
       "      <td>us</td>\n",
       "    </tr>\n",
       "  </tbody>\n",
       "</table>\n",
       "<p>5 rows × 22 columns</p>\n",
       "</div>"
      ],
      "text/plain": [
       "                       time  latitude  longitude    depth  mag magType   nst  \\\n",
       "0  2023-04-10T00:46:37.031Z   22.9862    94.8602  141.001  4.6      mb  56.0   \n",
       "1  2023-04-08T11:52:40.719Z   25.2190    96.3038   10.000  4.2      mb  28.0   \n",
       "2  2023-03-25T12:03:44.799Z   22.6542    95.3355   11.095  4.2      mb  16.0   \n",
       "3  2023-03-24T03:22:42.572Z   24.1675    93.7940   78.995  4.4      mb  32.0   \n",
       "4  2023-03-12T11:43:43.297Z   24.2760    94.7151  113.110  4.6      mb  77.0   \n",
       "\n",
       "     gap   dmin   rms  ...                   updated  \\\n",
       "0   50.0  2.991  0.43  ...  2023-04-11T05:36:07.274Z   \n",
       "1  120.0  4.480  0.64  ...  2023-04-08T15:42:11.988Z   \n",
       "2  136.0  2.453  0.29  ...  2023-04-16T08:59:29.040Z   \n",
       "3   73.0  2.471  0.52  ...  2023-03-29T22:13:14.040Z   \n",
       "4   48.0  4.097  0.43  ...  2023-03-24T07:27:24.040Z   \n",
       "\n",
       "                              place        type horizontalError depthError  \\\n",
       "0     86 km SSE of Mawlaik, Myanmar  earthquake            9.04      5.531   \n",
       "1    111 km W of Myitkyina, Myanmar  earthquake            8.16      1.860   \n",
       "2                           Myanmar  earthquake            8.90      4.668   \n",
       "3  22 km SE of Chur?ch?ndpur, India  earthquake            9.67      8.197   \n",
       "4      74 km ESE of W?ngjing, India  earthquake            2.94      6.734   \n",
       "\n",
       "   magError  magNst    status  locationSource magSource  \n",
       "0     0.089    38.0  reviewed              us        us  \n",
       "1     0.131    17.0  reviewed              us        us  \n",
       "2     0.152    12.0  reviewed              us        us  \n",
       "3     0.155    12.0  reviewed              us        us  \n",
       "4     0.060    83.0  reviewed              us        us  \n",
       "\n",
       "[5 rows x 22 columns]"
      ]
     },
     "execution_count": 26,
     "metadata": {},
     "output_type": "execute_result"
    }
   ],
   "source": [
    "db.head()"
   ]
  },
  {
   "cell_type": "markdown",
   "id": "a5a07aab",
   "metadata": {},
   "source": [
    "we can see in places we have some data of other countries also but as we want data of only india,nepal we will remove rest"
   ]
  },
  {
   "cell_type": "code",
   "execution_count": 27,
   "id": "d0f590aa",
   "metadata": {},
   "outputs": [],
   "source": [
    "db['place']=db['place'].str.split(',').str[1]"
   ]
  },
  {
   "cell_type": "code",
   "execution_count": 28,
   "id": "b74193bd",
   "metadata": {},
   "outputs": [],
   "source": [
    "db['place']=db['place'].str.strip()"
   ]
  },
  {
   "cell_type": "code",
   "execution_count": 29,
   "id": "d4e6b77e",
   "metadata": {},
   "outputs": [
    {
     "data": {
      "text/plain": [
       "array(['Myanmar', nan, 'India', 'India region', 'Bhutan', 'China',\n",
       "       'Nepal', 'Bangladesh'], dtype=object)"
      ]
     },
     "execution_count": 29,
     "metadata": {},
     "output_type": "execute_result"
    }
   ],
   "source": [
    "db['place'].unique()"
   ]
  },
  {
   "cell_type": "code",
   "execution_count": 30,
   "id": "749cb9a8",
   "metadata": {},
   "outputs": [],
   "source": [
    "db.replace('India region','India',inplace=True)"
   ]
  },
  {
   "cell_type": "code",
   "execution_count": 31,
   "id": "3bf140f6",
   "metadata": {},
   "outputs": [],
   "source": [
    "db['place'].fillna('India',inplace=True)"
   ]
  },
  {
   "cell_type": "code",
   "execution_count": 32,
   "id": "361965de",
   "metadata": {},
   "outputs": [],
   "source": [
    "db=db[db['place']=='India']"
   ]
  },
  {
   "cell_type": "code",
   "execution_count": 33,
   "id": "60344c16",
   "metadata": {},
   "outputs": [
    {
     "data": {
      "text/plain": [
       "array(['India'], dtype=object)"
      ]
     },
     "execution_count": 33,
     "metadata": {},
     "output_type": "execute_result"
    }
   ],
   "source": [
    "db['place'].unique()"
   ]
  },
  {
   "cell_type": "code",
   "execution_count": 34,
   "id": "e14fdb15",
   "metadata": {},
   "outputs": [
    {
     "data": {
      "text/plain": [
       "(1685, 22)"
      ]
     },
     "execution_count": 34,
     "metadata": {},
     "output_type": "execute_result"
    }
   ],
   "source": [
    "db.shape"
   ]
  },
  {
   "cell_type": "code",
   "execution_count": 35,
   "id": "2a9a172a",
   "metadata": {},
   "outputs": [
    {
     "data": {
      "text/plain": [
       "array(['us', 'ndi', 'gcmt', 'hrv', 'dmn', 'bji', 'iscgem', 'iscgemsup',\n",
       "       'official'], dtype=object)"
      ]
     },
     "execution_count": 35,
     "metadata": {},
     "output_type": "execute_result"
    }
   ],
   "source": [
    "db['magSource'].unique()"
   ]
  },
  {
   "cell_type": "markdown",
   "id": "e068fcba",
   "metadata": {},
   "source": [
    " We will be trying to remove columns which wont be useful to us"
   ]
  },
  {
   "cell_type": "code",
   "execution_count": 36,
   "id": "bde10408",
   "metadata": {},
   "outputs": [
    {
     "data": {
      "text/plain": [
       "us           1469\n",
       "iscgem        149\n",
       "hrv            54\n",
       "gcmt            7\n",
       "iscgemsup       2\n",
       "ndi             1\n",
       "dmn             1\n",
       "bji             1\n",
       "official        1\n",
       "Name: magSource, dtype: int64"
      ]
     },
     "execution_count": 36,
     "metadata": {},
     "output_type": "execute_result"
    }
   ],
   "source": [
    "db['magSource'].value_counts()"
   ]
  },
  {
   "cell_type": "code",
   "execution_count": 37,
   "id": "92b95d92",
   "metadata": {},
   "outputs": [
    {
     "data": {
      "text/plain": [
       "array(['us', 'iscgem', 'iscgemsup'], dtype=object)"
      ]
     },
     "execution_count": 37,
     "metadata": {},
     "output_type": "execute_result"
    }
   ],
   "source": [
    "db['locationSource'].unique()"
   ]
  },
  {
   "cell_type": "code",
   "execution_count": 38,
   "id": "7c9ec5ea",
   "metadata": {},
   "outputs": [
    {
     "data": {
      "text/plain": [
       "us           1469\n",
       "iscgem        149\n",
       "hrv            54\n",
       "gcmt            7\n",
       "iscgemsup       2\n",
       "ndi             1\n",
       "dmn             1\n",
       "bji             1\n",
       "official        1\n",
       "Name: magSource, dtype: int64"
      ]
     },
     "execution_count": 38,
     "metadata": {},
     "output_type": "execute_result"
    }
   ],
   "source": [
    "db['magSource'].value_counts()"
   ]
  },
  {
   "cell_type": "code",
   "execution_count": 39,
   "id": "224ecefb",
   "metadata": {},
   "outputs": [
    {
     "data": {
      "text/plain": [
       "array(['reviewed', 'automatic'], dtype=object)"
      ]
     },
     "execution_count": 39,
     "metadata": {},
     "output_type": "execute_result"
    }
   ],
   "source": [
    "db['status'].unique()"
   ]
  },
  {
   "cell_type": "code",
   "execution_count": 40,
   "id": "01380848",
   "metadata": {},
   "outputs": [
    {
     "data": {
      "text/plain": [
       "array(['earthquake'], dtype=object)"
      ]
     },
     "execution_count": 40,
     "metadata": {},
     "output_type": "execute_result"
    }
   ],
   "source": [
    "db['type'].unique()"
   ]
  },
  {
   "cell_type": "code",
   "execution_count": 41,
   "id": "40481d21",
   "metadata": {},
   "outputs": [
    {
     "data": {
      "text/plain": [
       "2       2023-04-16T08:59:29.040Z\n",
       "3       2023-03-29T22:13:14.040Z\n",
       "4       2023-03-24T07:27:24.040Z\n",
       "5       2023-04-06T00:15:57.040Z\n",
       "6       2023-03-09T05:16:15.233Z\n",
       "                  ...           \n",
       "2845    2022-04-26T00:05:52.707Z\n",
       "2846    2022-04-26T00:06:41.427Z\n",
       "2847    2022-04-25T20:29:46.706Z\n",
       "2848    2022-04-25T20:27:34.145Z\n",
       "2849    2022-04-25T20:40:07.858Z\n",
       "Name: updated, Length: 1685, dtype: object"
      ]
     },
     "execution_count": 41,
     "metadata": {},
     "output_type": "execute_result"
    }
   ],
   "source": [
    "db['updated']"
   ]
  },
  {
   "cell_type": "markdown",
   "id": "2ac94285",
   "metadata": {},
   "source": [
    "we are dropping few columns which contain reductant info and which wont have much effect on our data\n",
    "\n",
    "1. dropping type,status,place as they contain same value in all the columns\n",
    "2. dropping columns updated ,magsource,locationSource as they contain information regarding the meta data like place where these data were collected location when was the data last updated and much more "
   ]
  },
  {
   "cell_type": "code",
   "execution_count": 42,
   "id": "f47f44a0",
   "metadata": {},
   "outputs": [],
   "source": [
    "db.drop(columns=['updated','type','status','magSource','locationSource','place'],inplace=True)"
   ]
  },
  {
   "cell_type": "code",
   "execution_count": 43,
   "id": "3589a29e",
   "metadata": {},
   "outputs": [
    {
     "data": {
      "text/html": [
       "<div>\n",
       "<style scoped>\n",
       "    .dataframe tbody tr th:only-of-type {\n",
       "        vertical-align: middle;\n",
       "    }\n",
       "\n",
       "    .dataframe tbody tr th {\n",
       "        vertical-align: top;\n",
       "    }\n",
       "\n",
       "    .dataframe thead th {\n",
       "        text-align: right;\n",
       "    }\n",
       "</style>\n",
       "<table border=\"1\" class=\"dataframe\">\n",
       "  <thead>\n",
       "    <tr style=\"text-align: right;\">\n",
       "      <th></th>\n",
       "      <th>time</th>\n",
       "      <th>latitude</th>\n",
       "      <th>longitude</th>\n",
       "      <th>depth</th>\n",
       "      <th>mag</th>\n",
       "      <th>magType</th>\n",
       "      <th>nst</th>\n",
       "      <th>gap</th>\n",
       "      <th>dmin</th>\n",
       "      <th>rms</th>\n",
       "      <th>net</th>\n",
       "      <th>id</th>\n",
       "      <th>horizontalError</th>\n",
       "      <th>depthError</th>\n",
       "      <th>magError</th>\n",
       "      <th>magNst</th>\n",
       "    </tr>\n",
       "  </thead>\n",
       "  <tbody>\n",
       "    <tr>\n",
       "      <th>2</th>\n",
       "      <td>2023-03-25T12:03:44.799Z</td>\n",
       "      <td>22.6542</td>\n",
       "      <td>95.3355</td>\n",
       "      <td>11.095</td>\n",
       "      <td>4.2</td>\n",
       "      <td>mb</td>\n",
       "      <td>16.0</td>\n",
       "      <td>136.0</td>\n",
       "      <td>2.453</td>\n",
       "      <td>0.29</td>\n",
       "      <td>us</td>\n",
       "      <td>us7000jmp2</td>\n",
       "      <td>8.90</td>\n",
       "      <td>4.668</td>\n",
       "      <td>0.152</td>\n",
       "      <td>12.0</td>\n",
       "    </tr>\n",
       "    <tr>\n",
       "      <th>3</th>\n",
       "      <td>2023-03-24T03:22:42.572Z</td>\n",
       "      <td>24.1675</td>\n",
       "      <td>93.7940</td>\n",
       "      <td>78.995</td>\n",
       "      <td>4.4</td>\n",
       "      <td>mb</td>\n",
       "      <td>32.0</td>\n",
       "      <td>73.0</td>\n",
       "      <td>2.471</td>\n",
       "      <td>0.52</td>\n",
       "      <td>us</td>\n",
       "      <td>us6000k0lk</td>\n",
       "      <td>9.67</td>\n",
       "      <td>8.197</td>\n",
       "      <td>0.155</td>\n",
       "      <td>12.0</td>\n",
       "    </tr>\n",
       "    <tr>\n",
       "      <th>4</th>\n",
       "      <td>2023-03-12T11:43:43.297Z</td>\n",
       "      <td>24.2760</td>\n",
       "      <td>94.7151</td>\n",
       "      <td>113.110</td>\n",
       "      <td>4.6</td>\n",
       "      <td>mb</td>\n",
       "      <td>77.0</td>\n",
       "      <td>48.0</td>\n",
       "      <td>4.097</td>\n",
       "      <td>0.43</td>\n",
       "      <td>us</td>\n",
       "      <td>us7000jjbm</td>\n",
       "      <td>2.94</td>\n",
       "      <td>6.734</td>\n",
       "      <td>0.060</td>\n",
       "      <td>83.0</td>\n",
       "    </tr>\n",
       "    <tr>\n",
       "      <th>5</th>\n",
       "      <td>2023-02-26T04:19:53.486Z</td>\n",
       "      <td>25.6554</td>\n",
       "      <td>90.4081</td>\n",
       "      <td>10.000</td>\n",
       "      <td>4.3</td>\n",
       "      <td>mb</td>\n",
       "      <td>21.0</td>\n",
       "      <td>163.0</td>\n",
       "      <td>5.059</td>\n",
       "      <td>0.80</td>\n",
       "      <td>us</td>\n",
       "      <td>us7000jhnb</td>\n",
       "      <td>9.05</td>\n",
       "      <td>1.929</td>\n",
       "      <td>0.161</td>\n",
       "      <td>11.0</td>\n",
       "    </tr>\n",
       "    <tr>\n",
       "      <th>6</th>\n",
       "      <td>2023-02-16T03:56:28.218Z</td>\n",
       "      <td>25.1917</td>\n",
       "      <td>91.8394</td>\n",
       "      <td>57.099</td>\n",
       "      <td>4.3</td>\n",
       "      <td>mb</td>\n",
       "      <td>39.0</td>\n",
       "      <td>111.0</td>\n",
       "      <td>2.510</td>\n",
       "      <td>1.02</td>\n",
       "      <td>us</td>\n",
       "      <td>us6000jpaj</td>\n",
       "      <td>3.60</td>\n",
       "      <td>8.331</td>\n",
       "      <td>0.129</td>\n",
       "      <td>18.0</td>\n",
       "    </tr>\n",
       "  </tbody>\n",
       "</table>\n",
       "</div>"
      ],
      "text/plain": [
       "                       time  latitude  longitude    depth  mag magType   nst  \\\n",
       "2  2023-03-25T12:03:44.799Z   22.6542    95.3355   11.095  4.2      mb  16.0   \n",
       "3  2023-03-24T03:22:42.572Z   24.1675    93.7940   78.995  4.4      mb  32.0   \n",
       "4  2023-03-12T11:43:43.297Z   24.2760    94.7151  113.110  4.6      mb  77.0   \n",
       "5  2023-02-26T04:19:53.486Z   25.6554    90.4081   10.000  4.3      mb  21.0   \n",
       "6  2023-02-16T03:56:28.218Z   25.1917    91.8394   57.099  4.3      mb  39.0   \n",
       "\n",
       "     gap   dmin   rms net          id  horizontalError  depthError  magError  \\\n",
       "2  136.0  2.453  0.29  us  us7000jmp2             8.90       4.668     0.152   \n",
       "3   73.0  2.471  0.52  us  us6000k0lk             9.67       8.197     0.155   \n",
       "4   48.0  4.097  0.43  us  us7000jjbm             2.94       6.734     0.060   \n",
       "5  163.0  5.059  0.80  us  us7000jhnb             9.05       1.929     0.161   \n",
       "6  111.0  2.510  1.02  us  us6000jpaj             3.60       8.331     0.129   \n",
       "\n",
       "   magNst  \n",
       "2    12.0  \n",
       "3    12.0  \n",
       "4    83.0  \n",
       "5    11.0  \n",
       "6    18.0  "
      ]
     },
     "execution_count": 43,
     "metadata": {},
     "output_type": "execute_result"
    }
   ],
   "source": [
    "db.head()"
   ]
  },
  {
   "cell_type": "code",
   "execution_count": 44,
   "id": "98b844ef",
   "metadata": {},
   "outputs": [
    {
     "data": {
      "text/plain": [
       "array(['us', 'iscgem', 'iscgemsup', 'official'], dtype=object)"
      ]
     },
     "execution_count": 44,
     "metadata": {},
     "output_type": "execute_result"
    }
   ],
   "source": [
    "db['net'].unique()"
   ]
  },
  {
   "cell_type": "code",
   "execution_count": 45,
   "id": "dd696890",
   "metadata": {},
   "outputs": [
    {
     "data": {
      "text/plain": [
       "array(['us7000jmp2', 'us6000k0lk', 'us7000jjbm', ..., 'iscgem16958007',\n",
       "       'iscgem16957918', 'iscgem610548640'], dtype=object)"
      ]
     },
     "execution_count": 45,
     "metadata": {},
     "output_type": "execute_result"
    }
   ],
   "source": [
    "db['id'].unique()"
   ]
  },
  {
   "cell_type": "code",
   "execution_count": 46,
   "id": "389c30c4",
   "metadata": {},
   "outputs": [],
   "source": [
    "db.drop(columns=['id','net'],inplace=True)"
   ]
  },
  {
   "cell_type": "markdown",
   "id": "384de971",
   "metadata": {},
   "source": [
    "dropping id and net beacuse they are the information about how,when and what recorded this data"
   ]
  },
  {
   "cell_type": "code",
   "execution_count": 47,
   "id": "3f28dd53",
   "metadata": {},
   "outputs": [
    {
     "data": {
      "text/html": [
       "<div>\n",
       "<style scoped>\n",
       "    .dataframe tbody tr th:only-of-type {\n",
       "        vertical-align: middle;\n",
       "    }\n",
       "\n",
       "    .dataframe tbody tr th {\n",
       "        vertical-align: top;\n",
       "    }\n",
       "\n",
       "    .dataframe thead th {\n",
       "        text-align: right;\n",
       "    }\n",
       "</style>\n",
       "<table border=\"1\" class=\"dataframe\">\n",
       "  <thead>\n",
       "    <tr style=\"text-align: right;\">\n",
       "      <th></th>\n",
       "      <th>time</th>\n",
       "      <th>latitude</th>\n",
       "      <th>longitude</th>\n",
       "      <th>depth</th>\n",
       "      <th>mag</th>\n",
       "      <th>magType</th>\n",
       "      <th>nst</th>\n",
       "      <th>gap</th>\n",
       "      <th>dmin</th>\n",
       "      <th>rms</th>\n",
       "      <th>horizontalError</th>\n",
       "      <th>depthError</th>\n",
       "      <th>magError</th>\n",
       "      <th>magNst</th>\n",
       "    </tr>\n",
       "  </thead>\n",
       "  <tbody>\n",
       "    <tr>\n",
       "      <th>2</th>\n",
       "      <td>2023-03-25T12:03:44.799Z</td>\n",
       "      <td>22.6542</td>\n",
       "      <td>95.3355</td>\n",
       "      <td>11.095</td>\n",
       "      <td>4.2</td>\n",
       "      <td>mb</td>\n",
       "      <td>16.0</td>\n",
       "      <td>136.0</td>\n",
       "      <td>2.453</td>\n",
       "      <td>0.29</td>\n",
       "      <td>8.90</td>\n",
       "      <td>4.668</td>\n",
       "      <td>0.152</td>\n",
       "      <td>12.0</td>\n",
       "    </tr>\n",
       "    <tr>\n",
       "      <th>3</th>\n",
       "      <td>2023-03-24T03:22:42.572Z</td>\n",
       "      <td>24.1675</td>\n",
       "      <td>93.7940</td>\n",
       "      <td>78.995</td>\n",
       "      <td>4.4</td>\n",
       "      <td>mb</td>\n",
       "      <td>32.0</td>\n",
       "      <td>73.0</td>\n",
       "      <td>2.471</td>\n",
       "      <td>0.52</td>\n",
       "      <td>9.67</td>\n",
       "      <td>8.197</td>\n",
       "      <td>0.155</td>\n",
       "      <td>12.0</td>\n",
       "    </tr>\n",
       "    <tr>\n",
       "      <th>4</th>\n",
       "      <td>2023-03-12T11:43:43.297Z</td>\n",
       "      <td>24.2760</td>\n",
       "      <td>94.7151</td>\n",
       "      <td>113.110</td>\n",
       "      <td>4.6</td>\n",
       "      <td>mb</td>\n",
       "      <td>77.0</td>\n",
       "      <td>48.0</td>\n",
       "      <td>4.097</td>\n",
       "      <td>0.43</td>\n",
       "      <td>2.94</td>\n",
       "      <td>6.734</td>\n",
       "      <td>0.060</td>\n",
       "      <td>83.0</td>\n",
       "    </tr>\n",
       "    <tr>\n",
       "      <th>5</th>\n",
       "      <td>2023-02-26T04:19:53.486Z</td>\n",
       "      <td>25.6554</td>\n",
       "      <td>90.4081</td>\n",
       "      <td>10.000</td>\n",
       "      <td>4.3</td>\n",
       "      <td>mb</td>\n",
       "      <td>21.0</td>\n",
       "      <td>163.0</td>\n",
       "      <td>5.059</td>\n",
       "      <td>0.80</td>\n",
       "      <td>9.05</td>\n",
       "      <td>1.929</td>\n",
       "      <td>0.161</td>\n",
       "      <td>11.0</td>\n",
       "    </tr>\n",
       "    <tr>\n",
       "      <th>6</th>\n",
       "      <td>2023-02-16T03:56:28.218Z</td>\n",
       "      <td>25.1917</td>\n",
       "      <td>91.8394</td>\n",
       "      <td>57.099</td>\n",
       "      <td>4.3</td>\n",
       "      <td>mb</td>\n",
       "      <td>39.0</td>\n",
       "      <td>111.0</td>\n",
       "      <td>2.510</td>\n",
       "      <td>1.02</td>\n",
       "      <td>3.60</td>\n",
       "      <td>8.331</td>\n",
       "      <td>0.129</td>\n",
       "      <td>18.0</td>\n",
       "    </tr>\n",
       "  </tbody>\n",
       "</table>\n",
       "</div>"
      ],
      "text/plain": [
       "                       time  latitude  longitude    depth  mag magType   nst  \\\n",
       "2  2023-03-25T12:03:44.799Z   22.6542    95.3355   11.095  4.2      mb  16.0   \n",
       "3  2023-03-24T03:22:42.572Z   24.1675    93.7940   78.995  4.4      mb  32.0   \n",
       "4  2023-03-12T11:43:43.297Z   24.2760    94.7151  113.110  4.6      mb  77.0   \n",
       "5  2023-02-26T04:19:53.486Z   25.6554    90.4081   10.000  4.3      mb  21.0   \n",
       "6  2023-02-16T03:56:28.218Z   25.1917    91.8394   57.099  4.3      mb  39.0   \n",
       "\n",
       "     gap   dmin   rms  horizontalError  depthError  magError  magNst  \n",
       "2  136.0  2.453  0.29             8.90       4.668     0.152    12.0  \n",
       "3   73.0  2.471  0.52             9.67       8.197     0.155    12.0  \n",
       "4   48.0  4.097  0.43             2.94       6.734     0.060    83.0  \n",
       "5  163.0  5.059  0.80             9.05       1.929     0.161    11.0  \n",
       "6  111.0  2.510  1.02             3.60       8.331     0.129    18.0  "
      ]
     },
     "execution_count": 47,
     "metadata": {},
     "output_type": "execute_result"
    }
   ],
   "source": [
    "db.head()"
   ]
  },
  {
   "cell_type": "code",
   "execution_count": 48,
   "id": "53453de0",
   "metadata": {},
   "outputs": [
    {
     "data": {
      "text/plain": [
       "time                0.000000\n",
       "latitude            0.000000\n",
       "longitude           0.000000\n",
       "depth               0.000000\n",
       "mag                 0.000000\n",
       "magType             0.000000\n",
       "nst                70.979228\n",
       "gap                51.691395\n",
       "dmin               74.124629\n",
       "rms                15.548961\n",
       "horizontalError    76.854599\n",
       "depthError         39.584570\n",
       "magError           65.222552\n",
       "magNst             21.483680\n",
       "dtype: float64"
      ]
     },
     "execution_count": 48,
     "metadata": {},
     "output_type": "execute_result"
    }
   ],
   "source": [
    "db.isnull().mean()*100"
   ]
  },
  {
   "cell_type": "code",
   "execution_count": 49,
   "id": "0300732d",
   "metadata": {},
   "outputs": [
    {
     "name": "stdout",
     "output_type": "stream",
     "text": [
      "<class 'pandas.core.frame.DataFrame'>\n",
      "Int64Index: 1685 entries, 2 to 2849\n",
      "Data columns (total 14 columns):\n",
      " #   Column           Non-Null Count  Dtype  \n",
      "---  ------           --------------  -----  \n",
      " 0   time             1685 non-null   object \n",
      " 1   latitude         1685 non-null   float64\n",
      " 2   longitude        1685 non-null   float64\n",
      " 3   depth            1685 non-null   float64\n",
      " 4   mag              1685 non-null   float64\n",
      " 5   magType          1685 non-null   object \n",
      " 6   nst              489 non-null    float64\n",
      " 7   gap              814 non-null    float64\n",
      " 8   dmin             436 non-null    float64\n",
      " 9   rms              1423 non-null   float64\n",
      " 10  horizontalError  390 non-null    float64\n",
      " 11  depthError       1018 non-null   float64\n",
      " 12  magError         586 non-null    float64\n",
      " 13  magNst           1323 non-null   float64\n",
      "dtypes: float64(12), object(2)\n",
      "memory usage: 197.5+ KB\n"
     ]
    }
   ],
   "source": [
    "db.info()"
   ]
  },
  {
   "cell_type": "markdown",
   "id": "dd09f24c",
   "metadata": {},
   "source": [
    "Lets fill the null values now"
   ]
  },
  {
   "cell_type": "code",
   "execution_count": 50,
   "id": "1303ed4f",
   "metadata": {},
   "outputs": [],
   "source": [
    "db['nst'].fillna(db['nst'].mean(),inplace=True)"
   ]
  },
  {
   "cell_type": "code",
   "execution_count": 51,
   "id": "ae0b3708",
   "metadata": {},
   "outputs": [],
   "source": [
    "db['gap'].fillna(db['gap'].mean(),inplace=True)"
   ]
  },
  {
   "cell_type": "code",
   "execution_count": 52,
   "id": "4aabe923",
   "metadata": {},
   "outputs": [],
   "source": [
    "\n",
    "db['dmin'].fillna(db['dmin'].mean(),inplace=True)\n",
    "db['rms'].fillna(db['rms'].mean(),inplace=True)\n",
    "db['depthError'].fillna(db['depthError'].mean(),inplace=True)\n",
    "db['horizontalError'].fillna(db['horizontalError'].mean(),inplace=True)\n",
    "db['magError'].fillna(db['magError'].mean(),inplace=True)\n",
    "db['magNst'].fillna(db['magNst'].mean(),inplace=True)\n"
   ]
  },
  {
   "cell_type": "code",
   "execution_count": 53,
   "id": "459ff727",
   "metadata": {},
   "outputs": [
    {
     "data": {
      "text/plain": [
       "time               0.0\n",
       "latitude           0.0\n",
       "longitude          0.0\n",
       "depth              0.0\n",
       "mag                0.0\n",
       "magType            0.0\n",
       "nst                0.0\n",
       "gap                0.0\n",
       "dmin               0.0\n",
       "rms                0.0\n",
       "horizontalError    0.0\n",
       "depthError         0.0\n",
       "magError           0.0\n",
       "magNst             0.0\n",
       "dtype: float64"
      ]
     },
     "execution_count": 53,
     "metadata": {},
     "output_type": "execute_result"
    }
   ],
   "source": [
    "db.isnull().mean()*100"
   ]
  },
  {
   "cell_type": "markdown",
   "id": "3254b704",
   "metadata": {},
   "source": [
    "so for now we have replaced all the null values with mean\n",
    "\n"
   ]
  },
  {
   "cell_type": "code",
   "execution_count": 54,
   "id": "3fc8f3cf",
   "metadata": {},
   "outputs": [
    {
     "name": "stdout",
     "output_type": "stream",
     "text": [
      "<class 'pandas.core.frame.DataFrame'>\n",
      "Int64Index: 1685 entries, 2 to 2849\n",
      "Data columns (total 14 columns):\n",
      " #   Column           Non-Null Count  Dtype  \n",
      "---  ------           --------------  -----  \n",
      " 0   time             1685 non-null   object \n",
      " 1   latitude         1685 non-null   float64\n",
      " 2   longitude        1685 non-null   float64\n",
      " 3   depth            1685 non-null   float64\n",
      " 4   mag              1685 non-null   float64\n",
      " 5   magType          1685 non-null   object \n",
      " 6   nst              1685 non-null   float64\n",
      " 7   gap              1685 non-null   float64\n",
      " 8   dmin             1685 non-null   float64\n",
      " 9   rms              1685 non-null   float64\n",
      " 10  horizontalError  1685 non-null   float64\n",
      " 11  depthError       1685 non-null   float64\n",
      " 12  magError         1685 non-null   float64\n",
      " 13  magNst           1685 non-null   float64\n",
      "dtypes: float64(12), object(2)\n",
      "memory usage: 197.5+ KB\n"
     ]
    }
   ],
   "source": [
    "db.info()"
   ]
  },
  {
   "cell_type": "code",
   "execution_count": 55,
   "id": "d5bdf745",
   "metadata": {},
   "outputs": [
    {
     "data": {
      "text/plain": [
       "array(['mb', 'mww', 'mwb', 'ml', 'mwc', 'mw', 'ms'], dtype=object)"
      ]
     },
     "execution_count": 55,
     "metadata": {},
     "output_type": "execute_result"
    }
   ],
   "source": [
    "db['magType'].unique()"
   ]
  },
  {
   "cell_type": "code",
   "execution_count": 56,
   "id": "9b5569b4",
   "metadata": {},
   "outputs": [
    {
     "data": {
      "text/plain": [
       "magType  mag\n",
       "mb       3.4     1\n",
       "         3.5     5\n",
       "         3.6    10\n",
       "         3.7    22\n",
       "         3.8    33\n",
       "                ..\n",
       "mww      5.9     1\n",
       "         6.0     1\n",
       "         6.2     1\n",
       "         6.7     1\n",
       "         6.9     1\n",
       "Length: 169, dtype: int64"
      ]
     },
     "execution_count": 56,
     "metadata": {},
     "output_type": "execute_result"
    }
   ],
   "source": [
    "db.groupby(['magType','mag']).size()"
   ]
  },
  {
   "cell_type": "markdown",
   "id": "61b4161f",
   "metadata": {},
   "source": [
    "'mb' stands for body wave magnitude and is calculated using the amplitude of the earthquake's P-waves and S-waves.\n",
    "\n",
    "'mwc' stands for moment magnitude (Mw) from complete waveform modeling, which is a type of magnitude scale that takes into account the total energy released by an earthquake.\n",
    "\n",
    "'mwb' stands for surface wave magnitude and is calculated using the amplitude of the earthquake's surface waves.\n",
    "\n",
    "'ms' stands for surface wave magnitude and is calculated using the amplitude of the earthquake's surface waves at a period of approximately 20 seconds.\n",
    "\n",
    "'mw' stands for moment magnitude, which is a type of magnitude scale that takes into account the seismic moment (i.e., the total energy released by an earthquake) and is considered to be a more accurate measure of an earthquake's size than other magnitude types."
   ]
  },
  {
   "cell_type": "code",
   "execution_count": 57,
   "id": "ea1b98b2",
   "metadata": {},
   "outputs": [
    {
     "data": {
      "text/plain": [
       "2       2023-03-25T12:03:44.799Z\n",
       "3       2023-03-24T03:22:42.572Z\n",
       "4       2023-03-12T11:43:43.297Z\n",
       "5       2023-02-26T04:19:53.486Z\n",
       "6       2023-02-16T03:56:28.218Z\n",
       "                  ...           \n",
       "2845    1915-12-03T02:39:23.440Z\n",
       "2846    1914-03-28T10:44:47.030Z\n",
       "2847    1908-12-12T12:54:55.960Z\n",
       "2848    1906-08-31T14:57:23.960Z\n",
       "2849    1906-05-12T05:48:44.320Z\n",
       "Name: time, Length: 1685, dtype: object"
      ]
     },
     "execution_count": 57,
     "metadata": {},
     "output_type": "execute_result"
    }
   ],
   "source": [
    "db['time']"
   ]
  },
  {
   "cell_type": "code",
   "execution_count": 58,
   "id": "4b8c806f",
   "metadata": {},
   "outputs": [],
   "source": [
    "db['time']=pd.to_datetime(db['time'])"
   ]
  },
  {
   "cell_type": "markdown",
   "id": "eff296e2",
   "metadata": {},
   "source": [
    "we have converted our time data in datetime format"
   ]
  },
  {
   "cell_type": "code",
   "execution_count": 59,
   "id": "97056a1f",
   "metadata": {},
   "outputs": [
    {
     "data": {
      "text/html": [
       "<div>\n",
       "<style scoped>\n",
       "    .dataframe tbody tr th:only-of-type {\n",
       "        vertical-align: middle;\n",
       "    }\n",
       "\n",
       "    .dataframe tbody tr th {\n",
       "        vertical-align: top;\n",
       "    }\n",
       "\n",
       "    .dataframe thead th {\n",
       "        text-align: right;\n",
       "    }\n",
       "</style>\n",
       "<table border=\"1\" class=\"dataframe\">\n",
       "  <thead>\n",
       "    <tr style=\"text-align: right;\">\n",
       "      <th></th>\n",
       "      <th>time</th>\n",
       "      <th>latitude</th>\n",
       "      <th>longitude</th>\n",
       "      <th>depth</th>\n",
       "      <th>mag</th>\n",
       "      <th>magType</th>\n",
       "      <th>nst</th>\n",
       "      <th>gap</th>\n",
       "      <th>dmin</th>\n",
       "      <th>rms</th>\n",
       "      <th>horizontalError</th>\n",
       "      <th>depthError</th>\n",
       "      <th>magError</th>\n",
       "      <th>magNst</th>\n",
       "    </tr>\n",
       "  </thead>\n",
       "  <tbody>\n",
       "    <tr>\n",
       "      <th>2</th>\n",
       "      <td>2023-03-25 12:03:44.799000+00:00</td>\n",
       "      <td>22.6542</td>\n",
       "      <td>95.3355</td>\n",
       "      <td>11.095</td>\n",
       "      <td>4.2</td>\n",
       "      <td>mb</td>\n",
       "      <td>16.0</td>\n",
       "      <td>136.0</td>\n",
       "      <td>2.453</td>\n",
       "      <td>0.29</td>\n",
       "      <td>8.90</td>\n",
       "      <td>4.668</td>\n",
       "      <td>0.152</td>\n",
       "      <td>12.0</td>\n",
       "    </tr>\n",
       "    <tr>\n",
       "      <th>3</th>\n",
       "      <td>2023-03-24 03:22:42.572000+00:00</td>\n",
       "      <td>24.1675</td>\n",
       "      <td>93.7940</td>\n",
       "      <td>78.995</td>\n",
       "      <td>4.4</td>\n",
       "      <td>mb</td>\n",
       "      <td>32.0</td>\n",
       "      <td>73.0</td>\n",
       "      <td>2.471</td>\n",
       "      <td>0.52</td>\n",
       "      <td>9.67</td>\n",
       "      <td>8.197</td>\n",
       "      <td>0.155</td>\n",
       "      <td>12.0</td>\n",
       "    </tr>\n",
       "    <tr>\n",
       "      <th>4</th>\n",
       "      <td>2023-03-12 11:43:43.297000+00:00</td>\n",
       "      <td>24.2760</td>\n",
       "      <td>94.7151</td>\n",
       "      <td>113.110</td>\n",
       "      <td>4.6</td>\n",
       "      <td>mb</td>\n",
       "      <td>77.0</td>\n",
       "      <td>48.0</td>\n",
       "      <td>4.097</td>\n",
       "      <td>0.43</td>\n",
       "      <td>2.94</td>\n",
       "      <td>6.734</td>\n",
       "      <td>0.060</td>\n",
       "      <td>83.0</td>\n",
       "    </tr>\n",
       "    <tr>\n",
       "      <th>5</th>\n",
       "      <td>2023-02-26 04:19:53.486000+00:00</td>\n",
       "      <td>25.6554</td>\n",
       "      <td>90.4081</td>\n",
       "      <td>10.000</td>\n",
       "      <td>4.3</td>\n",
       "      <td>mb</td>\n",
       "      <td>21.0</td>\n",
       "      <td>163.0</td>\n",
       "      <td>5.059</td>\n",
       "      <td>0.80</td>\n",
       "      <td>9.05</td>\n",
       "      <td>1.929</td>\n",
       "      <td>0.161</td>\n",
       "      <td>11.0</td>\n",
       "    </tr>\n",
       "    <tr>\n",
       "      <th>6</th>\n",
       "      <td>2023-02-16 03:56:28.218000+00:00</td>\n",
       "      <td>25.1917</td>\n",
       "      <td>91.8394</td>\n",
       "      <td>57.099</td>\n",
       "      <td>4.3</td>\n",
       "      <td>mb</td>\n",
       "      <td>39.0</td>\n",
       "      <td>111.0</td>\n",
       "      <td>2.510</td>\n",
       "      <td>1.02</td>\n",
       "      <td>3.60</td>\n",
       "      <td>8.331</td>\n",
       "      <td>0.129</td>\n",
       "      <td>18.0</td>\n",
       "    </tr>\n",
       "  </tbody>\n",
       "</table>\n",
       "</div>"
      ],
      "text/plain": [
       "                              time  latitude  longitude    depth  mag magType  \\\n",
       "2 2023-03-25 12:03:44.799000+00:00   22.6542    95.3355   11.095  4.2      mb   \n",
       "3 2023-03-24 03:22:42.572000+00:00   24.1675    93.7940   78.995  4.4      mb   \n",
       "4 2023-03-12 11:43:43.297000+00:00   24.2760    94.7151  113.110  4.6      mb   \n",
       "5 2023-02-26 04:19:53.486000+00:00   25.6554    90.4081   10.000  4.3      mb   \n",
       "6 2023-02-16 03:56:28.218000+00:00   25.1917    91.8394   57.099  4.3      mb   \n",
       "\n",
       "    nst    gap   dmin   rms  horizontalError  depthError  magError  magNst  \n",
       "2  16.0  136.0  2.453  0.29             8.90       4.668     0.152    12.0  \n",
       "3  32.0   73.0  2.471  0.52             9.67       8.197     0.155    12.0  \n",
       "4  77.0   48.0  4.097  0.43             2.94       6.734     0.060    83.0  \n",
       "5  21.0  163.0  5.059  0.80             9.05       1.929     0.161    11.0  \n",
       "6  39.0  111.0  2.510  1.02             3.60       8.331     0.129    18.0  "
      ]
     },
     "execution_count": 59,
     "metadata": {},
     "output_type": "execute_result"
    }
   ],
   "source": [
    "db.head()"
   ]
  },
  {
   "cell_type": "markdown",
   "id": "86cdfe2f",
   "metadata": {},
   "source": [
    "Now lets extract date,year,month,day and hour from our data"
   ]
  },
  {
   "cell_type": "code",
   "execution_count": 60,
   "id": "41178ff1",
   "metadata": {},
   "outputs": [],
   "source": [
    "db['year']=db['time'].dt.year\n",
    "db['month']=db['time'].dt.month\n",
    "db['day']=db['time'].dt.day\n",
    "db['hour']=db['time'].dt.hour\n",
    "db['min']=db['time'].dt.minute"
   ]
  },
  {
   "cell_type": "code",
   "execution_count": 61,
   "id": "6701c83c",
   "metadata": {},
   "outputs": [],
   "source": [
    "db.drop(columns='time',inplace=True)"
   ]
  },
  {
   "cell_type": "code",
   "execution_count": 62,
   "id": "c2e51a50",
   "metadata": {},
   "outputs": [
    {
     "data": {
      "text/html": [
       "<div>\n",
       "<style scoped>\n",
       "    .dataframe tbody tr th:only-of-type {\n",
       "        vertical-align: middle;\n",
       "    }\n",
       "\n",
       "    .dataframe tbody tr th {\n",
       "        vertical-align: top;\n",
       "    }\n",
       "\n",
       "    .dataframe thead th {\n",
       "        text-align: right;\n",
       "    }\n",
       "</style>\n",
       "<table border=\"1\" class=\"dataframe\">\n",
       "  <thead>\n",
       "    <tr style=\"text-align: right;\">\n",
       "      <th></th>\n",
       "      <th>latitude</th>\n",
       "      <th>longitude</th>\n",
       "      <th>depth</th>\n",
       "      <th>mag</th>\n",
       "      <th>magType</th>\n",
       "      <th>nst</th>\n",
       "      <th>gap</th>\n",
       "      <th>dmin</th>\n",
       "      <th>rms</th>\n",
       "      <th>horizontalError</th>\n",
       "      <th>depthError</th>\n",
       "      <th>magError</th>\n",
       "      <th>magNst</th>\n",
       "      <th>year</th>\n",
       "      <th>month</th>\n",
       "      <th>day</th>\n",
       "      <th>hour</th>\n",
       "      <th>min</th>\n",
       "    </tr>\n",
       "  </thead>\n",
       "  <tbody>\n",
       "    <tr>\n",
       "      <th>2</th>\n",
       "      <td>22.6542</td>\n",
       "      <td>95.3355</td>\n",
       "      <td>11.095</td>\n",
       "      <td>4.2</td>\n",
       "      <td>mb</td>\n",
       "      <td>16.0</td>\n",
       "      <td>136.0</td>\n",
       "      <td>2.453</td>\n",
       "      <td>0.29</td>\n",
       "      <td>8.90</td>\n",
       "      <td>4.668</td>\n",
       "      <td>0.152</td>\n",
       "      <td>12.0</td>\n",
       "      <td>2023</td>\n",
       "      <td>3</td>\n",
       "      <td>25</td>\n",
       "      <td>12</td>\n",
       "      <td>3</td>\n",
       "    </tr>\n",
       "    <tr>\n",
       "      <th>3</th>\n",
       "      <td>24.1675</td>\n",
       "      <td>93.7940</td>\n",
       "      <td>78.995</td>\n",
       "      <td>4.4</td>\n",
       "      <td>mb</td>\n",
       "      <td>32.0</td>\n",
       "      <td>73.0</td>\n",
       "      <td>2.471</td>\n",
       "      <td>0.52</td>\n",
       "      <td>9.67</td>\n",
       "      <td>8.197</td>\n",
       "      <td>0.155</td>\n",
       "      <td>12.0</td>\n",
       "      <td>2023</td>\n",
       "      <td>3</td>\n",
       "      <td>24</td>\n",
       "      <td>3</td>\n",
       "      <td>22</td>\n",
       "    </tr>\n",
       "    <tr>\n",
       "      <th>4</th>\n",
       "      <td>24.2760</td>\n",
       "      <td>94.7151</td>\n",
       "      <td>113.110</td>\n",
       "      <td>4.6</td>\n",
       "      <td>mb</td>\n",
       "      <td>77.0</td>\n",
       "      <td>48.0</td>\n",
       "      <td>4.097</td>\n",
       "      <td>0.43</td>\n",
       "      <td>2.94</td>\n",
       "      <td>6.734</td>\n",
       "      <td>0.060</td>\n",
       "      <td>83.0</td>\n",
       "      <td>2023</td>\n",
       "      <td>3</td>\n",
       "      <td>12</td>\n",
       "      <td>11</td>\n",
       "      <td>43</td>\n",
       "    </tr>\n",
       "    <tr>\n",
       "      <th>5</th>\n",
       "      <td>25.6554</td>\n",
       "      <td>90.4081</td>\n",
       "      <td>10.000</td>\n",
       "      <td>4.3</td>\n",
       "      <td>mb</td>\n",
       "      <td>21.0</td>\n",
       "      <td>163.0</td>\n",
       "      <td>5.059</td>\n",
       "      <td>0.80</td>\n",
       "      <td>9.05</td>\n",
       "      <td>1.929</td>\n",
       "      <td>0.161</td>\n",
       "      <td>11.0</td>\n",
       "      <td>2023</td>\n",
       "      <td>2</td>\n",
       "      <td>26</td>\n",
       "      <td>4</td>\n",
       "      <td>19</td>\n",
       "    </tr>\n",
       "    <tr>\n",
       "      <th>6</th>\n",
       "      <td>25.1917</td>\n",
       "      <td>91.8394</td>\n",
       "      <td>57.099</td>\n",
       "      <td>4.3</td>\n",
       "      <td>mb</td>\n",
       "      <td>39.0</td>\n",
       "      <td>111.0</td>\n",
       "      <td>2.510</td>\n",
       "      <td>1.02</td>\n",
       "      <td>3.60</td>\n",
       "      <td>8.331</td>\n",
       "      <td>0.129</td>\n",
       "      <td>18.0</td>\n",
       "      <td>2023</td>\n",
       "      <td>2</td>\n",
       "      <td>16</td>\n",
       "      <td>3</td>\n",
       "      <td>56</td>\n",
       "    </tr>\n",
       "  </tbody>\n",
       "</table>\n",
       "</div>"
      ],
      "text/plain": [
       "   latitude  longitude    depth  mag magType   nst    gap   dmin   rms  \\\n",
       "2   22.6542    95.3355   11.095  4.2      mb  16.0  136.0  2.453  0.29   \n",
       "3   24.1675    93.7940   78.995  4.4      mb  32.0   73.0  2.471  0.52   \n",
       "4   24.2760    94.7151  113.110  4.6      mb  77.0   48.0  4.097  0.43   \n",
       "5   25.6554    90.4081   10.000  4.3      mb  21.0  163.0  5.059  0.80   \n",
       "6   25.1917    91.8394   57.099  4.3      mb  39.0  111.0  2.510  1.02   \n",
       "\n",
       "   horizontalError  depthError  magError  magNst  year  month  day  hour  min  \n",
       "2             8.90       4.668     0.152    12.0  2023      3   25    12    3  \n",
       "3             9.67       8.197     0.155    12.0  2023      3   24     3   22  \n",
       "4             2.94       6.734     0.060    83.0  2023      3   12    11   43  \n",
       "5             9.05       1.929     0.161    11.0  2023      2   26     4   19  \n",
       "6             3.60       8.331     0.129    18.0  2023      2   16     3   56  "
      ]
     },
     "execution_count": 62,
     "metadata": {},
     "output_type": "execute_result"
    }
   ],
   "source": [
    "db.head()"
   ]
  },
  {
   "cell_type": "markdown",
   "id": "6c92cc9b",
   "metadata": {},
   "source": [
    "Now we have replaced null values extracted value from time columns \n",
    "now lets move to data visualization"
   ]
  },
  {
   "cell_type": "markdown",
   "id": "3dcb76bf",
   "metadata": {},
   "source": [
    "### Data Visualization"
   ]
  },
  {
   "cell_type": "code",
   "execution_count": 63,
   "id": "d901519b",
   "metadata": {},
   "outputs": [],
   "source": [
    "import matplotlib\n",
    "matplotlib.rcParams['figure.figsize']=(12,6)"
   ]
  },
  {
   "cell_type": "code",
   "execution_count": 64,
   "id": "37b06a44",
   "metadata": {},
   "outputs": [],
   "source": [
    "#import folium"
   ]
  },
  {
   "cell_type": "code",
   "execution_count": 65,
   "id": "d4cafb5e",
   "metadata": {},
   "outputs": [],
   "source": [
    "#map=folium.Map(location=[db[latitude[0],db[longitude[]]])\n"
   ]
  },
  {
   "cell_type": "code",
   "execution_count": 66,
   "id": "aba8c12a",
   "metadata": {},
   "outputs": [
    {
     "name": "stdout",
     "output_type": "stream",
     "text": [
      "<class 'pandas.core.frame.DataFrame'>\n",
      "Int64Index: 1685 entries, 2 to 2849\n",
      "Data columns (total 18 columns):\n",
      " #   Column           Non-Null Count  Dtype  \n",
      "---  ------           --------------  -----  \n",
      " 0   latitude         1685 non-null   float64\n",
      " 1   longitude        1685 non-null   float64\n",
      " 2   depth            1685 non-null   float64\n",
      " 3   mag              1685 non-null   float64\n",
      " 4   magType          1685 non-null   object \n",
      " 5   nst              1685 non-null   float64\n",
      " 6   gap              1685 non-null   float64\n",
      " 7   dmin             1685 non-null   float64\n",
      " 8   rms              1685 non-null   float64\n",
      " 9   horizontalError  1685 non-null   float64\n",
      " 10  depthError       1685 non-null   float64\n",
      " 11  magError         1685 non-null   float64\n",
      " 12  magNst           1685 non-null   float64\n",
      " 13  year             1685 non-null   int64  \n",
      " 14  month            1685 non-null   int64  \n",
      " 15  day              1685 non-null   int64  \n",
      " 16  hour             1685 non-null   int64  \n",
      " 17  min              1685 non-null   int64  \n",
      "dtypes: float64(12), int64(5), object(1)\n",
      "memory usage: 250.1+ KB\n"
     ]
    }
   ],
   "source": [
    "db.info()"
   ]
  },
  {
   "cell_type": "code",
   "execution_count": 67,
   "id": "04433f57",
   "metadata": {},
   "outputs": [
    {
     "name": "stdout",
     "output_type": "stream",
     "text": [
      "mb     1422\n",
      "mw      179\n",
      "mwc      34\n",
      "mww      27\n",
      "mwb      14\n",
      "ms        6\n",
      "ml        3\n",
      "Name: magType, dtype: int64\n"
     ]
    },
    {
     "data": {
      "image/png": "[encoded data removed]",
      "text/plain": [
       "<Figure size 864x432 with 1 Axes>"
      ]
     },
     "metadata": {},
     "output_type": "display_data"
    }
   ],
   "source": [
    "magType=db['magType'].value_counts().index\n",
    "freq=db['magType'].value_counts().values\n",
    "\n",
    "plt.pie(x=freq[0:4],labels=magType[0:4],autopct='%1.2f%%')\n",
    "print(db['magType'].value_counts())"
   ]
  },
  {
   "cell_type": "code",
   "execution_count": 68,
   "id": "3694e3b2",
   "metadata": {},
   "outputs": [],
   "source": [
    "year=db['year'].value_counts().index\n",
    "freq=db['year'].value_counts().values"
   ]
  },
  {
   "cell_type": "code",
   "execution_count": 69,
   "id": "f5a9ea84",
   "metadata": {},
   "outputs": [
    {
     "data": {
      "text/plain": [
       "([<matplotlib.patches.Wedge at 0x19f1ca964f0>,\n",
       "  <matplotlib.patches.Wedge at 0x19f1ca96c70>,\n",
       "  <matplotlib.patches.Wedge at 0x19f1caa23d0>,\n",
       "  <matplotlib.patches.Wedge at 0x19f1caa2af0>],\n",
       " [Text(0.6875838192529147, 0.8586201089548133, '2021'),\n",
       "  Text(-0.9269129211842869, 0.5923110977700926, '2020'),\n",
       "  Text(-0.6119395398303054, -0.9140733009952069, '2008'),\n",
       "  Text(0.8437646978542166, -0.7057344646926227, '2014')],\n",
       " [Text(0.3750457195924989, 0.46833824124807993, '28.51%'),\n",
       "  Text(-0.5055888661005201, 0.3230787806018686, '24.89%'),\n",
       "  Text(-0.3337852035438029, -0.49858543690647644, '24.43%'),\n",
       "  Text(0.46023528973866357, -0.38494607165052147, '22.17%')])"
      ]
     },
     "execution_count": 69,
     "metadata": {},
     "output_type": "execute_result"
    },
    {
     "data": {
      "image/png": "[encoded data removed]",
      "text/plain": [
       "<Figure size 864x432 with 1 Axes>"
      ]
     },
     "metadata": {},
     "output_type": "display_data"
    }
   ],
   "source": [
    "plt.pie(x=freq[0:4],labels=year[0:4],autopct='%1.2f%%')"
   ]
  },
  {
   "cell_type": "markdown",
   "id": "4c81040c",
   "metadata": {},
   "source": [
    "Most of the earthquakes happened in year 2001"
   ]
  },
  {
   "cell_type": "code",
   "execution_count": 70,
   "id": "01a932e1",
   "metadata": {},
   "outputs": [
    {
     "data": {
      "text/plain": [
       "([<matplotlib.patches.Wedge at 0x19f1d375280>,\n",
       "  <matplotlib.patches.Wedge at 0x19f1d3759d0>,\n",
       "  <matplotlib.patches.Wedge at 0x19f1d1c3130>,\n",
       "  <matplotlib.patches.Wedge at 0x19f1d1c3850>],\n",
       " [Text(0.7641241712858572, 0.7912738153488349, '12'),\n",
       "  Text(-0.8174594090980857, 0.7360435547418432, '9'),\n",
       "  Text(-0.7360435164738056, -0.8174594435547703, '10'),\n",
       "  Text(0.7912739226625294, -0.7641240601592477, '6')],\n",
       " [Text(0.4167950025195584, 0.43160389928118265, '25.56%'),\n",
       "  Text(-0.4458869504171376, 0.4014783025864599, '25.56%'),\n",
       "  Text(-0.4014782817129849, -0.44588696921169285, '24.44%'),\n",
       "  Text(0.4316039578159251, -0.4167949419050442, '24.44%')])"
      ]
     },
     "execution_count": 70,
     "metadata": {},
     "output_type": "execute_result"
    },
    {
     "data": {
      "image/png": "[encoded data removed]",
      "text/plain": [
       "<Figure size 864x432 with 1 Axes>"
      ]
     },
     "metadata": {},
     "output_type": "display_data"
    }
   ],
   "source": [
    "day=db['day'].value_counts().index\n",
    "freq=db['day'].value_counts().values\n",
    "\n",
    "plt.pie(x=freq[0:4],labels=day[0:4],autopct='%1.2f%%')"
   ]
  },
  {
   "cell_type": "code",
   "execution_count": 71,
   "id": "b96a7cbb",
   "metadata": {},
   "outputs": [
    {
     "data": {
      "text/plain": [
       "12    69\n",
       "9     69\n",
       "10    66\n",
       "6     66\n",
       "21    65\n",
       "3     64\n",
       "2     61\n",
       "11    61\n",
       "17    61\n",
       "30    61\n",
       "29    60\n",
       "18    59\n",
       "28    59\n",
       "24    58\n",
       "25    56\n",
       "23    55\n",
       "27    55\n",
       "16    54\n",
       "8     52\n",
       "26    51\n",
       "22    48\n",
       "5     48\n",
       "15    47\n",
       "1     47\n",
       "20    44\n",
       "4     43\n",
       "19    43\n",
       "14    43\n",
       "13    41\n",
       "7     40\n",
       "31    39\n",
       "Name: day, dtype: int64"
      ]
     },
     "execution_count": 71,
     "metadata": {},
     "output_type": "execute_result"
    }
   ],
   "source": [
    "db['day'].value_counts()"
   ]
  },
  {
   "cell_type": "code",
   "execution_count": 72,
   "id": "16f495a7",
   "metadata": {},
   "outputs": [
    {
     "name": "stdout",
     "output_type": "stream",
     "text": [
      "8     173\n",
      "4     149\n",
      "5     148\n",
      "11    145\n",
      "3     141\n",
      "7     141\n",
      "9     140\n",
      "12    138\n",
      "1     135\n",
      "2     132\n",
      "6     132\n",
      "10    111\n",
      "Name: month, dtype: int64\n"
     ]
    },
    {
     "data": {
      "image/png": "[encoded data removed]",
      "text/plain": [
       "<Figure size 864x432 with 1 Axes>"
      ]
     },
     "metadata": {},
     "output_type": "display_data"
    }
   ],
   "source": [
    "month=db['month'].value_counts().index\n",
    "freq=db['month'].value_counts().values\n",
    "\n",
    "plt.pie(x=freq[0:4],labels=month[0:4],autopct='%1.2f%%')\n",
    "print(db['month'].value_counts())"
   ]
  },
  {
   "cell_type": "code",
   "execution_count": 73,
   "id": "0bdadb8a",
   "metadata": {},
   "outputs": [
    {
     "name": "stderr",
     "output_type": "stream",
     "text": [
      "C:\\Users\\Manshi\\anaconda3\\lib\\site-packages\\seaborn\\_decorators.py:36: FutureWarning: Pass the following variable as a keyword arg: x. From version 0.12, the only valid positional argument will be `data`, and passing other arguments without an explicit keyword will result in an error or misinterpretation.\n",
      "  warnings.warn(\n"
     ]
    },
    {
     "data": {
      "text/plain": [
       "<AxesSubplot:xlabel='mag', ylabel='count'>"
      ]
     },
     "execution_count": 73,
     "metadata": {},
     "output_type": "execute_result"
    },
    {
     "data": {
      "image/png": "[encoded data removed]",
      "text/plain": [
       "<Figure size 864x432 with 1 Axes>"
      ]
     },
     "metadata": {
      "needs_background": "light"
     },
     "output_type": "display_data"
    }
   ],
   "source": [
    "sns.countplot(db['mag'])"
   ]
  },
  {
   "cell_type": "code",
   "execution_count": 74,
   "id": "b17a75b3",
   "metadata": {},
   "outputs": [
    {
     "name": "stderr",
     "output_type": "stream",
     "text": [
      "C:\\Users\\Manshi\\anaconda3\\lib\\site-packages\\seaborn\\_decorators.py:36: FutureWarning: Pass the following variable as a keyword arg: x. From version 0.12, the only valid positional argument will be `data`, and passing other arguments without an explicit keyword will result in an error or misinterpretation.\n",
      "  warnings.warn(\n"
     ]
    },
    {
     "data": {
      "text/plain": [
       "<AxesSubplot:xlabel='latitude', ylabel='count'>"
      ]
     },
     "execution_count": 74,
     "metadata": {},
     "output_type": "execute_result"
    },
    {
     "data": {
      "image/png": "[encoded data removed]",
      "text/plain": [
       "<Figure size 864x432 with 1 Axes>"
      ]
     },
     "metadata": {
      "needs_background": "light"
     },
     "output_type": "display_data"
    }
   ],
   "source": [
    "sns.countplot(db['latitude'])"
   ]
  },
  {
   "cell_type": "markdown",
   "id": "95253fed",
   "metadata": {},
   "source": [
    "it can be seen almost all values of latitude occur single time except few which occur 2 or 3 times.\n",
    "\n",
    "repeating latittude represents earthquake reoccuring same place"
   ]
  },
  {
   "cell_type": "code",
   "execution_count": 75,
   "id": "487da7cd",
   "metadata": {},
   "outputs": [
    {
     "name": "stderr",
     "output_type": "stream",
     "text": [
      "C:\\Users\\Manshi\\anaconda3\\lib\\site-packages\\seaborn\\_decorators.py:36: FutureWarning: Pass the following variable as a keyword arg: x. From version 0.12, the only valid positional argument will be `data`, and passing other arguments without an explicit keyword will result in an error or misinterpretation.\n",
      "  warnings.warn(\n"
     ]
    },
    {
     "data": {
      "text/plain": [
       "<AxesSubplot:xlabel='longitude', ylabel='count'>"
      ]
     },
     "execution_count": 75,
     "metadata": {},
     "output_type": "execute_result"
    },
    {
     "data": {
      "image/png": "[encoded data removed]",
      "text/plain": [
       "<Figure size 864x432 with 1 Axes>"
      ]
     },
     "metadata": {
      "needs_background": "light"
     },
     "output_type": "display_data"
    }
   ],
   "source": [
    "sns.countplot(db['longitude'])"
   ]
  },
  {
   "cell_type": "code",
   "execution_count": 76,
   "id": "6fc6533e",
   "metadata": {},
   "outputs": [
    {
     "name": "stderr",
     "output_type": "stream",
     "text": [
      "C:\\Users\\Manshi\\anaconda3\\lib\\site-packages\\seaborn\\_decorators.py:36: FutureWarning: Pass the following variable as a keyword arg: x. From version 0.12, the only valid positional argument will be `data`, and passing other arguments without an explicit keyword will result in an error or misinterpretation.\n",
      "  warnings.warn(\n"
     ]
    },
    {
     "data": {
      "text/plain": [
       "<AxesSubplot:xlabel='depth', ylabel='count'>"
      ]
     },
     "execution_count": 76,
     "metadata": {},
     "output_type": "execute_result"
    },
    {
     "data": {
      "image/png": "[encoded data removed]",
      "text/plain": [
       "<Figure size 864x432 with 1 Axes>"
      ]
     },
     "metadata": {
      "needs_background": "light"
     },
     "output_type": "display_data"
    }
   ],
   "source": [
    "sns.countplot(db['depth'])"
   ]
  },
  {
   "cell_type": "code",
   "execution_count": 77,
   "id": "1308266a",
   "metadata": {},
   "outputs": [
    {
     "name": "stderr",
     "output_type": "stream",
     "text": [
      "C:\\Users\\Manshi\\anaconda3\\lib\\site-packages\\seaborn\\_decorators.py:36: FutureWarning: Pass the following variable as a keyword arg: x. From version 0.12, the only valid positional argument will be `data`, and passing other arguments without an explicit keyword will result in an error or misinterpretation.\n",
      "  warnings.warn(\n"
     ]
    },
    {
     "data": {
      "text/plain": [
       "<AxesSubplot:xlabel='magType', ylabel='count'>"
      ]
     },
     "execution_count": 77,
     "metadata": {},
     "output_type": "execute_result"
    },
    {
     "data": {
      "image/png": "[encoded data removed]",
      "text/plain": [
       "<Figure size 864x432 with 1 Axes>"
      ]
     },
     "metadata": {
      "needs_background": "light"
     },
     "output_type": "display_data"
    }
   ],
   "source": [
    "sns.countplot(db['magType'])"
   ]
  },
  {
   "cell_type": "code",
   "execution_count": 78,
   "id": "94b0b47a",
   "metadata": {},
   "outputs": [
    {
     "name": "stderr",
     "output_type": "stream",
     "text": [
      "C:\\Users\\Manshi\\anaconda3\\lib\\site-packages\\seaborn\\_decorators.py:36: FutureWarning: Pass the following variable as a keyword arg: x. From version 0.12, the only valid positional argument will be `data`, and passing other arguments without an explicit keyword will result in an error or misinterpretation.\n",
      "  warnings.warn(\n"
     ]
    },
    {
     "data": {
      "text/plain": [
       "<AxesSubplot:xlabel='nst', ylabel='count'>"
      ]
     },
     "execution_count": 78,
     "metadata": {},
     "output_type": "execute_result"
    },
    {
     "data": {
      "image/png": "[encoded data removed]",
      "text/plain": [
       "<Figure size 864x432 with 1 Axes>"
      ]
     },
     "metadata": {
      "needs_background": "light"
     },
     "output_type": "display_data"
    }
   ],
   "source": [
    "sns.countplot(db['nst'])"
   ]
  },
  {
   "cell_type": "code",
   "execution_count": 79,
   "id": "49984f15",
   "metadata": {},
   "outputs": [
    {
     "name": "stderr",
     "output_type": "stream",
     "text": [
      "C:\\Users\\Manshi\\anaconda3\\lib\\site-packages\\seaborn\\_decorators.py:36: FutureWarning: Pass the following variable as a keyword arg: x. From version 0.12, the only valid positional argument will be `data`, and passing other arguments without an explicit keyword will result in an error or misinterpretation.\n",
      "  warnings.warn(\n"
     ]
    },
    {
     "data": {
      "text/plain": [
       "<AxesSubplot:xlabel='gap', ylabel='count'>"
      ]
     },
     "execution_count": 79,
     "metadata": {},
     "output_type": "execute_result"
    },
    {
     "data": {
      "image/png": "[encoded data removed]",
      "text/plain": [
       "<Figure size 864x432 with 1 Axes>"
      ]
     },
     "metadata": {
      "needs_background": "light"
     },
     "output_type": "display_data"
    }
   ],
   "source": [
    "sns.countplot(db['gap'])"
   ]
  },
  {
   "cell_type": "code",
   "execution_count": 80,
   "id": "26e0f8a5",
   "metadata": {},
   "outputs": [
    {
     "name": "stderr",
     "output_type": "stream",
     "text": [
      "C:\\Users\\Manshi\\anaconda3\\lib\\site-packages\\seaborn\\_decorators.py:36: FutureWarning: Pass the following variable as a keyword arg: x. From version 0.12, the only valid positional argument will be `data`, and passing other arguments without an explicit keyword will result in an error or misinterpretation.\n",
      "  warnings.warn(\n"
     ]
    },
    {
     "data": {
      "text/plain": [
       "<AxesSubplot:xlabel='year', ylabel='count'>"
      ]
     },
     "execution_count": 80,
     "metadata": {},
     "output_type": "execute_result"
    },
    {
     "data": {
      "image/png": "[encoded data removed]",
      "text/plain": [
       "<Figure size 864x432 with 1 Axes>"
      ]
     },
     "metadata": {
      "needs_background": "light"
     },
     "output_type": "display_data"
    }
   ],
   "source": [
    "sns.countplot(db['year'])"
   ]
  },
  {
   "cell_type": "code",
   "execution_count": 81,
   "id": "f7c2778b",
   "metadata": {},
   "outputs": [
    {
     "data": {
      "text/plain": [
       "Index(['latitude', 'longitude', 'depth', 'mag', 'magType', 'nst', 'gap',\n",
       "       'dmin', 'rms', 'horizontalError', 'depthError', 'magError', 'magNst',\n",
       "       'year', 'month', 'day', 'hour', 'min'],\n",
       "      dtype='object')"
      ]
     },
     "execution_count": 81,
     "metadata": {},
     "output_type": "execute_result"
    }
   ],
   "source": [
    "db.columns"
   ]
  },
  {
   "cell_type": "code",
   "execution_count": 82,
   "id": "505f6e68",
   "metadata": {},
   "outputs": [
    {
     "name": "stderr",
     "output_type": "stream",
     "text": [
      "C:\\Users\\Manshi\\anaconda3\\lib\\site-packages\\seaborn\\_decorators.py:36: FutureWarning: Pass the following variable as a keyword arg: x. From version 0.12, the only valid positional argument will be `data`, and passing other arguments without an explicit keyword will result in an error or misinterpretation.\n",
      "  warnings.warn(\n"
     ]
    },
    {
     "data": {
      "text/plain": [
       "<AxesSubplot:xlabel='rms', ylabel='count'>"
      ]
     },
     "execution_count": 82,
     "metadata": {},
     "output_type": "execute_result"
    },
    {
     "data": {
      "image/png": "[encoded data removed]",
      "text/plain": [
       "<Figure size 864x432 with 1 Axes>"
      ]
     },
     "metadata": {
      "needs_background": "light"
     },
     "output_type": "display_data"
    }
   ],
   "source": [
    "sns.countplot(db['rms'])"
   ]
  },
  {
   "cell_type": "code",
   "execution_count": 83,
   "id": "ef90ec98",
   "metadata": {},
   "outputs": [
    {
     "name": "stderr",
     "output_type": "stream",
     "text": [
      "C:\\Users\\Manshi\\anaconda3\\lib\\site-packages\\seaborn\\_decorators.py:36: FutureWarning: Pass the following variable as a keyword arg: x. From version 0.12, the only valid positional argument will be `data`, and passing other arguments without an explicit keyword will result in an error or misinterpretation.\n",
      "  warnings.warn(\n"
     ]
    },
    {
     "data": {
      "text/plain": [
       "<AxesSubplot:xlabel='magNst', ylabel='count'>"
      ]
     },
     "execution_count": 83,
     "metadata": {},
     "output_type": "execute_result"
    },
    {
     "data": {
      "image/png": "[encoded data removed]",
      "text/plain": [
       "<Figure size 864x432 with 1 Axes>"
      ]
     },
     "metadata": {
      "needs_background": "light"
     },
     "output_type": "display_data"
    }
   ],
   "source": [
    "sns.countplot(db['magNst'])"
   ]
  },
  {
   "cell_type": "code",
   "execution_count": 84,
   "id": "b640d740",
   "metadata": {},
   "outputs": [
    {
     "name": "stderr",
     "output_type": "stream",
     "text": [
      "C:\\Users\\Manshi\\anaconda3\\lib\\site-packages\\seaborn\\distributions.py:2619: FutureWarning: `distplot` is a deprecated function and will be removed in a future version. Please adapt your code to use either `displot` (a figure-level function with similar flexibility) or `histplot` (an axes-level function for histograms).\n",
      "  warnings.warn(msg, FutureWarning)\n",
      "C:\\Users\\Manshi\\anaconda3\\lib\\site-packages\\seaborn\\_decorators.py:36: FutureWarning: Pass the following variable as a keyword arg: x. From version 0.12, the only valid positional argument will be `data`, and passing other arguments without an explicit keyword will result in an error or misinterpretation.\n",
      "  warnings.warn(\n"
     ]
    },
    {
     "data": {
      "image/png": "[encoded data removed]",
      "text/plain": [
       "<Figure size 864x432 with 3 Axes>"
      ]
     },
     "metadata": {
      "needs_background": "light"
     },
     "output_type": "display_data"
    }
   ],
   "source": [
    "fig, axs = plt.subplots(nrows=3)\n",
    "sns.histplot(db['latitude'], ax=axs[0]);\n",
    "sns.distplot(db['latitude'], ax=axs[1])\n",
    "sns.boxplot(db['latitude'], ax=axs[2]);"
   ]
  },
  {
   "cell_type": "code",
   "execution_count": 85,
   "id": "ade9d311",
   "metadata": {},
   "outputs": [
    {
     "name": "stderr",
     "output_type": "stream",
     "text": [
      "C:\\Users\\Manshi\\anaconda3\\lib\\site-packages\\seaborn\\distributions.py:2619: FutureWarning: `distplot` is a deprecated function and will be removed in a future version. Please adapt your code to use either `displot` (a figure-level function with similar flexibility) or `histplot` (an axes-level function for histograms).\n",
      "  warnings.warn(msg, FutureWarning)\n",
      "C:\\Users\\Manshi\\anaconda3\\lib\\site-packages\\seaborn\\_decorators.py:36: FutureWarning: Pass the following variable as a keyword arg: x. From version 0.12, the only valid positional argument will be `data`, and passing other arguments without an explicit keyword will result in an error or misinterpretation.\n",
      "  warnings.warn(\n"
     ]
    },
    {
     "data": {
      "image/png": "[encoded data removed]",
      "text/plain": [
       "<Figure size 864x432 with 3 Axes>"
      ]
     },
     "metadata": {
      "needs_background": "light"
     },
     "output_type": "display_data"
    }
   ],
   "source": [
    "fig, axs = plt.subplots(nrows=3)\n",
    "sns.histplot(db['longitude'], ax=axs[0]);\n",
    "sns.distplot(db['longitude'], ax=axs[1])\n",
    "sns.boxplot(db['longitude'], ax=axs[2]);"
   ]
  },
  {
   "cell_type": "code",
   "execution_count": 86,
   "id": "55002eed",
   "metadata": {},
   "outputs": [
    {
     "data": {
      "text/plain": [
       "Index(['latitude', 'longitude', 'depth', 'mag', 'magType', 'nst', 'gap',\n",
       "       'dmin', 'rms', 'horizontalError', 'depthError', 'magError', 'magNst',\n",
       "       'year', 'month', 'day', 'hour', 'min'],\n",
       "      dtype='object')"
      ]
     },
     "execution_count": 86,
     "metadata": {},
     "output_type": "execute_result"
    }
   ],
   "source": [
    "db.columns"
   ]
  },
  {
   "cell_type": "code",
   "execution_count": 87,
   "id": "9d109234",
   "metadata": {},
   "outputs": [
    {
     "name": "stderr",
     "output_type": "stream",
     "text": [
      "C:\\Users\\Manshi\\anaconda3\\lib\\site-packages\\seaborn\\distributions.py:2619: FutureWarning: `distplot` is a deprecated function and will be removed in a future version. Please adapt your code to use either `displot` (a figure-level function with similar flexibility) or `histplot` (an axes-level function for histograms).\n",
      "  warnings.warn(msg, FutureWarning)\n",
      "C:\\Users\\Manshi\\anaconda3\\lib\\site-packages\\seaborn\\_decorators.py:36: FutureWarning: Pass the following variable as a keyword arg: x. From version 0.12, the only valid positional argument will be `data`, and passing other arguments without an explicit keyword will result in an error or misinterpretation.\n",
      "  warnings.warn(\n"
     ]
    },
    {
     "data": {
      "image/png": "[encoded data removed]",
      "text/plain": [
       "<Figure size 864x432 with 3 Axes>"
      ]
     },
     "metadata": {
      "needs_background": "light"
     },
     "output_type": "display_data"
    }
   ],
   "source": [
    "fig, axs = plt.subplots(nrows=3)\n",
    "sns.histplot(db['depth'], ax=axs[0]);\n",
    "sns.distplot(db['depth'], ax=axs[1])\n",
    "sns.boxplot(db['depth'], ax=axs[2]);"
   ]
  },
  {
   "cell_type": "code",
   "execution_count": 88,
   "id": "c0d94078",
   "metadata": {},
   "outputs": [
    {
     "name": "stderr",
     "output_type": "stream",
     "text": [
      "C:\\Users\\Manshi\\anaconda3\\lib\\site-packages\\seaborn\\distributions.py:2619: FutureWarning: `distplot` is a deprecated function and will be removed in a future version. Please adapt your code to use either `displot` (a figure-level function with similar flexibility) or `histplot` (an axes-level function for histograms).\n",
      "  warnings.warn(msg, FutureWarning)\n",
      "C:\\Users\\Manshi\\anaconda3\\lib\\site-packages\\seaborn\\_decorators.py:36: FutureWarning: Pass the following variable as a keyword arg: x. From version 0.12, the only valid positional argument will be `data`, and passing other arguments without an explicit keyword will result in an error or misinterpretation.\n",
      "  warnings.warn(\n"
     ]
    },
    {
     "data": {
      "image/png": "[encoded data removed]",
      "text/plain": [
       "<Figure size 864x432 with 3 Axes>"
      ]
     },
     "metadata": {
      "needs_background": "light"
     },
     "output_type": "display_data"
    }
   ],
   "source": [
    "fig, axs = plt.subplots(nrows=3)\n",
    "sns.histplot(db['mag'], ax=axs[0]);\n",
    "sns.distplot(db['mag'], ax=axs[1])\n",
    "sns.boxplot(db['mag'], ax=axs[2]);"
   ]
  },
  {
   "cell_type": "code",
   "execution_count": 89,
   "id": "a2158023",
   "metadata": {},
   "outputs": [
    {
     "name": "stderr",
     "output_type": "stream",
     "text": [
      "C:\\Users\\Manshi\\anaconda3\\lib\\site-packages\\seaborn\\distributions.py:2619: FutureWarning: `distplot` is a deprecated function and will be removed in a future version. Please adapt your code to use either `displot` (a figure-level function with similar flexibility) or `histplot` (an axes-level function for histograms).\n",
      "  warnings.warn(msg, FutureWarning)\n",
      "C:\\Users\\Manshi\\anaconda3\\lib\\site-packages\\seaborn\\_decorators.py:36: FutureWarning: Pass the following variable as a keyword arg: x. From version 0.12, the only valid positional argument will be `data`, and passing other arguments without an explicit keyword will result in an error or misinterpretation.\n",
      "  warnings.warn(\n"
     ]
    },
    {
     "data": {
      "image/png": "[encoded data removed]",
      "text/plain": [
       "<Figure size 864x432 with 3 Axes>"
      ]
     },
     "metadata": {
      "needs_background": "light"
     },
     "output_type": "display_data"
    }
   ],
   "source": [
    "fig, axs = plt.subplots(nrows=3)\n",
    "sns.histplot(db['nst'], ax=axs[0]);\n",
    "sns.distplot(db['nst'], ax=axs[1])\n",
    "sns.boxplot(db['nst'], ax=axs[2]);"
   ]
  },
  {
   "cell_type": "code",
   "execution_count": 90,
   "id": "6de16b19",
   "metadata": {},
   "outputs": [
    {
     "name": "stderr",
     "output_type": "stream",
     "text": [
      "C:\\Users\\Manshi\\anaconda3\\lib\\site-packages\\seaborn\\distributions.py:2619: FutureWarning: `distplot` is a deprecated function and will be removed in a future version. Please adapt your code to use either `displot` (a figure-level function with similar flexibility) or `histplot` (an axes-level function for histograms).\n",
      "  warnings.warn(msg, FutureWarning)\n",
      "C:\\Users\\Manshi\\anaconda3\\lib\\site-packages\\seaborn\\_decorators.py:36: FutureWarning: Pass the following variable as a keyword arg: x. From version 0.12, the only valid positional argument will be `data`, and passing other arguments without an explicit keyword will result in an error or misinterpretation.\n",
      "  warnings.warn(\n"
     ]
    },
    {
     "data": {
      "image/png": "[encoded data removed]",
      "text/plain": [
       "<Figure size 864x432 with 3 Axes>"
      ]
     },
     "metadata": {
      "needs_background": "light"
     },
     "output_type": "display_data"
    }
   ],
   "source": [
    "fig, axs = plt.subplots(nrows=3)\n",
    "sns.histplot(db['gap'], ax=axs[0]);\n",
    "sns.distplot(db['gap'], ax=axs[1])\n",
    "sns.boxplot(db['gap'], ax=axs[2]);"
   ]
  },
  {
   "cell_type": "code",
   "execution_count": 91,
   "id": "4451f0c0",
   "metadata": {},
   "outputs": [
    {
     "name": "stderr",
     "output_type": "stream",
     "text": [
      "C:\\Users\\Manshi\\anaconda3\\lib\\site-packages\\seaborn\\distributions.py:2619: FutureWarning: `distplot` is a deprecated function and will be removed in a future version. Please adapt your code to use either `displot` (a figure-level function with similar flexibility) or `histplot` (an axes-level function for histograms).\n",
      "  warnings.warn(msg, FutureWarning)\n",
      "C:\\Users\\Manshi\\anaconda3\\lib\\site-packages\\seaborn\\_decorators.py:36: FutureWarning: Pass the following variable as a keyword arg: x. From version 0.12, the only valid positional argument will be `data`, and passing other arguments without an explicit keyword will result in an error or misinterpretation.\n",
      "  warnings.warn(\n"
     ]
    },
    {
     "data": {
      "image/png": "[encoded data removed]",
      "text/plain": [
       "<Figure size 864x432 with 3 Axes>"
      ]
     },
     "metadata": {
      "needs_background": "light"
     },
     "output_type": "display_data"
    }
   ],
   "source": [
    "\n",
    "fig, axs = plt.subplots(nrows=3)\n",
    "sns.histplot(db['dmin'], ax=axs[0]);\n",
    "sns.distplot(db['dmin'], ax=axs[1])\n",
    "sns.boxplot(db['dmin'], ax=axs[2]);"
   ]
  },
  {
   "cell_type": "markdown",
   "id": "8b463b0f",
   "metadata": {},
   "source": [
    "### Now lets do bivariate analysis\n",
    "\n",
    "using scatterplot"
   ]
  },
  {
   "cell_type": "code",
   "execution_count": 92,
   "id": "b64ad723",
   "metadata": {},
   "outputs": [
    {
     "data": {
      "text/plain": [
       "<matplotlib.collections.PathCollection at 0x19f2b3c8340>"
      ]
     },
     "execution_count": 92,
     "metadata": {},
     "output_type": "execute_result"
    },
    {
     "data": {
      "image/png": "[encoded data removed]",
      "text/plain": [
       "<Figure size 864x432 with 1 Axes>"
      ]
     },
     "metadata": {
      "needs_background": "light"
     },
     "output_type": "display_data"
    }
   ],
   "source": [
    "plt.scatter(x='year',y='mag',data=db)"
   ]
  },
  {
   "cell_type": "markdown",
   "id": "c2069130",
   "metadata": {},
   "source": [
    "observation:\n",
    "it can be seen their are more data points after 1980 possible reason for which may be:\n",
    "\n",
    "1. Data collection technique,instrument for earthquake got serious and efficient\n",
    "\n",
    "2. In year 2001 their are more no of earthquake that occured\n"
   ]
  },
  {
   "cell_type": "code",
   "execution_count": 93,
   "id": "0d5e945b",
   "metadata": {},
   "outputs": [
    {
     "data": {
      "text/plain": [
       "<matplotlib.collections.PathCollection at 0x19f2b54bfa0>"
      ]
     },
     "execution_count": 93,
     "metadata": {},
     "output_type": "execute_result"
    },
    {
     "data": {
      "image/png": "[encoded data removed]",
      "text/plain": [
       "<Figure size 864x432 with 1 Axes>"
      ]
     },
     "metadata": {
      "needs_background": "light"
     },
     "output_type": "display_data"
    }
   ],
   "source": [
    "plt.scatter(x='month',y='mag',data=db)"
   ]
  },
  {
   "cell_type": "markdown",
   "id": "5dbd73fb",
   "metadata": {},
   "source": [
    "month and magnitude distribution is almost same representing not much impact of month "
   ]
  },
  {
   "cell_type": "code",
   "execution_count": 94,
   "id": "be083b0f",
   "metadata": {},
   "outputs": [
    {
     "data": {
      "text/plain": [
       "<matplotlib.collections.PathCollection at 0x19f2b5aad90>"
      ]
     },
     "execution_count": 94,
     "metadata": {},
     "output_type": "execute_result"
    },
    {
     "data": {
      "image/png": "[encoded data removed]",
      "text/plain": [
       "<Figure size 864x432 with 1 Axes>"
      ]
     },
     "metadata": {
      "needs_background": "light"
     },
     "output_type": "display_data"
    }
   ],
   "source": [
    "plt.scatter(x='hour',y='mag',data=db)"
   ]
  },
  {
   "cell_type": "code",
   "execution_count": 95,
   "id": "2dad717a",
   "metadata": {},
   "outputs": [
    {
     "data": {
      "text/plain": [
       "<matplotlib.collections.PathCollection at 0x19f2b60e6a0>"
      ]
     },
     "execution_count": 95,
     "metadata": {},
     "output_type": "execute_result"
    },
    {
     "data": {
      "image/png": "[encoded data removed]",
      "text/plain": [
       "<Figure size 864x432 with 1 Axes>"
      ]
     },
     "metadata": {
      "needs_background": "light"
     },
     "output_type": "display_data"
    }
   ],
   "source": [
    "plt.scatter(x='latitude',y='mag',data=db)"
   ]
  },
  {
   "cell_type": "code",
   "execution_count": 96,
   "id": "758d52af",
   "metadata": {},
   "outputs": [
    {
     "data": {
      "text/plain": [
       "<matplotlib.collections.PathCollection at 0x19f2b5e65e0>"
      ]
     },
     "execution_count": 96,
     "metadata": {},
     "output_type": "execute_result"
    },
    {
     "data": {
      "image/png": "[encoded data removed]",
      "text/plain": [
       "<Figure size 864x432 with 1 Axes>"
      ]
     },
     "metadata": {
      "needs_background": "light"
     },
     "output_type": "display_data"
    }
   ],
   "source": [
    "plt.scatter(x='longitude',y='mag',data=db)"
   ]
  },
  {
   "cell_type": "code",
   "execution_count": 97,
   "id": "8cf45d3b",
   "metadata": {},
   "outputs": [
    {
     "data": {
      "text/plain": [
       "<matplotlib.collections.PathCollection at 0x19f2b7fc160>"
      ]
     },
     "execution_count": 97,
     "metadata": {},
     "output_type": "execute_result"
    },
    {
     "data": {
      "image/png": "[encoded data removed]",
      "text/plain": [
       "<Figure size 864x432 with 1 Axes>"
      ]
     },
     "metadata": {
      "needs_background": "light"
     },
     "output_type": "display_data"
    }
   ],
   "source": [
    "plt.scatter(x='depth',y='mag',data=db)"
   ]
  },
  {
   "cell_type": "code",
   "execution_count": 98,
   "id": "65d5659a",
   "metadata": {},
   "outputs": [
    {
     "data": {
      "text/plain": [
       "<matplotlib.collections.PathCollection at 0x19f2b8549a0>"
      ]
     },
     "execution_count": 98,
     "metadata": {},
     "output_type": "execute_result"
    },
    {
     "data": {
      "image/png": "[encoded data removed]",
      "text/plain": [
       "<Figure size 864x432 with 1 Axes>"
      ]
     },
     "metadata": {
      "needs_background": "light"
     },
     "output_type": "display_data"
    }
   ],
   "source": [
    "plt.scatter(x='magNst',y='mag',data=db)"
   ]
  },
  {
   "cell_type": "code",
   "execution_count": 99,
   "id": "07823a2c",
   "metadata": {},
   "outputs": [
    {
     "data": {
      "text/plain": [
       "Index(['latitude', 'longitude', 'depth', 'mag', 'magType', 'nst', 'gap',\n",
       "       'dmin', 'rms', 'horizontalError', 'depthError', 'magError', 'magNst',\n",
       "       'year', 'month', 'day', 'hour', 'min'],\n",
       "      dtype='object')"
      ]
     },
     "execution_count": 99,
     "metadata": {},
     "output_type": "execute_result"
    }
   ],
   "source": [
    "db.columns"
   ]
  },
  {
   "cell_type": "code",
   "execution_count": 100,
   "id": "6cf914fa",
   "metadata": {},
   "outputs": [
    {
     "data": {
      "text/plain": [
       "<matplotlib.collections.PathCollection at 0x19f2b8b7580>"
      ]
     },
     "execution_count": 100,
     "metadata": {},
     "output_type": "execute_result"
    },
    {
     "data": {
      "image/png": "[encoded data removed]",
      "text/plain": [
       "<Figure size 864x432 with 1 Axes>"
      ]
     },
     "metadata": {
      "needs_background": "light"
     },
     "output_type": "display_data"
    }
   ],
   "source": [
    "plt.scatter(x='gap',y='mag',data=db)"
   ]
  },
  {
   "cell_type": "markdown",
   "id": "90c0fc4c",
   "metadata": {},
   "source": [
    "it can be seen that as gap is increasing the magnitude of earthquake also decreases. the points where we see more number of points in same line is beacuse we replaced the null values with mean"
   ]
  },
  {
   "cell_type": "code",
   "execution_count": 101,
   "id": "b7922bf8",
   "metadata": {},
   "outputs": [
    {
     "data": {
      "text/plain": [
       "<matplotlib.collections.PathCollection at 0x19f2b911b20>"
      ]
     },
     "execution_count": 101,
     "metadata": {},
     "output_type": "execute_result"
    },
    {
     "data": {
      "image/png": "[encoded data removed]",
      "text/plain": [
       "<Figure size 864x432 with 1 Axes>"
      ]
     },
     "metadata": {
      "needs_background": "light"
     },
     "output_type": "display_data"
    }
   ],
   "source": [
    "plt.scatter(x='dmin',y='mag',data=db)"
   ]
  },
  {
   "cell_type": "code",
   "execution_count": 102,
   "id": "c1cbad75",
   "metadata": {},
   "outputs": [
    {
     "data": {
      "text/plain": [
       "<matplotlib.collections.PathCollection at 0x19f2b96f8b0>"
      ]
     },
     "execution_count": 102,
     "metadata": {},
     "output_type": "execute_result"
    },
    {
     "data": {
      "image/png": "[encoded data removed]",
      "text/plain": [
       "<Figure size 864x432 with 1 Axes>"
      ]
     },
     "metadata": {
      "needs_background": "light"
     },
     "output_type": "display_data"
    }
   ],
   "source": [
    "plt.scatter(x='rms',y='mag',data=db)"
   ]
  },
  {
   "cell_type": "code",
   "execution_count": 103,
   "id": "d1180d79",
   "metadata": {},
   "outputs": [
    {
     "data": {
      "text/plain": [
       "Index(['latitude', 'longitude', 'depth', 'mag', 'magType', 'nst', 'gap',\n",
       "       'dmin', 'rms', 'horizontalError', 'depthError', 'magError', 'magNst',\n",
       "       'year', 'month', 'day', 'hour', 'min'],\n",
       "      dtype='object')"
      ]
     },
     "execution_count": 103,
     "metadata": {},
     "output_type": "execute_result"
    }
   ],
   "source": [
    "db.columns"
   ]
  },
  {
   "cell_type": "code",
   "execution_count": 104,
   "id": "53da1caa",
   "metadata": {},
   "outputs": [
    {
     "data": {
      "text/plain": [
       "<matplotlib.collections.PathCollection at 0x19f2b9d53d0>"
      ]
     },
     "execution_count": 104,
     "metadata": {},
     "output_type": "execute_result"
    },
    {
     "data": {
      "image/png": "[encoded data removed]",
      "text/plain": [
       "<Figure size 864x432 with 1 Axes>"
      ]
     },
     "metadata": {
      "needs_background": "light"
     },
     "output_type": "display_data"
    }
   ],
   "source": [
    "plt.scatter(x='horizontalError',y='mag',data=db)"
   ]
  },
  {
   "cell_type": "code",
   "execution_count": 105,
   "id": "64af760e",
   "metadata": {},
   "outputs": [
    {
     "data": {
      "text/plain": [
       "<matplotlib.collections.PathCollection at 0x19f2b9f0700>"
      ]
     },
     "execution_count": 105,
     "metadata": {},
     "output_type": "execute_result"
    },
    {
     "data": {
      "image/png": "[encoded data removed]",
      "text/plain": [
       "<Figure size 864x432 with 1 Axes>"
      ]
     },
     "metadata": {
      "needs_background": "light"
     },
     "output_type": "display_data"
    }
   ],
   "source": [
    "plt.scatter(x='depthError',y='mag',data=db)"
   ]
  },
  {
   "cell_type": "code",
   "execution_count": 106,
   "id": "d9cb4680",
   "metadata": {},
   "outputs": [
    {
     "data": {
      "text/plain": [
       "<matplotlib.collections.PathCollection at 0x19f2ba93af0>"
      ]
     },
     "execution_count": 106,
     "metadata": {},
     "output_type": "execute_result"
    },
    {
     "data": {
      "image/png": "[encoded data removed]",
      "text/plain": [
       "<Figure size 864x432 with 1 Axes>"
      ]
     },
     "metadata": {
      "needs_background": "light"
     },
     "output_type": "display_data"
    }
   ],
   "source": [
    "plt.scatter(x='magError',y='mag',data=db)"
   ]
  },
  {
   "cell_type": "code",
   "execution_count": 107,
   "id": "d8dcb4db",
   "metadata": {},
   "outputs": [
    {
     "data": {
      "text/plain": [
       "<matplotlib.collections.PathCollection at 0x19f2cac6cd0>"
      ]
     },
     "execution_count": 107,
     "metadata": {},
     "output_type": "execute_result"
    },
    {
     "data": {
      "image/png": "[encoded data removed]",
      "text/plain": [
       "<Figure size 864x432 with 1 Axes>"
      ]
     },
     "metadata": {
      "needs_background": "light"
     },
     "output_type": "display_data"
    }
   ],
   "source": [
    "plt.scatter(x='depthError',y='mag',data=db)"
   ]
  },
  {
   "cell_type": "code",
   "execution_count": null,
   "id": "2368e92c",
   "metadata": {},
   "outputs": [],
   "source": []
  },
  {
   "cell_type": "code",
   "execution_count": 108,
   "id": "86c37572",
   "metadata": {},
   "outputs": [
    {
     "data": {
      "text/plain": [
       "<AxesSubplot:>"
      ]
     },
     "execution_count": 108,
     "metadata": {},
     "output_type": "execute_result"
    },
    {
     "data": {
      "image/png": "[encoded data removed]",
      "text/plain": [
       "<Figure size 864x432 with 2 Axes>"
      ]
     },
     "metadata": {
      "needs_background": "light"
     },
     "output_type": "display_data"
    }
   ],
   "source": [
    "#drawing heatmap\n",
    "sns.heatmap(db.corr(),annot=True,cbar='coolwarm')"
   ]
  },
  {
   "cell_type": "markdown",
   "id": "90130db6",
   "metadata": {},
   "source": [
    "observation:\n",
    "1. variables which have positive correlation with magnitude:\n",
    "\n",
    "    . nst ->0.4\n",
    "    . magnst -> 0.42\n",
    "    . depth error and magerror\n",
    "2. negative corr:\n",
    "     . gap -0.44\n",
    "     . year -0.41\n",
    "    "
   ]
  },
  {
   "cell_type": "markdown",
   "id": "f68bc935",
   "metadata": {},
   "source": [
    "def correlation(data):\n",
    "    pos=dict()\n",
    "    neg=dict()\n",
    "    corr_matrix=data.corr()\n",
    "    for i in range(len(corr_matrix.columns)):\n",
    "        for j in range(i):\n",
    "            if corr_matrix.iloc[i,j]>0:\n",
    "                pos[corr_matrix.columns[i]]=corr_matrix.iloc[i,j]\n",
    "            else:\n",
    "                neg[corr_matrix.columns[i]]=corr_matrix.iloc[i,j]\n",
    "    print(pos)  \n",
    "    print(\"\") \n",
    "    print(neg)"
   ]
  },
  {
   "cell_type": "code",
   "execution_count": 109,
   "id": "2753da59",
   "metadata": {},
   "outputs": [],
   "source": [
    "db.drop(columns=['magType'],inplace=True)"
   ]
  },
  {
   "cell_type": "code",
   "execution_count": 110,
   "id": "8418dfe8",
   "metadata": {},
   "outputs": [],
   "source": [
    "db.drop(columns=['dmin'],inplace=True)"
   ]
  },
  {
   "cell_type": "code",
   "execution_count": 111,
   "id": "b428715c",
   "metadata": {},
   "outputs": [],
   "source": [
    "db.drop(columns=['depthError','min'],inplace=True)"
   ]
  },
  {
   "cell_type": "code",
   "execution_count": 112,
   "id": "58fe493d",
   "metadata": {},
   "outputs": [
    {
     "data": {
      "text/plain": [
       "Index(['latitude', 'longitude', 'depth', 'mag', 'nst', 'gap', 'rms',\n",
       "       'horizontalError', 'magError', 'magNst', 'year', 'month', 'day',\n",
       "       'hour'],\n",
       "      dtype='object')"
      ]
     },
     "execution_count": 112,
     "metadata": {},
     "output_type": "execute_result"
    }
   ],
   "source": [
    "db.columns"
   ]
  },
  {
   "cell_type": "markdown",
   "id": "3b92faff",
   "metadata": {},
   "source": [
    "### feature scaling"
   ]
  },
  {
   "cell_type": "markdown",
   "id": "5359322e",
   "metadata": {},
   "source": [
    "There are two major types of feature scaling :\n",
    "\n",
    "1. Standardization.\n",
    "2. Normalization.\n",
    "\n",
    "We can use StandardScalar to scale our data:\n",
    "\n",
    "\n",
    "StandardScaler is used to resize the distribution of values ​​so that the mean of the observed values ​​is 0 and the standard deviation is 1.\n",
    "The values will lie be between -1 and 1."
   ]
  },
  {
   "cell_type": "code",
   "execution_count": 113,
   "id": "2307145b",
   "metadata": {},
   "outputs": [],
   "source": [
    "#spliting the data in target and input variable\n",
    "x=db.drop(columns='mag')\n",
    "y=db['mag']"
   ]
  },
  {
   "cell_type": "code",
   "execution_count": 114,
   "id": "6abb5ad4",
   "metadata": {},
   "outputs": [
    {
     "data": {
      "text/html": [
       "<div>\n",
       "<style scoped>\n",
       "    .dataframe tbody tr th:only-of-type {\n",
       "        vertical-align: middle;\n",
       "    }\n",
       "\n",
       "    .dataframe tbody tr th {\n",
       "        vertical-align: top;\n",
       "    }\n",
       "\n",
       "    .dataframe thead th {\n",
       "        text-align: right;\n",
       "    }\n",
       "</style>\n",
       "<table border=\"1\" class=\"dataframe\">\n",
       "  <thead>\n",
       "    <tr style=\"text-align: right;\">\n",
       "      <th></th>\n",
       "      <th>latitude</th>\n",
       "      <th>longitude</th>\n",
       "      <th>depth</th>\n",
       "      <th>nst</th>\n",
       "      <th>gap</th>\n",
       "      <th>rms</th>\n",
       "      <th>horizontalError</th>\n",
       "      <th>magError</th>\n",
       "      <th>magNst</th>\n",
       "      <th>year</th>\n",
       "      <th>month</th>\n",
       "      <th>day</th>\n",
       "      <th>hour</th>\n",
       "    </tr>\n",
       "  </thead>\n",
       "  <tbody>\n",
       "    <tr>\n",
       "      <th>2</th>\n",
       "      <td>22.6542</td>\n",
       "      <td>95.3355</td>\n",
       "      <td>11.095</td>\n",
       "      <td>16.000000</td>\n",
       "      <td>136.000000</td>\n",
       "      <td>0.290000</td>\n",
       "      <td>8.900000</td>\n",
       "      <td>0.152</td>\n",
       "      <td>12.000000</td>\n",
       "      <td>2023</td>\n",
       "      <td>3</td>\n",
       "      <td>25</td>\n",
       "      <td>12</td>\n",
       "    </tr>\n",
       "    <tr>\n",
       "      <th>3</th>\n",
       "      <td>24.1675</td>\n",
       "      <td>93.7940</td>\n",
       "      <td>78.995</td>\n",
       "      <td>32.000000</td>\n",
       "      <td>73.000000</td>\n",
       "      <td>0.520000</td>\n",
       "      <td>9.670000</td>\n",
       "      <td>0.155</td>\n",
       "      <td>12.000000</td>\n",
       "      <td>2023</td>\n",
       "      <td>3</td>\n",
       "      <td>24</td>\n",
       "      <td>3</td>\n",
       "    </tr>\n",
       "    <tr>\n",
       "      <th>4</th>\n",
       "      <td>24.2760</td>\n",
       "      <td>94.7151</td>\n",
       "      <td>113.110</td>\n",
       "      <td>77.000000</td>\n",
       "      <td>48.000000</td>\n",
       "      <td>0.430000</td>\n",
       "      <td>2.940000</td>\n",
       "      <td>0.060</td>\n",
       "      <td>83.000000</td>\n",
       "      <td>2023</td>\n",
       "      <td>3</td>\n",
       "      <td>12</td>\n",
       "      <td>11</td>\n",
       "    </tr>\n",
       "    <tr>\n",
       "      <th>5</th>\n",
       "      <td>25.6554</td>\n",
       "      <td>90.4081</td>\n",
       "      <td>10.000</td>\n",
       "      <td>21.000000</td>\n",
       "      <td>163.000000</td>\n",
       "      <td>0.800000</td>\n",
       "      <td>9.050000</td>\n",
       "      <td>0.161</td>\n",
       "      <td>11.000000</td>\n",
       "      <td>2023</td>\n",
       "      <td>2</td>\n",
       "      <td>26</td>\n",
       "      <td>4</td>\n",
       "    </tr>\n",
       "    <tr>\n",
       "      <th>6</th>\n",
       "      <td>25.1917</td>\n",
       "      <td>91.8394</td>\n",
       "      <td>57.099</td>\n",
       "      <td>39.000000</td>\n",
       "      <td>111.000000</td>\n",
       "      <td>1.020000</td>\n",
       "      <td>3.600000</td>\n",
       "      <td>0.129</td>\n",
       "      <td>18.000000</td>\n",
       "      <td>2023</td>\n",
       "      <td>2</td>\n",
       "      <td>16</td>\n",
       "      <td>3</td>\n",
       "    </tr>\n",
       "    <tr>\n",
       "      <th>...</th>\n",
       "      <td>...</td>\n",
       "      <td>...</td>\n",
       "      <td>...</td>\n",
       "      <td>...</td>\n",
       "      <td>...</td>\n",
       "      <td>...</td>\n",
       "      <td>...</td>\n",
       "      <td>...</td>\n",
       "      <td>...</td>\n",
       "      <td>...</td>\n",
       "      <td>...</td>\n",
       "      <td>...</td>\n",
       "      <td>...</td>\n",
       "    </tr>\n",
       "    <tr>\n",
       "      <th>2845</th>\n",
       "      <td>27.8440</td>\n",
       "      <td>91.7520</td>\n",
       "      <td>15.000</td>\n",
       "      <td>54.124744</td>\n",
       "      <td>99.509582</td>\n",
       "      <td>0.891975</td>\n",
       "      <td>7.611077</td>\n",
       "      <td>0.210</td>\n",
       "      <td>20.611489</td>\n",
       "      <td>1915</td>\n",
       "      <td>12</td>\n",
       "      <td>3</td>\n",
       "      <td>2</td>\n",
       "    </tr>\n",
       "    <tr>\n",
       "      <th>2846</th>\n",
       "      <td>25.4380</td>\n",
       "      <td>96.3560</td>\n",
       "      <td>15.000</td>\n",
       "      <td>54.124744</td>\n",
       "      <td>99.509582</td>\n",
       "      <td>0.891975</td>\n",
       "      <td>7.611077</td>\n",
       "      <td>0.200</td>\n",
       "      <td>20.611489</td>\n",
       "      <td>1914</td>\n",
       "      <td>3</td>\n",
       "      <td>28</td>\n",
       "      <td>10</td>\n",
       "    </tr>\n",
       "    <tr>\n",
       "      <th>2847</th>\n",
       "      <td>26.7200</td>\n",
       "      <td>97.1170</td>\n",
       "      <td>15.000</td>\n",
       "      <td>54.124744</td>\n",
       "      <td>99.509582</td>\n",
       "      <td>0.891975</td>\n",
       "      <td>7.611077</td>\n",
       "      <td>0.200</td>\n",
       "      <td>20.611489</td>\n",
       "      <td>1908</td>\n",
       "      <td>12</td>\n",
       "      <td>12</td>\n",
       "      <td>12</td>\n",
       "    </tr>\n",
       "    <tr>\n",
       "      <th>2848</th>\n",
       "      <td>26.8320</td>\n",
       "      <td>97.2460</td>\n",
       "      <td>15.000</td>\n",
       "      <td>54.124744</td>\n",
       "      <td>99.509582</td>\n",
       "      <td>0.891975</td>\n",
       "      <td>7.611077</td>\n",
       "      <td>0.200</td>\n",
       "      <td>20.611489</td>\n",
       "      <td>1906</td>\n",
       "      <td>8</td>\n",
       "      <td>31</td>\n",
       "      <td>14</td>\n",
       "    </tr>\n",
       "    <tr>\n",
       "      <th>2849</th>\n",
       "      <td>26.2280</td>\n",
       "      <td>94.5220</td>\n",
       "      <td>35.000</td>\n",
       "      <td>54.124744</td>\n",
       "      <td>99.509582</td>\n",
       "      <td>0.891975</td>\n",
       "      <td>7.611077</td>\n",
       "      <td>0.200</td>\n",
       "      <td>20.611489</td>\n",
       "      <td>1906</td>\n",
       "      <td>5</td>\n",
       "      <td>12</td>\n",
       "      <td>5</td>\n",
       "    </tr>\n",
       "  </tbody>\n",
       "</table>\n",
       "<p>1685 rows × 13 columns</p>\n",
       "</div>"
      ],
      "text/plain": [
       "      latitude  longitude    depth        nst         gap       rms  \\\n",
       "2      22.6542    95.3355   11.095  16.000000  136.000000  0.290000   \n",
       "3      24.1675    93.7940   78.995  32.000000   73.000000  0.520000   \n",
       "4      24.2760    94.7151  113.110  77.000000   48.000000  0.430000   \n",
       "5      25.6554    90.4081   10.000  21.000000  163.000000  0.800000   \n",
       "6      25.1917    91.8394   57.099  39.000000  111.000000  1.020000   \n",
       "...        ...        ...      ...        ...         ...       ...   \n",
       "2845   27.8440    91.7520   15.000  54.124744   99.509582  0.891975   \n",
       "2846   25.4380    96.3560   15.000  54.124744   99.509582  0.891975   \n",
       "2847   26.7200    97.1170   15.000  54.124744   99.509582  0.891975   \n",
       "2848   26.8320    97.2460   15.000  54.124744   99.509582  0.891975   \n",
       "2849   26.2280    94.5220   35.000  54.124744   99.509582  0.891975   \n",
       "\n",
       "      horizontalError  magError     magNst  year  month  day  hour  \n",
       "2            8.900000     0.152  12.000000  2023      3   25    12  \n",
       "3            9.670000     0.155  12.000000  2023      3   24     3  \n",
       "4            2.940000     0.060  83.000000  2023      3   12    11  \n",
       "5            9.050000     0.161  11.000000  2023      2   26     4  \n",
       "6            3.600000     0.129  18.000000  2023      2   16     3  \n",
       "...               ...       ...        ...   ...    ...  ...   ...  \n",
       "2845         7.611077     0.210  20.611489  1915     12    3     2  \n",
       "2846         7.611077     0.200  20.611489  1914      3   28    10  \n",
       "2847         7.611077     0.200  20.611489  1908     12   12    12  \n",
       "2848         7.611077     0.200  20.611489  1906      8   31    14  \n",
       "2849         7.611077     0.200  20.611489  1906      5   12     5  \n",
       "\n",
       "[1685 rows x 13 columns]"
      ]
     },
     "execution_count": 114,
     "metadata": {},
     "output_type": "execute_result"
    }
   ],
   "source": [
    "x"
   ]
  },
  {
   "cell_type": "code",
   "execution_count": 115,
   "id": "fba8a705",
   "metadata": {},
   "outputs": [
    {
     "data": {
      "text/plain": [
       "2       4.20\n",
       "3       4.40\n",
       "4       4.60\n",
       "5       4.30\n",
       "6       4.30\n",
       "        ... \n",
       "2845    6.56\n",
       "2846    6.47\n",
       "2847    7.18\n",
       "2848    6.44\n",
       "2849    6.51\n",
       "Name: mag, Length: 1685, dtype: float64"
      ]
     },
     "execution_count": 115,
     "metadata": {},
     "output_type": "execute_result"
    }
   ],
   "source": [
    "y"
   ]
  },
  {
   "cell_type": "code",
   "execution_count": 116,
   "id": "2d53bcd1",
   "metadata": {},
   "outputs": [],
   "source": [
    "from sklearn.preprocessing import StandardScaler"
   ]
  },
  {
   "cell_type": "code",
   "execution_count": 117,
   "id": "fcc38b2a",
   "metadata": {},
   "outputs": [],
   "source": [
    "standarscaler=StandardScaler()"
   ]
  },
  {
   "cell_type": "code",
   "execution_count": 118,
   "id": "5c807934",
   "metadata": {},
   "outputs": [],
   "source": [
    "standarscaler=standarscaler.fit(x)\n",
    "scaled_x=standarscaler.transform(x)"
   ]
  },
  {
   "cell_type": "markdown",
   "id": "a4a31914",
   "metadata": {},
   "source": [
    "## Data Modelling"
   ]
  },
  {
   "cell_type": "code",
   "execution_count": null,
   "id": "8f3c6366",
   "metadata": {},
   "outputs": [],
   "source": []
  },
  {
   "cell_type": "code",
   "execution_count": 119,
   "id": "6cd8ce02",
   "metadata": {},
   "outputs": [
    {
     "data": {
      "text/plain": [
       "array([[-2.01375533,  0.63870987, -1.19626807, ..., -1.02566975,\n",
       "         1.01445624,  0.03746966],\n",
       "       [-1.06321188, -0.07084931,  0.75977241, ..., -1.02566975,\n",
       "         0.9024406 , -1.24232164],\n",
       "       [-0.99506019,  0.35313704,  1.74254591, ..., -1.02566975,\n",
       "        -0.44174717, -0.10472938],\n",
       "       ...,\n",
       "       [ 0.54008035,  1.4587421 , -1.08377414, ...,  1.61647085,\n",
       "        -0.44174717,  0.03746966],\n",
       "       [ 0.61043049,  1.51812136, -1.08377414, ...,  0.44218614,\n",
       "         1.68655013,  0.32186772],\n",
       "       [ 0.23104224,  0.26425227, -0.50762083, ..., -0.43852739,\n",
       "        -0.44174717, -0.95792357]])"
      ]
     },
     "execution_count": 119,
     "metadata": {},
     "output_type": "execute_result"
    }
   ],
   "source": [
    "scaled_x"
   ]
  },
  {
   "cell_type": "code",
   "execution_count": 120,
   "id": "b9949486",
   "metadata": {},
   "outputs": [],
   "source": [
    "from sklearn.model_selection import train_test_split\n",
    "x_train,x_test,y_train,y_test=train_test_split(scaled_x,y,train_size=0.8, random_state=2)"
   ]
  },
  {
   "cell_type": "markdown",
   "id": "f49c7df2",
   "metadata": {},
   "source": [
    "### LinearRegression"
   ]
  },
  {
   "cell_type": "code",
   "execution_count": 121,
   "id": "566efff6",
   "metadata": {},
   "outputs": [],
   "source": [
    "from sklearn.linear_model import LinearRegression"
   ]
  },
  {
   "cell_type": "code",
   "execution_count": 122,
   "id": "db858f4e",
   "metadata": {},
   "outputs": [],
   "source": [
    "lr=LinearRegression()"
   ]
  },
  {
   "cell_type": "code",
   "execution_count": 123,
   "id": "912af0bd",
   "metadata": {},
   "outputs": [
    {
     "data": {
      "text/plain": [
       "LinearRegression()"
      ]
     },
     "execution_count": 123,
     "metadata": {},
     "output_type": "execute_result"
    }
   ],
   "source": [
    "lr.fit(x_train,y_train)"
   ]
  },
  {
   "cell_type": "code",
   "execution_count": 124,
   "id": "d4a4dfda",
   "metadata": {},
   "outputs": [],
   "source": [
    "lrprediction=lr.predict(x_test)"
   ]
  },
  {
   "cell_type": "code",
   "execution_count": 125,
   "id": "8c32adcf",
   "metadata": {},
   "outputs": [],
   "source": [
    "from sklearn.metrics import accuracy_score,mean_squared_error,mean_absolute_error, r2_score "
   ]
  },
  {
   "cell_type": "code",
   "execution_count": 126,
   "id": "8c6b389c",
   "metadata": {},
   "outputs": [
    {
     "name": "stdout",
     "output_type": "stream",
     "text": [
      "Mean squared error: 0.12563495599783958\n",
      "Root mean squared error: 0.3544502165295425\n",
      "Mean absolute error: 0.25643486375867386\n",
      "R-squared: 0.5879906877239024\n"
     ]
    }
   ],
   "source": [
    "mse = mean_squared_error(y_test, lrprediction)\n",
    "rmse = mean_squared_error(y_test, lrprediction, squared=False)\n",
    "mae = mean_absolute_error(y_test, lrprediction)\n",
    "r2 = r2_score(y_test, lrprediction)\n",
    "\n",
    "print(\"Mean squared error:\", mse)\n",
    "print(\"Root mean squared error:\", rmse)\n",
    "print(\"Mean absolute error:\", mae)\n",
    "print(\"R-squared:\", r2)"
   ]
  },
  {
   "cell_type": "markdown",
   "id": "7188a655",
   "metadata": {},
   "source": [
    "our predictions are not perfect, but they are reasonable. We are off by an average of 0.125 units from the actual values, which is relatively small compared to the range of the target variable. Additionally, our R2 value of 0.587 indicates that our model is able to explain about 58.7% of the variance in the target variable."
   ]
  },
  {
   "cell_type": "markdown",
   "id": "02d242cf",
   "metadata": {},
   "source": [
    "### Random Forest"
   ]
  },
  {
   "cell_type": "code",
   "execution_count": 127,
   "id": "09dff89c",
   "metadata": {},
   "outputs": [],
   "source": [
    "from sklearn.ensemble import RandomForestRegressor"
   ]
  },
  {
   "cell_type": "code",
   "execution_count": 128,
   "id": "e8513d9d",
   "metadata": {},
   "outputs": [],
   "source": [
    "rf=RandomForestRegressor()"
   ]
  },
  {
   "cell_type": "code",
   "execution_count": 129,
   "id": "fdc98104",
   "metadata": {},
   "outputs": [
    {
     "data": {
      "text/plain": [
       "RandomForestRegressor()"
      ]
     },
     "execution_count": 129,
     "metadata": {},
     "output_type": "execute_result"
    }
   ],
   "source": [
    "rf.fit(x_train,y_train)"
   ]
  },
  {
   "cell_type": "code",
   "execution_count": 130,
   "id": "e4352d05",
   "metadata": {},
   "outputs": [],
   "source": [
    "rf_prediciton=rf.predict(x_test)"
   ]
  },
  {
   "cell_type": "code",
   "execution_count": 131,
   "id": "3bfd139e",
   "metadata": {},
   "outputs": [
    {
     "name": "stdout",
     "output_type": "stream",
     "text": [
      "Mean squared error: 0.08122252454005932\n",
      "Root mean squared error: 0.28499565705473356\n",
      "Mean absolute error: 0.20942818991097925\n",
      "R-squared: 0.7336375357376355\n"
     ]
    }
   ],
   "source": [
    "mse = mean_squared_error(y_test, rf_prediciton)\n",
    "rmse = mean_squared_error(y_test, rf_prediciton, squared=False)\n",
    "mae = mean_absolute_error(y_test, rf_prediciton)\n",
    "r2 = r2_score(y_test, rf_prediciton)\n",
    "\n",
    "print(\"Mean squared error:\", mse)\n",
    "print(\"Root mean squared error:\", rmse)\n",
    "print(\"Mean absolute error:\", mae)\n",
    "print(\"R-squared:\", r2)"
   ]
  },
  {
   "cell_type": "markdown",
   "id": "f0d03191",
   "metadata": {},
   "source": [
    "In summary, our predictions are not very accurate, and we are off by an average of 0.0812 units from the actual values. Our R2 value of 0.7336375 indicates that our model is only able to explain about 73.3% of the variance in the target variable.\n",
    "Overall, the model's accuracy seems to be fairly good based on these performance metrics, but it could potentially be improved further.\n",
    "\n"
   ]
  },
  {
   "cell_type": "markdown",
   "id": "ed6d813e",
   "metadata": {},
   "source": [
    "### Decision Tree"
   ]
  },
  {
   "cell_type": "code",
   "execution_count": 132,
   "id": "56ee7092",
   "metadata": {},
   "outputs": [],
   "source": [
    "from sklearn.tree import DecisionTreeRegressor"
   ]
  },
  {
   "cell_type": "code",
   "execution_count": 133,
   "id": "739ec5e9",
   "metadata": {},
   "outputs": [],
   "source": [
    "dt=DecisionTreeRegressor(max_depth=1)"
   ]
  },
  {
   "cell_type": "code",
   "execution_count": 134,
   "id": "c5f78d92",
   "metadata": {},
   "outputs": [
    {
     "data": {
      "text/plain": [
       "DecisionTreeRegressor(max_depth=1)"
      ]
     },
     "execution_count": 134,
     "metadata": {},
     "output_type": "execute_result"
    }
   ],
   "source": [
    "dt.fit(x_train,y_train)\n"
   ]
  },
  {
   "cell_type": "code",
   "execution_count": 135,
   "id": "955aba25",
   "metadata": {},
   "outputs": [],
   "source": [
    "dtpredicition=dt.predict(x_test)"
   ]
  },
  {
   "cell_type": "code",
   "execution_count": 136,
   "id": "aeb74a77",
   "metadata": {},
   "outputs": [
    {
     "name": "stdout",
     "output_type": "stream",
     "text": [
      "Mean squared error: 0.2034584700799886\n",
      "Root mean squared error: 0.4510637095577393\n",
      "Mean absolute error: 0.3349771051013178\n",
      "R-squared: 0.3327749934831469\n"
     ]
    }
   ],
   "source": [
    "mse = mean_squared_error(y_test, dtpredicition)\n",
    "rmse = mean_squared_error(y_test, dtpredicition, squared=False)\n",
    "mae = mean_absolute_error(y_test, dtpredicition)\n",
    "r2 = r2_score(y_test, dtpredicition)\n",
    "\n",
    "print(\"Mean squared error:\", mse)\n",
    "print(\"Root mean squared error:\", rmse)\n",
    "print(\"Mean absolute error:\", mae)\n",
    "print(\"R-squared:\", r2)"
   ]
  },
  {
   "cell_type": "markdown",
   "id": "3a374248",
   "metadata": {},
   "source": [
    "he R-squared value of 0.332 indicates that the model only explains 33% of the total variation in the target variable. This means that a large portion of the variation in the target variable is not explained by the model, "
   ]
  },
  {
   "cell_type": "markdown",
   "id": "48664ed6",
   "metadata": {},
   "source": [
    "### Support Vector Machine"
   ]
  },
  {
   "cell_type": "code",
   "execution_count": 137,
   "id": "21f49740",
   "metadata": {},
   "outputs": [],
   "source": [
    "from sklearn.svm import SVR"
   ]
  },
  {
   "cell_type": "code",
   "execution_count": 138,
   "id": "942f2c49",
   "metadata": {},
   "outputs": [],
   "source": [
    "svr=SVR(kernel='linear', C=1e3, gamma=0.1, epsilon=0.1)"
   ]
  },
  {
   "cell_type": "code",
   "execution_count": 139,
   "id": "4a8cc3ec",
   "metadata": {},
   "outputs": [
    {
     "data": {
      "text/plain": [
       "SVR(C=1000.0, gamma=0.1, kernel='linear')"
      ]
     },
     "execution_count": 139,
     "metadata": {},
     "output_type": "execute_result"
    }
   ],
   "source": [
    "svr.fit(x_train,y_train)"
   ]
  },
  {
   "cell_type": "code",
   "execution_count": 140,
   "id": "46f4d61e",
   "metadata": {},
   "outputs": [],
   "source": [
    "svrpredict=svr.predict(x_test)"
   ]
  },
  {
   "cell_type": "code",
   "execution_count": 141,
   "id": "9e8fbd71",
   "metadata": {},
   "outputs": [
    {
     "name": "stdout",
     "output_type": "stream",
     "text": [
      "Mean squared error: 0.12382634478980013\n",
      "Root mean squared error: 0.3518896770151124\n",
      "Mean absolute error: 0.2512698192423311\n",
      "R-squared: 0.593921876652022\n"
     ]
    }
   ],
   "source": [
    "mse = mean_squared_error(y_test, svrpredict)\n",
    "rmse = mean_squared_error(y_test, svrpredict, squared=False)\n",
    "mae = mean_absolute_error(y_test, svrpredict)\n",
    "r2 = r2_score(y_test, svrpredict)\n",
    "\n",
    "print(\"Mean squared error:\", mse)\n",
    "print(\"Root mean squared error:\", rmse)\n",
    "print(\"Mean absolute error:\", mae)\n",
    "print(\"R-squared:\", r2)"
   ]
  },
  {
   "cell_type": "markdown",
   "id": "52322108",
   "metadata": {},
   "source": [
    "The R-squared value indicates the proportion of variance in the target variable that can be explained by the model. A higher R-squared value indicates better performance. In this case, the R-squared value is 0.593, which indicates that the model can explain about 59.3% of the variance in the target variable. "
   ]
  },
  {
   "cell_type": "markdown",
   "id": "493f5a60",
   "metadata": {},
   "source": [
    "### Gradient Boosting"
   ]
  },
  {
   "cell_type": "code",
   "execution_count": 142,
   "id": "33fd4528",
   "metadata": {},
   "outputs": [],
   "source": [
    "from sklearn.ensemble import GradientBoostingRegressor"
   ]
  },
  {
   "cell_type": "code",
   "execution_count": 143,
   "id": "1b40fe25",
   "metadata": {},
   "outputs": [],
   "source": [
    "gbr=GradientBoostingRegressor(n_estimators=1000, learning_rate=0.05, max_depth=1, random_state=42)"
   ]
  },
  {
   "cell_type": "code",
   "execution_count": 144,
   "id": "2e32207e",
   "metadata": {},
   "outputs": [
    {
     "data": {
      "text/plain": [
       "GradientBoostingRegressor(learning_rate=0.05, max_depth=1, n_estimators=1000,\n",
       "                          random_state=42)"
      ]
     },
     "execution_count": 144,
     "metadata": {},
     "output_type": "execute_result"
    }
   ],
   "source": [
    "gbr.fit(x_train,y_train)"
   ]
  },
  {
   "cell_type": "code",
   "execution_count": 145,
   "id": "ee16a48d",
   "metadata": {},
   "outputs": [],
   "source": [
    "gbrprediction=gbr.predict(x_test)"
   ]
  },
  {
   "cell_type": "code",
   "execution_count": 146,
   "id": "b7ee1f9d",
   "metadata": {},
   "outputs": [
    {
     "name": "stdout",
     "output_type": "stream",
     "text": [
      "Mean squared error: 0.0892647790436151\n",
      "Root mean squared error: 0.2987721189194452\n",
      "Mean absolute error: 0.21396540013594517\n",
      "R-squared: 0.593921876652022\n"
     ]
    }
   ],
   "source": [
    "mse = mean_squared_error(y_test, gbrprediction)\n",
    "rmse = mean_squared_error(y_test, gbrprediction, squared=False)\n",
    "mae = mean_absolute_error(y_test, gbrprediction)\n",
    "r2 = r2_score(y_test, svrpredict)\n",
    "\n",
    "print(\"Mean squared error:\", mse)\n",
    "print(\"Root mean squared error:\", rmse)\n",
    "print(\"Mean absolute error:\", mae)\n",
    "print(\"R-squared:\", r2)"
   ]
  },
  {
   "cell_type": "markdown",
   "id": "dd02bb32",
   "metadata": {},
   "source": [
    "R-squared (R2) is a measure of how well the model fits the data. It takes values between 0 and 1, with higher values indicating a better fit. In this case, the R2 score is 0.5939, which is not too high.\n",
    "There is significant room for improvement in our prediction, and we need to consider modifying our model or exploring different features to improve the performance.\n"
   ]
  },
  {
   "cell_type": "markdown",
   "id": "9f780e1b",
   "metadata": {},
   "source": [
    "## Random forest has the heighest accuracy : R-squared: 0.7336"
   ]
  },
  {
   "cell_type": "code",
   "execution_count": null,
   "id": "3d74d58b",
   "metadata": {},
   "outputs": [],
   "source": []
  }
 ],
 "metadata": {
  "kernelspec": {
   "display_name": "Python 3 (ipykernel)",
   "language": "python",
   "name": "python3"
  },
  "language_info": {
   "codemirror_mode": {
    "name": "ipython",
    "version": 3
   },
   "file_extension": ".py",
   "mimetype": "text/x-python",
   "name": "python",
   "nbconvert_exporter": "python",
   "pygments_lexer": "ipython3",
   "version": "3.9.12"
  }
 },
 "nbformat": 4,
 "nbformat_minor": 5
}
